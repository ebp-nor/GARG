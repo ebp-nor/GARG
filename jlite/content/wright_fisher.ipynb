{
 "cells": [
  {
   "cell_type": "code",
   "execution_count": null,
   "id": "a054d9b5",
   "metadata": {},
   "outputs": [],
   "source": [
    "# Please execute this cell (shift+<Return>) before starting the workbook\n",
    "# this should print out \"Your notebook is ready to go\"\n",
    "import sys\n",
    "import tskit\n",
    "import pandas as pd\n",
    "import numpy as np\n",
    "import msprime\n",
    "\n",
    "if \"pyodide\" in sys.modules:\n",
    "    import tqdm\n",
    "    import micropip\n",
    "    await micropip.install('jupyterquiz')\n",
    "    await micropip.install('seaborn')\n",
    "import workshop\n",
    "workbook = workshop.setup_coalescent_handson()\n",
    "display(workbook.setup)\n",
    "\n",
    "# Please execute this cell (shift+<Return>) before starting the workbook\n",
    "# this should print out \"Your notebook is ready"
   ]
  },
  {
   "cell_type": "markdown",
   "id": "df1030c9",
   "metadata": {},
   "source": [
    "# Wright Fisher simulations"
   ]
  },
  {
   "cell_type": "code",
   "execution_count": null,
   "id": "5cb06696",
   "metadata": {},
   "outputs": [],
   "source": [
    "x = wf.wright_fisher(p0=0.3, n_ind=1000, generations=100)"
   ]
  },
  {
   "cell_type": "code",
   "execution_count": null,
   "id": "9acc2be1",
   "metadata": {},
   "outputs": [],
   "source": [
    "p = seaborn.lineplot(data=x)\n",
    "p.set_ylim(0, 1)\n",
    "p"
   ]
  },
  {
   "cell_type": "code",
   "execution_count": null,
   "id": "d2b5acaa",
   "metadata": {},
   "outputs": [],
   "source": [
    "g = wf.wright_fisher_pop(n = 10, generations=20)"
   ]
  },
  {
   "cell_type": "code",
   "execution_count": null,
   "id": "5fffdce7",
   "metadata": {
    "scrolled": false
   },
   "outputs": [],
   "source": [
    "fig, ax = plt.subplots(figsize=(10, 8))\n",
    "ax.set_ylim([0, 21])\n",
    "nx.draw_networkx(wf.generation_subgraph(g, gfrom=1), pos=g.layout, node_size=10, with_labels=False, ax=ax)"
   ]
  },
  {
   "cell_type": "code",
   "execution_count": null,
   "id": "9bbd2aba",
   "metadata": {},
   "outputs": [],
   "source": []
  }
 ],
 "metadata": {
  "kernelspec": {
   "display_name": "Python (pgip-jlite)",
   "language": "python",
   "name": "pgip-jlite"
  },
  "language_info": {
   "codemirror_mode": {
    "name": "ipython",
    "version": 3
   },
   "file_extension": ".py",
   "mimetype": "text/x-python",
   "name": "python",
   "nbconvert_exporter": "python",
   "pygments_lexer": "ipython3",
   "version": "3.10.11"
  }
 },
 "nbformat": 4,
 "nbformat_minor": 5
}
