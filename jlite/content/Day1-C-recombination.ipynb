{
 "cells": [
  {
   "cell_type": "markdown",
   "id": "5b825ca5-56f8-463a-b272-e6e31de08c6a",
   "metadata": {},
   "source": [
    "## Setup\n",
    "\n",
    "To access material for this workbook please execute the two notebook cells immediately below (e.g. use the shortcut <b>&lt;shift&gt;+&lt;return&gt;</b>). The first cell can be skipped if you are running this notebook locally and have already installed all the necessary packages. The second cell should print out \"Your notebook is ready to go!\""
   ]
  },
  {
   "cell_type": "code",
   "execution_count": null,
   "id": "4ccc9395-655a-42a0-ac17-ab2b73d009be",
   "metadata": {},
   "outputs": [],
   "source": [
    "if 'pyodide_kernel' in str(get_ipython()):  # specify packages to install under JupyterLite\n",
    "    %pip install -q -r jlite-requirements.txt\n",
    "elif 'google.colab' in str(get_ipython()):  # specify package location for loading in Colab\n",
    "    from google.colab import drive\n",
    "    drive.mount('/content/drive')\n",
    "    %run /content/drive/MyDrive/GARG_workshop/Notebooks/add_module_path.py\n",
    "else:  # install packages on your local machine (-q = \"quiet\": don't print out installation steps)\n",
    "    !python -m pip install -q -r https://github.com/ebp-nor/GARG/raw/main/jlite/requirements.txt"
   ]
  },
  {
   "cell_type": "code",
   "execution_count": null,
   "id": "57d2d58c-61d9-4286-946d-c717857f2a75",
   "metadata": {},
   "outputs": [],
   "source": [
    "# Load questions etc for this workbook\n",
    "from IPython.display import SVG\n",
    "import tskit\n",
    "import ARG_workshop\n",
    "workbook = ARG_workshop.Workbook1C()\n",
    "display(workbook.setup)"
   ]
  },
  {
   "cell_type": "markdown",
   "id": "4c65c0e5-86d2-49d8-a8fd-2cce003fd0cf",
   "metadata": {},
   "source": [
    "### Using this workbook\n",
    "\n",
    "This workbook is intended to be used by executing each cell as you go along. Code cells (like those above) can be modified and re-executed to perform different behaviour or additional analysis. You can use this to complete various programming exercises, some of which have associated questions to test your understanding. Exercises are marked like this:\n",
    "<dl class=\"exercise\"><dt>Exercise XXX</dt>\n",
    "<dd>Here is an exercise: normally there will be a code cell below this box for you to work in</dd>\n",
    "</dl>"
   ]
  },
  {
   "cell_type": "markdown",
   "id": "41e3c291-8534-408a-9e33-22fb34cc5470",
   "metadata": {},
   "source": [
    "# Workbook 1-C: Pedigrees, graphs and recombination\n",
    "\n",
    "Previously we explored genetic genealogies in the absence of recombination, when the relationships between a set of sample genomes can be depicted as a tree. Results from standard coalescent theory are often centred around a single tree; the theory and practice revolving around genetic genealogies with recombination is less well characterised. It is the main focus of this specific practical, and the workshop in general."
   ]
  },
  {
   "cell_type": "markdown",
   "id": "fa1d97ed-9861-4ede-a3b9-30f328445fc8",
   "metadata": {},
   "source": [
    "## The pedigree\n",
    "\n",
    "In a species in which each diploid individual has two parents, the links from one individual to each of its (diploid) parents form a network known as a **pedigree**. Although the pedigree describes all possible routes of inheritance, in most cases involving real data it is unknown. However, we wrote our `FwdWrightFisherSimulator` to not only keep track of the routes of genetic transmission (in the _edge_ table), but also the pedigree (in the `parents` column of the _individual_ table). Thie means we can show the simulated pedigree as well as the genetic genealogy."
   ]
  },
  {
   "cell_type": "code",
   "execution_count": null,
   "id": "da9fa0eb-1076-4749-9333-f08b35eebecd",
   "metadata": {},
   "outputs": [],
   "source": [
    "# Show the individuals table from a simulation\n",
    "ts = ARG_workshop.FwdWrightFisherSimulator(population_size=3).run(gens=2, filter_nodes=False)\n",
    "ind = ts.individual(6)\n",
    "print(f\"The biological parents of individual {ind.id} are individuals {ind.parents[0]} and {ind.parents[1]}\")\n",
    "print(f\"A parent value of {tskit.NULL} means the parent is unknown or undefined\")\n",
    "display(ts.tables.individuals)"
   ]
  },
  {
   "cell_type": "markdown",
   "id": "0c85296a-ca79-4fca-9834-107e655990e5",
   "metadata": {},
   "source": [
    "### Genetic transmission is embedded in the pedigree\n",
    "\n",
    "We can plot the pedigree stored in a tree sequence using the `draw_pedigree` workbook function (see also [pedigrees in the msprime docs](https://tskit.dev/msprime/docs/stable/pedigrees.html)). Below, each individual is a hexagon containing its node (genome) ids, with the pedigree shown as light grey lines. On the right, we have used `simplify()` to sample-resolve the tree sequence and retain the genetic ancestry of only 3 of the genomes at time 0 (ids 0, 4, and 10): the tskit edges are overlaid as black lines onto the pedigree. Note that we had to specify `keep_unary=True` when simplifying, *** of tree sequences often results in the loss of individuals, and therefore is likely to destroy the continuity of any pedigree."
   ]
  },
  {
   "cell_type": "code",
   "execution_count": null,
   "id": "dd106a7c-91b0-494b-9260-a418d96f047a",
   "metadata": {},
   "outputs": [],
   "source": [
    "from matplotlib import pyplot as plt\n",
    "# choose a random seed to give a nice viz without line crossing\n",
    "sim = ARG_workshop.FwdWrightFisherSimulator(population_size=6, random_seed=21916)\n",
    "base_ts = sim.run(gens=6, simplify=False)\n",
    "\n",
    "# Sample-resolve to only 3 samples in the current generation (i.e. simplify, but keep all the nodes etc.)\n",
    "S = [0,4,10]  # The sample IDs to use\n",
    "ts = base_ts.simplify(samples=S, filter_nodes=False, keep_unary=True)\n",
    "fig, axes = plt.subplots(1, 2, figsize=(12, 6))\n",
    "plot_params = {\n",
    "    \"node_color\": \"skyblue\",\n",
    "    \"font_size\": 5.8,\n",
    "    \"node_size\":350,\n",
    "    \"node_shape\": \"H\",\n",
    "    \"edge_color\": \"lightgrey\",\n",
    "    \"arrowstyle\": \"simple\",\n",
    "}\n",
    "ARG_workshop.draw_pedigree(base_ts, axes[0], \"Pedigree only\", show_axis=True, width=0.5, **plot_params)\n",
    "ARG_workshop.draw_pedigree(ts, axes[1], \"Genetic transmission overlaid\", width=2, ts_edge=\"black\", **plot_params)"
   ]
  },
  {
   "cell_type": "markdown",
   "id": "b0031214-a74b-4a87-8006-98c3961f62c5",
   "metadata": {},
   "source": [
    "## The effect of recombination\n",
    "\n",
    "In the plot above there is no recombination, so each genome can only have one parent genome. In contrast, recombination leads to *biparental inheritance*, where some regions of the DNA sequence come from the mother and some from the father. For simplicity, we'll just deal with a single chromosome of length $L$ undergoing crossover recombination. Genetic inheritance is then described by *intervals* that span different regions from $0...L$. A _tskit_ **edge** consists of a _left_ and _right_ position defining the interval, together with a _parent_ and _child_ node.\n",
    "\n",
    "Note: Modelling multiple chromosomes can be done, but is an advanced topic, see the [documentation](https://tskit.dev/msprime/docs/stable/ancestry.html#multiple-chromosomes)."
   ]
  },
  {
   "cell_type": "markdown",
   "id": "fa9e0398-c351-4058-804b-71e3caf7d780",
   "metadata": {},
   "source": [
    "### A modified simulator\n",
    "We can derive a new class from the `ARG_workshop.FwdWrightFisherSimulator` and add recombination by overriding the `add_edges` function. We will simulate crossover recombination, in which the DNA is copied from one parent and then switches, at a *recombination breakpoint* to coming from the other parent ([gene conversion](https://en.wikipedia.org/wiki/Gene_conversion) is another form of recombination, which can also be incorporated into more advanced tree sequence simulators).\n",
    "\n",
    "As is common in such simulators, we'll set a per-base-pair-per-generation \"recombination rate\", $\\rho$  (in an average human chromosome of length $1\\times10^8$ bp in length, $\\rho$ tends to be between $1\\times10^{-8}$ and $2\\times10^{-8}$, giving one or two crossover recombinations per chromosome). To record biparental inheritance, we create edges from the maternal or paternal genome of each parent to the child genome, using the `left` and `right` value to specify which region of the genome is being passed on. To pick a location where recombination occurs, we choose a point at random along the chromosome. This means everywhere along the genome is a potential location at which a breakpoint can occur. "
   ]
  },
  {
   "cell_type": "code",
   "execution_count": null,
   "id": "07818ba3-dadf-4629-8523-7d91958ea252",
   "metadata": {},
   "outputs": [],
   "source": [
    "import numpy as np\n",
    "class FwdWrightFisherRecombSim(ARG_workshop.FwdWrightFisherSimulator):\n",
    "    def add_edges(self, randomly_ordered_parent_nodes, child_node):\n",
    "        L = self.tables.sequence_length\n",
    "        num_breakpoints = self.rec_rng.poisson(L * self.recombination_rate, size=1)\n",
    "        breakpoint_positions = np.unique([0, *self.rec_rng.integers(L, size=num_breakpoints), L])\n",
    "        choose_genome = 0\n",
    "        for left, right in zip(breakpoint_positions[:-1], breakpoint_positions[1:]):\n",
    "            self.tables.edges.add_row(\n",
    "                left=left,\n",
    "                right=right,\n",
    "                parent=randomly_ordered_parent_nodes[choose_genome],\n",
    "                child=child_node,\n",
    "            )\n",
    "            choose_genome = 1 if choose_genome == 0 else 0\n",
    "\n",
    "    def __init__(self, Ne, seq_len=1000, recombination_rate=1e-8, random_seed=21916):\n",
    "        self.recombination_rate = recombination_rate\n",
    "        # make a different random number generator to use to pick recombination breakpoints\n",
    "        self.rec_rng = np.random.default_rng(seed=random_seed)\n",
    "        super().__init__(Ne, seq_len, random_seed)  # calls the __init__ function of the underlying class\n"
   ]
  },
  {
   "cell_type": "markdown",
   "id": "1365f607-596e-4d5d-8edb-b0917ef1889f",
   "metadata": {},
   "source": [
    "Here are some examples of the simulation results, showing both the pedigree and the darker lines of genetic transmission (the _tskit_ edges).\n",
    "\n",
    "Importantly, these tree sequences have been **sample-resolved**: that is, the edges have been trimmed down at the end of the simulation to show only the ancestry of three specific samples. Sample-resolution is inherently a retrospective process. it involves traversing backwards through the ancestry from the samples, removing non-ancestral sections of DNA, to leave only edge intervals that trace the history of \"ancestral genetic material\". This can't be done forwards in time, because we can't know in advance which spans of genome which will end up making it to the current day."
   ]
  },
  {
   "cell_type": "code",
   "execution_count": null,
   "id": "7a3dac37-2a65-40b3-a5f1-445a927e7b4a",
   "metadata": {},
   "outputs": [],
   "source": [
    "fig, axes = plt.subplots(1, 3, figsize=(15, 6))\n",
    "fig.suptitle(f\"Genetic ancestry of sample nodes: {S}\")\n",
    "sim_params = {\"gens\": 6, \"simplify\": True, \"samples\": S, \"filter_nodes\": False, \"keep_unary\": True}\n",
    "ts_no_recomb = FwdWrightFisherRecombSim(Ne=6, recombination_rate=0).run(**sim_params)\n",
    "ts_low_recomb = FwdWrightFisherRecombSim(Ne=6, recombination_rate=1e-4).run(**sim_params)\n",
    "ts_high_recomb = FwdWrightFisherRecombSim(Ne=6, recombination_rate=1e-3).run(**sim_params)\n",
    "for name, ts, ax in zip((\"No\", \"Low\", \"High\"), (ts_no_recomb, ts_low_recomb, ts_high_recomb), axes):\n",
    "    ARG_workshop.draw_pedigree(ts, ax, f\"{name} recombination\", width=2, ts_edge=\"black\", **plot_params)\n",
    "plt.show()"
   ]
  },
  {
   "cell_type": "markdown",
   "id": "874e951e-6f94-4b28-8a99-27a6ebcf575c",
   "metadata": {},
   "source": [
    "<dl class=\"exercise\"><dt>Exercise 1</dt>\n",
    "<dd>Plot the edge table for the low recombination tree sequence using <code>ts_low_recomb.tables.edges</code></dd>\n",
    "</dl>"
   ]
  },
  {
   "cell_type": "code",
   "execution_count": null,
   "id": "f8fb1829-aa84-4c9c-9750-b14753d129f3",
   "metadata": {},
   "outputs": [],
   "source": [
    "# Use this cell to plot the ts_low_recomb edge table"
   ]
  },
  {
   "cell_type": "code",
   "execution_count": null,
   "id": "a2c1d09b-094b-4071-8968-16e4b6e17ad4",
   "metadata": {},
   "outputs": [],
   "source": [
    "# Execute code block with <shift>+Return to display question; press on one of the buttons to answer\n",
    "workbook.question(\"low_rec_breaks\")"
   ]
  },
  {
   "cell_type": "markdown",
   "id": "e28e583c-c0fa-4a04-8736-bfb740d8bb96",
   "metadata": {},
   "source": [
    "## Ancestral Recombination Graphs\n",
    "\n",
    "Above, it is clear that a the recombination rate increases, the ancestry of the samples gets more and more tangled. More specifically, the black lines form a network or **graph** rather than a tree. This inheritance structure is sometimes loosely referred to as an Ancestral Recombination Graph, or ARG. It has two main features:\n",
    "\n",
    "* Assuming we can pick an equivalent position in each of the sample genomes, we can extract a *local tree* at that position (because particulate inheritance means that a single position can only have been inherited from one of the parental genomes)\n",
    "* In the same way that we simplified trees by removing nodes, we can simplify ARGs (but the process is more intricate)\n",
    "\n",
    "To illustrate both these points, it's helpful to visualise the ARG."
   ]
  },
  {
   "cell_type": "markdown",
   "id": "92db51fc-bfa6-4b52-b745-d6d590de51bf",
   "metadata": {},
   "source": [
    "### Direct visualizations\n",
    "\n",
    "There are 2 ways to directly visualise the relationships in an ARG:\n",
    "\n",
    "* A traditional graph view. Below we use an [interactive visualiser developed for tree sequences](https://github.com/kitchensjn/tskit_arg_visualizer).\n",
    "* A plot of the *local trees* implied by the tree sequence. This is the standard *tskit* view, with shading indicating the region covered by each tree.\n",
    "\n",
    "<div class=\"alert alert-block alert-info\"><b>Note:</b> Although tree-by-tree plots are the default visualization output by the <code>draw_svg()</code> method, it's important to realise that each tree is not stored separately in <em>tskit</em>, but constructed from the previous tree by adding and removing a small number of edges. Bear in mind that the same edge is therefore plotted multiple times, once in each local tree.\n",
    "</div>"
   ]
  },
  {
   "cell_type": "code",
   "execution_count": null,
   "id": "e2e2c9dc-eb68-4acd-8f33-0ba9a7dec70e",
   "metadata": {},
   "outputs": [],
   "source": [
    "import tskit_arg_visualizer\n",
    "\n",
    "# Viz 1: full graph\n",
    "d3arg = tskit_arg_visualizer.D3ARG.from_ts(ts_low_recomb, ignore_unattached_nodes=True)\n",
    "d3arg.draw(width=600, height=300)\n",
    "    \n",
    "# Viz 2: local trees\n",
    "display(SVG(ts_low_recomb.draw_svg(y_axis=True, size=(1500, 300))))"
   ]
  },
  {
   "cell_type": "markdown",
   "id": "c4ad22ac-f733-4777-924a-da17690718ab",
   "metadata": {},
   "source": [
    "<dl class=\"exercise\"><dt>Exercise 2</dt>\n",
    "<dd>Have a play with the interactive visualiser (you can drag the nodes), and in particular, mouse over the bars at the bottom. Make sure you understand how the tree-by-tree view underneath corresponds to the interactive graph view. Then try the following 2 modifications, and rerun the code:\n",
    "    <ol>\n",
    "    <li>Use the <code>ts_high_recomb</code> instead of the <code>ts_low_recomb</code></li>\n",
    "    <li>Plot a *fully simplified* version of the  <code>ts_high_recomb</code>, by applying <code>.simplify(filter_nodes=False)</code> before calling ARG_viz.</li>\n",
    "    </ol>\n",
    "Finally, in the cell below print the total number of trees along the genome in the original and fully simplified high recombination example, using <code>ts_high_recomb.num_trees</code> and code>ts_high_recomb.simplify().num_trees</code>. You should see that full simplification can actually change the number of local trees.</dd>\n",
    "</dl>"
   ]
  },
  {
   "cell_type": "code",
   "execution_count": null,
   "id": "3d395353-e4db-43e6-84eb-23cfe4e7ac04",
   "metadata": {},
   "outputs": [],
   "source": [
    "# Exercise 2: use this cell to print out the number of trees in the original and fully simplified high recombination tree sequence\n"
   ]
  },
  {
   "cell_type": "code",
   "execution_count": null,
   "id": "6c830698-65bf-4b55-ad00-600e52ae2644",
   "metadata": {},
   "outputs": [],
   "source": [
    "# Execute code block with <shift>+Return to display question; press on one of the buttons to answer\n",
    "workbook.question(\"high_rec_questions\")"
   ]
  },
  {
   "cell_type": "markdown",
   "id": "862d9cf0-00cb-43c5-9bf4-6c53d64fa464",
   "metadata": {},
   "source": [
    "### Simplifying ARGs\n",
    "\n",
    "When we simplified a tree sequence containing just a single tree, the possibilities were relatively simple. We could either *sample-resolve* (which removed edges), or *fully simplify* (which replaced edges to remove pass-through nodes). Simplifying an ARG is much more complex, because:\n",
    "\n",
    "1. Edges may not be compeletely removed, but instead be shortened or split up\n",
    "2. Nodes may appear to be pass-though in a local tree, but have multiple children or multiple parents in the graph.\n",
    "\n",
    "In the exercise above you saw the effect of *full simplification* on an ARG, but this is the most extreme of (at least) 5 levels of simplification that can be performed:\n",
    "\n",
    "* **Level 1** Sample-resolve only: i.e. do not remove nodes from the graph but just remove edges or change edge spans to trace only the ancestry of the chosen sample nodes (this is what happens when simplifying with`keep_unary=True`)\n",
    "* **Level 2** As above but also remove pass-though ARG nodes (the result is sometimes known as a \"full ARG\")\n",
    "* **Level 3** As above but also remove \"diamonds\" and \"super diamonds\"\n",
    "* **Level 4** As above but also remove any node not associated with a local coalescence.\n",
    "* **Level 5** Fully simplify: as above and remove all non-coalescent segments. This is the default level of `simplify` (when `keep_unary=False`) and was the result of the last part of the exercise above.\n",
    "\n",
    "To investigate what's going on, we'll focus on the first section of the genome of the high recombination example, from position 0..52. We can do this by using the [delete_intervals](https://tskit.dev/tskit/docs/stable/python-api.html#tskit.TreeSequence.delete_intervals) function."
   ]
  },
  {
   "cell_type": "code",
   "execution_count": null,
   "id": "6a116e6a-66e2-4b62-83ba-43d052b127e6",
   "metadata": {},
   "outputs": [],
   "source": [
    "from IPython.display import HTML\n",
    "height = 250\n",
    "ts_level1 = ts_high_recomb.keep_intervals([[0, 52]], simplify=False).trim()  # Fully simplifies by default, which we don't want yet\n",
    "display(HTML(\n",
    "    \"<h3>1. Sample-resolve only</h3>\"\n",
    "    \"(Keeps all nodes that are ancestral to 0, 4, and 10, even if they are pass-through in the ARG)\"\n",
    "))\n",
    "tskit_arg_visualizer.D3ARG.from_ts(ts_level1, ignore_unattached_nodes=True).draw(height=height)\n",
    "\n",
    "# NB: Tskit doesn't currently have an easy way to simplify to levels 2, 3, and 4, so we've provided a separate\n",
    "# `ARG_workshop.partial_simplify()` function, which defaults to level 2. We'll also keep the root node 73\n",
    "ts_level2 = ARG_workshop.partial_simplify(ts_level1, keep_input_roots=True, filter_nodes=False)\n",
    "display(HTML(\n",
    "    \"<h3>2. 'Full ARG' (pass-through ARG nodes removed)</h3>\"\n",
    "    \"(retains the same ARG topology and is hence a more efficient way of recording the genetic genealogy, \"\n",
    "    \"although individuals associated with the removed nodes are lost, and therefore the pedigree cannot be recovered)\"\n",
    "))\n",
    "tskit_arg_visualizer.D3ARG.from_ts(ts_level2, ignore_unattached_nodes=True).draw(height=height)\n",
    "\n",
    "# No diamonds/super-diamonds in this example, so go to level 4\n",
    "ts_level4 = ARG_workshop.partial_simplify(ts_level2, remove_non_coalescent_nodes=True, keep_input_roots=True, filter_nodes=False)\n",
    "display(HTML(\n",
    "    \"<h3>4. Remove non-coalescent nodes</h3>\"\n",
    "    \"(removes recombination nodes and common-ancestor-only nodes, splits resulting in multiple parents are moved \"\n",
    "    \"downwards to the nearest coalescent node)\"))\n",
    "tskit_arg_visualizer.D3ARG.from_ts(ts_level4, ignore_unattached_nodes=True).draw(height=height)\n",
    "\n",
    "ts_level5 = ts_level4.simplify(keep_input_roots=True, filter_nodes=False)\n",
    "display(HTML(\n",
    "    \"<h3>5. Fully simplify</h3>\"\n",
    "    \"(remap edges so that all nodes are locally coalescent, i.e. remove 'locally unary' segments; \"\n",
    "    \"appears to make the graph more complex)\"))\n",
    "tskit_arg_visualizer.D3ARG.from_ts(ts_level5, ignore_unattached_nodes=True).draw(height=height)\n"
   ]
  },
  {
   "cell_type": "markdown",
   "id": "8dd20b7e-480a-498e-b4e1-0b2889aacc5f",
   "metadata": {},
   "source": [
    "(Since there are no diamonds or super diamonds to remove in this ARG, we skipped level 3 above)"
   ]
  },
  {
   "cell_type": "code",
   "execution_count": null,
   "id": "3e25158b-4457-4cf3-ba6e-1fc66cc3b721",
   "metadata": {},
   "outputs": [],
   "source": [
    "# Execute code block with <shift>+Return to display question; press on one of the buttons to answer\n",
    "workbook.question(\"simplification_nodes\")"
   ]
  },
  {
   "cell_type": "markdown",
   "id": "7583dae4-bb37-40ab-ace3-eba6c22a66f7",
   "metadata": {},
   "source": [
    "Here are the equivalent plots of the local trees. You will see that the level 5 plot appears to be the simplest, although the associated graph appears more complex:"
   ]
  },
  {
   "cell_type": "code",
   "execution_count": null,
   "id": "19d69810-2de7-4215-a202-9d8f886e204e",
   "metadata": {},
   "outputs": [],
   "source": [
    "height = 180\n",
    "display(HTML(\"<h3>1. Sample-resolve only</h3>\"))\n",
    "display(SVG(ts_level1.draw_svg(size=(600, height))))\n",
    "\n",
    "display(HTML(\"<h3>2. Full ARG</h3>\"))\n",
    "display(SVG(ts_level2.draw_svg(size=(600, height))))\n",
    "\n",
    "display(HTML(\"<h3>4. Remove non-coalescent nodes</h3>\"))\n",
    "display(SVG(ts_level4.draw_svg(size=(600, height))))\n",
    "\n",
    "display(HTML(\"<h3>5. Fully simplify</h3>\"))\n",
    "display(SVG(ts_level5.draw_svg(size=(600, height))))"
   ]
  },
  {
   "cell_type": "code",
   "execution_count": null,
   "id": "25d8555e-ea2a-4999-b805-55216e364d62",
   "metadata": {},
   "outputs": [],
   "source": [
    "# Execute code block with <shift>+Return to display question; press on one of the buttons to answer\n",
    "workbook.question(\"locally_coalescent\")"
   ]
  },
  {
   "cell_type": "markdown",
   "id": "cb84c794-c036-4999-b3ee-ff390eef9f5a",
   "metadata": {},
   "source": [
    "It should be clear that the sequence of local trees which only contains coalescent nodes has lost substantial information, especially about recombination. Another way to put this is that nodes which appear to be unary in the local trees (\"locally unary\" nodes) contain important information about the passage of history. To explore this point, we'll show the full ARG again, both as a graph and as a set of local trees:"
   ]
  },
  {
   "cell_type": "code",
   "execution_count": null,
   "id": "71788772-3f1d-4cde-ae6a-59eacb3c0e67",
   "metadata": {},
   "outputs": [],
   "source": [
    "display(HTML(\"<h3>2. Full ARG</h3>\"))\n",
    "tskit_arg_visualizer.D3ARG.from_ts(ts_level2, ignore_unattached_nodes=True).draw(height=height)\n",
    "display(SVG(ts_level2.draw_svg(size=(600, height))))"
   ]
  },
  {
   "cell_type": "markdown",
   "id": "a4abe0bf-ef9c-4143-9d87-e34cd0b820b1",
   "metadata": {},
   "source": [
    "### SPR moves\n",
    "\n",
    "In a full ARG the \"locally unary\" nodes indicate how to transform one local tree to an adjacent one. For instance, we can make the second tree from the first tree by taking the branch above node 15 changing its parent from node 38 to node 58. Likewise we can make the third tree from the second by taking the branch above 23 and changing its parent from 25 to 58. This is known as a \"Subtree Prune and Regraft\" (SPR) operation. As long as each recombination event in the ancestry happens at a new location, local trees will differ from each other by a single SPR, and locally unary nodes provide information about where in the genetic genealogy this takes place.\n",
    "\n",
    "The transition from one local tree to another along the genome is a key process in the ARG literature. For example, a number of key algorithms approximate ARGs by a process known as the sequential Markov coalescent (SMC or SMC'), in which the next local tree along the genome can be constructed only by consideration of the current local tree (in other words, that the left-to-right generation of local trees can be treated as Markovian). We will return to this in later workbooks."
   ]
  },
  {
   "cell_type": "markdown",
   "id": "ac7eec2a-a232-4a8a-8b90-b4012de50ab9",
   "metadata": {},
   "source": [
    "### Simplifying non-coalescent nodes\n",
    "\n",
    "Coalescent nodes are important because we can infer their existence by looking for shared characteristics (e.g. shared mutations) between different samples. In contrast, nodes which are not coalescent anywhere are to some extent \"invisible\" (their existence can be inferred from DNA variation, but details of the order and timing of the nodes may be unknowable). Nevertheless, these nodes \n",
    "\n",
    "\n",
    "After removing pass-through nodes, two types of non-coalescent nodes can remain in an ARG:\n",
    "\n",
    "1. Recombination nodes: Nodes with more than one parent, that represent a recombination event in which material from multiple parents has come together.\n",
    "2. Common ancestor nodes: Nodes with two (or more) children, but where ancestral material from one child might be e.g. at one end of the chromosome, but material from the second child is at the other end.\n",
    "\n"
   ]
  },
  {
   "cell_type": "code",
   "execution_count": null,
   "id": "8a9d58e0-96a2-49ef-918b-984a9045655c",
   "metadata": {},
   "outputs": [],
   "source": [
    "# Now remove all non-coalescent nodes\n",
    "ts = ARG_workshop.partial_simplify(ts_end, keep_input_roots=True, remove_all_locally_unary=True, filter_nodes=False)\n",
    "ARG_viz(ts, keep_unary=True, height=200, plot_edge_spans=False)"
   ]
  },
  {
   "cell_type": "markdown",
   "id": "e06c8c98-c204-4217-941c-ed33acadb4ae",
   "metadata": {},
   "source": [
    "The only difference here is that simpification has removed node 17. This node was not coalescent anywhere in the tree sequence: it corresponded to a recombination. However, it's position is essentially unknowable. What we have done is to move the recombination node down onto the nearest coalescent node."
   ]
  },
  {
   "cell_type": "markdown",
   "id": "43eabc32-f536-4a75-9e44-98f8d116753f",
   "metadata": {},
   "source": [
    "## Backward-time simulation\n",
    "\n",
    "In the same way that we were able to simulate coalescent trees in reverse time, we can also simulate ARGs in reverse time. The model for simulating these is known as the coalescent with recombination (CwR), and an efficient algorithm was introduced by Hudson (1982), which forms the basis of the highly efficient _msprime_ simulator. This can be used to simulate genalogies of thousands or millions of whole genomes in fractions of a second.\n",
    "\n",
    "To simulate a genalogy using msprime, you call the `sim_ancestry()` function with a number of (usually diploid) individuals, a population size (or [demography]()), a sequence length, and a recombination rate. The result is a standard tre sequence:"
   ]
  },
  {
   "cell_type": "code",
   "execution_count": null,
   "id": "cc713993-d621-4d0b-8159-820fa3ef575b",
   "metadata": {},
   "outputs": [],
   "source": [
    "ts = \n"
   ]
  },
  {
   "cell_type": "code",
   "execution_count": null,
   "id": "6c83a5f4-ccb2-4e81-bc94-959b7d87cc25",
   "metadata": {},
   "outputs": [],
   "source": [
    "# Exercise: use the %timeit function to see how long it takes to simulate a genealogy of a million human genomes. How big is the resulting tree sequence?\n"
   ]
  },
  {
   "cell_type": "markdown",
   "id": "c32bd5dd-438b-430d-9d37-20bd8c0d9b27",
   "metadata": {},
   "source": [
    "### Simplified vs full ARG simulations\n",
    "\n",
    "By default, msprime produces fully simplified tree sequences. As we have seen, this means that the time and location of recombination events is not precisely recorded. For many purposes, this is not a problem, but it does mean, for example, that we cannot calculate the full likelihood of the ARG under a given model of recombination.\n",
    "\n",
    "To carry out \"full ARG\" simulations, we can use the \"record_full_arg\" option of msprime"
   ]
  },
  {
   "cell_type": "code",
   "execution_count": null,
   "id": "9aae8d18-e10d-4747-b0d8-1876e20b539e",
   "metadata": {},
   "outputs": [],
   "source": [
    "from IPython.display import SVG \n",
    "import msprime\n",
    "import tskit_arg_visualizer\n",
    "ts = msprime.sim_ancestry(5, population_size=100, sequence_length=1000, recombination_rate=0.000018, random_seed=1)\n",
    "ts.num_samples"
   ]
  },
  {
   "cell_type": "code",
   "execution_count": null,
   "id": "08b210bc-9444-4f95-92c5-82a08bde701c",
   "metadata": {},
   "outputs": [],
   "source": [
    "d3arg = tskit_arg_visualizer.D3ARG.from_ts(ts)\n",
    "d3arg.draw(width=600, height=500)\n"
   ]
  },
  {
   "cell_type": "code",
   "execution_count": null,
   "id": "252f1272-9028-4554-b1c7-0dd51c285c47",
   "metadata": {},
   "outputs": [],
   "source": []
  },
  {
   "cell_type": "code",
   "execution_count": null,
   "id": "b5e6e112-d1c1-4a28-953b-43c58e751c05",
   "metadata": {},
   "outputs": [],
   "source": [
    "d3arg = tskit_arg_visualizer.D3ARG.from_ts(ARG_workshop.partial_simplify(ts))\n",
    "d3arg.draw(width=600, height=500)\n",
    "#ARG_viz(ts, edge_type=\"ortho\", filter_nodes=False)"
   ]
  },
  {
   "cell_type": "code",
   "execution_count": null,
   "id": "5a784187-cac5-4a36-ac12-e43fd3c7e8c7",
   "metadata": {},
   "outputs": [],
   "source": [
    "# many breakpoints are not in \"ancestral material\"..."
   ]
  },
  {
   "cell_type": "code",
   "execution_count": null,
   "id": "feeca771-0b76-4751-83fe-dd5abb0e84b4",
   "metadata": {},
   "outputs": [],
   "source": [
    "Note: each local tree is a valid coalescent tree (in isolation). Example: calculate the average tMRCA... However, the corrleations betwen the trees make it tricky to do other stuff"
   ]
  },
  {
   "cell_type": "markdown",
   "id": "10c3c734-1d07-42cc-a23d-a471a3b802dc",
   "metadata": {},
   "source": [
    "## Each tree transition is an SPR\n",
    "\n",
    "\n",
    "(Assuming that each breakpoint is unique) Use the interactive plots above to illustrate why this is so. A breakpoint corresponds to a switch in historical path.\n",
    "\n",
    "Important implication: you can approximate using the SMC (throws away \"long range correlations\")\n",
    "\n"
   ]
  },
  {
   "cell_type": "markdown",
   "id": "c566e56b-ac05-4d0c-a2e8-84e51d8884f3",
   "metadata": {},
   "source": [
    "## msprime and record_full_arg\n",
    "\n",
    "# Now introduce the (Griffiths) ARG / Hudson's CwR in which each node is an event....\n",
    "\n",
    "A simpler model, in which each internal node represents a single event, which can either be a common ancestor event or a recombination event.\n",
    "\n",
    "This assumes we have \n",
    "\n",
    "This model can be used for sampling, but there are a huge number of "
   ]
  },
  {
   "cell_type": "code",
   "execution_count": null,
   "id": "196cc924-4cfc-4007-8126-a6cc9ae454f3",
   "metadata": {},
   "outputs": [],
   "source": [
    "import msprime\n",
    "ts = msprime.sim_ancestry(10)\n",
    "tables = ts.dump_tables()\n",
    "i_col = tables.nodes.individual\n",
    "i_col[:] = tskit.NULL\n",
    "tables.nodes.individual = i_col\n",
    "print(tables.nodes.individual)"
   ]
  },
  {
   "cell_type": "code",
   "execution_count": null,
   "id": "61b0cb90-4667-4789-82d5-c27b4041077f",
   "metadata": {},
   "outputs": [],
   "source": [
    "np.unique(np.array([tables.edges.parent, tables.edges.child]).T, axis=0)[:,0]"
   ]
  },
  {
   "cell_type": "code",
   "execution_count": null,
   "id": "dfdd8ac2-a2a0-47a9-a61d-a85107447930",
   "metadata": {},
   "outputs": [],
   "source": [
    "    keep_nodes = set()\n",
    "    unique_edges = np.unique(np.array([tables.edges.parent, tables.edges.child]).T, axis=0)\n",
    "    for i in (0, 1):\n",
    "        uniq, count = np.unique(unique_edges[:, i], return_counts=True)\n",
    "        keep_nodes.update(uniq[count > 1])\n"
   ]
  },
  {
   "cell_type": "code",
   "execution_count": null,
   "id": "fa538bf3-427a-4604-9e74-e1d60407bfaf",
   "metadata": {},
   "outputs": [],
   "source": [
    "As we'll see tomorrow, different ARG inference software infers different sorts of \"ARGs\""
   ]
  },
  {
   "cell_type": "code",
   "execution_count": null,
   "id": "7daee757-30e9-4903-8cd3-327cfca96a2e",
   "metadata": {},
   "outputs": [],
   "source": [
    "Hidden recombination events and \"trapped material\"."
   ]
  },
  {
   "cell_type": "markdown",
   "id": "a4f4c280-00be-404d-a761-65cfd3f4e85a",
   "metadata": {},
   "source": [
    "## Edge plots and coalescent rates "
   ]
  },
  {
   "cell_type": "markdown",
   "id": "b6dbe6a0-3ef3-402c-84e7-1e6115462857",
   "metadata": {},
   "source": [
    "For larger tree sequences, e.g. with thousands of edges, the plots we have seen so far become useless. Instead, we must plot various other summaries of the genealogy. One simple approach is to plot the edges along the genome (on the X axis) over time (on the Y axis)."
   ]
  },
  {
   "cell_type": "code",
   "execution_count": null,
   "id": "99d475e7-2e83-4a36-97ee-8a0b6a89f5c3",
   "metadata": {},
   "outputs": [],
   "source": [
    "ts = msprime.sim_ancestry(1000, population_size=1e4, sequence_length=1e6, recombination_rate=)\n"
   ]
  }
 ],
 "metadata": {
  "kernelspec": {
   "display_name": "Python 3 (ipykernel)",
   "language": "python",
   "name": "python3"
  },
  "language_info": {
   "codemirror_mode": {
    "name": "ipython",
    "version": 3
   },
   "file_extension": ".py",
   "mimetype": "text/x-python",
   "name": "python",
   "nbconvert_exporter": "python",
   "pygments_lexer": "ipython3",
   "version": "3.12.2"
  }
 },
 "nbformat": 4,
 "nbformat_minor": 5
}
