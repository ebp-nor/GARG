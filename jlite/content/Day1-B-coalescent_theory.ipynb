{
 "cells": [
  {
   "cell_type": "markdown",
   "id": "5b825ca5-56f8-463a-b272-e6e31de08c6a",
   "metadata": {},
   "source": [
    "## Setup\n",
    "\n",
    "To access material for this workbook please execute the two notebook cells immediately below (e.g. use the shortcut <b>&lt;shift&gt;+&lt;return&gt;</b>). The first cell can be skipped if you are running this notebook locally and have already installed all the necessary packages. The second cell should print out \"Your notebook is ready to go!\""
   ]
  },
  {
   "cell_type": "code",
   "execution_count": null,
   "id": "4ccc9395-655a-42a0-ac17-ab2b73d009be",
   "metadata": {},
   "outputs": [],
   "source": [
    "if 'pyodide_kernel' in str(get_ipython()):  # specify packages to install under JupyterLite\n",
    "    %pip install -q -r jlite-requirements.txt\n",
    "elif 'google.colab' in str(get_ipython()):  # specify package location for loading in Colab\n",
    "    from google.colab import drive\n",
    "    drive.mount('/content/drive')\n",
    "    %run /content/drive/MyDrive/GARG_workshop/Notebooks/add_module_path.py\n",
    "else:  # install packages on your local machine (-q = \"quiet\": don't print out installation steps)\n",
    "    !python -m pip install -q -r https://github.com/ebp-nor/GARG/raw/main/jlite/requirements.txt"
   ]
  },
  {
   "cell_type": "code",
   "execution_count": null,
   "id": "57d2d58c-61d9-4286-946d-c717857f2a75",
   "metadata": {
    "scrolled": true
   },
   "outputs": [],
   "source": [
    "# Load questions etc for this workbook\n",
    "import ARG_workshop\n",
    "workbook = ARG_workshop.Workbook1B()\n",
    "display(workbook.setup)"
   ]
  },
  {
   "cell_type": "markdown",
   "id": "4c65c0e5-86d2-49d8-a8fd-2cce003fd0cf",
   "metadata": {},
   "source": [
    "### Using this workbook\n",
    "\n",
    "This workbook is intended to be used by executing each cell as you go along. Code cells (like those above) can be modified and re-executed to perform different behaviour or additional analysis. You can use this to complete various programming exercises, some of which have associated questions to test your understanding. Exercises are marked like this:\n",
    "<dl class=\"exercise\"><dt>Exercise XXX</dt>\n",
    "<dd>Here is an exercise: normally there will be a code cell below this box for you to work in</dd>\n",
    "</dl>"
   ]
  },
  {
   "cell_type": "markdown",
   "id": "41e3c291-8534-408a-9e33-22fb34cc5470",
   "metadata": {},
   "source": [
    "# Workbook 1-B: Coalescent theory\n",
    "\n",
    "We will use the simulator we wrote in the previous workbook to illustrate some fundamental principles behind non-recombining genetic genealogies. This mostly comes under the topic of coalescent theory (for a detailed introduction see e.g. [chapter 3](https://people.eecs.berkeley.edu/~jordan/sail/readings/wakeley-chapter3.pdf) of Wakeley's book of the same name).\n",
    "\n",
    "First, we'll simulate forward in time, to create a tree sequence representing a single coalescent tree:"
   ]
  },
  {
   "cell_type": "code",
   "execution_count": null,
   "id": "9915103d-0331-4381-b420-1e6bf62736e4",
   "metadata": {},
   "outputs": [],
   "source": [
    "from IPython.display import SVG\n",
    "N = 10  # diploid population size\n",
    "ts = ARG_workshop.FwdWrightFisherSimulator(population_size=N).run(gens=50)\n",
    "SVG(ts.draw_svg(size=(500, 250), y_axis=True))"
   ]
  },
  {
   "cell_type": "markdown",
   "id": "92db51fc-bfa6-4b52-b745-d6d590de51bf",
   "metadata": {},
   "source": [
    "## Trees in a tree sequence\n",
    "\n",
    "Normally, tree sequences encode multiple correlated trees along the genome. Here, all the base pairs from 0..1000 share the same ancestry, so there's only one tree. This tree can be extracted using `ts.first()`:"
   ]
  },
  {
   "cell_type": "markdown",
   "id": "93614db8-9325-4a6a-8141-66dfbd71b89d",
   "metadata": {},
   "source": [
    "<dl class=\"exercise\"><dt>Exercise 1</dt>\n",
    "    <dd>Use <code>ts.num_trees</code> to check that there's only one tree in this tree sequence, then show a tabular summary using <code>display(ts.first())</code></dd></dl>"
   ]
  },
  {
   "cell_type": "code",
   "execution_count": null,
   "id": "6e177ab8-3e23-40f8-baad-72b5907a4b01",
   "metadata": {},
   "outputs": [],
   "source": [
    "# Use this cell to print out the number of trees and a tabular summary of the first tree\n"
   ]
  },
  {
   "cell_type": "code",
   "execution_count": null,
   "id": "24483c98-4dcf-4ca0-b69c-3b5e8f48f046",
   "metadata": {},
   "outputs": [],
   "source": [
    "workbook.question(\"tree\")"
   ]
  },
  {
   "cell_type": "markdown",
   "id": "19bbbfc9-5721-4e96-8fdf-67616f1985ec",
   "metadata": {},
   "source": [
    "Like a tree sequence, a _tskit_ `tree` has lots of useful methods. Given a set of node IDs, the `mrca()` and `tmrca()` methods return the ID of the most recent common ancestor (MRCA) node and the time of that node ($T_{\\mathrm{MRCA}}$) respectively. For instance, let's look at the MRCA of nodes 0 and 1:"
   ]
  },
  {
   "cell_type": "code",
   "execution_count": null,
   "id": "2184da7f-e4e1-4ec1-9329-3d96d798e114",
   "metadata": {},
   "outputs": [],
   "source": [
    "tree = ts.first()\n",
    "mrca_id = tree.mrca(0, 1)\n",
    "mrca_time = tree.tmrca(0, 1)\n",
    "print(\n",
    "    f\"Node {mrca_id}, the most recent common ancestor of nodes 0 and 1\",\n",
    "    f\"lived {mrca_time} {ts.time_units} ago\",\n",
    ")\n",
    "\n",
    "# Highlight it!\n",
    "SVG(ts.draw_svg(size=(500, 250), y_axis=True, style=f\".n{mrca_id}>.sym {{fill: red; r: 8px}}\"))"
   ]
  },
  {
   "cell_type": "markdown",
   "id": "e89a9624-332c-49f9-b27a-6c7c2010aded",
   "metadata": {},
   "source": [
    "Note, however, if we remove all the ancestry older than a given time (known as `decapitating` a tree sequence!), we might not have an MRCA between two nodes, in which case the `mrca` function will return a null value (_tskit_ uses -1 as the null ID). The resulting tree sequence will have [multiple roots](https://tskit.dev/tskit/docs/stable/data-model.html#roots), visualised as below:"
   ]
  },
  {
   "cell_type": "code",
   "execution_count": null,
   "id": "74543819-936b-4851-bda8-a171f219c22c",
   "metadata": {},
   "outputs": [],
   "source": [
    "ts_recent = ts.decapitate(time=10.0)  # delete ancestry older than 10 generations ago\n",
    "print(\n",
    "    \"The MRCA ID between node 0 and 1 in the decapitated tree sequence is\",\n",
    "    ts_recent.first().mrca(0, 1)\n",
    ")\n",
    "SVG(ts_recent.draw_svg(size=(500, 250), y_axis=True))"
   ]
  },
  {
   "cell_type": "code",
   "execution_count": null,
   "id": "76f76b34-c2a0-49db-9409-5649b2d669cb",
   "metadata": {},
   "outputs": [],
   "source": [
    "# The .tmrca() function will fail with a helpful message in this case\n",
    "print(ts_recent.first().tmrca(0, 1))"
   ]
  },
  {
   "cell_type": "markdown",
   "id": "b2c3d218-8580-466a-95fa-12f4aa573eff",
   "metadata": {},
   "source": [
    "## $T_\\mathrm{MRCA}$ distributions\n",
    "\n",
    "The expected time to the most recent common ancestor  for a randomly chosen pair of genomes is a classic result from coalescent theory. In a Wright-Fisher model, if the population is not tiny, the pairwise $T_{MRCA}$ is well approximated by the negative exponential distribution with mean and standard deviation equal to the number of genomes in the population (i.e. twice the diploid population size).\n",
    "\n",
    "\n",
    "$$\\frac{1}{2N_e}e^{-\\frac{T_\\mathrm{MRCA}}{2N}}$$\n",
    "\n",
    "\n",
    "To see how well this theoretical approximation holds, one (inefficient) way to sample from the true MRCA distribution is to loop over the forward-time simulator repeatedly with different seeds.\n",
    "\n",
    "Since this can take a few seconds, we'll wrap the loop using the [tqdm library](https://tqdm.github.io/), so that we get a progress bar:"
   ]
  },
  {
   "cell_type": "code",
   "execution_count": null,
   "id": "4501d308-eff4-4dcd-abd6-98d4ffdf9547",
   "metadata": {},
   "outputs": [],
   "source": [
    "import numpy as np\n",
    "from tqdm.auto import tqdm\n",
    "\n",
    "max_gens = 175  # need to run long enough to ensure there *is* an MRCA\n",
    "fwdsim_tMRCAs = []\n",
    "for seed in tqdm(np.arange(1, 300)):\n",
    "  ts = ARG_workshop.FwdWrightFisherSimulator(N, random_seed=seed).run(gens=max_gens)\n",
    "  # (arbitrarily) pick the MRCA between the first 2 nodes\n",
    "  first_two_samples = ts.samples()[0:2]\n",
    "  fwdsim_tMRCAs.append(ts.first().tmrca(*first_two_samples))"
   ]
  },
  {
   "cell_type": "markdown",
   "id": "3bc08848-f23a-4f5f-a0f2-d8b75fb24c38",
   "metadata": {},
   "source": [
    "<dl class=\"exercise\"><dt>Exercise 2</dt>\n",
    "<dd>Use <code>np.mean()</code> and <code>np.std()</code> to print out the mean and standard deviation of the <code>fwdsim_tMRCAs</code> array</dd></dl>"
   ]
  },
  {
   "cell_type": "code",
   "execution_count": null,
   "id": "7fbae685-26ca-4d48-bc36-e8416e8437a4",
   "metadata": {},
   "outputs": [],
   "source": [
    "# Exercise 1: print the mean and standard deviation of the fwdsim_tMRCAs array\n"
   ]
  },
  {
   "cell_type": "code",
   "execution_count": null,
   "id": "612a26a7-6fcf-4488-b7c9-90bdc02c6fc6",
   "metadata": {},
   "outputs": [],
   "source": [
    "# Execute code block with <shift>+Return to display question; press on one of the buttons to answer\n",
    "workbook.question(\"expected_tmrca\")"
   ]
  },
  {
   "cell_type": "markdown",
   "id": "e05ec0e8-cf6c-444b-9ff4-ca2a2e5b8f77",
   "metadata": {},
   "source": [
    "Instead of just using the mean, we can compare the _entire distribution_ to the predicted negative exponential. Below we do this as a histogram (left), and using the cumulative distribution function (right). \n",
    "\n",
    "<div class=\"alert alert-block alert-info\"><b>Note:</b>As the standard deviation in $T_{MRCA}$ is proportional to the mean, coalescent times are normally best plotted on a log scale, as on the right below. This stabilises the variance, and means that that older times are not given undue weight</div>"
   ]
  },
  {
   "cell_type": "code",
   "execution_count": null,
   "id": "954f8059-8f06-4ea4-8f3b-ed1b8e19610f",
   "metadata": {},
   "outputs": [],
   "source": [
    "from matplotlib import pyplot as plt\n",
    "import scipy\n",
    "T = np.arange(1, max_gens)\n",
    "fig, (ax_pdf, ax_cdf) = plt.subplots(1, 2, figsize=(15, 5))\n",
    "\n",
    "# Histogram\n",
    "ax_pdf.hist(fwdsim_tMRCAs, density=True, label=\"WF simulation\", color=\"lightblue\")\n",
    "y = 1/(2 * N) * np.exp(-T/(2 * N))\n",
    "formula = r\"$\\frac{1}{2N} e^{−T_{MRCA}/2N}$\"\n",
    "ax_pdf.plot(T, y, c=\"tab:orange\", label=formula)\n",
    "ax_pdf.axvline(np.mean(fwdsim_tMRCAs), ls=\":\", c=\"tab:blue\")\n",
    "ax_pdf.axvline(2 * N, ls=\":\", c=\"tab:orange\")\n",
    "ax_pdf.text(2 * N, y.max(), \"Means\", ha=\"right\", va=\"top\", rotation=90)\n",
    "ax_pdf.set_xlabel(r\"$T_{MRCA}$ (generations)\")\n",
    "ax_pdf.legend(fontsize=14)\n",
    "ax_pdf.set_ylabel(r\"Coalescent density\")\n",
    "\n",
    "# Empirical CDF\n",
    "ax_cdf.plot(np.sort(fwdsim_tMRCAs), np.linspace(0, 1, len(fwdsim_tMRCAs), endpoint=False))\n",
    "formula = r\"$1 - e^{−T_{MRCA}/2N}$\"\n",
    "ax_cdf.plot(T, 1 - np.exp(-T/(2 * N)), c=\"tab:orange\", label=formula)\n",
    "ax_cdf.set_xlabel(r\"$T_{MRCA}$ (generations)\")\n",
    "ax_cdf.legend(fontsize=14)\n",
    "ax_cdf.set_ylabel(r\"Probability\")\n",
    "ax_cdf.set_xscale(\"log\")\n",
    "\n",
    "plt.suptitle(f\"Time to MRCA between two samples in a population of size $N={N}$\");\n"
   ]
  },
  {
   "cell_type": "markdown",
   "id": "534fe5fd-7b88-4fc2-a099-33ed7c28352e",
   "metadata": {},
   "source": [
    "The fit is impressive, even though this is a very small population, when we would expect the approximation to be potentially poor. It's only the first 5 generations that are a sligihtly worse fit, as a result of simulating using discrete generations. As we'll see later, in general, results are surprisingly robust to small deviations from the basic assumptions of coalescent theory."
   ]
  },
  {
   "cell_type": "markdown",
   "id": "94a0ac92-0e13-4273-ba90-47ff0ad094fe",
   "metadata": {},
   "source": [
    "## The incredible depth of genetic ancestry\n",
    "\n",
    "It is often estimated that the average $T_{MRCA}$ between a random pair of human genomes (say from your mother vs your father) roughly matches that found in a constant-sized Wright-Fisher population of size 15 000 diploids."
   ]
  },
  {
   "cell_type": "code",
   "execution_count": null,
   "id": "74ae31d7-effa-4e3c-9773-548ee3b380c9",
   "metadata": {},
   "outputs": [],
   "source": [
    "# Execute code block with <shift>+Return to display question; press on one of the buttons to answer\n",
    "workbook.question(\"Human_Ne_TRMCA\")"
   ]
  },
  {
   "cell_type": "markdown",
   "id": "6000d58b-64c2-4530-9b65-e53a12d98175",
   "metadata": {},
   "source": [
    "### A popgen taster\n",
    "\n",
    "To many people, these times might seem surprisingly old. For example, they predate the appearance of modern humans in the fossil record, around 300 000 years ago. We can perform a sanity check using real data, but instead of using node dates directly - which requires us to infer branch lengths - we'll use a proxy measure: the average genetic difference per base pair between all sample pairs (the \"genetic diversity\", $\\pi$). If we know the mutation rate $\\mu$, we can simply divide the genetic diversity by $\\mu$ to estimate the branch length distance between the two samples, then divide that by 2 to get an estimate of the $T_{MRCA}$. A reasonable estimate of the nucleotide mutation rate in humans is $\\mu=1.29\\times10^{-8}$ per base pair per generation.\n",
    "\n",
    "To illustrate the speed of tree sequence calculations, we'll load up a tree-sequence-encoded copy of the well-known thousand genomes project (tgp). For speed and simplicity, we'll use a tree sequence that only contains 5 megabases of chromosome 20, but it's easy to do this for larger examples."
   ]
  },
  {
   "cell_type": "code",
   "execution_count": null,
   "id": "ca4d08c0-bcdc-4c6b-83bc-bc2fb4cad06a",
   "metadata": {},
   "outputs": [],
   "source": [
    "# Download the compressed tree sequence for 5-10 MB of human chromosome 20 arm\n",
    "import tszip  # Tree sequences can be further compressed for efficient storage using \"tszip\"\n",
    "try:\n",
    "    tgp_ts = tszip.decompress(\"data/1kgp_chr20_5-10MB.tsz\")\n",
    "except FileNotFoundError:\n",
    "    import urllib.request\n",
    "    url = \"https://raw.githubusercontent.com/ebp-nor/GARG/main/jlite/content/data/1kgp_chr20_5-10MB.tsz\"\n",
    "    print(f\"Downloading '{url}'\")\n",
    "    urllib.request.urlretrieve(url)\n",
    "    ts = tszip.decompress(\"1kgp_chr20_5-10MB.tsz\")"
   ]
  },
  {
   "cell_type": "markdown",
   "id": "a7512d31-a1d8-48d9-b170-764a3d7d91ca",
   "metadata": {},
   "source": [
    "<dl class=\"exercise\"><dt>Exercise 3</dt>\n",
    "<dd>Use <code>tgp_ts.num_samples</code> and <code>tgp_ts.num_individuals</code> to check on the number of genomes and number of individuals in this dataset. Then use <code>tgp_ts.diversity()</code> to print out the average sitewise difference (i.e. number of variable sites) between a random pair of genomes (this calculation should be instantaneous). Divide this by twice the mutation rate, then multiply by 27 years per generation to get a rough estimate of the average pairwise $T_\\mathrm{MRCA}$ in years</dd></dl>\n"
   ]
  },
  {
   "cell_type": "code",
   "execution_count": null,
   "id": "c5dd9183-6b72-41f0-b251-9eec1c79fedb",
   "metadata": {},
   "outputs": [],
   "source": [
    "# Use this cell to print the number of samples and individuals in tgp_ts\n",
    "# Then calculate the average pairwise genetic diversity, and use it to find the average TMRCA in years,\n",
    "# assuming a mutation rate of 1.29e-8 per base pair per generation, and a generation time of 27 years\n"
   ]
  },
  {
   "cell_type": "code",
   "execution_count": null,
   "id": "d414fb14-1382-44e9-b3b4-dadd7537451c",
   "metadata": {},
   "outputs": [],
   "source": [
    "workbook.question(\"Human_mu_TRMCA\")"
   ]
  },
  {
   "cell_type": "markdown",
   "id": "7d20b716-c51b-4227-9280-ce8314c9fe1b",
   "metadata": {},
   "source": [
    "Note that in this example, we are not making multiple independant estimates of the $T_{MRCA}$. Instead, we are going along the genome and taking ***"
   ]
  },
  {
   "cell_type": "markdown",
   "id": "62679ede-aabf-4e34-99cf-dbab42d5ba3b",
   "metadata": {},
   "source": [
    "## Advantages of backward simulation\n",
    "\n",
    "The forward-time Wright-Fisher simulator we built is flexible, but slow. For the rest of this workbook, we'll investigate theoretical predictions by simulating backward in time instead. In backward-time simulations, we define an initial set of sample genomes and randomly choose parents for those genomes, then parents for the parents, and so on. As well as avoiding the need to `simplify()` the genealogy, we can:\n",
    "\n",
    "* avoid time simulating extinct lineages,\n",
    "\n",
    "* efficiently simulate a small set of samples taken from a much larger population, and\n",
    "\n",
    "* stop simulating as soon as the lineages from all the samples merge into a single MRCA\n",
    "\n",
    "The major _downside_ is that genomes in the simulation must be [exchangable](https://en.wikipedia.org/wiki/Exchangeable_random_variables). Although this can include subdivided populations and cases where population size changes over time, backward simulation cannot deal with populations distributed in continuous space, or most forms of natural selection (although there are some workarounds for simple selective sweeps).\n",
    "\n",
    "_Tskit_ also makes it possible to combine both backward and forward time simulation in a process known as [recapitation](https://tskit.dev/pyslim/docs/latest/tutorial.html#sec-tutorial-recapitation). We will encounter this in later workbooks."
   ]
  },
  {
   "cell_type": "markdown",
   "id": "d1d6c7e9-0617-4906-ae68-c43b2e4cce17",
   "metadata": {},
   "source": [
    "### Msprime: a backward-time simulator\n",
    "\n",
    "[_Msprime_](https://tskit.dev/msprime/docs/stable/intro.html) is a widely-used and highly efficient backward-time simulator that outputs tree sequences. Its [discrete-time-Wright-Fisher](https://tskit.dev/msprime/docs/stable/ancestry.html#using-the-dtwf-model) (`dtwf`) capability will simulate in backward time the same process we simulated in our forward-time model, but will allow much larger population sizes:"
   ]
  },
  {
   "cell_type": "code",
   "execution_count": null,
   "id": "0506b982-bdab-4a35-aab9-f32b72d281fe",
   "metadata": {},
   "outputs": [],
   "source": [
    "import msprime\n",
    "Ne = 1_000   # Much faster to simulate a small sample taken from a larger populations\n",
    "ts = msprime.sim_ancestry(samples=10, population_size=Ne, model=\"dtwf\", random_seed=123)\n",
    "SVG(ts.draw_svg(size=(500, 250), y_axis=True))"
   ]
  },
  {
   "cell_type": "markdown",
   "id": "64e2e9d9-3103-454d-8af4-c4e24c5dc983",
   "metadata": {},
   "source": [
    "#### Continuous-time models: a major speedup\n",
    "\n",
    "However, the \"`dtwf`\" model is still fairly slow because it has to go generation-by-generation, backwards in time. If we assume that only one coalescence occurs in any generation, we can simply sample a time back to the next coalescent event from the appropriate distribution, without having to step one generation at a time. The faster method is the default used by msprime, and it means that the size of the population no longer has an effect on the efficiency of the simulation. We can easily simulate a small sample from a population of a billion individuals: all that happens is that the time scale will change (of course, given a generation time of a few years, a constant population of a billion is not a biologically plausible assumption: the MRCAs would be older than the origin of life on earth)\n",
    "\n",
    "Note that the continuous-time approach means that we never get \"polytomies (i.e. multifurcations). Theerefore the trees produced by the default msprime model are always strictly bifurcating."
   ]
  },
  {
   "cell_type": "markdown",
   "id": "d665a51b-a81e-4605-b529-27f5e6eef166",
   "metadata": {},
   "source": [
    "### Variation in coalescent tree depths and topologies\n",
    "\n",
    "To demonstrate the efficiency of this approach, we'll sample 20 individuals from a population of ten thousand, until all the samples have coalesced into a single root, which should take some thousands of generations. We'll do it 30 times, to get a feel for the wide variation in coalescence times. _Msprime_ will run this in a millisecond or two.\n",
    "\n",
    "<div class=\"alert alert-block alert-info\"><b>Note:</b> If the <code>num_replicates</code> parameter is given to <code>sim_ancestry()</code>, the function will return a (lazy) iterator over the returned tree sequences. To turn this into a fixed list of tree sequences, we apply Python's built-in <code>list()</code> function.</div>"
   ]
  },
  {
   "cell_type": "code",
   "execution_count": null,
   "id": "28cfb789-107b-43f8-baa6-516d4d89c975",
   "metadata": {},
   "outputs": [],
   "source": [
    "# To get a feel of the variation in coalescent tree time & topologies\n",
    "\n",
    "import msprime\n",
    "from IPython.display import HTML  # we can draw multiple tree sequences using HTML\n",
    "diploid_pop_size = 10_000\n",
    "tree_seqs = list(\n",
    "    msprime.sim_ancestry(\n",
    "        20, population_size=diploid_pop_size, sequence_length=1000, num_replicates=30, random_seed=123,\n",
    "    )\n",
    ")\n",
    "\n",
    "root_times = [ts.max_time for ts in tree_seqs]\n",
    "ticks = np.linspace(0, 10 ** (np.ceil(np.log10(max(root_times)))), num=6)\n",
    "ticks = {t: f\"{t/1_000:.0f}k\" for t in ticks}\n",
    "\n",
    "HTML(\"\".join(\n",
    "    ts.draw_svg(\n",
    "        max_time=max(root_times),\n",
    "        size=(200, 350),\n",
    "        node_labels={},\n",
    "        symbol_size=1,\n",
    "        y_axis=True,\n",
    "        y_ticks=ticks,\n",
    "        root_svg_attributes={\"style\":\"display: inline-block\"},\n",
    "    )\n",
    "    for ts in tree_seqs\n",
    "))"
   ]
  },
  {
   "cell_type": "markdown",
   "id": "6e520c9e-03d7-4731-a59b-da8c21af5965",
   "metadata": {},
   "source": [
    "<dl class=\"exercise\"><dt>Exercise 4</dt>\n",
    "<dd>As mentioned above, it can be helpful to plot coalescence times on a log scale. Add <code>time_scale=\"log_time\"</code> to the <code>draw_svg()</code> parameters above to see what this looks like. Then use <code>plt.hist()</code> below to plot the distribution of <code>root_time</code>s.</dd></dl>"
   ]
  },
  {
   "cell_type": "code",
   "execution_count": null,
   "id": "8663e179-b68f-46c9-ab61-ce254438a24f",
   "metadata": {},
   "outputs": [],
   "source": [
    "# Use this cell to plot a histogram of root_times"
   ]
  },
  {
   "cell_type": "code",
   "execution_count": null,
   "id": "3f1916ce-50da-41b7-924a-1d16b5c9e550",
   "metadata": {},
   "outputs": [],
   "source": [
    "workbook.question(\"mean_tmrca\")"
   ]
  },
  {
   "cell_type": "markdown",
   "id": "10c3c734-1d07-42cc-a23d-a471a3b802dc",
   "metadata": {},
   "source": [
    "## Information from additional samples\n",
    "\n",
    "Increasing the number of samples from 2 to a large number is expected to at most double the time to oldest coalescence in the tree. Moreover, as the number of tips increases, there is a rapid decrease in the average time at which each sample coalesces into the rest of the tree. Specifically, the <em>n</em>th sample will coalesce with the rest of the tree at a time approximately $1/n$ of the mean pairwise $T_{MRCA}$ (as demonstrated below)"
   ]
  },
  {
   "cell_type": "code",
   "execution_count": null,
   "id": "1dc89aa2-6597-41fc-a409-dc96eb907c09",
   "metadata": {},
   "outputs": [],
   "source": [
    "import msprime\n",
    "import numpy as np\n",
    "from matplotlib import pyplot as plt\n",
    "\n",
    "n_tips = np.arange(2, 100)\n",
    "coalescence_time_above_sample = {n: [] for n in n_tips}\n",
    "for seed in range(1, 10):\n",
    "    for n in n_tips:\n",
    "        ts = msprime.sim_ancestry(n, population_size=diploid_pop_size, random_seed=seed)\n",
    "        sample_parent_ids = ts.first().parent_array[ts.samples()]\n",
    "        sample_parent_times = ts.nodes_time[sample_parent_ids]\n",
    "        coalescence_time_above_sample[n].append(np.mean(sample_parent_times))\n",
    "plt.plot(n_tips, [np.mean(v) for v in coalescence_time_above_sample.values()], label=\"Simulated\")\n",
    "plt.plot(n_tips, 1/n_tips * 2*diploid_pop_size, label=r\"$1/n \\times 2T^\\mathrm{pairwise}_\\mathrm{MRCA}$\")\n",
    "plt.xlabel(\"Number of sample tips ($n$)\")\n",
    "plt.ylabel(\"Av. coalescence time above a tip (generations)\")\n",
    "plt.yscale(\"log\")\n",
    "plt.legend();"
   ]
  },
  {
   "cell_type": "code",
   "execution_count": null,
   "id": "3be6bad4-eec1-4bab-a824-6ace2e228101",
   "metadata": {},
   "outputs": [],
   "source": [
    "workbook.question(\"additional_samples\")"
   ]
  },
  {
   "cell_type": "markdown",
   "id": "15f7a29d-51e9-4c27-af36-a8aa74d03b68",
   "metadata": {},
   "source": [
    "## Coalescence times\n",
    "\n",
    "A simple visualisation is to plot the tskit edges by the time of their parent. As long as the tree sequence is fully simplified, the parent times should reflect the density of coalescences through time. However, as we saw above, the distribution of such times will change as the number of samples increases; in particular, the mean of the times will decrease."
   ]
  },
  {
   "cell_type": "code",
   "execution_count": null,
   "id": "b3ec9aba-8507-4338-9895-93dbe333cc3a",
   "metadata": {},
   "outputs": [],
   "source": [
    "ARG_workshop.edge_plot(ts, alpha=0.2, xaxis=False, plot_hist=True)"
   ]
  },
  {
   "cell_type": "markdown",
   "id": "81582fc7-10bb-481b-b6ac-738ae50ca966",
   "metadata": {},
   "source": [
    "### Pairwise times\n",
    "\n",
    "Rather than treat each coalescent point with equal weight, as we have done above, it sometimes makes sense to weight by the number of *pairs* of samples that coalesce at each point. Not only does this result in a distribution that does not depend on the sample size, but it gives an estimate of the average *pairwise* $T_{MRCA}$ which, as we previously saw, is directly proportional to the population size.\n",
    "\n",
    "We have already encountered a way to measure pairwise distances, using `ts.diversity()`. We applied this function to the thousand-genomes data to calculate *site-based* distances (i.e. the pairwise density of variable sites in a tree sequence). We can use the same function to calculate *branch-based* distances between every pair of samples, by specifying `mode=\"branch\"`. In fact, each genetic distance measure has an equivalent branch-based measure, something we will see in later workbook. For the moment we can simply halve the branch-based diversity to get average pairwise coalescence times, e.g. as follows:"
   ]
  },
  {
   "cell_type": "code",
   "execution_count": null,
   "id": "ed2275b9-80ba-4fcb-b6c6-c5fc5edcc3c2",
   "metadata": {},
   "outputs": [],
   "source": [
    "pairwise_coal_times = []\n",
    "num_replicates = 250\n",
    "for seed in range(num_replicates):\n",
    "    ts = msprime.sim_ancestry(50, population_size=diploid_pop_size, random_seed=seed+1)\n",
    "    # diversity(mode=\"branch\") calculates the mean distance between pairs: \n",
    "    pairwise_coal_times.append(ts.diversity(mode=\"branch\")/2)\n",
    "plt.title(\n",
    "    f\"Mean coalescence times between all pairs of {ts.num_samples} genomes\\n\"\n",
    "    f\"({num_replicates} replicate simulations, diploid Ne = {diploid_pop_size})\"\n",
    ")\n",
    "plt.hist(pairwise_coal_times, bins=25)\n",
    "plt.xlabel(\"Time (generations)\");"
   ]
  },
  {
   "cell_type": "markdown",
   "id": "6ea5f978-8fd2-40a5-9ff3-3dd706e1c238",
   "metadata": {},
   "source": [
    "Notice that even though we are taking average coalescence times over all pairs of 100 genomes, there is still a lot of variation around the expected value of 20 000. In other words, inference of population history from a single tree is fairly imprecise."
   ]
  },
  {
   "cell_type": "markdown",
   "id": "c78e4bb3-cf33-4a97-b1ea-e1df8ef27f98",
   "metadata": {},
   "source": [
    "### Coalescence rates\n",
    "\n",
    "In a fixed-size panmictic population, there is a constant probability that any two lineages will coalesce in a given generation. This means that the average pairwise coalescence times directly reflect the population size, $N$. Of course, populations are unlikely to be entirely unstructured, or remain the same size over time. In this case, coalescence times are sometimes taken as a measure of \"effective population size\" ($N_e$). However, it is better to think directly terms of varying probabilities of coalescence. More specifically, pairs of lineages are subject to an \"instantaneous coalescence rate\" which can vary over time and place. It is only in the trivial case of a fixed-size population that this rate is constant (and equal to the inverse of the number of genomes, $1/2N$).\n",
    "\n",
    "_Tskit_ can be used to estimate the pairwise coalescent rate from a tree sequence as follows:"
   ]
  },
  {
   "cell_type": "code",
   "execution_count": null,
   "id": "c3908863-f8f5-4173-970b-368463910a6f",
   "metadata": {},
   "outputs": [],
   "source": [
    "def pair_coalescence_rates(ts, time_breaks=None, quantiles=None):\n",
    "    # NB: in the next tskit release (0.5.9), there will be an API change such that\n",
    "    # this function will be directly available as `ts.pair_coalescence_rates(time_breaks)`\n",
    "    d = ts.coalescence_time_distribution(weight_func=\"pair_coalescence_events\")\n",
    "    if time_breaks is None:\n",
    "        time_breaks = ts.coalescence_time_distribution().quantile(np.array(quantiles)).flatten()\n",
    "    return d.coalescence_rate_in_intervals(np.array(time_breaks)), time_breaks\n",
    "\n",
    "single_timeslice = [0, ts.max_time]\n",
    "display(HTML(\"<h3>Mean rate over all time</h3>\"))\n",
    "print(\n",
    "    \"Av. pairwise rate over all coalescences:\",\n",
    "    pair_coalescence_rates(ts, single_timeslice)[0]\n",
    ")\n",
    "print(\n",
    "    \"Should be equal to the reciprocal of half the branch length diversity:\",\n",
    "    1/(ts.diversity(mode=\"branch\")/2)\n",
    ")"
   ]
  },
  {
   "cell_type": "markdown",
   "id": "638df013-11e2-43a8-a12a-8e7d5cc9d2ac",
   "metadata": {},
   "source": [
    "More interestingly, it is possible to estimate different rates over time, to examine the variable demographic histories of a sample. This is done by taking timeslices of the Empirical CDF (as we plotted on the right a number of cells previously) and assuming a constant rate within each timeslice. This is unlikely to work well on a single tree, but will come into its own when analysing multiple trees along the genome, and is a similar approach to plots generated by pairwise inference methods such as PSMC:"
   ]
  },
  {
   "cell_type": "code",
   "execution_count": null,
   "id": "608b2ac6-716e-4a2e-866a-dc0520e4f3ed",
   "metadata": {},
   "outputs": [],
   "source": [
    "num_timeslices = 5\n",
    "multiple_timeslices = np.ceil(np.logspace(1, np.log10(ts.max_time), num_timeslices+1))\n",
    "multiple_timeslices[0] = 0  # set the fist timeslice to start at 0\n",
    "\n",
    "display(HTML(f\"<h3>Piecewise rate over {num_timeslices} log-spaced timeslices</h3>\"))\n",
    "rates, times = pair_coalescence_rates(ts, multiple_timeslices)\n",
    "rates = rates.flatten()\n",
    "\n",
    "for i in range(num_timeslices):\n",
    "    print(\n",
    "        f\"From {times[i]} to {times[i+1]}:\",\n",
    "        f\"pairwise coalescent rate={rates[i]:.3g}\"\n",
    "    )\n",
    "\n",
    "display(SVG(ts.draw_svg(\n",
    "    y_ticks=times,\n",
    "    y_gridlines=True,\n",
    "    size=(1000, 500),\n",
    "    symbol_size=0,\n",
    "    time_scale=\"log_time\",\n",
    "    y_axis=True,\n",
    "    node_labels={},\n",
    "    style=\".y-axis .tick .grid {stroke: red}\",\n",
    "    x_axis=False\n",
    ")))\n",
    "\n",
    "fig, (ax_rate, ax_IICR) = plt.subplots(1, 2, figsize=(15, 5))\n",
    "\n",
    "ax_rate.stairs(rates, times, baseline=None)\n",
    "ax_rate.set_xscale(\"log\")\n",
    "ax_rate.axhline(y=1/(2*diploid_pop_size), c=\"tab:orange\")\n",
    "ax_rate.set_xlabel(\"Time (generations ago)\")\n",
    "ax_rate.set_ylabel(\"Instantaneous Coalescence Rate\")\n",
    "ax_rate.set_xlim(1, None)\n",
    "\n",
    "ax_IICR.stairs(1/rates, multiple_timeslices, baseline=None)\n",
    "ax_IICR.set_xscale(\"log\")\n",
    "ax_IICR.axhline(y=2*diploid_pop_size, c=\"tab:orange\")\n",
    "ax_IICR.set_xlabel(\"Time (generations ago)\")\n",
    "ax_IICR.set_ylabel(\"Inverse Instantaneous Coalescence Rate\")\n",
    "ax_IICR.set_xlim(1, None);\n",
    "plt.suptitle(\"Estimated coalescence rates over time\");"
   ]
  },
  {
   "cell_type": "markdown",
   "id": "6ad41905-e8ee-44d3-bf70-6075cdf78ec5",
   "metadata": {},
   "source": [
    "The right hand plot is simply the reciprocal of that on the left, giving the Inverse Instantaneous (pairwise) Coalescence Rate, or IICR. This can be numerically easier to interpret because in an unstructured population, it is a measure of (haploid) population size. However, changes in the IICR can either reflect changes in population size *or* changes in population substructure. It is therefore less misleading to label this as the IICR, rather than the effective haploid population size.\n",
    "\n",
    "### Bonus exercise\n",
    "\n",
    "From the tree plot, you can see that the oldest bin contains very few coalescence points, so is expected to be estimated with greater error. It is possible to choose quantiles of the coalescence times, so that an equal number of coalescent points are taken in each timeslice:"
   ]
  },
  {
   "cell_type": "code",
   "execution_count": null,
   "id": "2585d203-a4a1-410e-8d6d-3437854baf69",
   "metadata": {},
   "outputs": [],
   "source": [
    "# Exercise: repeat the plots above providing `quantiles=[0, 0.2, 0.4, 0.6, 0.8, 1.0]` rather than the direct\n",
    "# multiple_timeslices argument to the pair_coalescence_rates() function. Is there less variability in tne IICR estimates?\n"
   ]
  }
 ],
 "metadata": {
  "kernelspec": {
   "display_name": "Python 3 (ipykernel)",
   "language": "python",
   "name": "python3"
  },
  "language_info": {
   "codemirror_mode": {
    "name": "ipython",
    "version": 3
   },
   "file_extension": ".py",
   "mimetype": "text/x-python",
   "name": "python",
   "nbconvert_exporter": "python",
   "pygments_lexer": "ipython3",
   "version": "3.12.2"
  }
 },
 "nbformat": 4,
 "nbformat_minor": 5
}
