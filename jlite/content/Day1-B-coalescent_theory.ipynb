{
 "cells": [
  {
   "cell_type": "markdown",
   "id": "5b825ca5-56f8-463a-b272-e6e31de08c6a",
   "metadata": {},
   "source": [
    "# Setup\n",
    "\n",
    "To prepare the content for this workbook please execute the notebook cell immediately below. You can usually do that via the shortcut <b>&lt;shift&gt;+&lt;return&gt;</b>."
   ]
  },
  {
   "cell_type": "code",
   "execution_count": 4,
   "id": "4ccc9395-655a-42a0-ac17-ab2b73d009be",
   "metadata": {},
   "outputs": [],
   "source": [
    "if 'pyodide_kernel' in str(get_ipython()):  # specify packages to install under JupyterLite\n",
    "    %pip install -q -r jlite-requirements.txt\n",
    "elif 'google.colab' in str(get_ipython()):  # specify package location for loading in Colab\n",
    "    from google.colab import drive\n",
    "    drive.mount('/content/drive')\n",
    "    %run /content/drive/MyDrive/GARG_workshop/Notebooks/add_module_path.py\n",
    "else:  # install packages on your local machine (-q = \"quiet\": don't print out installation steps)\n",
    "    !python -m pip install -q -r https://github.com/ebp-nor/GARG/raw/main/jlite/requirements.txt"
   ]
  },
  {
   "cell_type": "markdown",
   "id": "4c65c0e5-86d2-49d8-a8fd-2cce003fd0cf",
   "metadata": {},
   "source": [
    "## Using this workbook\n",
    "\n",
    "This workbook is intended to be used by executing each cell as you go along. Code cells (like those above) can be modified and re-executed to perform different behaviour or additional analysis. You can use this to complete various programming exercises, some of which have associated questions to test your understanding. Exercises are marked like this:\n",
    "<dl class=\"exercise\"><dt>Exercise XXX</dt>\n",
    "<dd>Here is an exercise: normally there will be a code cell below this box for you to work in</dd>\n",
    "</dl>"
   ]
  },
  {
   "cell_type": "code",
   "execution_count": 5,
   "id": "57d2d58c-61d9-4286-946d-c717857f2a75",
   "metadata": {},
   "outputs": [
    {
     "data": {
      "text/html": [
       "<style>dl.exercise {\n",
       "    border: #a7c947 1px solid;\n",
       "    margin-top: 1em;\n",
       "}\n",
       ".exercise dt {\n",
       "    color: #e9f2d1; background-color: #a7c947;\n",
       "    padding: 6px; display: block;\n",
       "}\n",
       ".exercise dt::before {\n",
       "    content: '🧐 ';\n",
       "}\n",
       ".exercise dd {\n",
       "    padding: 6px;\n",
       "}\n",
       "</style><table style=\"width: 100%;\"><tr>\n",
       "        <td style=\"text-align: left;\">Your notebook is ready to go!</td></tr></table>"
      ],
      "text/plain": [
       "<IPython.core.display.HTML object>"
      ]
     },
     "metadata": {},
     "output_type": "display_data"
    }
   ],
   "source": [
    "# Load questions etc for this workbook\n",
    "import ARG_workshop\n",
    "workbook = ARG_workshop.Workbook1B()\n",
    "display(workbook.setup)"
   ]
  },
  {
   "cell_type": "markdown",
   "id": "41e3c291-8534-408a-9e33-22fb34cc5470",
   "metadata": {},
   "source": [
    "# Workbook 1-B: Coalescent theory\n",
    "\n",
    "We will use the simulator we have previously created to illustrate some fundamental principles behind non-recombining genetic genealogies. The main body of theory in this area is the (backward-time) coalescent. For a detailed introduction see e.g. chapter 3 of Wakeley's book \"Coalescent Theory\".\n",
    "\n",
    "First, we'll run basically the same code as we had in Workbook 1A to simulate a tree sequence forward in time:"
   ]
  },
  {
   "cell_type": "code",
   "execution_count": 6,
   "id": "953d575b-f520-4ffd-a583-2deb53722010",
   "metadata": {},
   "outputs": [],
   "source": [
    "# Code as in Workbook 1, with 4 minor changes:\n",
    "# (1) during the simulation *all* simulation nodes are flagged as samples\n",
    "#   (sample nodes can be usefully thought of as \"known genomes\", and we do know each genome during simulation)\n",
    "# (2) nodes are reordered using table.subset with the most recent put first\n",
    "# (3) The default output is simplified to the current generation, so only nodes at time=0 end up as samples.\n",
    "# (4) we save the parent *individuals* of each individual (not just the parent *nodes*)\n",
    "import numpy as np\n",
    "import tskit\n",
    "from tskit import NULL\n",
    "\n",
    "def initialize(tables, diploid_population_size, start_time, flags):\n",
    "    \"\"\"\n",
    "    Save a population to the tskit_tables and return a Python dictionary\n",
    "    mapping the newly created individual ids to a pair of genomes (node ids)\n",
    "    \"\"\"\n",
    "    temp_pop = {}  # make an empty dictionary\n",
    "    for _ in range(diploid_population_size):\n",
    "        # store in the TSKIT tables\n",
    "        i = tables.individuals.add_row(parents=(NULL, NULL))\n",
    "        maternal_node = tables.nodes.add_row(flags, start_time, individual=i)\n",
    "        paternal_node = tables.nodes.add_row(flags, start_time, individual=i)\n",
    "        # Add to the dictionary: map the individual ID to the two node IDs\n",
    "        temp_pop[i] = (maternal_node, paternal_node)\n",
    "    return temp_pop\n",
    "\n",
    "def reproduce(tables, previous_pop, current_time, rng, flags):\n",
    "    temp_pop = {}\n",
    "    prev_individual_ids = list(previous_pop.keys())\n",
    "    for _ in range(len(previous_pop)):\n",
    "        mum, dad = rng.choice(prev_individual_ids, size=2, replace=False)\n",
    "        i = tables.individuals.add_row()\n",
    "        maternal_node = tables.nodes.add_row(time=current_time, individual=i)\n",
    "        paternal_node = tables.nodes.add_row(time=current_time, individual=i)\n",
    "        temp_pop[i] = (maternal_node, paternal_node)\n",
    "\n",
    "        # Now add inheritance paths to the edges table, ignoring recombination\n",
    "        add_edges(tables, rng.permuted(previous_pop[mum]), maternal_node)\n",
    "        add_edges(tables, rng.permuted(previous_pop[dad]), paternal_node)\n",
    "    return temp_pop\n",
    "\n",
    "def add_edges(tables, randomly_ordered_parent_nodes, child_node):\n",
    "    parent_node = randomly_ordered_parent_nodes[0]\n",
    "    tables.edges.add_row(parent=parent_node, child=child_node, left=0, right=tables.sequence_length)\n",
    "\n",
    "\n",
    "def simulate_WrightFisher(Ne, gens, seq_len=1000, simplify=True, random_seed=7):\n",
    "    flags = tskit.NODE_IS_SAMPLE\n",
    "    rng = np.random.default_rng(seed=random_seed)\n",
    "    tables = tskit.TableCollection(sequence_length=seq_len)\n",
    "    tables.time_units = \"generations\"\n",
    "\n",
    "    current_population = initialize(tables, Ne, gens, flags)\n",
    "    while gens > 0:\n",
    "        gens = gens - 1\n",
    "        current_population = reproduce(tables, current_population, gens, rng, flags)\n",
    "\n",
    "    # reorder the nodes so that youngest are IDs 0..n\n",
    "    tables.subset(np.arange(tables.nodes.num_rows)[::-1])\n",
    "    tables.sort()  # Sort edges into canonical order, required for converting to a tree seq\n",
    "\n",
    "    if simplify:\n",
    "        tables.simplify(np.flatnonzero(tables.nodes.time == 0))\n",
    "    return tables.tree_sequence()"
   ]
  },
  {
   "cell_type": "code",
   "execution_count": 7,
   "id": "9915103d-0331-4381-b420-1e6bf62736e4",
   "metadata": {},
   "outputs": [
    {
     "data": {
      "image/svg+xml": [
       "<svg xmlns=\"http://www.w3.org/2000/svg\" xmlns:ev=\"http://www.w3.org/2001/xml-events\" xmlns:xlink=\"http://www.w3.org/1999/xlink\" baseProfile=\"full\" height=\"250\" version=\"1.1\" width=\"500\"><defs><style type=\"text/css\"><![CDATA[.background path {fill: #808080; fill-opacity: 0}.background path:nth-child(odd) {fill-opacity: .1}.axes {font-size: 14px}.x-axis .tick .lab {font-weight: bold; dominant-baseline: hanging}.axes, .tree {font-size: 14px; text-anchor: middle}.axes line, .edge {stroke: black; fill: none}.axes .ax-skip {stroke-dasharray: 4}.y-axis .grid {stroke: #FAFAFA}.node > .sym {fill: black; stroke: none}.site > .sym {stroke: black}.mut text {fill: red; font-style: italic}.mut.extra text {fill: hotpink}.mut line {fill: none; stroke: none}.mut .sym {fill: none; stroke: red}.mut.extra .sym {stroke: hotpink}.node .mut .sym {stroke-width: 1.5px}.tree text, .tree-sequence text {dominant-baseline: central}.plotbox .lab.lft {text-anchor: end}.plotbox .lab.rgt {text-anchor: start}]]></style></defs><g class=\"tree-sequence\"><g class=\"background\"><path d=\"M56.8,0 l423.2,0 l0,188.2 l0,25 l0,5 l-423.2,0 l0,-5 l0,-25 l0,-188.2z\"/></g><g class=\"axes\"><g class=\"x-axis\"><g class=\"title\" transform=\"translate(268.4 250)\"><text class=\"lab\" text-anchor=\"middle\" transform=\"translate(0 -11)\">Genome position</text></g><line class=\"ax-line\" x1=\"56.8\" x2=\"480\" y1=\"213.2\" y2=\"213.2\"/><g class=\"ticks\"><g class=\"tick\" transform=\"translate(56.8 213.2)\"><line x1=\"0\" x2=\"0\" y1=\"0\" y2=\"5\"/><g transform=\"translate(0 6)\"><text class=\"lab\">0</text></g></g><g class=\"tick\" transform=\"translate(480 213.2)\"><line x1=\"0\" x2=\"0\" y1=\"0\" y2=\"5\"/><g transform=\"translate(0 6)\"><text class=\"lab\">1000</text></g></g></g></g><g class=\"y-axis\"><g class=\"title\" transform=\"translate(0 90.7)\"><text class=\"lab\" text-anchor=\"middle\" transform=\"translate(11) rotate(-90)\">Time (generations)</text></g><line class=\"ax-line\" x1=\"56.8\" x2=\"56.8\" y1=\"171.4\" y2=\"10\"/><g class=\"ticks\"><g class=\"tick\" transform=\"translate(56.8 171.4)\"><line x1=\"0\" x2=\"-5\" y1=\"0\" y2=\"0\"/><g transform=\"translate(-6 0)\"><text class=\"lab\" text-anchor=\"end\">0</text></g></g><g class=\"tick\" transform=\"translate(56.8 165.838)\"><line x1=\"0\" x2=\"-5\" y1=\"0\" y2=\"0\"/><g transform=\"translate(-6 0)\"><text class=\"lab\" text-anchor=\"end\">1</text></g></g><g class=\"tick\" transform=\"translate(56.8 160.277)\"><line x1=\"0\" x2=\"-5\" y1=\"0\" y2=\"0\"/><g transform=\"translate(-6 0)\"><text class=\"lab\" text-anchor=\"end\">2</text></g></g><g class=\"tick\" transform=\"translate(56.8 154.715)\"><line x1=\"0\" x2=\"-5\" y1=\"0\" y2=\"0\"/><g transform=\"translate(-6 0)\"><text class=\"lab\" text-anchor=\"end\">3</text></g></g><g class=\"tick\" transform=\"translate(56.8 143.592)\"><line x1=\"0\" x2=\"-5\" y1=\"0\" y2=\"0\"/><g transform=\"translate(-6 0)\"><text class=\"lab\" text-anchor=\"end\">5</text></g></g><g class=\"tick\" transform=\"translate(56.8 115.785)\"><line x1=\"0\" x2=\"-5\" y1=\"0\" y2=\"0\"/><g transform=\"translate(-6 0)\"><text class=\"lab\" text-anchor=\"end\">10</text></g></g><g class=\"tick\" transform=\"translate(56.8 110.223)\"><line x1=\"0\" x2=\"-5\" y1=\"0\" y2=\"0\"/><g transform=\"translate(-6 0)\"><text class=\"lab\" text-anchor=\"end\">11</text></g></g><g class=\"tick\" transform=\"translate(56.8 60.1692)\"><line x1=\"0\" x2=\"-5\" y1=\"0\" y2=\"0\"/><g transform=\"translate(-6 0)\"><text class=\"lab\" text-anchor=\"end\">20</text></g></g><g class=\"tick\" transform=\"translate(56.8 26.8)\"><line x1=\"0\" x2=\"-5\" y1=\"0\" y2=\"0\"/><g transform=\"translate(-6 0)\"><text class=\"lab\" text-anchor=\"end\">26</text></g></g></g></g></g><g class=\"plotbox trees\"><g class=\"tree t0\" transform=\"translate(56.8 0)\"><g class=\"plotbox\"><g class=\"c2 i0 node n35 root\" transform=\"translate(185.854 26.8)\"><g class=\"a35 c2 i2 node n33\" transform=\"translate(101.189 83.4231)\"><g class=\"a33 c2 i5 node n30\" transform=\"translate(73.0475 44.4923)\"><g class=\"a30 c2 i9 node n26\" transform=\"translate(23.95 5.56154)\"><g class=\"a26 i22 leaf node n4 sample\" transform=\"translate(-9.58 11.1231)\"><path class=\"edge\" d=\"M 0 0 V -11.1231 H 9.58\"/><rect class=\"sym\" height=\"6\" width=\"6\" x=\"-3\" y=\"-3\"/><text class=\"lab\" transform=\"translate(0 11)\">4</text></g><g class=\"a26 i21 leaf node n6 sample\" transform=\"translate(9.58 11.1231)\"><path class=\"edge\" d=\"M 0 0 V -11.1231 H -9.58\"/><rect class=\"sym\" height=\"6\" width=\"6\" x=\"-3\" y=\"-3\"/><text class=\"lab\" transform=\"translate(0 11)\">6</text></g><path class=\"edge\" d=\"M 0 0 V -5.56154 H -23.95\"/><circle class=\"sym\" cx=\"0\" cy=\"0\" r=\"3\"/><text class=\"lab rgt\" transform=\"translate(3 -7.0)\">26</text></g><g class=\"a30 c2 i7 node n28\" transform=\"translate(-23.95 5.56154)\"><g class=\"a28 i22 leaf node n5 sample\" transform=\"translate(19.16 11.1231)\"><path class=\"edge\" d=\"M 0 0 V -11.1231 H -19.16\"/><rect class=\"sym\" height=\"6\" width=\"6\" x=\"-3\" y=\"-3\"/><text class=\"lab\" transform=\"translate(0 11)\">5</text></g><g class=\"a28 c3 i11 node n24\" transform=\"translate(-19.16 5.56154)\"><g class=\"a24 i23 leaf node n3 sample\" transform=\"translate(-19.16 5.56154)\"><path class=\"edge\" d=\"M 0 0 V -5.56154 H 19.16\"/><rect class=\"sym\" height=\"6\" width=\"6\" x=\"-3\" y=\"-3\"/><text class=\"lab\" transform=\"translate(0 11)\">3</text></g><g class=\"a24 i19 leaf node n10 sample\" transform=\"translate(0.0 5.56154)\"><path class=\"edge\" d=\"M 0 0 V -5.56154 H 0.0\"/><rect class=\"sym\" height=\"6\" width=\"6\" x=\"-3\" y=\"-3\"/><text class=\"lab\" transform=\"translate(0 11)\">10</text></g><g class=\"a24 i15 leaf node n19 sample\" transform=\"translate(19.16 5.56154)\"><path class=\"edge\" d=\"M 0 0 V -5.56154 H -19.16\"/><rect class=\"sym\" height=\"6\" width=\"6\" x=\"-3\" y=\"-3\"/><text class=\"lab\" transform=\"translate(0 11)\">19</text></g><path class=\"edge\" d=\"M 0 0 V -5.56154 H 19.16\"/><circle class=\"sym\" cx=\"0\" cy=\"0\" r=\"3\"/><text class=\"lab lft\" transform=\"translate(-3 -7.0)\">24</text></g><path class=\"edge\" d=\"M 0 0 V -5.56154 H 23.95\"/><circle class=\"sym\" cx=\"0\" cy=\"0\" r=\"3\"/><text class=\"lab lft\" transform=\"translate(-3 -7.0)\">28</text></g><path class=\"edge\" d=\"M 0 0 V -44.4923 H -73.0475\"/><circle class=\"sym\" cx=\"0\" cy=\"0\" r=\"3\"/><text class=\"lab rgt\" transform=\"translate(3 -7.0)\">30</text></g><g class=\"a33 c2 i4 node n31\" transform=\"translate(-73.0475 33.3692)\"><g class=\"a31 i24 leaf node n1 sample\" transform=\"translate(-31.135 27.8077)\"><path class=\"edge\" d=\"M 0 0 V -27.8077 H 31.135\"/><rect class=\"sym\" height=\"6\" width=\"6\" x=\"-3\" y=\"-3\"/><text class=\"lab\" transform=\"translate(0 11)\">1</text></g><g class=\"a31 c3 i6 node n29\" transform=\"translate(31.135 11.1231)\"><g class=\"a29 i17 leaf node n15 sample\" transform=\"translate(33.53 16.6846)\"><path class=\"edge\" d=\"M 0 0 V -16.6846 H -33.53\"/><rect class=\"sym\" height=\"6\" width=\"6\" x=\"-3\" y=\"-3\"/><text class=\"lab\" transform=\"translate(0 11)\">15</text></g><g class=\"a29 c2 i11 node n23\" transform=\"translate(4.79 11.1231)\"><g class=\"a23 i21 leaf node n7 sample\" transform=\"translate(-9.58 5.56154)\"><path class=\"edge\" d=\"M 0 0 V -5.56154 H 9.58\"/><rect class=\"sym\" height=\"6\" width=\"6\" x=\"-3\" y=\"-3\"/><text class=\"lab\" transform=\"translate(0 11)\">7</text></g><g class=\"a23 i18 leaf node n12 sample\" transform=\"translate(9.58 5.56154)\"><path class=\"edge\" d=\"M 0 0 V -5.56154 H -9.58\"/><rect class=\"sym\" height=\"6\" width=\"6\" x=\"-3\" y=\"-3\"/><text class=\"lab\" transform=\"translate(0 11)\">12</text></g><path class=\"edge\" d=\"M 0 0 V -11.1231 H -4.79\"/><circle class=\"sym\" cx=\"0\" cy=\"0\" r=\"3\"/><text class=\"lab rgt\" transform=\"translate(3 -7.0)\">23</text></g><g class=\"a29 c2 i10 node n25\" transform=\"translate(-33.53 5.56154)\"><g class=\"a25 i23 leaf node n2 sample\" transform=\"translate(-9.58 11.1231)\"><path class=\"edge\" d=\"M 0 0 V -11.1231 H 9.58\"/><rect class=\"sym\" height=\"6\" width=\"6\" x=\"-3\" y=\"-3\"/><text class=\"lab\" transform=\"translate(0 11)\">2</text></g><g class=\"a25 i20 leaf node n9 sample\" transform=\"translate(9.58 11.1231)\"><path class=\"edge\" d=\"M 0 0 V -11.1231 H -9.58\"/><rect class=\"sym\" height=\"6\" width=\"6\" x=\"-3\" y=\"-3\"/><text class=\"lab\" transform=\"translate(0 11)\">9</text></g><path class=\"edge\" d=\"M 0 0 V -5.56154 H 33.53\"/><circle class=\"sym\" cx=\"0\" cy=\"0\" r=\"3\"/><text class=\"lab lft\" transform=\"translate(-3 -7.0)\">25</text></g><path class=\"edge\" d=\"M 0 0 V -11.1231 H -31.135\"/><circle class=\"sym\" cx=\"0\" cy=\"0\" r=\"3\"/><text class=\"lab rgt\" transform=\"translate(3 -7.0)\">29</text></g><path class=\"edge\" d=\"M 0 0 V -33.3692 H 73.0475\"/><circle class=\"sym\" cx=\"0\" cy=\"0\" r=\"3\"/><text class=\"lab lft\" transform=\"translate(-3 -7.0)\">31</text></g><path class=\"edge\" d=\"M 0 0 V -83.4231 H -101.189\"/><circle class=\"sym\" cx=\"0\" cy=\"0\" r=\"3\"/><text class=\"lab rgt\" transform=\"translate(3 -7.0)\">33</text></g><g class=\"a35 c2 i1 node n34\" transform=\"translate(-101.189 33.3692)\"><g class=\"a34 c2 i14 node n20\" transform=\"translate(-45.505 105.669)\"><g class=\"a20 i24 leaf node n0 sample\" transform=\"translate(-9.58 5.56154)\"><path class=\"edge\" d=\"M 0 0 V -5.56154 H 9.58\"/><rect class=\"sym\" height=\"6\" width=\"6\" x=\"-3\" y=\"-3\"/><text class=\"lab\" transform=\"translate(0 11)\">0</text></g><g class=\"a20 i15 leaf node n18 sample\" transform=\"translate(9.58 5.56154)\"><path class=\"edge\" d=\"M 0 0 V -5.56154 H -9.58\"/><rect class=\"sym\" height=\"6\" width=\"6\" x=\"-3\" y=\"-3\"/><text class=\"lab\" transform=\"translate(0 11)\">18</text></g><path class=\"edge\" d=\"M 0 0 V -105.669 H 45.505\"/><circle class=\"sym\" cx=\"0\" cy=\"0\" r=\"3\"/><text class=\"lab lft\" transform=\"translate(-3 -7.0)\">20</text></g><g class=\"a34 c2 i3 node n32\" transform=\"translate(45.505 55.6154)\"><g class=\"a32 c2 i12 node n22\" transform=\"translate(23.95 50.0538)\"><g class=\"a22 i19 leaf node n11 sample\" transform=\"translate(-9.58 5.56154)\"><path class=\"edge\" d=\"M 0 0 V -5.56154 H 9.58\"/><rect class=\"sym\" height=\"6\" width=\"6\" x=\"-3\" y=\"-3\"/><text class=\"lab\" transform=\"translate(0 11)\">11</text></g><g class=\"a22 i16 leaf node n17 sample\" transform=\"translate(9.58 5.56154)\"><path class=\"edge\" d=\"M 0 0 V -5.56154 H -9.58\"/><rect class=\"sym\" height=\"6\" width=\"6\" x=\"-3\" y=\"-3\"/><text class=\"lab\" transform=\"translate(0 11)\">17</text></g><path class=\"edge\" d=\"M 0 0 V -50.0538 H -23.95\"/><circle class=\"sym\" cx=\"0\" cy=\"0\" r=\"3\"/><text class=\"lab rgt\" transform=\"translate(3 -7.0)\">22</text></g><g class=\"a32 c2 i8 node n27\" transform=\"translate(-23.95 44.4923)\"><g class=\"a27 i18 leaf node n13 sample\" transform=\"translate(19.16 11.1231)\"><path class=\"edge\" d=\"M 0 0 V -11.1231 H -19.16\"/><rect class=\"sym\" height=\"6\" width=\"6\" x=\"-3\" y=\"-3\"/><text class=\"lab\" transform=\"translate(0 11)\">13</text></g><g class=\"a27 c3 i13 node n21\" transform=\"translate(-19.16 5.56154)\"><g class=\"a21 i20 leaf node n8 sample\" transform=\"translate(-19.16 5.56154)\"><path class=\"edge\" d=\"M 0 0 V -5.56154 H 19.16\"/><rect class=\"sym\" height=\"6\" width=\"6\" x=\"-3\" y=\"-3\"/><text class=\"lab\" transform=\"translate(0 11)\">8</text></g><g class=\"a21 i17 leaf node n14 sample\" transform=\"translate(0.0 5.56154)\"><path class=\"edge\" d=\"M 0 0 V -5.56154 H 0.0\"/><rect class=\"sym\" height=\"6\" width=\"6\" x=\"-3\" y=\"-3\"/><text class=\"lab\" transform=\"translate(0 11)\">14</text></g><g class=\"a21 i16 leaf node n16 sample\" transform=\"translate(19.16 5.56154)\"><path class=\"edge\" d=\"M 0 0 V -5.56154 H -19.16\"/><rect class=\"sym\" height=\"6\" width=\"6\" x=\"-3\" y=\"-3\"/><text class=\"lab\" transform=\"translate(0 11)\">16</text></g><path class=\"edge\" d=\"M 0 0 V -5.56154 H 19.16\"/><circle class=\"sym\" cx=\"0\" cy=\"0\" r=\"3\"/><text class=\"lab lft\" transform=\"translate(-3 -7.0)\">21</text></g><path class=\"edge\" d=\"M 0 0 V -44.4923 H 23.95\"/><circle class=\"sym\" cx=\"0\" cy=\"0\" r=\"3\"/><text class=\"lab lft\" transform=\"translate(-3 -7.0)\">27</text></g><path class=\"edge\" d=\"M 0 0 V -55.6154 H -45.505\"/><circle class=\"sym\" cx=\"0\" cy=\"0\" r=\"3\"/><text class=\"lab rgt\" transform=\"translate(3 -7.0)\">32</text></g><path class=\"edge\" d=\"M 0 0 V -33.3692 H 101.189\"/><circle class=\"sym\" cx=\"0\" cy=\"0\" r=\"3\"/><text class=\"lab lft\" transform=\"translate(-3 -7.0)\">34</text></g><circle class=\"sym\" cx=\"0\" cy=\"0\" r=\"3\"/><text class=\"lab\" transform=\"translate(0 -11)\">35</text></g></g></g></g></g></svg>"
      ],
      "text/plain": [
       "<IPython.core.display.SVG object>"
      ]
     },
     "execution_count": 7,
     "metadata": {},
     "output_type": "execute_result"
    }
   ],
   "source": [
    "from IPython.display import SVG\n",
    "ts = simulate_WrightFisher(Ne=10, gens=50)\n",
    "SVG(ts.draw_svg(size=(500, 250), y_axis=True))"
   ]
  },
  {
   "cell_type": "markdown",
   "id": "92db51fc-bfa6-4b52-b745-d6d590de51bf",
   "metadata": {},
   "source": [
    "## Getting a tree\n",
    "\n",
    "Tskit excels in encoding multiple correlated trees along the genome, and there are various ways to extract these trees from a tree sequence object. Here the base pairs from 0..1000 all share the same ancestry, shown by the fact that there is only one tree. This tree can be extracted using `ts.first()`:"
   ]
  },
  {
   "cell_type": "code",
   "execution_count": 8,
   "id": "5a784187-cac5-4a36-ac12-e43fd3c7e8c7",
   "metadata": {},
   "outputs": [
    {
     "name": "stdout",
     "output_type": "stream",
     "text": [
      "First of 1 tree(s) in the tree sequence\n"
     ]
    },
    {
     "data": {
      "text/html": [
       "\n",
       "            <div>\n",
       "              <style>\n",
       "                .tskit-table thead tr th {text-align: left;padding: 0.5em 0.5em;}\n",
       "                .tskit-table tbody tr td {padding: 0.5em 0.5em;}\n",
       "                .tskit-table tbody tr td:first-of-type {text-align: left;}\n",
       "                .tskit-details-label {vertical-align: top; padding-right:5px;}\n",
       "                .tskit-table-set {display: inline-flex;flex-wrap: wrap;margin: -12px 0 0 -12px;width: calc(100% + 12px);}\n",
       "                .tskit-table-set-table {margin: 12px 0 0 12px;}\n",
       "                details {display: inline-block;}\n",
       "                summary {cursor: pointer; outline: 0; display: list-item;}\n",
       "              </style>\n",
       "              <div class=\"tskit-table-set\">\n",
       "                <div class=\"tskit-table-set-table\">\n",
       "                  <table class=\"tskit-table\">\n",
       "                    <thead>\n",
       "                      <tr>\n",
       "                        <th style=\"padding:0;line-height:21px;\">\n",
       "                          <img style=\"height: 32px;display: inline-block;padding: 3px 5px 3px 0;\" src=\"https://raw.githubusercontent.com/tskit-dev/administrative/main/tskit_logo.svg\"/>\n",
       "                          <a target=\"_blank\" href=\"https://tskit.dev/tskit/docs/latest/python-api.html#the-tree-class\"> Tree </a>\n",
       "                        </th>\n",
       "                      </tr>\n",
       "                    </thead>\n",
       "                    <tbody>\n",
       "                      <tr><td>Index</td><td>0</td></tr>\n",
       "                      <tr><td>Interval</td><td>0-1000 (1000)</td></tr>\n",
       "                      <tr><td>Roots</td><td>1</td></tr>\n",
       "                      <tr><td>Nodes</td><td>36</td></tr>\n",
       "                      <tr><td>Sites</td><td>0</td></tr>\n",
       "                      <tr><td>Mutations</td><td>0</td></tr>\n",
       "                      <tr><td>Total Branch Length</td><td>122</td></tr>\n",
       "                    </tbody>\n",
       "                  </table>\n",
       "                </div>\n",
       "              </div>\n",
       "            </div>\n",
       "            "
      ],
      "text/plain": [
       "<tskit.trees.Tree at 0x10f2fb5f0>"
      ]
     },
     "metadata": {},
     "output_type": "display_data"
    }
   ],
   "source": [
    "tree = ts.first()\n",
    "print(f\"First of {ts.num_trees} tree(s) in the tree sequence\")\n",
    "display(tree)"
   ]
  },
  {
   "cell_type": "markdown",
   "id": "19bbbfc9-5721-4e96-8fdf-67616f1985ec",
   "metadata": {},
   "source": [
    "Like a tree sequence, a _tskit_ `tree` has lots of useful methods. Given a set of node IDs, the `mrca()` and `tmrca()` methods return the ID of the most recent common ancestor (MRCA) node and the time of that node ($T_{\\mathrm{MRCA}}$) respectively. For instance, let's look at the MRCA of nodes 18 and 19:"
   ]
  },
  {
   "cell_type": "code",
   "execution_count": 9,
   "id": "2184da7f-e4e1-4ec1-9329-3d96d798e114",
   "metadata": {},
   "outputs": [
    {
     "name": "stdout",
     "output_type": "stream",
     "text": [
      "Node 34, the most recent common ancestor of nodes 18 and 19 lived 20.0 generations ago\n"
     ]
    },
    {
     "data": {
      "image/svg+xml": [
       "<svg xmlns=\"http://www.w3.org/2000/svg\" xmlns:ev=\"http://www.w3.org/2001/xml-events\" xmlns:xlink=\"http://www.w3.org/1999/xlink\" baseProfile=\"full\" height=\"250\" version=\"1.1\" width=\"500\"><defs><style type=\"text/css\"><![CDATA[.background path {fill: #808080; fill-opacity: 0}.background path:nth-child(odd) {fill-opacity: .1}.axes {font-size: 14px}.x-axis .tick .lab {font-weight: bold; dominant-baseline: hanging}.axes, .tree {font-size: 14px; text-anchor: middle}.axes line, .edge {stroke: black; fill: none}.axes .ax-skip {stroke-dasharray: 4}.y-axis .grid {stroke: #FAFAFA}.node > .sym {fill: black; stroke: none}.site > .sym {stroke: black}.mut text {fill: red; font-style: italic}.mut.extra text {fill: hotpink}.mut line {fill: none; stroke: none}.mut .sym {fill: none; stroke: red}.mut.extra .sym {stroke: hotpink}.node .mut .sym {stroke-width: 1.5px}.tree text, .tree-sequence text {dominant-baseline: central}.plotbox .lab.lft {text-anchor: end}.plotbox .lab.rgt {text-anchor: start}.n34>.sym {fill: red; r: 8px}]]></style></defs><g class=\"tree-sequence\"><g class=\"background\"><path d=\"M56.8,0 l423.2,0 l0,188.2 l0,25 l0,5 l-423.2,0 l0,-5 l0,-25 l0,-188.2z\"/></g><g class=\"axes\"><g class=\"x-axis\"><g class=\"title\" transform=\"translate(268.4 250)\"><text class=\"lab\" text-anchor=\"middle\" transform=\"translate(0 -11)\">Genome position</text></g><line class=\"ax-line\" x1=\"56.8\" x2=\"480\" y1=\"213.2\" y2=\"213.2\"/><g class=\"ticks\"><g class=\"tick\" transform=\"translate(56.8 213.2)\"><line x1=\"0\" x2=\"0\" y1=\"0\" y2=\"5\"/><g transform=\"translate(0 6)\"><text class=\"lab\">0</text></g></g><g class=\"tick\" transform=\"translate(480 213.2)\"><line x1=\"0\" x2=\"0\" y1=\"0\" y2=\"5\"/><g transform=\"translate(0 6)\"><text class=\"lab\">1000</text></g></g></g></g><g class=\"y-axis\"><g class=\"title\" transform=\"translate(0 90.7)\"><text class=\"lab\" text-anchor=\"middle\" transform=\"translate(11) rotate(-90)\">Time (generations)</text></g><line class=\"ax-line\" x1=\"56.8\" x2=\"56.8\" y1=\"171.4\" y2=\"10\"/><g class=\"ticks\"><g class=\"tick\" transform=\"translate(56.8 171.4)\"><line x1=\"0\" x2=\"-5\" y1=\"0\" y2=\"0\"/><g transform=\"translate(-6 0)\"><text class=\"lab\" text-anchor=\"end\">0</text></g></g><g class=\"tick\" transform=\"translate(56.8 165.838)\"><line x1=\"0\" x2=\"-5\" y1=\"0\" y2=\"0\"/><g transform=\"translate(-6 0)\"><text class=\"lab\" text-anchor=\"end\">1</text></g></g><g class=\"tick\" transform=\"translate(56.8 160.277)\"><line x1=\"0\" x2=\"-5\" y1=\"0\" y2=\"0\"/><g transform=\"translate(-6 0)\"><text class=\"lab\" text-anchor=\"end\">2</text></g></g><g class=\"tick\" transform=\"translate(56.8 154.715)\"><line x1=\"0\" x2=\"-5\" y1=\"0\" y2=\"0\"/><g transform=\"translate(-6 0)\"><text class=\"lab\" text-anchor=\"end\">3</text></g></g><g class=\"tick\" transform=\"translate(56.8 143.592)\"><line x1=\"0\" x2=\"-5\" y1=\"0\" y2=\"0\"/><g transform=\"translate(-6 0)\"><text class=\"lab\" text-anchor=\"end\">5</text></g></g><g class=\"tick\" transform=\"translate(56.8 115.785)\"><line x1=\"0\" x2=\"-5\" y1=\"0\" y2=\"0\"/><g transform=\"translate(-6 0)\"><text class=\"lab\" text-anchor=\"end\">10</text></g></g><g class=\"tick\" transform=\"translate(56.8 110.223)\"><line x1=\"0\" x2=\"-5\" y1=\"0\" y2=\"0\"/><g transform=\"translate(-6 0)\"><text class=\"lab\" text-anchor=\"end\">11</text></g></g><g class=\"tick\" transform=\"translate(56.8 60.1692)\"><line x1=\"0\" x2=\"-5\" y1=\"0\" y2=\"0\"/><g transform=\"translate(-6 0)\"><text class=\"lab\" text-anchor=\"end\">20</text></g></g><g class=\"tick\" transform=\"translate(56.8 26.8)\"><line x1=\"0\" x2=\"-5\" y1=\"0\" y2=\"0\"/><g transform=\"translate(-6 0)\"><text class=\"lab\" text-anchor=\"end\">26</text></g></g></g></g></g><g class=\"plotbox trees\"><g class=\"tree t0\" transform=\"translate(56.8 0)\"><g class=\"plotbox\"><g class=\"c2 i0 node n35 root\" transform=\"translate(185.854 26.8)\"><g class=\"a35 c2 i2 node n33\" transform=\"translate(101.189 83.4231)\"><g class=\"a33 c2 i5 node n30\" transform=\"translate(73.0475 44.4923)\"><g class=\"a30 c2 i9 node n26\" transform=\"translate(23.95 5.56154)\"><g class=\"a26 i22 leaf node n4 sample\" transform=\"translate(-9.58 11.1231)\"><path class=\"edge\" d=\"M 0 0 V -11.1231 H 9.58\"/><rect class=\"sym\" height=\"6\" width=\"6\" x=\"-3\" y=\"-3\"/><text class=\"lab\" transform=\"translate(0 11)\">4</text></g><g class=\"a26 i21 leaf node n6 sample\" transform=\"translate(9.58 11.1231)\"><path class=\"edge\" d=\"M 0 0 V -11.1231 H -9.58\"/><rect class=\"sym\" height=\"6\" width=\"6\" x=\"-3\" y=\"-3\"/><text class=\"lab\" transform=\"translate(0 11)\">6</text></g><path class=\"edge\" d=\"M 0 0 V -5.56154 H -23.95\"/><circle class=\"sym\" cx=\"0\" cy=\"0\" r=\"3\"/><text class=\"lab rgt\" transform=\"translate(3 -7.0)\">26</text></g><g class=\"a30 c2 i7 node n28\" transform=\"translate(-23.95 5.56154)\"><g class=\"a28 i22 leaf node n5 sample\" transform=\"translate(19.16 11.1231)\"><path class=\"edge\" d=\"M 0 0 V -11.1231 H -19.16\"/><rect class=\"sym\" height=\"6\" width=\"6\" x=\"-3\" y=\"-3\"/><text class=\"lab\" transform=\"translate(0 11)\">5</text></g><g class=\"a28 c3 i11 node n24\" transform=\"translate(-19.16 5.56154)\"><g class=\"a24 i23 leaf node n3 sample\" transform=\"translate(-19.16 5.56154)\"><path class=\"edge\" d=\"M 0 0 V -5.56154 H 19.16\"/><rect class=\"sym\" height=\"6\" width=\"6\" x=\"-3\" y=\"-3\"/><text class=\"lab\" transform=\"translate(0 11)\">3</text></g><g class=\"a24 i19 leaf node n10 sample\" transform=\"translate(0.0 5.56154)\"><path class=\"edge\" d=\"M 0 0 V -5.56154 H 0.0\"/><rect class=\"sym\" height=\"6\" width=\"6\" x=\"-3\" y=\"-3\"/><text class=\"lab\" transform=\"translate(0 11)\">10</text></g><g class=\"a24 i15 leaf node n19 sample\" transform=\"translate(19.16 5.56154)\"><path class=\"edge\" d=\"M 0 0 V -5.56154 H -19.16\"/><rect class=\"sym\" height=\"6\" width=\"6\" x=\"-3\" y=\"-3\"/><text class=\"lab\" transform=\"translate(0 11)\">19</text></g><path class=\"edge\" d=\"M 0 0 V -5.56154 H 19.16\"/><circle class=\"sym\" cx=\"0\" cy=\"0\" r=\"3\"/><text class=\"lab lft\" transform=\"translate(-3 -7.0)\">24</text></g><path class=\"edge\" d=\"M 0 0 V -5.56154 H 23.95\"/><circle class=\"sym\" cx=\"0\" cy=\"0\" r=\"3\"/><text class=\"lab lft\" transform=\"translate(-3 -7.0)\">28</text></g><path class=\"edge\" d=\"M 0 0 V -44.4923 H -73.0475\"/><circle class=\"sym\" cx=\"0\" cy=\"0\" r=\"3\"/><text class=\"lab rgt\" transform=\"translate(3 -7.0)\">30</text></g><g class=\"a33 c2 i4 node n31\" transform=\"translate(-73.0475 33.3692)\"><g class=\"a31 i24 leaf node n1 sample\" transform=\"translate(-31.135 27.8077)\"><path class=\"edge\" d=\"M 0 0 V -27.8077 H 31.135\"/><rect class=\"sym\" height=\"6\" width=\"6\" x=\"-3\" y=\"-3\"/><text class=\"lab\" transform=\"translate(0 11)\">1</text></g><g class=\"a31 c3 i6 node n29\" transform=\"translate(31.135 11.1231)\"><g class=\"a29 i17 leaf node n15 sample\" transform=\"translate(33.53 16.6846)\"><path class=\"edge\" d=\"M 0 0 V -16.6846 H -33.53\"/><rect class=\"sym\" height=\"6\" width=\"6\" x=\"-3\" y=\"-3\"/><text class=\"lab\" transform=\"translate(0 11)\">15</text></g><g class=\"a29 c2 i11 node n23\" transform=\"translate(4.79 11.1231)\"><g class=\"a23 i21 leaf node n7 sample\" transform=\"translate(-9.58 5.56154)\"><path class=\"edge\" d=\"M 0 0 V -5.56154 H 9.58\"/><rect class=\"sym\" height=\"6\" width=\"6\" x=\"-3\" y=\"-3\"/><text class=\"lab\" transform=\"translate(0 11)\">7</text></g><g class=\"a23 i18 leaf node n12 sample\" transform=\"translate(9.58 5.56154)\"><path class=\"edge\" d=\"M 0 0 V -5.56154 H -9.58\"/><rect class=\"sym\" height=\"6\" width=\"6\" x=\"-3\" y=\"-3\"/><text class=\"lab\" transform=\"translate(0 11)\">12</text></g><path class=\"edge\" d=\"M 0 0 V -11.1231 H -4.79\"/><circle class=\"sym\" cx=\"0\" cy=\"0\" r=\"3\"/><text class=\"lab rgt\" transform=\"translate(3 -7.0)\">23</text></g><g class=\"a29 c2 i10 node n25\" transform=\"translate(-33.53 5.56154)\"><g class=\"a25 i23 leaf node n2 sample\" transform=\"translate(-9.58 11.1231)\"><path class=\"edge\" d=\"M 0 0 V -11.1231 H 9.58\"/><rect class=\"sym\" height=\"6\" width=\"6\" x=\"-3\" y=\"-3\"/><text class=\"lab\" transform=\"translate(0 11)\">2</text></g><g class=\"a25 i20 leaf node n9 sample\" transform=\"translate(9.58 11.1231)\"><path class=\"edge\" d=\"M 0 0 V -11.1231 H -9.58\"/><rect class=\"sym\" height=\"6\" width=\"6\" x=\"-3\" y=\"-3\"/><text class=\"lab\" transform=\"translate(0 11)\">9</text></g><path class=\"edge\" d=\"M 0 0 V -5.56154 H 33.53\"/><circle class=\"sym\" cx=\"0\" cy=\"0\" r=\"3\"/><text class=\"lab lft\" transform=\"translate(-3 -7.0)\">25</text></g><path class=\"edge\" d=\"M 0 0 V -11.1231 H -31.135\"/><circle class=\"sym\" cx=\"0\" cy=\"0\" r=\"3\"/><text class=\"lab rgt\" transform=\"translate(3 -7.0)\">29</text></g><path class=\"edge\" d=\"M 0 0 V -33.3692 H 73.0475\"/><circle class=\"sym\" cx=\"0\" cy=\"0\" r=\"3\"/><text class=\"lab lft\" transform=\"translate(-3 -7.0)\">31</text></g><path class=\"edge\" d=\"M 0 0 V -83.4231 H -101.189\"/><circle class=\"sym\" cx=\"0\" cy=\"0\" r=\"3\"/><text class=\"lab rgt\" transform=\"translate(3 -7.0)\">33</text></g><g class=\"a35 c2 i1 node n34\" transform=\"translate(-101.189 33.3692)\"><g class=\"a34 c2 i14 node n20\" transform=\"translate(-45.505 105.669)\"><g class=\"a20 i24 leaf node n0 sample\" transform=\"translate(-9.58 5.56154)\"><path class=\"edge\" d=\"M 0 0 V -5.56154 H 9.58\"/><rect class=\"sym\" height=\"6\" width=\"6\" x=\"-3\" y=\"-3\"/><text class=\"lab\" transform=\"translate(0 11)\">0</text></g><g class=\"a20 i15 leaf node n18 sample\" transform=\"translate(9.58 5.56154)\"><path class=\"edge\" d=\"M 0 0 V -5.56154 H -9.58\"/><rect class=\"sym\" height=\"6\" width=\"6\" x=\"-3\" y=\"-3\"/><text class=\"lab\" transform=\"translate(0 11)\">18</text></g><path class=\"edge\" d=\"M 0 0 V -105.669 H 45.505\"/><circle class=\"sym\" cx=\"0\" cy=\"0\" r=\"3\"/><text class=\"lab lft\" transform=\"translate(-3 -7.0)\">20</text></g><g class=\"a34 c2 i3 node n32\" transform=\"translate(45.505 55.6154)\"><g class=\"a32 c2 i12 node n22\" transform=\"translate(23.95 50.0538)\"><g class=\"a22 i19 leaf node n11 sample\" transform=\"translate(-9.58 5.56154)\"><path class=\"edge\" d=\"M 0 0 V -5.56154 H 9.58\"/><rect class=\"sym\" height=\"6\" width=\"6\" x=\"-3\" y=\"-3\"/><text class=\"lab\" transform=\"translate(0 11)\">11</text></g><g class=\"a22 i16 leaf node n17 sample\" transform=\"translate(9.58 5.56154)\"><path class=\"edge\" d=\"M 0 0 V -5.56154 H -9.58\"/><rect class=\"sym\" height=\"6\" width=\"6\" x=\"-3\" y=\"-3\"/><text class=\"lab\" transform=\"translate(0 11)\">17</text></g><path class=\"edge\" d=\"M 0 0 V -50.0538 H -23.95\"/><circle class=\"sym\" cx=\"0\" cy=\"0\" r=\"3\"/><text class=\"lab rgt\" transform=\"translate(3 -7.0)\">22</text></g><g class=\"a32 c2 i8 node n27\" transform=\"translate(-23.95 44.4923)\"><g class=\"a27 i18 leaf node n13 sample\" transform=\"translate(19.16 11.1231)\"><path class=\"edge\" d=\"M 0 0 V -11.1231 H -19.16\"/><rect class=\"sym\" height=\"6\" width=\"6\" x=\"-3\" y=\"-3\"/><text class=\"lab\" transform=\"translate(0 11)\">13</text></g><g class=\"a27 c3 i13 node n21\" transform=\"translate(-19.16 5.56154)\"><g class=\"a21 i20 leaf node n8 sample\" transform=\"translate(-19.16 5.56154)\"><path class=\"edge\" d=\"M 0 0 V -5.56154 H 19.16\"/><rect class=\"sym\" height=\"6\" width=\"6\" x=\"-3\" y=\"-3\"/><text class=\"lab\" transform=\"translate(0 11)\">8</text></g><g class=\"a21 i17 leaf node n14 sample\" transform=\"translate(0.0 5.56154)\"><path class=\"edge\" d=\"M 0 0 V -5.56154 H 0.0\"/><rect class=\"sym\" height=\"6\" width=\"6\" x=\"-3\" y=\"-3\"/><text class=\"lab\" transform=\"translate(0 11)\">14</text></g><g class=\"a21 i16 leaf node n16 sample\" transform=\"translate(19.16 5.56154)\"><path class=\"edge\" d=\"M 0 0 V -5.56154 H -19.16\"/><rect class=\"sym\" height=\"6\" width=\"6\" x=\"-3\" y=\"-3\"/><text class=\"lab\" transform=\"translate(0 11)\">16</text></g><path class=\"edge\" d=\"M 0 0 V -5.56154 H 19.16\"/><circle class=\"sym\" cx=\"0\" cy=\"0\" r=\"3\"/><text class=\"lab lft\" transform=\"translate(-3 -7.0)\">21</text></g><path class=\"edge\" d=\"M 0 0 V -44.4923 H 23.95\"/><circle class=\"sym\" cx=\"0\" cy=\"0\" r=\"3\"/><text class=\"lab lft\" transform=\"translate(-3 -7.0)\">27</text></g><path class=\"edge\" d=\"M 0 0 V -55.6154 H -45.505\"/><circle class=\"sym\" cx=\"0\" cy=\"0\" r=\"3\"/><text class=\"lab rgt\" transform=\"translate(3 -7.0)\">32</text></g><path class=\"edge\" d=\"M 0 0 V -33.3692 H 101.189\"/><circle class=\"sym\" cx=\"0\" cy=\"0\" r=\"3\"/><text class=\"lab lft\" transform=\"translate(-3 -7.0)\">34</text></g><circle class=\"sym\" cx=\"0\" cy=\"0\" r=\"3\"/><text class=\"lab\" transform=\"translate(0 -11)\">35</text></g></g></g></g></g></svg>"
      ],
      "text/plain": [
       "<IPython.core.display.SVG object>"
      ]
     },
     "execution_count": 9,
     "metadata": {},
     "output_type": "execute_result"
    }
   ],
   "source": [
    "mrca_id = tree.mrca(17, 18)\n",
    "mrca_time = tree.tmrca(17, 18)\n",
    "print(\n",
    "    f\"Node {mrca_id}, the most recent common ancestor of nodes 18 and 19\",\n",
    "    f\"lived {mrca_time} {ts.time_units} ago\",\n",
    ")\n",
    "\n",
    "# Highlight it!\n",
    "SVG(ts.draw_svg(size=(500, 250), y_axis=True, style=f\".n{mrca_id}>.sym {{fill: red; r: 8px}}\"))"
   ]
  },
  {
   "cell_type": "markdown",
   "id": "e89a9624-332c-49f9-b27a-6c7c2010aded",
   "metadata": {},
   "source": [
    "Note, however, if we remove all the ancestry older than a given time (known as `decapitating` a tree sequence!), we might not have an MRCA between two nodes, in which case the `mrca` function will return a null value (_tskit_ uses -1 as the null ID). The resulting tree sequence will have [multiple roots](https://tskit.dev/tskit/docs/stable/data-model.html#roots), visualised as below:"
   ]
  },
  {
   "cell_type": "code",
   "execution_count": 10,
   "id": "74543819-936b-4851-bda8-a171f219c22c",
   "metadata": {},
   "outputs": [
    {
     "name": "stdout",
     "output_type": "stream",
     "text": [
      "The MRCA ID between node 18 and 19 in the decapitated tree sequence is -1\n"
     ]
    },
    {
     "data": {
      "image/svg+xml": [
       "<svg xmlns=\"http://www.w3.org/2000/svg\" xmlns:ev=\"http://www.w3.org/2001/xml-events\" xmlns:xlink=\"http://www.w3.org/1999/xlink\" baseProfile=\"full\" height=\"250\" version=\"1.1\" width=\"500\"><defs><style type=\"text/css\"><![CDATA[.background path {fill: #808080; fill-opacity: 0}.background path:nth-child(odd) {fill-opacity: .1}.axes {font-size: 14px}.x-axis .tick .lab {font-weight: bold; dominant-baseline: hanging}.axes, .tree {font-size: 14px; text-anchor: middle}.axes line, .edge {stroke: black; fill: none}.axes .ax-skip {stroke-dasharray: 4}.y-axis .grid {stroke: #FAFAFA}.node > .sym {fill: black; stroke: none}.site > .sym {stroke: black}.mut text {fill: red; font-style: italic}.mut.extra text {fill: hotpink}.mut line {fill: none; stroke: none}.mut .sym {fill: none; stroke: red}.mut.extra .sym {stroke: hotpink}.node .mut .sym {stroke-width: 1.5px}.tree text, .tree-sequence text {dominant-baseline: central}.plotbox .lab.lft {text-anchor: end}.plotbox .lab.rgt {text-anchor: start}]]></style></defs><g class=\"tree-sequence\"><g class=\"background\"><path d=\"M56.8,0 l423.2,0 l0,188.2 l0,25 l0,5 l-423.2,0 l0,-5 l0,-25 l0,-188.2z\"/></g><g class=\"axes\"><g class=\"x-axis\"><g class=\"title\" transform=\"translate(268.4 250)\"><text class=\"lab\" text-anchor=\"middle\" transform=\"translate(0 -11)\">Genome position</text></g><line class=\"ax-line\" x1=\"56.8\" x2=\"480\" y1=\"213.2\" y2=\"213.2\"/><g class=\"ticks\"><g class=\"tick\" transform=\"translate(56.8 213.2)\"><line x1=\"0\" x2=\"0\" y1=\"0\" y2=\"5\"/><g transform=\"translate(0 6)\"><text class=\"lab\">0</text></g></g><g class=\"tick\" transform=\"translate(480 213.2)\"><line x1=\"0\" x2=\"0\" y1=\"0\" y2=\"5\"/><g transform=\"translate(0 6)\"><text class=\"lab\">1000</text></g></g></g></g><g class=\"y-axis\"><g class=\"title\" transform=\"translate(0 90.7)\"><text class=\"lab\" text-anchor=\"middle\" transform=\"translate(11) rotate(-90)\">Time (generations)</text></g><line class=\"ax-line\" x1=\"56.8\" x2=\"56.8\" y1=\"171.4\" y2=\"10\"/><g class=\"ticks\"><g class=\"tick\" transform=\"translate(56.8 171.4)\"><line x1=\"0\" x2=\"-5\" y1=\"0\" y2=\"0\"/><g transform=\"translate(-6 0)\"><text class=\"lab\" text-anchor=\"end\">0</text></g></g><g class=\"tick\" transform=\"translate(56.8 156.94)\"><line x1=\"0\" x2=\"-5\" y1=\"0\" y2=\"0\"/><g transform=\"translate(-6 0)\"><text class=\"lab\" text-anchor=\"end\">1</text></g></g><g class=\"tick\" transform=\"translate(56.8 142.48)\"><line x1=\"0\" x2=\"-5\" y1=\"0\" y2=\"0\"/><g transform=\"translate(-6 0)\"><text class=\"lab\" text-anchor=\"end\">2</text></g></g><g class=\"tick\" transform=\"translate(56.8 128.02)\"><line x1=\"0\" x2=\"-5\" y1=\"0\" y2=\"0\"/><g transform=\"translate(-6 0)\"><text class=\"lab\" text-anchor=\"end\">3</text></g></g><g class=\"tick\" transform=\"translate(56.8 99.1)\"><line x1=\"0\" x2=\"-5\" y1=\"0\" y2=\"0\"/><g transform=\"translate(-6 0)\"><text class=\"lab\" text-anchor=\"end\">5</text></g></g><g class=\"tick\" transform=\"translate(56.8 26.8)\"><line x1=\"0\" x2=\"-5\" y1=\"0\" y2=\"0\"/><g transform=\"translate(-6 0)\"><text class=\"lab\" text-anchor=\"end\">10</text></g></g></g></g></g><g class=\"plotbox trees\"><g class=\"tree t0\" transform=\"translate(56.8 0)\"><g class=\"plotbox\"><g class=\"c2 i3 node n32 root\" transform=\"translate(91.85 26.8)\"><g class=\"a32 c2 i12 node n22\" transform=\"translate(23.95 130.14)\"><g class=\"a22 i19 leaf node n11 sample\" transform=\"translate(-9.58 14.46)\"><path class=\"edge\" d=\"M 0 0 V -14.46 H 9.58\"/><rect class=\"sym\" height=\"6\" width=\"6\" x=\"-3\" y=\"-3\"/><text class=\"lab\" transform=\"translate(0 11)\">11</text></g><g class=\"a22 i16 leaf node n17 sample\" transform=\"translate(9.58 14.46)\"><path class=\"edge\" d=\"M 0 0 V -14.46 H -9.58\"/><rect class=\"sym\" height=\"6\" width=\"6\" x=\"-3\" y=\"-3\"/><text class=\"lab\" transform=\"translate(0 11)\">17</text></g><path class=\"edge\" d=\"M 0 0 V -130.14 H -23.95\"/><circle class=\"sym\" cx=\"0\" cy=\"0\" r=\"3\"/><text class=\"lab rgt\" transform=\"translate(3 -7.0)\">22</text></g><g class=\"a32 c2 i8 node n27\" transform=\"translate(-23.95 115.68)\"><g class=\"a27 i18 leaf node n13 sample\" transform=\"translate(19.16 28.92)\"><path class=\"edge\" d=\"M 0 0 V -28.92 H -19.16\"/><rect class=\"sym\" height=\"6\" width=\"6\" x=\"-3\" y=\"-3\"/><text class=\"lab\" transform=\"translate(0 11)\">13</text></g><g class=\"a27 c3 i13 node n21\" transform=\"translate(-19.16 14.46)\"><g class=\"a21 i20 leaf node n8 sample\" transform=\"translate(-19.16 14.46)\"><path class=\"edge\" d=\"M 0 0 V -14.46 H 19.16\"/><rect class=\"sym\" height=\"6\" width=\"6\" x=\"-3\" y=\"-3\"/><text class=\"lab\" transform=\"translate(0 11)\">8</text></g><g class=\"a21 i17 leaf node n14 sample\" transform=\"translate(0.0 14.46)\"><path class=\"edge\" d=\"M 0 0 V -14.46 H 0.0\"/><rect class=\"sym\" height=\"6\" width=\"6\" x=\"-3\" y=\"-3\"/><text class=\"lab\" transform=\"translate(0 11)\">14</text></g><g class=\"a21 i16 leaf node n16 sample\" transform=\"translate(19.16 14.46)\"><path class=\"edge\" d=\"M 0 0 V -14.46 H -19.16\"/><rect class=\"sym\" height=\"6\" width=\"6\" x=\"-3\" y=\"-3\"/><text class=\"lab\" transform=\"translate(0 11)\">16</text></g><path class=\"edge\" d=\"M 0 0 V -14.46 H 19.16\"/><circle class=\"sym\" cx=\"0\" cy=\"0\" r=\"3\"/><text class=\"lab lft\" transform=\"translate(-3 -7.0)\">21</text></g><path class=\"edge\" d=\"M 0 0 V -115.68 H 23.95\"/><circle class=\"sym\" cx=\"0\" cy=\"0\" r=\"3\"/><text class=\"lab lft\" transform=\"translate(-3 -7.0)\">27</text></g><circle class=\"sym\" cx=\"0\" cy=\"0\" r=\"3\"/><text class=\"lab\" transform=\"translate(0 -11)\">32</text></g><g class=\"c1 node n36 root\" transform=\"translate(206.81 26.8)\"><g class=\"a36 c2 i5 node n30\" transform=\"translate(0.0 101.22)\"><g class=\"a30 c2 i9 node n26\" transform=\"translate(23.95 14.46)\"><g class=\"a26 i22 leaf node n4 sample\" transform=\"translate(-9.58 28.92)\"><path class=\"edge\" d=\"M 0 0 V -28.92 H 9.58\"/><rect class=\"sym\" height=\"6\" width=\"6\" x=\"-3\" y=\"-3\"/><text class=\"lab\" transform=\"translate(0 11)\">4</text></g><g class=\"a26 i21 leaf node n6 sample\" transform=\"translate(9.58 28.92)\"><path class=\"edge\" d=\"M 0 0 V -28.92 H -9.58\"/><rect class=\"sym\" height=\"6\" width=\"6\" x=\"-3\" y=\"-3\"/><text class=\"lab\" transform=\"translate(0 11)\">6</text></g><path class=\"edge\" d=\"M 0 0 V -14.46 H -23.95\"/><circle class=\"sym\" cx=\"0\" cy=\"0\" r=\"3\"/><text class=\"lab rgt\" transform=\"translate(3 -7.0)\">26</text></g><g class=\"a30 c2 i7 node n28\" transform=\"translate(-23.95 14.46)\"><g class=\"a28 i22 leaf node n5 sample\" transform=\"translate(19.16 28.92)\"><path class=\"edge\" d=\"M 0 0 V -28.92 H -19.16\"/><rect class=\"sym\" height=\"6\" width=\"6\" x=\"-3\" y=\"-3\"/><text class=\"lab\" transform=\"translate(0 11)\">5</text></g><g class=\"a28 c3 i11 node n24\" transform=\"translate(-19.16 14.46)\"><g class=\"a24 i23 leaf node n3 sample\" transform=\"translate(-19.16 14.46)\"><path class=\"edge\" d=\"M 0 0 V -14.46 H 19.16\"/><rect class=\"sym\" height=\"6\" width=\"6\" x=\"-3\" y=\"-3\"/><text class=\"lab\" transform=\"translate(0 11)\">3</text></g><g class=\"a24 i19 leaf node n10 sample\" transform=\"translate(0.0 14.46)\"><path class=\"edge\" d=\"M 0 0 V -14.46 H 0.0\"/><rect class=\"sym\" height=\"6\" width=\"6\" x=\"-3\" y=\"-3\"/><text class=\"lab\" transform=\"translate(0 11)\">10</text></g><g class=\"a24 i15 leaf node n19 sample\" transform=\"translate(19.16 14.46)\"><path class=\"edge\" d=\"M 0 0 V -14.46 H -19.16\"/><rect class=\"sym\" height=\"6\" width=\"6\" x=\"-3\" y=\"-3\"/><text class=\"lab\" transform=\"translate(0 11)\">19</text></g><path class=\"edge\" d=\"M 0 0 V -14.46 H 19.16\"/><circle class=\"sym\" cx=\"0\" cy=\"0\" r=\"3\"/><text class=\"lab lft\" transform=\"translate(-3 -7.0)\">24</text></g><path class=\"edge\" d=\"M 0 0 V -14.46 H 23.95\"/><circle class=\"sym\" cx=\"0\" cy=\"0\" r=\"3\"/><text class=\"lab lft\" transform=\"translate(-3 -7.0)\">28</text></g><path class=\"edge\" d=\"M 0 0 V -101.22 H 0.0\"/><circle class=\"sym\" cx=\"0\" cy=\"0\" r=\"3\"/><text class=\"lab lft\" transform=\"translate(-3 -7.0)\">30</text></g><circle class=\"sym\" cx=\"0\" cy=\"0\" r=\"3\"/><text class=\"lab\" transform=\"translate(0 -11)\">36</text></g><g class=\"c1 node n37 root\" transform=\"translate(290.635 26.8)\"><g class=\"a37 c2 i4 node n31\" transform=\"translate(0.0 72.3)\"><g class=\"a31 i24 leaf node n1 sample\" transform=\"translate(-31.135 72.3)\"><path class=\"edge\" d=\"M 0 0 V -72.3 H 31.135\"/><rect class=\"sym\" height=\"6\" width=\"6\" x=\"-3\" y=\"-3\"/><text class=\"lab\" transform=\"translate(0 11)\">1</text></g><g class=\"a31 c3 i6 node n29\" transform=\"translate(31.135 28.92)\"><g class=\"a29 i17 leaf node n15 sample\" transform=\"translate(33.53 43.38)\"><path class=\"edge\" d=\"M 0 0 V -43.38 H -33.53\"/><rect class=\"sym\" height=\"6\" width=\"6\" x=\"-3\" y=\"-3\"/><text class=\"lab\" transform=\"translate(0 11)\">15</text></g><g class=\"a29 c2 i11 node n23\" transform=\"translate(4.79 28.92)\"><g class=\"a23 i21 leaf node n7 sample\" transform=\"translate(-9.58 14.46)\"><path class=\"edge\" d=\"M 0 0 V -14.46 H 9.58\"/><rect class=\"sym\" height=\"6\" width=\"6\" x=\"-3\" y=\"-3\"/><text class=\"lab\" transform=\"translate(0 11)\">7</text></g><g class=\"a23 i18 leaf node n12 sample\" transform=\"translate(9.58 14.46)\"><path class=\"edge\" d=\"M 0 0 V -14.46 H -9.58\"/><rect class=\"sym\" height=\"6\" width=\"6\" x=\"-3\" y=\"-3\"/><text class=\"lab\" transform=\"translate(0 11)\">12</text></g><path class=\"edge\" d=\"M 0 0 V -28.92 H -4.79\"/><circle class=\"sym\" cx=\"0\" cy=\"0\" r=\"3\"/><text class=\"lab rgt\" transform=\"translate(3 -7.0)\">23</text></g><g class=\"a29 c2 i10 node n25\" transform=\"translate(-33.53 14.46)\"><g class=\"a25 i23 leaf node n2 sample\" transform=\"translate(-9.58 28.92)\"><path class=\"edge\" d=\"M 0 0 V -28.92 H 9.58\"/><rect class=\"sym\" height=\"6\" width=\"6\" x=\"-3\" y=\"-3\"/><text class=\"lab\" transform=\"translate(0 11)\">2</text></g><g class=\"a25 i20 leaf node n9 sample\" transform=\"translate(9.58 28.92)\"><path class=\"edge\" d=\"M 0 0 V -28.92 H -9.58\"/><rect class=\"sym\" height=\"6\" width=\"6\" x=\"-3\" y=\"-3\"/><text class=\"lab\" transform=\"translate(0 11)\">9</text></g><path class=\"edge\" d=\"M 0 0 V -14.46 H 33.53\"/><circle class=\"sym\" cx=\"0\" cy=\"0\" r=\"3\"/><text class=\"lab lft\" transform=\"translate(-3 -7.0)\">25</text></g><path class=\"edge\" d=\"M 0 0 V -28.92 H -31.135\"/><circle class=\"sym\" cx=\"0\" cy=\"0\" r=\"3\"/><text class=\"lab rgt\" transform=\"translate(3 -7.0)\">29</text></g><path class=\"edge\" d=\"M 0 0 V -72.3 H 0.0\"/><circle class=\"sym\" cx=\"0\" cy=\"0\" r=\"3\"/><text class=\"lab lft\" transform=\"translate(-3 -7.0)\">31</text></g><circle class=\"sym\" cx=\"0\" cy=\"0\" r=\"3\"/><text class=\"lab\" transform=\"translate(0 -11)\">37</text></g><g class=\"c1 node n38 root\" transform=\"translate(384.04 26.8)\"><g class=\"a38 c2 i14 node n20\" transform=\"translate(0.0 130.14)\"><g class=\"a20 i24 leaf node n0 sample\" transform=\"translate(-9.58 14.46)\"><path class=\"edge\" d=\"M 0 0 V -14.46 H 9.58\"/><rect class=\"sym\" height=\"6\" width=\"6\" x=\"-3\" y=\"-3\"/><text class=\"lab\" transform=\"translate(0 11)\">0</text></g><g class=\"a20 i15 leaf node n18 sample\" transform=\"translate(9.58 14.46)\"><path class=\"edge\" d=\"M 0 0 V -14.46 H -9.58\"/><rect class=\"sym\" height=\"6\" width=\"6\" x=\"-3\" y=\"-3\"/><text class=\"lab\" transform=\"translate(0 11)\">18</text></g><path class=\"edge\" d=\"M 0 0 V -130.14 H 0.0\"/><circle class=\"sym\" cx=\"0\" cy=\"0\" r=\"3\"/><text class=\"lab lft\" transform=\"translate(-3 -7.0)\">20</text></g><circle class=\"sym\" cx=\"0\" cy=\"0\" r=\"3\"/><text class=\"lab\" transform=\"translate(0 -11)\">38</text></g></g></g></g></g></svg>"
      ],
      "text/plain": [
       "<IPython.core.display.SVG object>"
      ]
     },
     "execution_count": 10,
     "metadata": {},
     "output_type": "execute_result"
    }
   ],
   "source": [
    "ts_recent = ts.decapitate(time=10.0)  # delete ancestry older than 10 generations ago\n",
    "print(\n",
    "    \"The MRCA ID between node 18 and 19 in the decapitated tree sequence is\",\n",
    "    ts_recent.first().mrca(17, 18)\n",
    ")\n",
    "SVG(ts_recent.draw_svg(size=(500, 250), y_axis=True))"
   ]
  },
  {
   "cell_type": "code",
   "execution_count": 11,
   "id": "76f76b34-c2a0-49db-9409-5649b2d669cb",
   "metadata": {},
   "outputs": [
    {
     "ename": "ValueError",
     "evalue": "Nodes (17, 18) do not share a common ancestor in the tree",
     "output_type": "error",
     "traceback": [
      "\u001b[0;31m---------------------------------------------------------------------------\u001b[0m",
      "\u001b[0;31mValueError\u001b[0m                                Traceback (most recent call last)",
      "Cell \u001b[0;32mIn[11], line 2\u001b[0m\n\u001b[1;32m      1\u001b[0m \u001b[38;5;66;03m# The .tmrca() function will fail with a helpful message in this case\u001b[39;00m\n\u001b[0;32m----> 2\u001b[0m \u001b[38;5;28mprint\u001b[39m(\u001b[43mts_recent\u001b[49m\u001b[38;5;241;43m.\u001b[39;49m\u001b[43mfirst\u001b[49m\u001b[43m(\u001b[49m\u001b[43m)\u001b[49m\u001b[38;5;241;43m.\u001b[39;49m\u001b[43mtmrca\u001b[49m\u001b[43m(\u001b[49m\u001b[38;5;241;43m17\u001b[39;49m\u001b[43m,\u001b[49m\u001b[43m \u001b[49m\u001b[38;5;241;43m18\u001b[39;49m\u001b[43m)\u001b[49m)\n",
      "File \u001b[0;32m~/Library/jupyterlab-desktop/jlab_server/lib/python3.12/site-packages/tskit/trees.py:1043\u001b[0m, in \u001b[0;36mTree.tmrca\u001b[0;34m(self, *args)\u001b[0m\n\u001b[1;32m   1041\u001b[0m mrca \u001b[38;5;241m=\u001b[39m \u001b[38;5;28mself\u001b[39m\u001b[38;5;241m.\u001b[39mmrca(\u001b[38;5;241m*\u001b[39margs)\n\u001b[1;32m   1042\u001b[0m \u001b[38;5;28;01mif\u001b[39;00m mrca \u001b[38;5;241m==\u001b[39m tskit\u001b[38;5;241m.\u001b[39mNULL:\n\u001b[0;32m-> 1043\u001b[0m     \u001b[38;5;28;01mraise\u001b[39;00m \u001b[38;5;167;01mValueError\u001b[39;00m(\u001b[38;5;124mf\u001b[39m\u001b[38;5;124m\"\u001b[39m\u001b[38;5;124mNodes \u001b[39m\u001b[38;5;132;01m{\u001b[39;00margs\u001b[38;5;132;01m}\u001b[39;00m\u001b[38;5;124m do not share a common ancestor in the tree\u001b[39m\u001b[38;5;124m\"\u001b[39m)\n\u001b[1;32m   1044\u001b[0m \u001b[38;5;28;01mreturn\u001b[39;00m \u001b[38;5;28mself\u001b[39m\u001b[38;5;241m.\u001b[39mget_time(mrca)\n",
      "\u001b[0;31mValueError\u001b[0m: Nodes (17, 18) do not share a common ancestor in the tree"
     ]
    }
   ],
   "source": [
    "# The .tmrca() function will fail with a helpful message in this case\n",
    "print(ts_recent.first().tmrca(17, 18))"
   ]
  },
  {
   "cell_type": "markdown",
   "id": "b2c3d218-8580-466a-95fa-12f4aa573eff",
   "metadata": {},
   "source": [
    "## Expected $T_\\mathrm{MRCA}$\n",
    "\n",
    "The expected time to the most recent common ancestor  for a randomly chosen pair of genomes is a classic result from coalescent theory. In a Wright-Fisher model, if the population is not tiny, it is well approximated by the negative exponential distribution with mean and variance equal to $2N_e$.\n",
    "\n",
    "\n",
    "$$\\frac{1}{2N_e}e^{-\\frac{T_\\mathrm{MRCA}}{2N_e}}$$\n",
    "\n",
    "\n",
    "To see how well this theoretical approximation holds, one (inefficient) way to sample from the true MRCA distribution is to loop over the forward-time simulator repeatedly with different seeds.\n",
    "\n",
    "Since this can take some time, we'll wrap the loop using the [tqdm library](https://tqdm.github.io/), so that we get a progress bar"
   ]
  },
  {
   "cell_type": "code",
   "execution_count": 12,
   "id": "4501d308-eff4-4dcd-abd6-98d4ffdf9547",
   "metadata": {},
   "outputs": [
    {
     "data": {
      "application/vnd.jupyter.widget-view+json": {
       "model_id": "e4323867be204758b7859e5416092109",
       "version_major": 2,
       "version_minor": 0
      },
      "text/plain": [
       "  0%|          | 0/299 [00:00<?, ?it/s]"
      ]
     },
     "metadata": {},
     "output_type": "display_data"
    }
   ],
   "source": [
    "from tqdm.auto import tqdm\n",
    "Ne = 10\n",
    "max_gens = 150  # need to run long enough to ensure there *is* an MRCA\n",
    "fwdsim_tMRCAs = []\n",
    "for seed in tqdm(np.arange(1, 300)):\n",
    "  ts = simulate_WrightFisher(Ne=Ne, gens=max_gens, random_seed=seed)\n",
    "  # Simply (arbitrarily) pick the MRCA between the first 2 nodes\n",
    "  first_two_samples = ts.samples()[0:2]\n",
    "  fwdsim_tMRCAs.append(ts.first().tmrca(*first_two_samples))"
   ]
  },
  {
   "cell_type": "markdown",
   "id": "3bc08848-f23a-4f5f-a0f2-d8b75fb24c38",
   "metadata": {},
   "source": [
    "<dl class=\"exercise\"><dt>Exercise 1</dt>\n",
    "<dd>use np.mean to print out the mean of the fwdsim_tMRCAs array</dd></dl>"
   ]
  },
  {
   "cell_type": "code",
   "execution_count": null,
   "id": "7fbae685-26ca-4d48-bc36-e8416e8437a4",
   "metadata": {},
   "outputs": [],
   "source": [
    "# Exercise 1: print the mean of fwdsim_tMRCAs"
   ]
  },
  {
   "cell_type": "code",
   "execution_count": 13,
   "id": "612a26a7-6fcf-4488-b7c9-90bdc02c6fc6",
   "metadata": {},
   "outputs": [
    {
     "ename": "KeyError",
     "evalue": "'expected_tmrca'",
     "output_type": "error",
     "traceback": [
      "\u001b[0;31m---------------------------------------------------------------------------\u001b[0m",
      "\u001b[0;31mKeyError\u001b[0m                                  Traceback (most recent call last)",
      "Cell \u001b[0;32mIn[13], line 2\u001b[0m\n\u001b[1;32m      1\u001b[0m \u001b[38;5;66;03m# Execute code block with <shift>+Return to display question; press on one of the buttons to answer\u001b[39;00m\n\u001b[0;32m----> 2\u001b[0m \u001b[43mworkbook\u001b[49m\u001b[38;5;241;43m.\u001b[39;49m\u001b[43mquestion\u001b[49m\u001b[43m(\u001b[49m\u001b[38;5;124;43m\"\u001b[39;49m\u001b[38;5;124;43mexpected_tmrca\u001b[39;49m\u001b[38;5;124;43m\"\u001b[39;49m\u001b[43m)\u001b[49m\n",
      "File \u001b[0;32m~/Documents/GitHub/GARG/jlite/content/ARG_workshop.py:149\u001b[0m, in \u001b[0;36mWorkbook.question\u001b[0;34m(self, label)\u001b[0m\n\u001b[1;32m    148\u001b[0m \u001b[38;5;28;01mdef\u001b[39;00m \u001b[38;5;21mquestion\u001b[39m(\u001b[38;5;28mself\u001b[39m, label):\n\u001b[0;32m--> 149\u001b[0m     display_quiz(\u001b[38;5;28;43mself\u001b[39;49m\u001b[38;5;241;43m.\u001b[39;49m\u001b[43mquiz\u001b[49m\u001b[43m[\u001b[49m\u001b[43mlabel\u001b[49m\u001b[43m]\u001b[49m, colors\u001b[38;5;241m=\u001b[39mcolor_dict)\n",
      "\u001b[0;31mKeyError\u001b[0m: 'expected_tmrca'"
     ]
    }
   ],
   "source": [
    "# Execute code block with <shift>+Return to display question; press on one of the buttons to answer\n",
    "workbook.question(\"expected_tmrca\")\n"
   ]
  },
  {
   "cell_type": "markdown",
   "id": "e05ec0e8-cf6c-444b-9ff4-ca2a2e5b8f77",
   "metadata": {},
   "source": [
    "We can plot out the entire distribution, not just the mean"
   ]
  },
  {
   "cell_type": "code",
   "execution_count": 14,
   "id": "954f8059-8f06-4ea4-8f3b-ed1b8e19610f",
   "metadata": {},
   "outputs": [
    {
     "data": {
      "image/png": "[encoded data removed]",
      "text/plain": [
       "<Figure size 640x480 with 1 Axes>"
      ]
     },
     "metadata": {},
     "output_type": "display_data"
    }
   ],
   "source": [
    "from matplotlib import pyplot as plt\n",
    "plt.hist(fwdsim_tMRCAs, bins=25, density=True, label=\"WF simulation\", color=\"lightblue\")\n",
    "x = np.arange(1, max_gens)\n",
    "y = 1/(2 * Ne) * np.exp(-x/(2 * Ne))\n",
    "formula = r\"12Nee−TMRCA2Ne\"\n",
    "plt.plot(x, y, c=\"tab:orange\", label=formula)\n",
    "plt.axvline(np.mean(fwdsim_tMRCAs), ls=\":\", c=\"tab:blue\")\n",
    "plt.axvline(2 * Ne, ls=\":\", c=\"tab:orange\")\n",
    "plt.text(2 * Ne, y.max(), \"Means\", ha=\"right\", va=\"top\", rotation=90)\n",
    "plt.xlabel(r\"TMRCA (generations)\")\n",
    "plt.legend()\n",
    "plt.title(f\"Time to MRCA between two samples in a population of size $N_e={Ne}$\");"
   ]
  },
  {
   "cell_type": "markdown",
   "id": "0b40436c-25b6-4adf-b01b-2449219d43b0",
   "metadata": {},
   "source": [
    "The fit is pretty impressive, even though this is a very small population, when we would expect the approximation to be potentially poor. As we'll see later, results from coalescent theory are surprisingly robust to changes in the details of the underlying model."
   ]
  },
  {
   "cell_type": "markdown",
   "id": "94a0ac92-0e13-4273-ba90-47ff0ad094fe",
   "metadata": {},
   "source": [
    "## The incredible depth of human ancestry\n",
    "\n",
    "It is often estimated that a historical \"effective population size\" ($N_e$) for humans is about 15 000 diploid individuals. If this is correct, what is the expected average TMRCA between (say) a region of your genome from you mother, compared the the same region you inherited from your father?"
   ]
  },
  {
   "cell_type": "code",
   "execution_count": null,
   "id": "74ae31d7-effa-4e3c-9773-548ee3b380c9",
   "metadata": {},
   "outputs": [],
   "source": [
    "# Execute code block with <shift>+Return to display question; press on one of the buttons to answer\n",
    "workbook.question(\"Ne_calc\")"
   ]
  },
  {
   "cell_type": "markdown",
   "id": "6000d58b-64c2-4530-9b65-e53a12d98175",
   "metadata": {},
   "source": [
    "### A popgen taster\n",
    "\n",
    "To a casual observer, these times might seem too long ago. After all, this is much longer ago than the origin of modern humans. **** We can use perform a quick check, and illustrate the power of tree sequence storage. The estimated single-nucleotide mutation rate in humans is $\\mu = ~1.29\\times 10^{-8}$ per base pair per generation. The probability that any particular base pair will differ between a randomly chosen pair of sequences (the \"genetic diversity\", or $\\pi$) will be the mutation rate times the number of generations separating the pair (i.e. twice the time to the most recent common ancestor, measured in generations).\n",
    "\n",
    "$$ \\pi = \\mu \\times 2 T_{\\mathrm MRCA} $$\n",
    "\n",
    "Or, given a genetic diversity, we can figure out a $T_{\\mathrm MRCA}$ by dividing it by twice the mutation rate\n"
   ]
  },
  {
   "cell_type": "code",
   "execution_count": 17,
   "id": "ca4d08c0-bcdc-4c6b-83bc-bc2fb4cad06a",
   "metadata": {},
   "outputs": [
    {
     "name": "stderr",
     "output_type": "stream",
     "text": [
      "hgdp_tgp_sgdp_high_cov_ancients_chr20_q.dated.trees.tsz: 37.4MB [00:06, 5.40MB/s]                            \n"
     ]
    }
   ],
   "source": [
    "# Download the compressed tree sequence for human chromosome 2, q arm (~180Mb - may take a number of seconds)\n",
    "import os\n",
    "import urllib.request\n",
    "import tszip\n",
    "if os.path.exists(\"\")\n",
    "\n",
    "else:\n",
    "    url = \"https://zenodo.org/record/5512994/files/hgdp_tgp_sgdp_high_cov_ancients_chr20_q.dated.trees.tsz\"\n",
    "\n",
    "    with workbook.download(url) as t:\n",
    "        temporary_filename, _ = urllib.request.urlretrieve(url, reporthook=t.update_to)\n",
    "\n",
    "estimated_tmrca = ts.trim().diversity()/ (2 * 1.29e-8)\n",
    "print(\"The estimated time to {estimated_tmrca} generations ({estimated_tmrca * 30} years)\")"
   ]
  },
  {
   "cell_type": "markdown",
   "id": "62679ede-aabf-4e34-99cf-dbab42d5ba3b",
   "metadata": {},
   "source": [
    "## Advantages of backward simulation\n",
    "\n",
    "Our forward-time Wright-Fisher simulator does not incoporate any natural selection: it is _neutral_. Neutral simulations, or indeed any simulations where the genomes are [exchangable](), can be implemented much more efficiently in reverse, or backward-time. In this case, we define an initial set of sample genomes and randomly choose parents for those genomes, then parents for the parents, and so on. This means we don't need to `simplify()` the genealogy, and it's far more efficient that forward-simulation because:\n",
    "\n",
    "* we don't spend time simulating extinct lineages,\n",
    "\n",
    "* we can efficiently simulate a small set of samples taken from a much larger population, and\n",
    "\n",
    "* we can stop simulating as soon as the lineages from all the samples merge into a single MRCA\n",
    "\n",
    "The major _downside_ is that backward simulation cannot deal with most forms of natural selection, or populations distributed in continuous space (but in later workbooks we will see how _tskit_ can be used to combine both backward and forward time simulation in a process known as [recapitation](https://tskit.dev/pyslim/docs/latest/tutorial.html#sec-tutorial-recapitation))."
   ]
  },
  {
   "cell_type": "markdown",
   "id": "d1d6c7e9-0617-4906-ae68-c43b2e4cce17",
   "metadata": {},
   "source": [
    "### Msprime: a backward-time simulator\n",
    "\n",
    "[_Msprime_]() is a widely-used and highly efficient backward-time simulator that outputs tree sequences. To match our forward-time model, we can use its [discrete-time-Wright-Fisher](https://tskit.dev/msprime/docs/stable/ancestry.html#using-the-dtwf-model) (\"`dtwf`\") capability:"
   ]
  },
  {
   "cell_type": "code",
   "execution_count": null,
   "id": "0506b982-bdab-4a35-aab9-f32b72d281fe",
   "metadata": {},
   "outputs": [],
   "source": [
    "import msprime\n",
    "Ne = 1_000   # Much faster to simulate large populations\n",
    "ts = msprime.sim_ancestry(samples=10, population_size=Ne, model=\"dtwf\", random_seed=123)\n",
    "SVG(ts.draw_svg(size=(500, 250), y_axis=True))"
   ]
  },
  {
   "cell_type": "markdown",
   "id": "64e2e9d9-3103-454d-8af4-c4e24c5dc983",
   "metadata": {},
   "source": [
    "#### Continuous-time models: a major speedup\n",
    "\n",
    "However, the \"`dtwf`\" model is still fairly slow because it has to go generation by generation, backwards in time. If we assume that only one coalescence occurs in any generation, we can simply sample a time back to the next coalescent event from the appropriate distribution, without having to go generation-by-generation. This is the default model used by msprime, and it means that the size of the population no longer has an effect on the efficiency of the simulation. We can easily simulate a population of a billion individuals: all that happens is that the time scale will change.\n",
    "\n",
    "(NB - however a constant size population of a billion coupled with generations times of a few years would create MRCAs older than the origin of life on earth, so clearly our assumptions are not biologically plausible here)"
   ]
  },
  {
   "cell_type": "markdown",
   "id": "d665a51b-a81e-4605-b529-27f5e6eef166",
   "metadata": {},
   "source": [
    "### Variation in coalescent tree depths and topologies\n",
    "\n",
    "To demonstrate the efficiency of this approach, we'll sample 20 individuals from a population of a thousand, until all the samples have coalesced into a single root, which should take some thousands of generations. We'll do it 30 times, to get a feel for the wide variation in coalescence times. _Msprime_ will run this in a millisecond or two.\n",
    "\n",
    "<div class=\"alert alert-block alert-info\"><b>Note:</b> If the <code>num_replicates</code> parameter is given to <code>sim_ancestry()</code>, the function will return a (lazy) iterator over the returned tree sequences. To turn this into a fixed list of tree sequences, we apply Python's built-in <code>list()`</code> function.</div>"
   ]
  },
  {
   "cell_type": "code",
   "execution_count": null,
   "id": "28cfb789-107b-43f8-baa6-516d4d89c975",
   "metadata": {},
   "outputs": [],
   "source": [
    "# To get a feel of the variation in coalescent tree time & topologies\n",
    "\n",
    "import msprime\n",
    "from IPython.display import HTML  # we can draw multiple tree sequences using HTML\n",
    "\n",
    "tree_seqs = list(\n",
    "    msprime.sim_ancestry(\n",
    "        20, population_size=1_000, sequence_length=1000, num_replicates=30, random_seed=123,\n",
    "    )\n",
    ")\n",
    "\n",
    "root_times = [ts.max_time for ts in tree_seqs]\n",
    "ticks = np.linspace(0, 10 ** (np.ceil(np.log10(max(root_times)))), num=6)\n",
    "ticks = {t: f\"{t/1_000:.0f}k\" for t in ticks}\n",
    "\n",
    "HTML(\"\".join(\n",
    "    ts.draw_svg(\n",
    "        max_time=max(root_times),\n",
    "        size=(200, 350),\n",
    "        node_labels={},\n",
    "        symbol_size=1,\n",
    "        y_axis=True,\n",
    "        y_ticks=ticks,\n",
    "    )\n",
    "    for ts in tree_seqs\n",
    "))"
   ]
  },
  {
   "cell_type": "markdown",
   "id": "6e520c9e-03d7-4731-a59b-da8c21af5965",
   "metadata": {},
   "source": [
    "Exercise: Because coalescent times are approximately exponentially distributed, it can be helpful to plot trees using a log timescale. Add `time_scale=\"log_time\"` to the `draw_svg()` parameters below to see what this looks like. Then use `plt.hist()` to plot the distribution of root_times.\n",
    "\n",
    "Q: The mean TMRCA for _two_ samples is 2Ne. What's the mean TMRCA for _n_ samples (i.e. the root time) as _n_ increases to larger numbers (e.g. here)\n",
    "\n",
    "Answer: 4Ne: in fact, this is the limit as as n->inf, so you only double the time"
   ]
  },
  {
   "cell_type": "markdown",
   "id": "10c3c734-1d07-42cc-a23d-a471a3b802dc",
   "metadata": {},
   "source": [
    "## Information from additional samples\n",
    "\n",
    "In a large population, as we increase the sample size from 2 genomes to thousands or millions, the additional common ancestors added to the genealogy will tend to be at younger and younger times. Another way to put this is that small numbers of genomes tend to contain information on deep history; increasing the sample size will tend to fill out information about more recent events.\n",
    "\n",
    "We can see this by plotting the time of the additional node (if any) that is added to the tree as we increase the number of samples.\n",
    "\n",
    "We'll compare the forward simulation to the reverse one..."
   ]
  }
 ],
 "metadata": {
  "kernelspec": {
   "display_name": "Python 3 (ipykernel)",
   "language": "python",
   "name": "python3"
  },
  "language_info": {
   "codemirror_mode": {
    "name": "ipython",
    "version": 3
   },
   "file_extension": ".py",
   "mimetype": "text/x-python",
   "name": "python",
   "nbconvert_exporter": "python",
   "pygments_lexer": "ipython3",
   "version": "3.12.2"
  }
 },
 "nbformat": 4,
 "nbformat_minor": 5
}
