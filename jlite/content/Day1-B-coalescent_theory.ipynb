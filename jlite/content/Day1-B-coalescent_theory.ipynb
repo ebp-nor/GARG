{
 "cells": [
  {
   "cell_type": "markdown",
   "id": "5b825ca5-56f8-463a-b272-e6e31de08c6a",
   "metadata": {},
   "source": [
    "## Setup\n",
    "\n",
    "To access material for this workbook please execute the two notebook cells immediately below (e.g. use the shortcut <b>&lt;shift&gt;+&lt;return&gt;</b>). The first cell can be skipped if you are running this notebook locally and have already installed all the necessary packages. The second cell should print out \"Your notebook is ready to go!\""
   ]
  },
  {
   "cell_type": "code",
   "execution_count": null,
   "id": "4ccc9395-655a-42a0-ac17-ab2b73d009be",
   "metadata": {},
   "outputs": [],
   "source": [
    "if 'pyodide_kernel' in str(get_ipython()):  # specify packages to install under JupyterLite\n",
    "    %pip install -q -r jlite-requirements.txt\n",
    "elif 'google.colab' in str(get_ipython()):  # specify package location for loading in Colab\n",
    "    from google.colab import drive\n",
    "    drive.mount('/content/drive')\n",
    "    %run /content/drive/MyDrive/GARG_workshop/Notebooks/add_module_path.py\n",
    "else:  # install packages on your local machine (-q = \"quiet\": don't print out installation steps)\n",
    "    !python -m pip install -q -r https://github.com/ebp-nor/GARG/raw/main/jlite/requirements.txt"
   ]
  },
  {
   "cell_type": "code",
   "execution_count": null,
   "id": "57d2d58c-61d9-4286-946d-c717857f2a75",
   "metadata": {
    "scrolled": true
   },
   "outputs": [],
   "source": [
    "# Load questions etc for this workbook\n",
    "import ARG_workshop\n",
    "workbook = ARG_workshop.Workbook1B()\n",
    "display(workbook.setup)"
   ]
  },
  {
   "cell_type": "markdown",
   "id": "4c65c0e5-86d2-49d8-a8fd-2cce003fd0cf",
   "metadata": {},
   "source": [
    "### Using this workbook\n",
    "\n",
    "This workbook is intended to be used by executing each cell as you go along. Code cells (like those above) can be modified and re-executed to perform different behaviour or additional analysis. You can use this to complete various programming exercises, some of which have associated questions to test your understanding. Exercises are marked like this:\n",
    "<dl class=\"exercise\"><dt>Exercise XXX</dt>\n",
    "<dd>Here is an exercise: normally there will be a code cell below this box for you to work in</dd>\n",
    "</dl>"
   ]
  },
  {
   "cell_type": "markdown",
   "id": "41e3c291-8534-408a-9e33-22fb34cc5470",
   "metadata": {},
   "source": [
    "# Workbook 1-B: Coalescent theory\n",
    "\n",
    "We will use the simulator we wrote in the previous workbook to illustrate some fundamental principles behind non-recombining genetic genealogies. The main body of theory in this area is the (backward-time) coalescent. For a detailed introduction see e.g. chapter 3 of Wakeley's book \"Coalescent Theory\".\n",
    "\n",
    "First, we'll simulate a tree sequence forward in time:"
   ]
  },
  {
   "cell_type": "code",
   "execution_count": null,
   "id": "9915103d-0331-4381-b420-1e6bf62736e4",
   "metadata": {},
   "outputs": [],
   "source": [
    "from IPython.display import SVG\n",
    "ts = ARG_workshop.FwdWrightFisherSimulator(population_size=10).run(gens=50)\n",
    "SVG(ts.draw_svg(size=(500, 250), y_axis=True))"
   ]
  },
  {
   "cell_type": "markdown",
   "id": "92db51fc-bfa6-4b52-b745-d6d590de51bf",
   "metadata": {},
   "source": [
    "## Trees in a tree sequence\n",
    "\n",
    "Normally, tree sequences encode multiple correlated trees along the genome. Howevever, here all the base pairs, from 0..1000, share the same ancestry so there's only one tree. This tree can be extracted using `ts.first()`:"
   ]
  },
  {
   "cell_type": "markdown",
   "id": "b3d502ba-a816-4ebd-8773-8f900442020c",
   "metadata": {},
   "source": [
    "<dl class=\"exercise\"><dt>Exercise 1</dt>\n",
    "<dd>Use <code>ts.num_trees</code> to check that there's only one tree in this tree sequence, then show a tabular summary using <code>display(ts.first())</code></dd></dl>"
   ]
  },
  {
   "cell_type": "code",
   "execution_count": null,
   "id": "957881b9-d793-493b-867b-c7e4130fa64f",
   "metadata": {},
   "outputs": [],
   "source": [
    "# Print out the number of trees and a tabular summary of the first tree\n"
   ]
  },
  {
   "cell_type": "code",
   "execution_count": null,
   "id": "5a784187-cac5-4a36-ac12-e43fd3c7e8c7",
   "metadata": {},
   "outputs": [],
   "source": [
    "workbook.question(\"tree\")"
   ]
  },
  {
   "cell_type": "markdown",
   "id": "19bbbfc9-5721-4e96-8fdf-67616f1985ec",
   "metadata": {},
   "source": [
    "Like a tree sequence, a _tskit_ `tree` has lots of useful methods. Given a set of node IDs, the `mrca()` and `tmrca()` methods return the ID of the most recent common ancestor (MRCA) node and the time of that node ($T_{\\mathrm{MRCA}}$) respectively. For instance, let's look at the MRCA of nodes 0 and 1:"
   ]
  },
  {
   "cell_type": "code",
   "execution_count": null,
   "id": "2184da7f-e4e1-4ec1-9329-3d96d798e114",
   "metadata": {},
   "outputs": [],
   "source": [
    "mrca_id = ts.first().mrca(0, 1)\n",
    "mrca_time = ts.first().tmrca(0, 1)\n",
    "print(\n",
    "    f\"Node {mrca_id}, the most recent common ancestor of nodes 0 and 1\",\n",
    "    f\"lived {mrca_time} {ts.time_units} ago\",\n",
    ")\n",
    "\n",
    "# Highlight it!\n",
    "SVG(ts.draw_svg(size=(500, 250), y_axis=True, style=f\".n{mrca_id}>.sym {{fill: red; r: 8px}}\"))"
   ]
  },
  {
   "cell_type": "markdown",
   "id": "e89a9624-332c-49f9-b27a-6c7c2010aded",
   "metadata": {},
   "source": [
    "Note, however, if we remove all the ancestry older than a given time (known as `decapitating` a tree sequence!), we might not have an MRCA between two nodes, in which case the `mrca` function will return a null value (_tskit_ uses -1 as the null ID). The resulting tree sequence will have [multiple roots](https://tskit.dev/tskit/docs/stable/data-model.html#roots), visualised as below:"
   ]
  },
  {
   "cell_type": "code",
   "execution_count": null,
   "id": "74543819-936b-4851-bda8-a171f219c22c",
   "metadata": {},
   "outputs": [],
   "source": [
    "ts_recent = ts.decapitate(time=10.0)  # delete ancestry older than 10 generations ago\n",
    "print(\n",
    "    \"The MRCA ID between node 0 and 1 in the decapitated tree sequence is\",\n",
    "    ts_recent.first().mrca(0, 1)\n",
    ")\n",
    "SVG(ts_recent.draw_svg(size=(500, 250), y_axis=True))"
   ]
  },
  {
   "cell_type": "code",
   "execution_count": null,
   "id": "76f76b34-c2a0-49db-9409-5649b2d669cb",
   "metadata": {},
   "outputs": [],
   "source": [
    "# The .tmrca() function will fail with a helpful message in this case\n",
    "print(ts_recent.first().tmrca(0, 1))"
   ]
  },
  {
   "cell_type": "markdown",
   "id": "b2c3d218-8580-466a-95fa-12f4aa573eff",
   "metadata": {},
   "source": [
    "## Expected $T_\\mathrm{MRCA}$\n",
    "\n",
    "The expected time to the most recent common ancestor  for a randomly chosen pair of genomes is a classic result from coalescent theory. In a Wright-Fisher model, if the population is not tiny, it is well approximated by the negative exponential distribution with mean and variance equal to $2N_e$.\n",
    "\n",
    "\n",
    "$$\\frac{1}{2N_e}e^{-\\frac{T_\\mathrm{MRCA}}{2N_e}}$$\n",
    "\n",
    "\n",
    "To see how well this theoretical approximation holds, one (inefficient) way to sample from the true MRCA distribution is to loop over the forward-time simulator repeatedly with different seeds.\n",
    "\n",
    "Since this can take some time, we'll wrap the loop using the [tqdm library](https://tqdm.github.io/), so that we get a progress bar"
   ]
  },
  {
   "cell_type": "code",
   "execution_count": null,
   "id": "4501d308-eff4-4dcd-abd6-98d4ffdf9547",
   "metadata": {},
   "outputs": [],
   "source": [
    "import numpy as np\n",
    "from tqdm.auto import tqdm\n",
    "\n",
    "pop_size = 10\n",
    "max_gens = 160  # need to run long enough to ensure there *is* an MRCA\n",
    "fwdsim_tMRCAs = []\n",
    "for seed in tqdm(np.arange(1, 300)):\n",
    "  ts = ARG_workshop.FwdWrightFisherSimulator(pop_size, random_seed=seed).run(gens=max_gens)\n",
    "  # (arbitrarily) pick the MRCA between the first 2 nodes\n",
    "  first_two_samples = ts.samples()[0:2]\n",
    "  fwdsim_tMRCAs.append(ts.first().tmrca(*first_two_samples))"
   ]
  },
  {
   "cell_type": "markdown",
   "id": "3bc08848-f23a-4f5f-a0f2-d8b75fb24c38",
   "metadata": {},
   "source": [
    "<dl class=\"exercise\"><dt>Exercise 2</dt>\n",
    "<dd>use <code>np.mean</code> to print out the mean of the <code>fwdsim_tMRCAs</code> array</dd></dl>"
   ]
  },
  {
   "cell_type": "code",
   "execution_count": null,
   "id": "7fbae685-26ca-4d48-bc36-e8416e8437a4",
   "metadata": {},
   "outputs": [],
   "source": [
    "# Exercise 2: print the mean of fwdsim_tMRCAs\n"
   ]
  },
  {
   "cell_type": "code",
   "execution_count": null,
   "id": "612a26a7-6fcf-4488-b7c9-90bdc02c6fc6",
   "metadata": {},
   "outputs": [],
   "source": [
    "# Execute code block with <shift>+Return to display question; press on one of the buttons to answer\n",
    "workbook.question(\"expected_tmrca\")"
   ]
  },
  {
   "cell_type": "markdown",
   "id": "e05ec0e8-cf6c-444b-9ff4-ca2a2e5b8f77",
   "metadata": {},
   "source": [
    "We can plot out the entire distribution, not just the mean"
   ]
  },
  {
   "cell_type": "code",
   "execution_count": null,
   "id": "954f8059-8f06-4ea4-8f3b-ed1b8e19610f",
   "metadata": {},
   "outputs": [],
   "source": [
    "from matplotlib import pyplot as plt\n",
    "plt.hist(fwdsim_tMRCAs, bins=25, density=True, label=\"WF simulation\", color=\"lightblue\")\n",
    "T = np.arange(1, max_gens)\n",
    "y = 1/(2 * pop_size) * np.exp(-T/(2 * pop_size))\n",
    "formula = r\"$1/2N_e e^{−TMRCA/2N_e}$\"\n",
    "plt.plot(T, y, c=\"tab:orange\", label=formula)\n",
    "plt.axvline(np.mean(fwdsim_tMRCAs), ls=\":\", c=\"tab:blue\")\n",
    "plt.axvline(2 * pop_size, ls=\":\", c=\"tab:orange\")\n",
    "plt.text(2 * pop_size, y.max(), \"Means\", ha=\"right\", va=\"top\", rotation=90)\n",
    "plt.xlabel(r\"TMRCA (generations)\")\n",
    "plt.legend(fontsize=14)\n",
    "plt.title(f\"Time to MRCA between two samples in a population of size $N_e={pop_size}$\");"
   ]
  },
  {
   "cell_type": "markdown",
   "id": "0b40436c-25b6-4adf-b01b-2449219d43b0",
   "metadata": {},
   "source": [
    "The fit is pretty impressive, even though this is a very small population, when we would expect the approximation to be potentially poor. As we'll see later, results from coalescent theory are surprisingly robust to changes in the details of the underlying model."
   ]
  },
  {
   "cell_type": "markdown",
   "id": "94a0ac92-0e13-4273-ba90-47ff0ad094fe",
   "metadata": {},
   "source": [
    "## The incredible depth of human ancestry\n",
    "\n",
    "It is often estimated that the average TMRCA between a random pair of human genomes (say from you mother vs you father) roughly matches that from a constant-sized Wright-Fisher population of size 15 000 diploids."
   ]
  },
  {
   "cell_type": "code",
   "execution_count": null,
   "id": "74ae31d7-effa-4e3c-9773-548ee3b380c9",
   "metadata": {},
   "outputs": [],
   "source": [
    "# Execute code block with <shift>+Return to display question; press on one of the buttons to answer\n",
    "workbook.question(\"Human_Ne_TRMCA\")"
   ]
  },
  {
   "cell_type": "markdown",
   "id": "6000d58b-64c2-4530-9b65-e53a12d98175",
   "metadata": {},
   "source": [
    "### A popgen taster\n",
    "\n",
    "To a casual observer, these times might seem too old. We can use tskit to perform a quick check on some real data, using the \"genetic diversity\" (or $\\pi$), which measures the average genetic difference per base pair between all sample pairs. The $T_{\\mathrm MRCA}$ is simply this divided by twice the mutation rate (the factor of two accounts for mutations on both lineages from the common ancestor). A reasonable nucleotide mutation rate in humans is $\\mu=1.29\\times10^{-8}$ per base pair per generation.\n",
    "\n",
    "To illustrate the speed of tree sequence calculations, we'll load up a tree-sequence-encoded copy of the well-known thousand genomes project (tgp). For speed and simplicity, we'll use a tree sequence that only contains 5 megabases of chromosome 20."
   ]
  },
  {
   "cell_type": "code",
   "execution_count": null,
   "id": "ca4d08c0-bcdc-4c6b-83bc-bc2fb4cad06a",
   "metadata": {},
   "outputs": [],
   "source": [
    "# Download the compressed tree sequence for 5-10 MB of human chromosome 20 arm\n",
    "import tszip  # Tree sequences can be further compressed for efficient storage using \"tszip\"\n",
    "try:\n",
    "    tgp_ts = tszip.decompress(\"1kgp_chr20_5-10MB.tsz\")\n",
    "except FileNotFoundError:\n",
    "    import urllib.request\n",
    "    url = \"https://raw.githubusercontent.com/ebp-nor/GARG/main/jlite/content/1kgp_chr20_5-10MB.tsz\"\n",
    "    print(f\"Downloading '{url}'\")\n",
    "    urllib.request.urlretrieve(url)\n",
    "    ts = tszip.decompress(\"1kgp_chr20_5-10MB.tsz\")"
   ]
  },
  {
   "cell_type": "markdown",
   "id": "96203350-105a-46ed-a647-940972543079",
   "metadata": {},
   "source": [
    "<dl class=\"exercise\"><dt>Exercise 3</dt>\n",
    "<dd>Use <code>tgp_ts.num_samples</code> and <code>tgp_ts.num_individuals</code> to check on the number of genomes and number of individuals in this dataset. Then use <code>tgp_ts.diversity()</code> to print out the average number of nucleotide differences between a random pair of genomes (this calculation should be instantaneous). Divide this by twice the mutation rate, then multiply by 27 years per generation to get a rough estimate of the average pairwise TMRCA in years</dd></dl>"
   ]
  },
  {
   "cell_type": "code",
   "execution_count": null,
   "id": "c269eff2-d575-42e5-bcd3-43273a223a4a",
   "metadata": {},
   "outputs": [],
   "source": [
    "# Use this cell to print the number of samples and individuals in tgp_ts\n",
    "# Then calculate the average pairwise genetic diversity, and use it to find the average TMRCA in years,\n",
    "# assuming a mutation rate of 1.29e-8 per base pair per generation, and a generation time of 27 years\n"
   ]
  },
  {
   "cell_type": "code",
   "execution_count": null,
   "id": "6e5f266a-c3eb-4ea3-8e40-bad835a843fc",
   "metadata": {},
   "outputs": [],
   "source": [
    "workbook.question(\"Human_mu_TRMCA\")"
   ]
  },
  {
   "cell_type": "markdown",
   "id": "7d20b716-c51b-4227-9280-ce8314c9fe1b",
   "metadata": {},
   "source": [
    "<div class=\"alert alert-block alert-info\"><b>Note:</b> Here we have assumed that the same coalescent predictions apply to different regions of the genome, each of which may have a slightly different ancestry. \n",
    "</div>"
   ]
  },
  {
   "cell_type": "markdown",
   "id": "62679ede-aabf-4e34-99cf-dbab42d5ba3b",
   "metadata": {},
   "source": [
    "## Advantages of backward simulation\n",
    "\n",
    "Our forward-time Wright-Fisher simulator does not incoporate any natural selection: it is _neutral_. Neutral simulations, or indeed any simulations where the genomes are [exchangable](), can be implemented much more efficiently in reverse, or backward-time. In this case, we define an initial set of sample genomes and randomly choose parents for those genomes, then parents for the parents, and so on. This means we don't need to `simplify()` the genealogy, and it's far more efficient that forward-simulation because:\n",
    "\n",
    "* we don't spend time simulating extinct lineages,\n",
    "\n",
    "* we can efficiently simulate a small set of samples taken from a much larger population, and\n",
    "\n",
    "* we can stop simulating as soon as the lineages from all the samples merge into a single MRCA\n",
    "\n",
    "The major _downside_ is that backward simulation cannot deal with most forms of natural selection, or populations distributed in continuous space (but in later workbooks we will see how _tskit_ can be used to combine both backward and forward time simulation in a process known as [recapitation](https://tskit.dev/pyslim/docs/latest/tutorial.html#sec-tutorial-recapitation))."
   ]
  },
  {
   "cell_type": "markdown",
   "id": "d1d6c7e9-0617-4906-ae68-c43b2e4cce17",
   "metadata": {},
   "source": [
    "### Msprime: a backward-time simulator\n",
    "\n",
    "[_Msprime_](https://tskit.dev/msprime/docs/stable/intro.html) is a widely-used efficient backward-time simulator that outputs tree sequences. Its [discrete-time-Wright-Fisher](https://tskit.dev/msprime/docs/stable/ancestry.html#using-the-dtwf-model) (\"`dtwf`\") capability will simulate in backward time the same process we simulated in our forward-time model, but will allow much larger population sizes."
   ]
  },
  {
   "cell_type": "code",
   "execution_count": null,
   "id": "0506b982-bdab-4a35-aab9-f32b72d281fe",
   "metadata": {},
   "outputs": [],
   "source": [
    "import msprime\n",
    "Ne = 1_000   # Much faster to simulate a small sample taken from a larger populations\n",
    "ts = msprime.sim_ancestry(samples=10, population_size=Ne, model=\"dtwf\", random_seed=123)\n",
    "SVG(ts.draw_svg(size=(500, 250), y_axis=True))"
   ]
  },
  {
   "cell_type": "markdown",
   "id": "64e2e9d9-3103-454d-8af4-c4e24c5dc983",
   "metadata": {},
   "source": [
    "#### Continuous-time models: a major speedup\n",
    "\n",
    "However, the \"`dtwf`\" model is still fairly slow because it has to go generation-by-generation, backwards in time. If we assume that only one coalescence occurs in any generation, we can simply sample a time back to the next coalescent event from the appropriate distribution, without having to step one generation at a time. The faster method is the default used by msprime, and it means that the size of the population no longer has an effect on the efficiency of the simulation. We can easily simulate a small sample from a population of a billion individuals: all that happens is that the time scale will change (of course, given a generation time of a few years, a constant population of a billion is not a biologically plausible assumption: the MRCAs would be older than the origin of life on earth)\n",
    "\n",
    "Note that the continuous-time approach means that we never get \"polytomies (i.e. multifurcations). Theerefore the trees produced by the default msprime model are always strictly bifurcating."
   ]
  },
  {
   "cell_type": "markdown",
   "id": "d665a51b-a81e-4605-b529-27f5e6eef166",
   "metadata": {},
   "source": [
    "### Variation in coalescent tree depths and topologies\n",
    "\n",
    "To demonstrate the efficiency of this approach, we'll sample 20 individuals from a population of a thousand, until all the samples have coalesced into a single root, which should take some thousands of generations. We'll do it 30 times, to get a feel for the wide variation in coalescence times. _Msprime_ will run this in a millisecond or two.\n",
    "\n",
    "<div class=\"alert alert-block alert-info\"><b>Note:</b> If the <code>num_replicates</code> parameter is given to <code>sim_ancestry()</code>, the function will return a (lazy) iterator over the returned tree sequences. To turn this into a fixed list of tree sequences, we apply Python's built-in <code>list()</code> function.</div>"
   ]
  },
  {
   "cell_type": "code",
   "execution_count": null,
   "id": "28cfb789-107b-43f8-baa6-516d4d89c975",
   "metadata": {
    "scrolled": true
   },
   "outputs": [],
   "source": [
    "# To get a feel of the variation in coalescent tree time & topologies\n",
    "\n",
    "import msprime\n",
    "from IPython.display import HTML  # we can draw multiple tree sequences using HTML\n",
    "\n",
    "tree_seqs = list(\n",
    "    msprime.sim_ancestry(\n",
    "        20, population_size=1_000, sequence_length=1000, num_replicates=30, random_seed=123,\n",
    "    )\n",
    ")\n",
    "\n",
    "root_times = [ts.max_time for ts in tree_seqs]\n",
    "ticks = np.linspace(0, 10 ** (np.ceil(np.log10(max(root_times)))), num=6)\n",
    "ticks = {t: f\"{t/1_000:.0f}k\" for t in ticks}\n",
    "\n",
    "HTML(\"\".join(\n",
    "    ts.draw_svg(\n",
    "        max_time=max(root_times),\n",
    "        size=(200, 350),\n",
    "        node_labels={},\n",
    "        symbol_size=1,\n",
    "        y_axis=True,\n",
    "        y_ticks=ticks,\n",
    "    )\n",
    "    for ts in tree_seqs\n",
    "))"
   ]
  },
  {
   "cell_type": "markdown",
   "id": "a1149e22-797e-46b5-85cc-47127677008e",
   "metadata": {},
   "source": [
    "Notice the variation in the times of the root node (i.e. the deepest coalescence)"
   ]
  },
  {
   "cell_type": "markdown",
   "id": "6e520c9e-03d7-4731-a59b-da8c21af5965",
   "metadata": {},
   "source": [
    "<dl class=\"exercise\"><dt>Exercise 4</dt>\n",
    "<dd>Because coalescent times are approximately exponentially distributed, it can be helpful to plot trees using a log timescale. Add `time_scale=\"log_time\"` to the `draw_svg()` parameters above to see what this looks like. Then use `plt.hist()` below, to plot the distribution of <code>root_times</code>.</dd></dl>"
   ]
  },
  {
   "cell_type": "code",
   "execution_count": null,
   "id": "89502c7f-f13a-4829-95a9-fa4c311ff188",
   "metadata": {},
   "outputs": [],
   "source": [
    "# Exercise: plot a histogram of root_times\n"
   ]
  },
  {
   "cell_type": "code",
   "execution_count": null,
   "id": "d53fc6de-51e9-4de6-8e12-5f193a02d59e",
   "metadata": {},
   "outputs": [],
   "source": [
    "workbook.question(\"mean_tmrca\")"
   ]
  },
  {
   "cell_type": "markdown",
   "id": "10c3c734-1d07-42cc-a23d-a471a3b802dc",
   "metadata": {},
   "source": [
    "## Information from additional samples\n",
    "\n",
    "In a large population, as we increase the sample size from 2 genomes to thousands or millions, the additional common ancestors added to the genealogy will tend to be at younger and younger times. Another way to put this is that small numbers of genomes tend to contain information on deep history; increasing the sample size will tend to fill out information about more recent events.\n",
    "\n",
    "We can see this by plotting the time of the additional node (if any) that is added to the tree as we increase the number of samples.\n",
    "\n",
    "We'll compare the forward simulation to the reverse one..."
   ]
  },
  {
   "cell_type": "markdown",
   "id": "857b45c3-d771-4a4c-8c2b-81e604bb3e05",
   "metadata": {},
   "source": [
    "In other words, in a panmictic population, as we increase the sample size we will tend to fill out information about recent timescales, but will not add\n",
    "\n",
    "# To complete"
   ]
  }
 ],
 "metadata": {
  "kernelspec": {
   "display_name": "Python 3 (ipykernel)",
   "language": "python",
   "name": "python3"
  },
  "language_info": {
   "codemirror_mode": {
    "name": "ipython",
    "version": 3
   },
   "file_extension": ".py",
   "mimetype": "text/x-python",
   "name": "python",
   "nbconvert_exporter": "python",
   "pygments_lexer": "ipython3",
   "version": "3.12.2"
  }
 },
 "nbformat": 4,
 "nbformat_minor": 5
}
