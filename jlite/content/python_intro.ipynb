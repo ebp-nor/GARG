{
 "cells": [
  {
   "cell_type": "markdown",
   "id": "935be650-19d2-4b96-8810-ff8694ee92e5",
   "metadata": {},
   "source": [
    "### Other resources \n",
    "\n",
    "For a longer introduction to Python, see [the official Python tutorial](https://docs.python.org/3/tutorial/index.html), where in particular Chapters 3-5 provide a more in-depth treatment of the the basic foundations for this workshop."
   ]
  },
  {
   "cell_type": "markdown",
   "id": "6cbdf78d-0a12-4756-a401-1de5919d0d0b",
   "metadata": {},
   "source": [
    "### Navigating a Jupyter notebook"
   ]
  },
  {
   "cell_type": "markdown",
   "id": "fb9a10e6-64b6-4188-b6ac-a02a104915b2",
   "metadata": {},
   "source": [
    "A Jupyter notebook consists of cells that correspond to markdown text, raw format, or code. The format of a cell can be changed via the dropdown menu that by default is labelled `Markdown`. You can execute a cell by typing `shift+<Return>`. Don't be afraid to modify the contents of cells to see what happens! \n",
    "\n",
    "Below is an example of a cell (a \"code block\") that calculates the sum of 3 and 4. The cell consists of a `comment` (prefixed by the comment character `#`) and a `statement` `3 + 4`. Type `shift+<Return>` to see the results:"
   ]
  },
  {
   "cell_type": "code",
   "execution_count": null,
   "id": "2644e0e2-44f7-4a71-bf97-7f3d4db0e16b",
   "metadata": {},
   "outputs": [],
   "source": [
    "# Calculate the sum of 3 and 4\n",
    "# Execute the code block by pressing shift+<Return>\n",
    "3 + 4"
   ]
  },
  {
   "cell_type": "markdown",
   "id": "b8eb1408-f7a7-47ed-bd77-3603fb37e17e",
   "metadata": {},
   "source": [
    "You can insert new cells, move them around and more using commands in dropdown lists from the menu bar. For convenience there are keyboard shortcuts for many operations. If you are editing a cell, make sure to \"deactivate\" it first (`Esc` key) to gain access to the shortcuts. We list the most commonly used ones here for reference:\n",
    "\n",
    "- `Esc`: exit a cell if it is currently active\n",
    "- `a`: Insert new cell above current point\n",
    "- `b`: Insert new cell block below current point\n",
    "- `<Ctrl>+shift+-`: Split cell\n",
    "- `<Ctrl>+shift+Up`: Move cell up\n",
    "- `<Ctrl>+shift+Down`: Move cell down"
   ]
  },
  {
   "cell_type": "markdown",
   "id": "5426d92c-f397-4c74-8f59-0c6f5b4fe300",
   "metadata": {},
   "source": [
    "## Basic syntax and types"
   ]
  },
  {
   "cell_type": "markdown",
   "id": "f004b538-4a3f-4403-8d74-13d4bcbd5a66",
   "metadata": {},
   "source": [
    "As we saw a glimpse of above, at its simplest, you can use Python as a calculator:"
   ]
  },
  {
   "cell_type": "code",
   "execution_count": null,
   "id": "dc7bccf6-82f3-48f4-b75f-2de88ca96287",
   "metadata": {},
   "outputs": [],
   "source": [
    "# Calculate the sum of 3 and 4\n",
    "3 + 4"
   ]
  },
  {
   "cell_type": "markdown",
   "id": "0d308a22-d25d-45a2-9168-ef975f9ebc8b",
   "metadata": {},
   "source": [
    "Here, the `operator` `+` combines the values of `3` and `4` to produce the output `7`. There are several other operators, including subtraction (`-`), division (`/`), and multiplication (`*`). "
   ]
  },
  {
   "cell_type": "code",
   "execution_count": null,
   "id": "e2695a3d-e236-4de7-943b-0e1fad065b78",
   "metadata": {},
   "outputs": [],
   "source": [
    "3 - 4"
   ]
  },
  {
   "cell_type": "code",
   "execution_count": null,
   "id": "9badad79-7341-4642-9898-e04adb12178d",
   "metadata": {},
   "outputs": [],
   "source": [
    "3 / 4"
   ]
  },
  {
   "cell_type": "code",
   "execution_count": null,
   "id": "a4c59fab-d1e4-416a-bed8-ede01254697d",
   "metadata": {},
   "outputs": [],
   "source": [
    "3 * 4"
   ]
  },
  {
   "cell_type": "markdown",
   "id": "1bd96435-eefa-48a6-89f4-7213876b750f",
   "metadata": {},
   "source": [
    "### Variables and assignment"
   ]
  },
  {
   "cell_type": "markdown",
   "id": "cab8c939-76a2-418d-99c6-56063f9a9832",
   "metadata": {},
   "source": [
    "It is often useful to store values or text in variables. A variable is assigned a value with the assignment operator `=`:"
   ]
  },
  {
   "cell_type": "code",
   "execution_count": null,
   "id": "9971bb8e-bfc0-4182-81bd-792d89ab9890",
   "metadata": {},
   "outputs": [],
   "source": [
    "a = 3\n",
    "b = 4\n",
    "a + b"
   ]
  },
  {
   "cell_type": "markdown",
   "id": "a991ce8f-b97b-4bee-b9be-a356175d3805",
   "metadata": {},
   "source": [
    "There are many variants of the assignment operator, e.g., `+=` that increments a variable by the amount on the right hand side. For a complete list of assignment operators, see https://www.w3schools.com/python/python_operators.asp."
   ]
  },
  {
   "cell_type": "markdown",
   "id": "da4bf372-9e9a-4ba2-8ed3-3a47627040e6",
   "metadata": {},
   "source": [
    "### Numbers"
   ]
  },
  {
   "cell_type": "markdown",
   "id": "b9a17ab1-af57-4ced-a955-95b350230cc2",
   "metadata": {},
   "source": [
    "Numbers basically come in two flavors, [int](https://docs.python.org/3/library/functions.html#int) that we encountered previously, and [float](https://docs.python.org/3/library/functions.html#float) (decimal numbers). Division (`/`) produces float; to do floor division use the `//` operator and modulus (`%`) to get the remainder:"
   ]
  },
  {
   "cell_type": "code",
   "execution_count": null,
   "id": "d23a180a-0ed2-4cab-bd3b-ddfc87a9ce18",
   "metadata": {},
   "outputs": [],
   "source": [
    "4 // 3"
   ]
  },
  {
   "cell_type": "code",
   "execution_count": null,
   "id": "8a39d05c-2e2e-435c-8c3a-c23cc56429ad",
   "metadata": {},
   "outputs": [],
   "source": [
    "4 % 3"
   ]
  },
  {
   "cell_type": "markdown",
   "id": "8809c12d-bc09-4718-8c37-aacd8805131f",
   "metadata": {},
   "source": [
    "Use `**` to generate exponents (powers):"
   ]
  },
  {
   "cell_type": "code",
   "execution_count": null,
   "id": "dc7be6a7-70dd-4bd9-b244-58ba36ec933a",
   "metadata": {},
   "outputs": [],
   "source": [
    "3 ** 4"
   ]
  },
  {
   "cell_type": "markdown",
   "id": "5e98934d-f60d-41fd-83c7-5af8ef9df046",
   "metadata": {},
   "source": [
    "### Text"
   ]
  },
  {
   "cell_type": "markdown",
   "id": "35c50723-4ef9-412d-82d0-a6db6a4ec85d",
   "metadata": {},
   "source": [
    "Text is represented as \"strings\" ([str](https://docs.python.org/3/library/stdtypes.html#str)) by enclosing characters with single- (`'...'`) or double-quotes (`\"...\"`):"
   ]
  },
  {
   "cell_type": "code",
   "execution_count": null,
   "id": "646f28b1-3364-4325-8e6f-d5e159652428",
   "metadata": {},
   "outputs": [],
   "source": [
    "'foo'"
   ]
  },
  {
   "cell_type": "code",
   "execution_count": null,
   "id": "19e36c53-899c-4c1d-b08b-754c7dfd56af",
   "metadata": {},
   "outputs": [],
   "source": [
    "\"bar\""
   ]
  },
  {
   "cell_type": "markdown",
   "id": "d72c382a-ee9a-4577-a093-5d0f98c36966",
   "metadata": {},
   "source": [
    "Longer text can be split over multiple lines by enclosing with triple quotes:"
   ]
  },
  {
   "cell_type": "code",
   "execution_count": null,
   "id": "75590830-dbbc-4182-8449-8f34aa61c5d4",
   "metadata": {},
   "outputs": [],
   "source": [
    "\"\"\"foo\n",
    "bar\"\"\""
   ]
  },
  {
   "cell_type": "markdown",
   "id": "8ead7608-224b-40d9-9d2b-369e3594959d",
   "metadata": {},
   "source": [
    "Here, you will note that the line separator (`\\n`) is printed out. This output corresponds to the string defition (the \"string literal\"). If you want to print it in a more human-readable format, you can use the [print()](https://docs.python.org/3/library/functions.html#print) function:"
   ]
  },
  {
   "cell_type": "code",
   "execution_count": null,
   "id": "99d33ce5-2972-493f-af91-80d441b5219e",
   "metadata": {},
   "outputs": [],
   "source": [
    "print(\"\"\"foo\n",
    "bar\"\"\")"
   ]
  },
  {
   "cell_type": "markdown",
   "id": "875d735d-d4fe-4e96-aa07-4eaf82cdf74f",
   "metadata": {},
   "source": [
    "You can of course assign text to variables:"
   ]
  },
  {
   "cell_type": "code",
   "execution_count": null,
   "id": "b0eabd7d-7f79-4bf0-b244-6addfeafbd23",
   "metadata": {},
   "outputs": [],
   "source": [
    "foo = \"foo\"\n",
    "bar = \"bar\""
   ]
  },
  {
   "cell_type": "markdown",
   "id": "bcb5cd97-943c-440e-8a4a-4f52c8b18a10",
   "metadata": {},
   "source": [
    "With strings, the `+` operator has the special meaning of concatenation:"
   ]
  },
  {
   "cell_type": "code",
   "execution_count": null,
   "id": "da5d5582-82d7-4b8b-b07c-c1f858854b3b",
   "metadata": {},
   "outputs": [],
   "source": [
    "foo + bar"
   ]
  },
  {
   "cell_type": "code",
   "execution_count": null,
   "id": "c56d9a36-97a7-4b75-b7ee-fff9980bbea7",
   "metadata": {},
   "outputs": [],
   "source": [
    "foo + \"oeu\""
   ]
  },
  {
   "cell_type": "markdown",
   "id": "717f88ed-23be-42f5-8a0a-9d6c01aab56f",
   "metadata": {},
   "source": [
    "whereas the `*` operator repeats a string a given number of times:"
   ]
  },
  {
   "cell_type": "code",
   "execution_count": null,
   "id": "cc5de19e-ee33-422f-bcf3-a9eb4a239dcb",
   "metadata": {},
   "outputs": [],
   "source": [
    "3 * foo"
   ]
  },
  {
   "cell_type": "markdown",
   "id": "31d90e9a-cd7a-4ee3-8a85-2690eb2757a1",
   "metadata": {},
   "source": [
    "A string variable can be interpreted as a sequence of characters where a given position can be accessed via indexing (0-based, i.e., the first position corresponds to position 0):"
   ]
  },
  {
   "cell_type": "code",
   "execution_count": null,
   "id": "7a51cef4-aff5-4738-b601-53c1eedc7aeb",
   "metadata": {},
   "outputs": [],
   "source": [
    "foo[0]"
   ]
  },
  {
   "cell_type": "markdown",
   "id": "154c76cb-6c25-4b51-bb8c-af6ce83f5041",
   "metadata": {},
   "source": [
    "The builtin [len()](https://docs.python.org/3/library/functions.html#len) function gives the length of a string:"
   ]
  },
  {
   "cell_type": "code",
   "execution_count": null,
   "id": "1715e282-de3b-48a8-8fa5-100bcd313cfe",
   "metadata": {},
   "outputs": [],
   "source": [
    "len(foo)"
   ]
  },
  {
   "cell_type": "markdown",
   "id": "8f4d72bc-d5d8-4881-991a-5b188c07b6e3",
   "metadata": {},
   "source": [
    "The last index of the string is therefore `2`; trying to access index `3` will throw an error:"
   ]
  },
  {
   "cell_type": "code",
   "execution_count": null,
   "id": "e17d3778-5858-41e3-a412-ba9f4ad5123f",
   "metadata": {},
   "outputs": [],
   "source": [
    "foo[3]"
   ]
  },
  {
   "cell_type": "markdown",
   "id": "f28200c8-ba44-4c45-9a15-0ff5ff298465",
   "metadata": {},
   "source": [
    "Finally, we can access ranges of characters by providing a range of indices separated by the `:` operator; leaving one number out implicitly extends the range to the end of the sequence (and not beyond, as the final example shows):"
   ]
  },
  {
   "cell_type": "code",
   "execution_count": null,
   "id": "dd27ad20-3714-4720-bbf3-cfdcd0c62479",
   "metadata": {},
   "outputs": [],
   "source": [
    "foo[0:2], foo[1:], foo[:10]"
   ]
  },
  {
   "cell_type": "markdown",
   "id": "01525232-056d-4ff8-a8c0-cb8a95c9236d",
   "metadata": {},
   "source": [
    "#### f-string formatting\n",
    "\n",
    "We saw briefly how the [print()](https://docs.python.org/3/library/functions.html#print) function can be used to print text. In addition, we can format strings with so-called [formatted string literals](https://docs.python.org/3/reference/lexical_analysis.html#formatted-string-literals) (\"f-strings\"). To do so, we prefix a string with the `f` character. An f-string may contain replacement fields that consist of expressions delimited with curly brackets `{}`. For instance, we can insert variables in the replacement field:\n"
   ]
  },
  {
   "cell_type": "code",
   "execution_count": 2,
   "id": "45db26fc-ae09-4b94-a092-de40f5da1435",
   "metadata": {},
   "outputs": [
    {
     "name": "stdout",
     "output_type": "stream",
     "text": [
      "this is a string\n"
     ]
    }
   ],
   "source": [
    "a = \"a string\"\n",
    "print(f\"this is {a}\")"
   ]
  },
  {
   "cell_type": "markdown",
   "id": "6bd1e4d3-dbf8-46f1-b46c-af225754d24c",
   "metadata": {},
   "source": [
    "Replacement strings accept arguments following colon `:` and are commonly used to pretty-format variables, such as floating point numbers:"
   ]
  },
  {
   "cell_type": "code",
   "execution_count": 4,
   "id": "be5c408a-c623-4422-9606-11e3308aa981",
   "metadata": {},
   "outputs": [
    {
     "name": "stdout",
     "output_type": "stream",
     "text": [
      "x is 2.42\n"
     ]
    }
   ],
   "source": [
    "x = 2.424\n",
    "print(f\"x is {x:.2f}\")"
   ]
  },
  {
   "cell_type": "markdown",
   "id": "ee3e358b-1cd2-4771-a6ba-bdb4829f821a",
   "metadata": {},
   "source": [
    "Here, we print `x` to a precision of two decimal points. We can also specify the width of a string, its alignment and more. Here is an example of a formatting that right-aligns strings in fields 20 characters wide:"
   ]
  },
  {
   "cell_type": "code",
   "execution_count": 13,
   "id": "b18b3a48-f5d9-4fea-8682-5995c1271bc0",
   "metadata": {},
   "outputs": [
    {
     "name": "stdout",
     "output_type": "stream",
     "text": [
      "'            a string'\n",
      "'     a longer string'\n"
     ]
    }
   ],
   "source": [
    "a = \"a string\"\n",
    "b = \"a longer string\"\n",
    "print(f\"'{a:>20}'\\n'{b:>20}'\")"
   ]
  },
  {
   "cell_type": "markdown",
   "id": "b71a7ed7-28fd-4dc8-a665-c9eb2b6e9301",
   "metadata": {},
   "source": [
    "For a complete list of formatting options, see the [f-string documentation](https://docs.python.org/3/reference/lexical_analysis.html#formatted-string-literals)."
   ]
  },
  {
   "cell_type": "markdown",
   "id": "70ec2fdd-f6c5-4dc2-a215-8ab1692ab29c",
   "metadata": {},
   "source": [
    "### Lists "
   ]
  },
  {
   "cell_type": "markdown",
   "id": "e5ad2fd1-a210-4a84-b106-0221b05ffb80",
   "metadata": {},
   "source": [
    "As we saw, strings can be interpreted as a sequence of characters. They are an example of a data structure that holds a sequence of elements, namely [lists](https://docs.python.org/3/library/stdtypes.html#lists). A list is defined by enclosing a comma-separated list of expressions in brackets `[]`:"
   ]
  },
  {
   "cell_type": "code",
   "execution_count": 35,
   "id": "3097d2f4-ae8b-4e01-8d22-bbbc0f3df52a",
   "metadata": {},
   "outputs": [
    {
     "data": {
      "text/plain": [
       "[1, 2.0, 'three']"
      ]
     },
     "execution_count": 35,
     "metadata": {},
     "output_type": "execute_result"
    }
   ],
   "source": [
    "l = [1, 2.0, \"three\"]\n",
    "l"
   ]
  },
  {
   "cell_type": "markdown",
   "id": "44af21b6-ca3d-4385-b173-1761eefec96f",
   "metadata": {},
   "source": [
    "As you can see, you can mix types as you like. As with strings, you access can access indivudual elements or ranges (a.k.a \"slices\"):"
   ]
  },
  {
   "cell_type": "code",
   "execution_count": 30,
   "id": "ac71e0f9-d21d-4d0f-8f09-23eb16f90c6e",
   "metadata": {},
   "outputs": [
    {
     "data": {
      "text/plain": [
       "(1, [2.0, 'three'])"
      ]
     },
     "execution_count": 30,
     "metadata": {},
     "output_type": "execute_result"
    }
   ],
   "source": [
    "l[0], l[1:]"
   ]
  },
  {
   "cell_type": "markdown",
   "id": "2d3fd889-5e6e-4b42-98a0-c4a8e3a926c9",
   "metadata": {},
   "source": [
    "Lists can be concatenated with the `+` operator, and in contrast to strings, elements may be replaced; a list is a so-called [mutable](https://docs.python.org/3/glossary.html#term-mutable) type, whereas strings are [immutable](https://docs.python.org/3/glossary.html#term-immutable):"
   ]
  },
  {
   "cell_type": "code",
   "execution_count": 31,
   "id": "c8876795-f4da-4d44-bdde-b8e1ecafad2e",
   "metadata": {},
   "outputs": [
    {
     "data": {
      "text/plain": [
       "[1, 2.0, 'three', 4, 5]"
      ]
     },
     "execution_count": 31,
     "metadata": {},
     "output_type": "execute_result"
    }
   ],
   "source": [
    "l + [4, 5]"
   ]
  },
  {
   "cell_type": "code",
   "execution_count": 32,
   "id": "3ed589e8-9506-49dc-b6fd-33cb26987be6",
   "metadata": {},
   "outputs": [
    {
     "data": {
      "text/plain": [
       "[1, 2, 'three']"
      ]
     },
     "execution_count": 32,
     "metadata": {},
     "output_type": "execute_result"
    }
   ],
   "source": [
    "l[1] = 2\n",
    "l"
   ]
  },
  {
   "cell_type": "code",
   "execution_count": 25,
   "id": "778d662c-5340-4904-9e45-2081e9f0f876",
   "metadata": {},
   "outputs": [
    {
     "ename": "TypeError",
     "evalue": "'str' object does not support item assignment",
     "output_type": "error",
     "traceback": [
      "\u001b[0;31m---------------------------------------------------------------------------\u001b[0m",
      "\u001b[0;31mTypeError\u001b[0m                                 Traceback (most recent call last)",
      "Cell \u001b[0;32mIn[25], line 2\u001b[0m\n\u001b[1;32m      1\u001b[0m a \u001b[38;5;241m=\u001b[39m \u001b[38;5;124m\"\u001b[39m\u001b[38;5;124mfoo\u001b[39m\u001b[38;5;124m\"\u001b[39m\n\u001b[0;32m----> 2\u001b[0m \u001b[43ma\u001b[49m\u001b[43m[\u001b[49m\u001b[38;5;241;43m1\u001b[39;49m\u001b[43m]\u001b[49m \u001b[38;5;241m=\u001b[39m \u001b[38;5;124m\"\u001b[39m\u001b[38;5;124mb\u001b[39m\u001b[38;5;124m\"\u001b[39m\n",
      "\u001b[0;31mTypeError\u001b[0m: 'str' object does not support item assignment"
     ]
    }
   ],
   "source": [
    "a = \"foo\"\n",
    "a[1] = \"b\""
   ]
  },
  {
   "cell_type": "markdown",
   "id": "4a696db7-a49a-4e76-9c86-db412edfb65d",
   "metadata": {},
   "source": [
    "A list object also has methods \"attached\" to it, so we could add an element to a list as follows: "
   ]
  },
  {
   "cell_type": "code",
   "execution_count": 36,
   "id": "de865ae0-b765-4721-8bed-0da847f93376",
   "metadata": {},
   "outputs": [
    {
     "data": {
      "text/plain": [
       "[1, 2.0, 'three', 4]"
      ]
     },
     "execution_count": 36,
     "metadata": {},
     "output_type": "execute_result"
    }
   ],
   "source": [
    "l.append(4)\n",
    "l"
   ]
  },
  {
   "cell_type": "markdown",
   "id": "d9529e6a-67af-434f-b050-1c06115379b9",
   "metadata": {},
   "source": [
    "This is generally true for all objects in Python; they are a type of a given class with attached methods that can be accessed with the `.` operator."
   ]
  },
  {
   "cell_type": "markdown",
   "id": "0df9d827-f144-48ce-970a-e21b5039ae05",
   "metadata": {},
   "source": [
    "### Comparison operators"
   ]
  },
  {
   "cell_type": "markdown",
   "id": "18a0dc9b-24b7-4447-9ffe-21acbb379bfb",
   "metadata": {},
   "source": [
    "## Control flow\n"
   ]
  },
  {
   "cell_type": "markdown",
   "id": "56772ce8-c714-4370-a916-a594e6b7369d",
   "metadata": {},
   "source": [
    "- for loops\n",
    "- while\n",
    "- if else"
   ]
  },
  {
   "cell_type": "markdown",
   "id": "4befec4a-292d-4fe0-8751-2c86f7a3acca",
   "metadata": {},
   "source": [
    "## Data structures\n"
   ]
  },
  {
   "cell_type": "markdown",
   "id": "b1c79107-0f3c-424d-9b44-f58b52e6cf0c",
   "metadata": {},
   "source": [
    "### Lists again"
   ]
  },
  {
   "cell_type": "markdown",
   "id": "476f77c8-aaa5-4ce3-bb3a-ca6cc0bbf504",
   "metadata": {},
   "source": [
    "- list comprehensions\n"
   ]
  },
  {
   "cell_type": "markdown",
   "id": "58396955-3276-4c93-b3ac-186f776453e4",
   "metadata": {},
   "source": [
    "### Dicts"
   ]
  },
  {
   "cell_type": "markdown",
   "id": "a3b68939-89ab-4cb5-9254-37788efa730a",
   "metadata": {},
   "source": [
    "- key-value lookup\n"
   ]
  },
  {
   "cell_type": "markdown",
   "id": "dc0d4f9d-ed8f-47fc-8a4b-bb342335eb4d",
   "metadata": {},
   "source": [
    "## Functions"
   ]
  },
  {
   "cell_type": "markdown",
   "id": "3d423db7-fe65-4f20-8823-b74baa07d31b",
   "metadata": {},
   "source": [
    "- use\n",
    "- how do define\n",
    "- arguments\n",
    "- lambda functions"
   ]
  },
  {
   "cell_type": "markdown",
   "id": "9c50118c-1a81-4248-a647-f9ae30c38631",
   "metadata": {},
   "source": [
    "## Modules"
   ]
  },
  {
   "cell_type": "markdown",
   "id": "969db391-bc80-45da-9e0e-1fb8058aa0af",
   "metadata": {},
   "source": [
    "- what are modules\n",
    "- how to do imports\n"
   ]
  },
  {
   "cell_type": "markdown",
   "id": "d0db7782-9a31-49a5-a45d-a7bd3db9e82a",
   "metadata": {},
   "source": [
    "### numpy"
   ]
  },
  {
   "cell_type": "markdown",
   "id": "8d993c89-e4d5-4657-ac0f-06d39eb042e8",
   "metadata": {},
   "source": [
    "- efficient way of storing / analyzing numerical data\n",
    "- used extensively in tskit"
   ]
  },
  {
   "cell_type": "markdown",
   "id": "51e261cc-ec44-4ff0-bc39-4dded5ee7eaa",
   "metadata": {},
   "source": [
    "### matplotlib\n"
   ]
  },
  {
   "cell_type": "markdown",
   "id": "5b43e7a4-0c85-4a40-b377-b4baaeb1d9c9",
   "metadata": {},
   "source": [
    "- base plotting library\n",
    "- verbose syntax but gets the job done"
   ]
  }
 ],
 "metadata": {
  "kernelspec": {
   "display_name": "Python (garg)",
   "language": "python",
   "name": "garg"
  },
  "language_info": {
   "codemirror_mode": {
    "name": "ipython",
    "version": 3
   },
   "file_extension": ".py",
   "mimetype": "text/x-python",
   "name": "python",
   "nbconvert_exporter": "python",
   "pygments_lexer": "ipython3",
   "version": "3.12.3"
  }
 },
 "nbformat": 4,
 "nbformat_minor": 5
}
