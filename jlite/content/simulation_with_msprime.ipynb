{
 "cells": [
  {
   "cell_type": "code",
   "execution_count": null,
   "id": "12344a8d",
   "metadata": {},
   "outputs": [],
   "source": [
    "import sys\n",
    "import tskit\n",
    "import msprime\n",
    "\n",
    "\n",
    "if \"pyodide\" in sys.modules:\n",
    "    import tqdm\n",
    "    import micropip\n",
    "    await micropip.install('jupyterquiz')\n",
    "    await micropip.install('demesdraw')\n",
    "\n",
    "\n",
    "import workshop\n",
    "workbook = workshop.setup_msprime_simulations()\n",
    "display(workbook.setup)"
   ]
  },
  {
   "cell_type": "markdown",
   "id": "46556514",
   "metadata": {},
   "source": [
    "# An introduction to simulations with msprime"
   ]
  },
  {
   "cell_type": "markdown",
   "id": "a2bdf30f",
   "metadata": {},
   "source": [
    "In this exercise we will acquaint ourselves with the extremely efficient and versatile coalescent simulator [msprime](https://tskit.dev/msprime/docs/stable/intro.html). It ows much of its efficiency to the [tskit](https://tskit.dev/) (tree sequence kit) format to efficiently store and process genetic and phylogenetic data. Together with other software that use this file format, it makes up an ecosystem of high performant population genetic tools.\n",
    "\n",
    "We will start by reproducing simulations similar to those in the previous exercise, after which we move on to more advanced examples. Many of the examples here are taken from the [msprime quickstart](https://tskit.dev/msprime/docs/stable/quickstart.html) and documentation.\n"
   ]
  },
  {
   "cell_type": "markdown",
   "id": "bd77222a",
   "metadata": {},
   "source": [
    "## Basic simulations\n",
    "\n",
    "Briefly, coalescent simulations in msprime are done by calling two functions in succession which, by coincidence 😉, are called `sim_ancestry` and `sim_mutations`. "
   ]
  },
  {
   "cell_type": "markdown",
   "id": "0ba3df18",
   "metadata": {},
   "source": [
    "### Getting to know the tree sequence object"
   ]
  },
  {
   "cell_type": "markdown",
   "id": "2a630818",
   "metadata": {},
   "source": [
    "Let's first simulate the [ancestry](https://tskit.dev/msprime/docs/stable/ancestry.html#) of 5 samples. The call to [msprime.sim_ancestry](https://tskit.dev/msprime/docs/stable/api.html#msprime.sim_ancestry) will return a so-called [tree sequence](https://tskit.dev/learn/), which we will call `ts`. "
   ]
  },
  {
   "cell_type": "code",
   "execution_count": null,
   "id": "50e59ed4",
   "metadata": {},
   "outputs": [],
   "source": [
    "ts = msprime.sim_ancestry(samples=5, ploidy=1, random_seed=123456)"
   ]
  },
  {
   "cell_type": "markdown",
   "id": "8e0a3a01",
   "metadata": {},
   "source": [
    "By default, `msprime` assumes a ploidy of 2, which is why we have to manually pass the `ploidy` parameter. In addition, by setting the `random_seed`, we make sure simulation output can be reproduced. Let's print the output object:"
   ]
  },
  {
   "cell_type": "code",
   "execution_count": null,
   "id": "a8279818",
   "metadata": {},
   "outputs": [],
   "source": [
    "ts"
   ]
  },
  {
   "cell_type": "markdown",
   "id": "d764d70c",
   "metadata": {},
   "source": [
    "The `ts` object is an instance of the [Tree Sequence](https://tskit.dev/tskit/docs/latest/python-api.html#the-treesequence-class) class. Briefly, it consists of metadata, such as the `Sequence Length` or `Time Units`, and a number of tables, such as the `Edges` (the equivalent of our `branches`), `Nodes`, and `Mutations` table. The metadata and table entries can be accessed with identically-named properties or functions on `ts` (where spaces have been replaced by underscores), e.g.,"
   ]
  },
  {
   "cell_type": "code",
   "execution_count": null,
   "id": "3d0ab62d",
   "metadata": {},
   "outputs": [],
   "source": [
    "print(ts.sequence_length)\n",
    "print(ts.time_units)\n",
    "for ind in ts.individuals():\n",
    "    print(ind)"
   ]
  },
  {
   "cell_type": "markdown",
   "id": "7c3c4957",
   "metadata": {},
   "source": [
    "So, an individual carries an `id`, a unique number that identifies the individual. This is a common feature of the `tskit` data structures in that all objects carry a unique numeric identifier `id`. Furthermore, there are references to an individual's `parents`, which is a list of integers corresponding to parent ids, and similarly for `nodes`, the nodes of the tree. Finally, there is additional information such as a `metadata` slot. "
   ]
  },
  {
   "cell_type": "markdown",
   "id": "fc40ce99",
   "metadata": {},
   "source": [
    "The `ts.individuals()` function accesses individuals from the `Individuals` table, one by one. As we here have simulated a small genealogy, you can also print the table directly (but don't do it for large simulations!):"
   ]
  },
  {
   "cell_type": "code",
   "execution_count": null,
   "id": "1a8e9444",
   "metadata": {},
   "outputs": [],
   "source": [
    "ts.tables.individuals"
   ]
  },
  {
   "cell_type": "markdown",
   "id": "d801dfe6",
   "metadata": {},
   "source": [
    "In addition to the properties and functions that map to the metadata and table names, there are a number of convenience functions that provide shortcut access to quantities of interest, e.g., `ts.num_individuals` and `ts.num_populations`:"
   ]
  },
  {
   "cell_type": "code",
   "execution_count": null,
   "id": "59d4b9b0",
   "metadata": {
    "scrolled": true
   },
   "outputs": [],
   "source": [
    "ts.num_individuals, ts.num_populations"
   ]
  },
  {
   "cell_type": "markdown",
   "id": "fd01f403",
   "metadata": {},
   "source": [
    "You can find all properties and functions defined on `ts` by using the python builtin `dir`:"
   ]
  },
  {
   "cell_type": "code",
   "execution_count": null,
   "id": "31388cd8",
   "metadata": {
    "scrolled": true
   },
   "outputs": [],
   "source": [
    "dir(ts)"
   ]
  },
  {
   "cell_type": "markdown",
   "id": "fcf4b4bf",
   "metadata": {},
   "source": [
    "Let's find some more information from the tables."
   ]
  },
  {
   "cell_type": "code",
   "execution_count": null,
   "id": "0011411e",
   "metadata": {},
   "outputs": [],
   "source": [
    "workbook.question(\"tskit_tables\")"
   ]
  },
  {
   "cell_type": "markdown",
   "id": "7b33ee31",
   "metadata": {},
   "source": [
    "There (of course) exists functionality to easily plot a genealogy. The `ts` object has several `draw_` functions, on of which produces svg output:"
   ]
  },
  {
   "cell_type": "code",
   "execution_count": null,
   "id": "39505de7",
   "metadata": {},
   "outputs": [],
   "source": [
    "ts.draw_svg()"
   ]
  },
  {
   "cell_type": "markdown",
   "id": "66e876d3",
   "metadata": {},
   "source": [
    "Apart from showing the genealogy, there is a genome coordinate system, \n",
    "showing the simulations assume a sequence of length 1 nucleotide by default."
   ]
  },
  {
   "cell_type": "markdown",
   "id": "224efff2",
   "metadata": {},
   "source": [
    "### Adding mutations\n",
    "\n",
    "As before, we add mutations with a `sim_mutations` function, [msprime.sim_mutations](https://tskit.dev/msprime/docs/stable/api.html#msprime.sim_mutations):"
   ]
  },
  {
   "cell_type": "code",
   "execution_count": null,
   "id": "c23b14bc",
   "metadata": {},
   "outputs": [],
   "source": [
    "mutated_ts = msprime.sim_mutations(ts, rate=0.5, random_seed=54321)"
   ]
  },
  {
   "cell_type": "markdown",
   "id": "4a1e1cf4",
   "metadata": {},
   "source": [
    "Here, we specify the mutation rate via the `rate` parameter, which according to the docs is \"The rate of mutation per unit of sequence length per unit time\" (try varying this parameter and see how it affects the illustrated genealogy below):"
   ]
  },
  {
   "cell_type": "code",
   "execution_count": null,
   "id": "b72e8425",
   "metadata": {},
   "outputs": [],
   "source": [
    "mutated_ts.draw_svg(size=(500, 300))"
   ]
  },
  {
   "cell_type": "markdown",
   "id": "2da7f8d1",
   "metadata": {},
   "source": [
    "Here we increase the size of the plot to see the details better. To begin with, a mutation is indicated with a red `x`. In addition, the mutations are numbered, such that the ordering along a genetic sequence is explicit. Finally, at genome position 0 you see <em>&or;</em> marks that indicate the position of a mutation.\n",
    "\n",
    "The latter point can also be illustrated by printing all the mutations, as follows (note the information in `site`):\n"
   ]
  },
  {
   "cell_type": "code",
   "execution_count": null,
   "id": "44838798",
   "metadata": {
    "scrolled": false
   },
   "outputs": [],
   "source": [
    "for mut in mutated_ts.mutations():\n",
    "    print(mut)"
   ]
  },
  {
   "cell_type": "markdown",
   "id": "8b16a6f0",
   "metadata": {},
   "source": [
    "As before, there are shorthand functions and properties to access quantities of interest, e.g.,\n"
   ]
  },
  {
   "cell_type": "code",
   "execution_count": null,
   "id": "fc45c6fa",
   "metadata": {},
   "outputs": [],
   "source": [
    "mutated_ts.mutations_time"
   ]
  },
  {
   "cell_type": "markdown",
   "id": "944bb299",
   "metadata": {},
   "source": [
    "### Summary statistics"
   ]
  },
  {
   "cell_type": "markdown",
   "id": "cae10935",
   "metadata": {},
   "source": [
    "There is support for calculating a variety of summary statistics on tree sequences. For instance, to calculate the diversity of `mutated_ts` you can run\n"
   ]
  },
  {
   "cell_type": "code",
   "execution_count": null,
   "id": "bf4b5fe3",
   "metadata": {},
   "outputs": [],
   "source": [
    "mutated_ts.diversity()"
   ]
  },
  {
   "cell_type": "markdown",
   "id": "da669ed8",
   "metadata": {},
   "source": [
    "<dl class=\"exercise\"><dt>Exercise 1</dt>\n",
    "    <dd>OPTIONAL: verify the diversity using the equation\n",
    "        \n",
    "$$\n",
    "\\pi = \\frac{\\sum_{i=1}^{n-1}i(n-i)\\xi_i}{n(n-1)/2}\n",
    "$$\n",
    "        \n",
    "Here, $\\xi_i$ is the tally of the number of mutations that occur in $i$ samples (the *site frequency spectrum*). Recall that the `diversity` function reports a *per-site* statistic!\n",
    "    </dd>\n",
    "    </dl>"
   ]
  },
  {
   "cell_type": "markdown",
   "id": "2e09092d",
   "metadata": {},
   "source": [
    "## More realistic simulations\n",
    "\n",
    "So far we have basically demonstrated how our homemade simulations look in msprime. However, the msprime versions of [sim_ancestry](https://tskit.dev/msprime/docs/stable/api.html#msprime.sim_ancestry) and [sim_mutations](https://tskit.dev/msprime/docs/stable/api.html#msprime.sim_mutations) provide many more options than our functions, and simulations can accomodate much more complex and realistic scenarios, such as *recombination*, *migration*, *demographic changes*, in some cases *selection*, and more. Briefly skim the API documentation by following the links above to get an overview of what these functions can do."
   ]
  },
  {
   "cell_type": "markdown",
   "id": "23a5eb02",
   "metadata": {},
   "source": [
    "### Diploid simulations\n",
    "\n",
    "Until now, we have focused on haploid individuals. In order to introduce recombination, we shift to diploids, which is in fact the [default setting in msprime](https://tskit.dev/msprime/docs/stable/ancestry.html#ploidy). Since a node corresponds to one chromosome, this means an individual is related to two nodes in a tree.\n",
    "\n"
   ]
  },
  {
   "cell_type": "code",
   "execution_count": null,
   "id": "35b9bb94",
   "metadata": {},
   "outputs": [],
   "source": [
    "ts = msprime.sim_ancestry(samples=2, random_seed=23423)\n",
    "print(ts.tables.individuals)\n",
    "print(ts.tables.nodes)"
   ]
  },
  {
   "cell_type": "markdown",
   "id": "b48cea0c",
   "metadata": {},
   "source": [
    "Note the individual ids and how they relate to the node ids."
   ]
  },
  {
   "cell_type": "markdown",
   "id": "fd008500",
   "metadata": {},
   "source": [
    "### Sequence length\n",
    "\n",
    "By default sequences in `msprime` correspond to nucleotides. Let's specify a 10kb sequence with the parameter `sequence_length`. Note how the genome coordinates change in the resulting plot.\n"
   ]
  },
  {
   "cell_type": "code",
   "execution_count": null,
   "id": "48fb7330",
   "metadata": {},
   "outputs": [],
   "source": [
    "ts = msprime.sim_ancestry(samples=2,\n",
    "                          sequence_length=10_000,\n",
    "                          random_seed=123456)\n",
    "ts.draw_svg()"
   ]
  },
  {
   "cell_type": "markdown",
   "id": "72ab0968",
   "metadata": {},
   "source": [
    "### Recombination\n"
   ]
  },
  {
   "cell_type": "markdown",
   "id": "979d1d54",
   "metadata": {},
   "source": [
    "Sofar the tree sequence consists of one tree, which corresponds to a non-recombining sequence. We can set the `recombination_rate` parameter to add recombination. Note how we now have two trees, one for each non-recombining sequence."
   ]
  },
  {
   "cell_type": "code",
   "execution_count": null,
   "id": "f2a5a3d4",
   "metadata": {},
   "outputs": [],
   "source": [
    "ts = msprime.sim_ancestry(samples=2,\n",
    "                          sequence_length=10_000,\n",
    "                          recombination_rate=1e-5, # set a high rate \n",
    "                          random_seed=12353\n",
    "                         )\n",
    "ts.draw_svg(size=(600, 300))"
   ]
  },
  {
   "cell_type": "code",
   "execution_count": null,
   "id": "1174cca9",
   "metadata": {},
   "outputs": [],
   "source": [
    "workbook.question(\"recombination\")"
   ]
  },
  {
   "cell_type": "markdown",
   "id": "6f940830",
   "metadata": {},
   "source": [
    "### Population information"
   ]
  },
  {
   "cell_type": "markdown",
   "id": "b07ec9d9",
   "metadata": {},
   "source": [
    "Sofar, we have not mentioned population size in our simulations, but this is something we would like to do since this parameter affects the dynamics of the system. We can set the population size with the `population_size` option, which corresponds to the *effective population size* $N_e$. Note that we decrease the sequence length and recombination rate to speed up simulation:"
   ]
  },
  {
   "cell_type": "code",
   "execution_count": null,
   "id": "a77477c9",
   "metadata": {},
   "outputs": [],
   "source": [
    "ts_small = msprime.sim_ancestry(\n",
    "    samples=2,\n",
    "    sequence_length=1_000,\n",
    "    recombination_rate=1e-8, \n",
    "    population_size=20_000, # similar to human Ne\n",
    "    random_seed=12123\n",
    ")\n",
    "ts_small.draw_svg()"
   ]
  },
  {
   "cell_type": "markdown",
   "id": "458ba309",
   "metadata": {},
   "source": [
    "<dl class=\"exercise\"><dt>Exercise 2</dt>\n",
    "    <dd>To demonstrate the speed of msprime, simulate a large tree sequence of 20,000 diploid individuals with 1Mbp genomes and a recombination rate of 1e-8. Use the random seed 42, save the output to a variable <tt>large_ts</tt> and print the table.\n",
    "\n",
    "<div class=\"alert alert-block alert-info\"><b>Tip:</b>\n",
    "    Make sure you DON'T display the SVG trees! Each tree is huge, and there are a lot of them.</div>        \n",
    "</dd>\n",
    "</dl>"
   ]
  },
  {
   "cell_type": "code",
   "execution_count": null,
   "id": "9bb22552",
   "metadata": {},
   "outputs": [],
   "source": [
    "# Exercise: Set `large_ts` to a new large tree sequence, generated using msprime.sim_ancestry() with\n",
    "# specific parameters (random_seed=42, etc.), then output the tree sequence summary table to screen.\n"
   ]
  },
  {
   "cell_type": "code",
   "execution_count": null,
   "id": "92cb71e0",
   "metadata": {},
   "outputs": [],
   "source": [
    "workbook.question(\"large_ancestry\")"
   ]
  },
  {
   "cell_type": "markdown",
   "id": "320f4256",
   "metadata": {},
   "source": [
    "### Adding mutations"
   ]
  },
  {
   "cell_type": "markdown",
   "id": "b8329834",
   "metadata": {},
   "source": [
    "Now we add mutations to the simulated ancestry. Note that there are more mutations than sites.\n"
   ]
  },
  {
   "cell_type": "code",
   "execution_count": null,
   "id": "998610fb",
   "metadata": {},
   "outputs": [],
   "source": [
    "mts_small = msprime.sim_mutations(\n",
    "    ts_small, # Use the small tree so we can visualize mutations\n",
    "    rate=1e-7, # set a high mutation rate \n",
    "    random_seed=22\n",
    ")"
   ]
  },
  {
   "cell_type": "code",
   "execution_count": null,
   "id": "4a263bea",
   "metadata": {},
   "outputs": [],
   "source": [
    "mts_small.draw_svg(size=(600, 300))"
   ]
  },
  {
   "cell_type": "code",
   "execution_count": null,
   "id": "e81556f7",
   "metadata": {},
   "outputs": [],
   "source": [
    "mts_small"
   ]
  },
  {
   "cell_type": "markdown",
   "id": "77a18845",
   "metadata": {},
   "source": [
    "<dl class=\"exercise\"><dt>Exercise</dt>\n",
    "    \n",
    "Print out the mutations table of the <code>mts_small</code> object.\n",
    " \n",
    "</dd>\n",
    "</dl>"
   ]
  },
  {
   "cell_type": "code",
   "execution_count": null,
   "id": "c41bf3dc",
   "metadata": {},
   "outputs": [],
   "source": [
    "workbook.question(\"mutation_id\")"
   ]
  },
  {
   "cell_type": "markdown",
   "id": "19e330e3",
   "metadata": {},
   "source": [
    "We'll now add mutations to the large ancestry simulated previously. Recall that we have a sample size of 20,000, corresponding to 40,000 chromosomes. A 1Mbp sequence may contain in the order of 10,000 variant positions, which in a [Variant Call Format](https://en.wikipedia.org/wiki/Variant_Call_Format) (vcf) file would constitute a 40,000 by 10,000 matrix, requiring ca 700 Mb (uncompressed) storage. The resulting tree sequence, however, only requires 8Mb."
   ]
  },
  {
   "cell_type": "markdown",
   "id": "0274d73e",
   "metadata": {},
   "source": [
    "<dl class=\"exercise\"><dt>Exercise 4</dt>\n",
    "    <dd>\n",
    "        \n",
    "Add mutations to the `large_ts` tree sequence simulated previously. Use a random seed 276 and mutation rate 1e-8.\n",
    "    </dd>\n",
    "    </dl>"
   ]
  },
  {
   "cell_type": "code",
   "execution_count": null,
   "id": "225d823e",
   "metadata": {},
   "outputs": [],
   "source": [
    "# Exercise 4: add mutations to large_ts with random seed 276 and \n",
    "# mutation rate 1e-8\n",
    "%time # Time the command\n"
   ]
  },
  {
   "cell_type": "code",
   "execution_count": null,
   "id": "95a888c1",
   "metadata": {
    "scrolled": true
   },
   "outputs": [],
   "source": [
    "workbook.question(\"large_mutation\")"
   ]
  },
  {
   "cell_type": "markdown",
   "id": "825a0807",
   "metadata": {},
   "source": [
    "Note that it only takes a second or two two generate this reasonably large data set which fits handily on a laptop. With the efficient storage that the [tskit](https://tskit.dev) library provide, together with efficient simulators like `msprime`, it is now possible to simulate data for realistically large populations and genome sizes"
   ]
  }
 ],
 "metadata": {
  "kernelspec": {
   "display_name": "Python (pgip-jlite)",
   "language": "python",
   "name": "pgip-jlite"
  },
  "language_info": {
   "codemirror_mode": {
    "name": "ipython",
    "version": 3
   },
   "file_extension": ".py",
   "mimetype": "text/x-python",
   "name": "python",
   "nbconvert_exporter": "python",
   "pygments_lexer": "ipython3",
   "version": "3.10.11"
  }
 },
 "nbformat": 4,
 "nbformat_minor": 5
}
