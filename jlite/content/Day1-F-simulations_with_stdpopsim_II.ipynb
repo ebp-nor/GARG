{
 "cells": [
  {
   "cell_type": "markdown",
   "metadata": {
    "id": "VpWXVCgis7xa"
   },
   "source": [
    "# Setup\n",
    "\n",
    "To access material for this workbook please execute the two notebook cells immediately below (e.g. use the shortcut <shift>+<return>). The first cell can be skipped if you are running this notebook locally and have already installed all the necessary packages. The second cell should print out \"Your notebook is ready to go!\""
   ]
  },
  {
   "cell_type": "code",
   "execution_count": null,
   "metadata": {
    "id": "VpWXVCgis7xa"
   },
   "outputs": [],
   "source": [
    "JUPYTERLITE = False\n",
    "if 'pyodide_kernel' in str(get_ipython()):  # specify packages to install under JupyterLite\n",
    "    JUPYTERLITE = True\n",
    "    %pip install -q -r jlite-requirements.txt\n",
    "elif 'google.colab' in str(get_ipython()):  # specify package location for loading in Colab\n",
    "    from google.colab import drive\n",
    "    drive.mount('/content/drive')\n",
    "    %run /content/drive/MyDrive/GARG_workshop/Notebooks/add_module_path.py\n",
    "else:  # install packages on your local machine (-q = \"quiet\": don't print out installation steps)\n",
    "    # (NB: you can probably ignore any message about restarting the kernel)\n",
    "    !pip install -q -r https://github.com/ebp-nor/GARG/raw/main/jlite/requirements.txt"
   ]
  },
  {
   "cell_type": "code",
   "execution_count": null,
   "metadata": {},
   "outputs": [],
   "source": [
    "# Load questions etc for this workbook\n",
    "import ARG_workshop\n",
    "workbook = ARG_workshop.Workbook1F()\n",
    "display(workbook.setup)\n",
    "import warnings\n",
    "warnings.filterwarnings('ignore')"
   ]
  },
  {
   "cell_type": "markdown",
   "metadata": {
    "id": "u8Z4B6O2-3ob"
   },
   "source": [
    "# Workbook 1-F: Simulations with stdpopsim II"
   ]
  },
  {
   "cell_type": "markdown",
   "metadata": {},
   "source": [
    "In the previous workbook we were introduced to stdpopsim, a package for making population genetic simulations. Here, we will build upon what we learned and make some more advanced models. We will look at a selective sweep model, and also simulate data from a nonmodel organism. We will make use of a sweep model that actually can be simulated with msprime (namely [msprime.SweepGenicSelection](https://tskit.dev/msprime/docs/stable/api.html#msprime.SweepGenicSelection)), thus avoiding the need to rely on SLiM in this particular instance."
   ]
  },
  {
   "cell_type": "markdown",
   "metadata": {},
   "source": [
    "## Setting up a *Pan troglodytes* model\n"
   ]
  },
  {
   "cell_type": "markdown",
   "metadata": {},
   "source": [
    "Import the relevant libraries"
   ]
  },
  {
   "cell_type": "code",
   "execution_count": null,
   "metadata": {},
   "outputs": [],
   "source": [
    "import numpy as np\n",
    "import pandas as pd\n",
    "import msprime\n",
    "import stdpopsim\n",
    "import tskit"
   ]
  },
  {
   "cell_type": "markdown",
   "metadata": {},
   "source": [
    "and get a chimpanzee demographic model which includes a ghost population. We plot the demographic history with demesdraw as before to get an overview of the model."
   ]
  },
  {
   "cell_type": "code",
   "execution_count": null,
   "metadata": {},
   "outputs": [],
   "source": [
    "species = stdpopsim.get_species(\"PanTro\")\n",
    "model = species.get_demographic_model(\"BonoboGhost_4K19\")\n",
    "contig = species.get_contig(\"chr3\", mutation_rate=model.mutation_rate)\n",
    "sample_sizes = {\"bonobo\": 10, \"central\": 10, \"western\": 10}"
   ]
  },
  {
   "cell_type": "code",
   "execution_count": null,
   "metadata": {},
   "outputs": [],
   "source": [
    "import demesdraw\n",
    "demesgraph = model.model.to_demes()\n",
    "demesdraw.tubes(demesgraph);"
   ]
  },
  {
   "cell_type": "markdown",
   "metadata": {},
   "source": [
    "We specify a chromosome length and a time $G$ ago in generations, from which point we assume populations are isolated and of constant size. Furthermore, we define two loci that are subject to selective sweeps."
   ]
  },
  {
   "cell_type": "code",
   "execution_count": null,
   "metadata": {},
   "outputs": [],
   "source": [
    "L = 10e6  # Simulate 10 Mb\n",
    "G = 4000  # A time ago in generations: we assume populations from time 0..G are isolated and of constant size\n",
    "\n",
    "sweep_params = {\n",
    "    \"bonobo\": {\"position\": L//3, \"s\": 0.05},\n",
    "    \"western\": {\"position\": (2 * L)//3, \"s\": 0.1},\n",
    "}"
   ]
  },
  {
   "cell_type": "markdown",
   "metadata": {},
   "source": [
    "Here we define a chromosome of length 10Mb with different sweep locations and selection parameters for populations `bonobo` and `western`."
   ]
  },
  {
   "cell_type": "markdown",
   "metadata": {},
   "source": [
    "## Make independent populations, some with selective sweeps"
   ]
  },
  {
   "cell_type": "markdown",
   "metadata": {},
   "source": [
    "Now that we have defined sweep parameters for `bonobo` and `western` populations we simulate sampled individuals from the populations with defined sample sizes in `sample_sizes`. Briefly, we loop through the populations defined by the model and initialize a population if it is defined in `sample_sizes`. Moreover, we specify different simulation functions (`SweepGenicSelection` vs `StandardCoalescent`) depending on settings in `sweep_params`. Finally, we add independent simulations to `independent_pop_ts` and combine the results tree sequence objects to `combined_ts`. Note that we here only simulate the ancestries (trees); mutations will be added on top later on."
   ]
  },
  {
   "cell_type": "code",
   "execution_count": null,
   "metadata": {},
   "outputs": [],
   "source": [
    "# Make independent populations, some with selective sweeps\n",
    "independent_pop_ts = []\n",
    "for name, pop in model.model.items():\n",
    "    if name in sample_sizes:\n",
    "        Ne = pop.initial_size\n",
    "        demog = msprime.Demography()\n",
    "        demog.add_population(name=name, initial_size=Ne)\n",
    "        if name in sweep_params:\n",
    "            sweep_model = msprime.SweepGenicSelection(\n",
    "                start_frequency=1.0 / (2 * Ne),\n",
    "                end_frequency=1.0 - (1.0 / (2 * Ne)),\n",
    "                dt=1/(40 * Ne),\n",
    "                **sweep_params[name],\n",
    "            )\n",
    "            models = (sweep_model, msprime.StandardCoalescent())\n",
    "            print(f\"Adding {name} population to demographic model, sweep at {int(sweep_params[name]['position'])}bp, selection coefficient s={sweep_params[name]['s']}\")\n",
    "        else:\n",
    "            models = msprime.StandardCoalescent()\n",
    "            print(f\"Adding {name} population to demographic model, neutral\")\n",
    "        independent_pop_ts.append(\n",
    "            msprime.sim_ancestry(\n",
    "                sample_sizes[name],\n",
    "                model=models,\n",
    "                demography=demog,\n",
    "                recombination_rate=contig.recombination_map.slice(right=L, trim=True),\n",
    "                sequence_length=L,\n",
    "                end_time=G,  # Stop simulation early\n",
    "                random_seed=123,\n",
    "            )\n",
    "        )\n",
    "combined_ts = independent_pop_ts[0]\n",
    "for ts in independent_pop_ts[1:]:\n",
    "    combined_ts = combined_ts.union(ts, node_mapping=np.full(ts.num_nodes, tskit.NULL))"
   ]
  },
  {
   "cell_type": "markdown",
   "metadata": {},
   "source": [
    "As noted, the assumption above was that populations were isolated. We used the parameter $G$ to [stop the simulation early](https://tskit.dev/msprime/docs/stable/ancestry.html#stopping-simulations-early); this means we simulate backwards $G$ generations, but the populations do not coalesce. We end by adding history backwards in time to the three populations until coalescence with the function `msprime.sim_ancestry` using the stdpopsim model specifications in `model` (which, as you will see if you print the `model.model` object, has mass migration events defined 4003 and 6202 generations ago). Finally, we add mutations with `msprime.sim_mutations`."
   ]
  },
  {
   "cell_type": "code",
   "execution_count": null,
   "metadata": {},
   "outputs": [],
   "source": [
    "# Now recapitate: initial_state uses the population names in the combined_ts to figure out which are which\n",
    "final_ts = msprime.sim_mutations(\n",
    "    msprime.sim_ancestry(initial_state=combined_ts, demography=model.model, random_seed=123).simplify(),\n",
    "    rate=model.mutation_rate,\n",
    "    random_seed=123,\n",
    ")\n",
    "print(f\"Simulated {final_ts.num_sites} sites for {final_ts.num_samples} genomes\")"
   ]
  },
  {
   "cell_type": "markdown",
   "metadata": {},
   "source": [
    "## Making sense of the simulations"
   ]
  },
  {
   "cell_type": "markdown",
   "metadata": {},
   "source": [
    "Before proceeding, let's make some sanity checks to confirm that the results make sense. We expect the central population to have undergone neutral evolution, whereas bonobo and western have selective sweep signatures at different loci (at 3.33Mb and 6.67Mb, respectively). We can investigate the effect on nucleotide diversity by making windowed plots along the chromosome.\n",
    "\n",
    "Import matplotlib and setup color schemes and plot diversity in 100kb windows."
   ]
  },
  {
   "cell_type": "code",
   "execution_count": null,
   "metadata": {},
   "outputs": [],
   "source": [
    "import matplotlib.pyplot as plt \n",
    "import matplotlib.colors as mcolors\n",
    "mpl_colors = mcolors.TABLEAU_COLORS \n",
    "pop_color_map = {  # Use same colors as demesdraw\n",
    "    'All samples': mpl_colors[\"tab:olive\"],\n",
    "    'bonobo': mpl_colors[\"tab:orange\"],\n",
    "    'central': mpl_colors[\"tab:green\"],\n",
    "    'western': mpl_colors[\"tab:red\"],\n",
    "}"
   ]
  },
  {
   "cell_type": "code",
   "execution_count": null,
   "metadata": {},
   "outputs": [],
   "source": [
    "num_windows = 200\n",
    "ts = final_ts\n",
    "tspop = {p.metadata[\"name\"]:p.id for p in ts.populations()}\n",
    "window_size = ts.sequence_length / num_windows\n",
    "sample_sets = [ts.samples(), ts.samples(population=tspop[\"bonobo\"]), ts.samples(population=tspop[\"central\"]), ts.samples(population=tspop[\"western\"])]\n",
    "pi_win = ts.diversity(\n",
    "    sample_sets=sample_sets,\n",
    "    windows=np.linspace(0, ts.sequence_length, num_windows + 1)\n",
    ")"
   ]
  },
  {
   "cell_type": "code",
   "execution_count": null,
   "metadata": {},
   "outputs": [],
   "source": [
    "for i, key in enumerate(pop_color_map):\n",
    "    plt.plot(pi_win[:, i], label=key, color=pop_color_map[key])\n",
    "plt.axvline(len(pi_win[:, 0]) // 3, color=pop_color_map[\"bonobo\"], linestyle=\"dashed\")\n",
    "plt.axvline(2 * len(pi_win[:, 0]) // 3, color=pop_color_map[\"western\"], linestyle=\"dashed\")\n",
    "plt.legend(bbox_to_anchor=(1, 1), loc=\"upper left\")\n",
    "plt.xlabel(\"Genomic window\")\n",
    "plt.ylabel(\"Diversity\")\n",
    "plt.show()"
   ]
  },
  {
   "cell_type": "markdown",
   "metadata": {},
   "source": [
    "For clarity, we added the locations of sweeps (dashed lines) for both populations. There is a clear drop in diversity at both sites (and for the correct populations too!), so the simulations make intuitive sense. We could also zoom in on one of the sweep locations for increased resolution:"
   ]
  },
  {
   "cell_type": "code",
   "execution_count": null,
   "metadata": {},
   "outputs": [],
   "source": [
    "num_windows = 2_000\n",
    "pi_win_zoom = ts.diversity(sample_sets=sample_sets, windows=np.linspace(0, ts.sequence_length, num_windows + 1))"
   ]
  },
  {
   "cell_type": "code",
   "execution_count": null,
   "metadata": {},
   "outputs": [],
   "source": [
    "pad = 0.03\n",
    "for i, key in enumerate(pop_color_map):\n",
    "    plt.plot(pi_win_zoom[:, i], label=key, color=pop_color_map[key])\n",
    "plt.axvline(len(pi_win_zoom[:, 0]) // 3, color=pop_color_map[\"bonobo\"], linestyle=\"dashed\")\n",
    "plt.axvline(2 * len(pi_win_zoom[:, 0]) // 3, color=pop_color_map[\"western\"], linestyle=\"dashed\")\n",
    "plt.xlim(2 * num_windows / 3 - num_windows * pad, 2 * num_windows / 3 + num_windows * pad)\n",
    "plt.legend(bbox_to_anchor=(1, 1), loc=\"upper left\")\n",
    "plt.xlabel(\"Genomic window\")\n",
    "plt.ylabel(\"Diversity\")\n",
    "plt.show()"
   ]
  },
  {
   "cell_type": "markdown",
   "metadata": {},
   "source": [
    "Here the pattern of reduced diversity is more prominent for the western population - in particular there is a stretch of windows where it is consistently low. For comparison's sake, we reproduce the plot but using branch length statistics."
   ]
  },
  {
   "cell_type": "code",
   "execution_count": null,
   "metadata": {},
   "outputs": [],
   "source": [
    "pi_win_branch = ts.diversity(sample_sets=sample_sets, windows=np.linspace(0, ts.sequence_length, num_windows + 1), mode=\"branch\")"
   ]
  },
  {
   "cell_type": "code",
   "execution_count": null,
   "metadata": {},
   "outputs": [],
   "source": [
    "pad = 0.05\n",
    "for i, key in enumerate(pop_color_map):\n",
    "    plt.plot(pi_win_branch[:, i], label=key, color=pop_color_map[key])\n",
    "plt.axvline(len(pi_win_branch[:, 0]) // 3, color=pop_color_map[\"bonobo\"], linestyle=\"dashed\")\n",
    "plt.axvline(2 * len(pi_win_branch[:, 0]) // 3, color=pop_color_map[\"western\"], linestyle=\"dashed\")\n",
    "plt.xlim(2 * num_windows / 3 - num_windows * pad, 2 * num_windows / 3 + num_windows * pad)\n",
    "plt.legend(bbox_to_anchor=(1, 1), loc=\"upper left\")\n",
    "plt.xlabel(\"Genomic window\")\n",
    "plt.ylabel(\"Diversity\")\n",
    "plt.show()"
   ]
  },
  {
   "cell_type": "markdown",
   "metadata": {},
   "source": [
    "As we alluded to earlier, the plots are now smoother since the stochastic noise added by mutations has been eliminated."
   ]
  },
  {
   "cell_type": "markdown",
   "metadata": {},
   "source": [
    "## Trees at sweep locations\n"
   ]
  },
  {
   "cell_type": "markdown",
   "metadata": {},
   "source": [
    "Since sweeps are mutations that spread quickly in a population, we would expect the samples in a sweep population to coalesce in a short period of time. Let's investigate whether this is true by plotting trees around the sweep location. We first load the necessary python library and define color styles that apply relevant colors to the populations.\n"
   ]
  },
  {
   "cell_type": "code",
   "execution_count": null,
   "metadata": {},
   "outputs": [],
   "source": [
    "from IPython.display import SVG"
   ]
  },
  {
   "cell_type": "code",
   "execution_count": null,
   "metadata": {},
   "outputs": [],
   "source": [
    "styles = []\n",
    "for pname in list(pop_color_map)[1:]:\n",
    "    popid = tspop[pname]\n",
    "    p = ts.population(popid)\n",
    "    color = pop_color_map[pname]\n",
    "    s = f\".node.p{p.id} > .sym \" + \"{\" + f\"fill: {color}\" + \"}\"\n",
    "    styles.append(s)\n",
    "    print(f'\"{s}\" applies to nodes from population {p.metadata[\"name\"]} (id {p.id})')\n",
    "css_string = \" \".join(styles)\n",
    "print(f'CSS string applied:\\n    \"{css_string}\"')"
   ]
  },
  {
   "cell_type": "markdown",
   "metadata": {},
   "source": [
    "First we plot a tree at a locus that is not under selection, just to get an idea of what a general tree would look like. You can plot a tree at a specific genomic coordinate using the [ts.at](https://tskit.dev/tskit/docs/stable/python-api.html#tskit.TreeSequence.at) syntax."
   ]
  },
  {
   "cell_type": "code",
   "execution_count": null,
   "metadata": {},
   "outputs": [],
   "source": [
    "pos = L / 10 \n",
    "SVG(ts.at(pos).draw_svg(size=(1500, 500), y_axis=True, style=css_string, node_labels={}, x_axis=True, y_ticks=[0, 50_000, 100_000]))"
   ]
  },
  {
   "cell_type": "markdown",
   "metadata": {},
   "source": [
    "The genealogical tree of this chromosome interval (`999629-1000346`) reflects the demographic history of the model. The bonobo population (orange) forms its own distinct clade, whereas western (red) and central (green) share a common ancestor and show little signs of admixture. There are three distinct groups from around 40000 generations ago and looking forward in time, all of which show similar distributions of branch lengths and coalescence patterns."
   ]
  },
  {
   "cell_type": "markdown",
   "metadata": {},
   "source": [
    "We now draw the tree at the sweep location:"
   ]
  },
  {
   "cell_type": "code",
   "execution_count": null,
   "metadata": {},
   "outputs": [],
   "source": [
    "sweep_pos = L / 3\n",
    "SVG(ts.at(sweep_pos).draw_svg(size=(1500, 500), y_axis=True, style=css_string, node_labels={}, x_axis=True, y_ticks=[0, 4_000, 50_000, 100_000]))"
   ]
  },
  {
   "cell_type": "markdown",
   "metadata": {},
   "source": [
    "The plot clearly shows how samples belonging to the `bonobo` population (orange) coalesce much faster than other samples. In fact, all samples have coalesced within the last 4000 generations. If we calculate the sum of the branch lengths for the different populations, we see that they are much smaller for bonobo:"
   ]
  },
  {
   "cell_type": "code",
   "execution_count": null,
   "metadata": {},
   "outputs": [],
   "source": [
    "for pop in list(ts.populations())[:-1]:  # Omit ghost population\n",
    "    branch_length = ts.simplify(ts.samples(population=pop.id)).at(sweep_pos).total_branch_length  # For a subtree consisting of samples in population pop.id at sweep position, get total branch length\n",
    "    print(f\"{pop.metadata['name']} total branch length: {branch_length}\")                            "
   ]
  },
  {
   "cell_type": "markdown",
   "metadata": {},
   "source": [
    "With [ts.simplify](https://tskit.dev/tskit/docs/stable/python-api.html#tskit.TreeSequence.simplify) we can subset a tree sequence to a list of samples (here corresponding to the samples of each population), and then we, once again, look at the tree at the sweep position and retrieve the total branch length of that tree."
   ]
  },
  {
   "cell_type": "markdown",
   "metadata": {},
   "source": [
    "For illustration purposes, we also make a boxplot of branch lengths."
   ]
  },
  {
   "cell_type": "code",
   "execution_count": null,
   "metadata": {},
   "outputs": [],
   "source": [
    "x = []\n",
    "for pop in list(ts.populations())[:-1]:\n",
    "    tstmp = ts.simplify(ts.samples(population=pop.id)).at(sweep_pos)  # Get a subtree at sweep position for samples in pop.id only\n",
    "    x.append([tstmp.branch_length(u) for u in tstmp.nodes()])  # Add all branch lengths for the nodes of the subtree"
   ]
  },
  {
   "cell_type": "code",
   "execution_count": null,
   "metadata": {},
   "outputs": [],
   "source": [
    "labels = [pop.metadata[\"name\"] for pop in list(ts.populations())[:-1]]\n",
    "colors = [pop_color_map[pop.metadata[\"name\"]] for pop in list(ts.populations())[:-1]]\n",
    "fig, ax = plt.subplots()\n",
    "ax.set_ylabel('branch length')\n",
    "bplot = ax.boxplot(x,\n",
    "                   patch_artist=True,  # fill with color\n",
    "                   tick_labels=labels)  # will be used to label x-ticks\n",
    "for patch, col in zip(bplot['boxes'], colors):\n",
    "    patch.set_facecolor(col)\n",
    "plt.show()"
   ]
  },
  {
   "cell_type": "markdown",
   "metadata": {},
   "source": [
    "This hints at a way to design a test for sweeps based on branch lengths being much shorter than the background around the sweep locus."
   ]
  },
  {
   "cell_type": "markdown",
   "metadata": {},
   "source": [
    "We can also illustrate what happens to trees as we move away from the sweep locus. The intuition is that as recombination breaks down linkage to the sweep locus, genomic segments further away will evolve neutrally and the coalescence times of the samples will increase, leading to trees with longer terminal branches and larger total branch length."
   ]
  },
  {
   "cell_type": "code",
   "execution_count": null,
   "metadata": {
    "slideshow": {
     "slide_type": "fragment"
    }
   },
   "outputs": [],
   "source": [
    "tslist = []\n",
    "ts = final_ts\n",
    "delta = 50_000  # Look this distance left and right\n",
    "poslist = np.linspace(sweep_pos - delta, sweep_pos + delta, 7)\n",
    "tslist = [ts.simplify(ts.samples(population=2), filter_nodes=False).at(pos) for pos in poslist]\n",
    "max_time = 25_000  # Find suitable max time to rescale plots\n",
    "ticks = np.linspace(0, max_time, num=6)\n",
    "ticks = {t: f\"{t/1_000:.0f}k\" for t in ticks}\n",
    "from IPython.display import HTML \n",
    "HTML(\"\".join(\n",
    "    tree.draw_svg(\n",
    "        max_time=max_time,\n",
    "        size=(200, 350),\n",
    "        node_labels={},\n",
    "        symbol_size=1,\n",
    "        y_axis=True,\n",
    "        y_ticks=ticks,\n",
    "        x_axis=True,\n",
    "        style=css_string,\n",
    "        mutation_labels={},\n",
    "        omit_sites=True,\n",
    "        root_svg_attributes={\"style\":\"display: inline-block\"},\n",
    "    )\n",
    "    for tree in tslist\n",
    "))"
   ]
  },
  {
   "cell_type": "markdown",
   "metadata": {},
   "source": [
    "There are still a lot of short terminal branches, but clearly the height of the tree increases as we move away from the sweep locus."
   ]
  },
  {
   "cell_type": "markdown",
   "metadata": {},
   "source": [
    "## Haplotype GNNs"
   ]
  },
  {
   "cell_type": "markdown",
   "metadata": {},
   "source": [
    "We conclude this demonstration "
   ]
  },
  {
   "cell_type": "code",
   "execution_count": null,
   "metadata": {},
   "outputs": [],
   "source": [
    "ts.sequence_length\n",
    "n = 500\n",
    "windows = np.linspace(start=0.0, stop=ts.sequence_length, num=n)\n",
    "window_size = windows[1] - windows[0]"
   ]
  },
  {
   "cell_type": "code",
   "execution_count": null,
   "metadata": {},
   "outputs": [],
   "source": [
    "group_sample_sets = []\n",
    "for pop in list(ts.populations())[:-1]:\n",
    "    group_sample_sets.append(ts.samples(pop.id))"
   ]
  },
  {
   "cell_type": "code",
   "execution_count": null,
   "metadata": {},
   "outputs": [],
   "source": [
    "focal_node = 10\n",
    "haplotype = 1\n",
    "df = ARG_workshop.haplotype_gnn(ts, focal_node, windows, group_sample_sets)\n",
    "df.columns = list(tspop.keys())[:-1]\n",
    "df = df[df.index.get_level_values(\"haplotype\") == (haplotype - 1)]"
   ]
  },
  {
   "cell_type": "code",
   "execution_count": null,
   "metadata": {},
   "outputs": [],
   "source": [
    "ind_id = ts.individual(ts.node(focal_node).individual).id\n",
    "focal_pop = ts.population(ts.individual_populations[ind_id]).metadata[\"name\"]"
   ]
  },
  {
   "cell_type": "code",
   "execution_count": null,
   "metadata": {},
   "outputs": [],
   "source": [
    "fig, ax = plt.subplots()\n",
    "fig.set_figwidth(15)\n",
    "fig.set_figheight(1)\n",
    "bottom = np.zeros(df.shape[0])\n",
    "\n",
    "for pop in df.columns:\n",
    "    p = ax.bar(df.index.get_level_values(\"start\"), df[pop], width=window_size, label=pop, bottom=bottom, color=pop_color_map[pop])\n",
    "    bottom += df[pop]\n",
    "\n",
    "ax.set_title(f\"GNN plot for haplotype {haplotype}, focal node {focal_node}, individual {ind_id}, focal population '{focal_pop}'\")\n",
    "ax.legend(bbox_to_anchor=(1, 1), loc=\"upper left\")\n",
    "\n",
    "plt.show()"
   ]
  }
 ],
 "metadata": {
  "colab": {
   "provenance": []
  },
  "kernelspec": {
   "display_name": "Python 3 (ipykernel)",
   "language": "python",
   "name": "python3"
  },
  "language_info": {
   "codemirror_mode": {
    "name": "ipython",
    "version": 3
   },
   "file_extension": ".py",
   "mimetype": "text/x-python",
   "name": "python",
   "nbconvert_exporter": "python",
   "pygments_lexer": "ipython3",
   "version": "3.12.3"
  }
 },
 "nbformat": 4,
 "nbformat_minor": 4
}
