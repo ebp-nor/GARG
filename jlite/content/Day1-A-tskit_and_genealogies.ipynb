{
 "cells": [
  {
   "cell_type": "markdown",
   "id": "5b825ca5-56f8-463a-b272-e6e31de08c6a",
   "metadata": {},
   "source": [
    "## Setup\n",
    "\n",
    "To access material for this workbook please execute the two notebook cells immediately below (e.g. use the shortcut <b>&lt;shift&gt;+&lt;return&gt;</b>). The first cell can be skipped if you are running this notebook locally and have already installed all the necessary packages. The second cell should print out \"Your notebook is ready to go!\""
   ]
  },
  {
   "cell_type": "code",
   "execution_count": null,
   "id": "4ccc9395-655a-42a0-ac17-ab2b73d009be",
   "metadata": {},
   "outputs": [],
   "source": [
    "if 'pyodide_kernel' in str(get_ipython()):  # specify packages to install under JupyterLite\n",
    "    %pip install -q -r jlite-requirements.txt\n",
    "elif 'google.colab' in str(get_ipython()):  # specify package location for loading in Colab\n",
    "    from google.colab import drive\n",
    "    drive.mount('/content/drive')\n",
    "    %run /content/drive/MyDrive/GARG_workshop/Notebooks/add_module_path.py\n",
    "else:  # install packages on your local machine (-q = \"quiet\": don't print out installation steps)\n",
    "    # (NB: you can probably ignore any message about restarting the kernel)\n",
    "    !pip install -q -r https://github.com/ebp-nor/GARG/raw/main/jlite/requirements.txt"
   ]
  },
  {
   "cell_type": "code",
   "execution_count": null,
   "id": "57d2d58c-61d9-4286-946d-c717857f2a75",
   "metadata": {},
   "outputs": [],
   "source": [
    "# Load questions etc for this workbook\n",
    "import ARG_workshop\n",
    "workbook = ARG_workshop.Workbook1A()\n",
    "display(workbook.setup)"
   ]
  },
  {
   "cell_type": "markdown",
   "id": "4c65c0e5-86d2-49d8-a8fd-2cce003fd0cf",
   "metadata": {},
   "source": [
    "### Using this workbook\n",
    "\n",
    "This workbook is intended to be used by executing each cell as you go along. Code cells (like those above) can be modified and re-executed to perform different behaviour or additional analysis. You can use this to complete various programming exercises, some of which have associated questions to test your understanding. Exercises are marked like this:\n",
    "<dl class=\"exercise\"><dt>Exercise XXX</dt>\n",
    "<dd>Here is an exercise: normally there will be a code cell below this box for you to work in</dd>\n",
    "</dl>"
   ]
  },
  {
   "cell_type": "markdown",
   "id": "41e3c291-8534-408a-9e33-22fb34cc5470",
   "metadata": {},
   "source": [
    "# Workbook 1-A: _Tskit_ and genetic genealogies\n",
    "\n",
    "A genealogy is a network of relationships. Where the genealogy describes direct links between a child individual and its parents, we call it a **pedigree**. Where the genealogy describes sections of DNA transmitted between an parent (or ancestral) genome and a child (or descendant) genome, we call it a **genetic genealogy** or (loosely) an ancestral recombination graph or **ARG**.\n",
    "\n",
    "_Tskit_ is a library for storing genetic genealogies and genetic data in the form of\n",
    "[succinct tree sequences](https://tskit.dev/tutorials/what_is.html). Tree sequences can be created by many programs, e.g.\n",
    "simulated using _msprime_ or _SLiM_, or inferred from genetic data.\n",
    "\n",
    "_Tskit_ is designed for use with very large genetic genealogies, potentially millions of genomes. Deducing an exact history in this case is probably impossible. Instead, analyses often focus on sampling likely genealogies rather than building a single correct one. This leads to a greater focus on methods such as simulation, compared to fields such as phylogenetics.\n",
    "\n",
    "In this workbook you'll learn the data structures captured by _tskit_ through building your own genealogical simulator. We'll use the simulator as a base to investigate the principles behind ARGs. For simplicity, in this workbook and the next, we'll temporarily ignore recombination, and therefore all regions of the genome will be inherited from the same parent."
   ]
  },
  {
   "cell_type": "markdown",
   "id": "05f411c7-760e-488f-b352-76c8d73ddf8b",
   "metadata": {},
   "source": [
    "## A simple forward-time simulator\n",
    "\n",
    "We will build a basic forward-time simulator from scratch, storing the resulting genealogy in _tskit_ format. We will use the Wright-Fisher approach, where one generation reproduces, and is then entirely replaced by the resulting children. For the moment we won't model recombination, so the resulting genealogy should take the form of a simple tree.\n",
    "\n",
    "We will simulate diploids, so that pairs of genomes (nodes) are grouped into a single individual: for an even simpler example of a 20 line haploid tskit simulator, see [this tutorial](https://tskit.dev/tutorials/completing_forward_sims.html)."
   ]
  },
  {
   "cell_type": "markdown",
   "id": "dd286afb-fe1e-47b4-9a7b-7d56c2012ab7",
   "metadata": {},
   "source": [
    "### Making a tree sequence\n",
    "\n",
    "You can create an empty set of _tskit_ tables by calling `tskit.TableCollection()`."
   ]
  },
  {
   "cell_type": "code",
   "execution_count": null,
   "id": "953d575b-f520-4ffd-a583-2deb53722010",
   "metadata": {},
   "outputs": [],
   "source": [
    "import tskit\n",
    "tables = tskit.TableCollection(sequence_length=100)"
   ]
  },
  {
   "cell_type": "markdown",
   "id": "92db51fc-bfa6-4b52-b745-d6d590de51bf",
   "metadata": {},
   "source": [
    "<dl class=\"exercise\"><dt>Exercise 1</dt>\n",
    "<dd>Modify the code below to also print out the number of rows in the <code>individuals</code> table, and check it is zero</dd></dl>"
   ]
  },
  {
   "cell_type": "code",
   "execution_count": null,
   "id": "7fbae685-26ca-4d48-bc36-e8416e8437a4",
   "metadata": {},
   "outputs": [],
   "source": [
    "# Exercise 1: modify me\n",
    "print(\n",
    "    f\"The `tables` object currently has {tables.nodes.num_rows} nodes\",\n",
    "    f\"and {tables.edges.num_rows} edges\",\n",
    ")"
   ]
  },
  {
   "cell_type": "code",
   "execution_count": null,
   "id": "954f8059-8f06-4ea4-8f3b-ed1b8e19610f",
   "metadata": {},
   "outputs": [],
   "source": [
    "# Execute code block with <shift>+Return to display question; press on one of the buttons to answer\n",
    "workbook.question(\"tables\")\n"
   ]
  },
  {
   "cell_type": "markdown",
   "id": "5fedb786-8982-4351-94d8-d8f2499a71fe",
   "metadata": {},
   "source": [
    "#### Adding nodes and individuals\n",
    "\n",
    "You can add to the tables using the `add_rows` methods, which return a numeric _tskit_ ID for future use (the ID is simply the row number in that table). Numerical IDs are of core importance in _tskit_: nearly all objects will be referred to using their ID, so it's worth getting used to.\n",
    "\n",
    "For example if we add a new diploid individual, we can use the returned ID when we then create the maternal and paternal genomes (nodes) for that individual.\n",
    "\n",
    "<div class=\"alert alert-block alert-info\"><b>Note:</b> <em>Tskit</em> IDs start from 0 (not 1). Using 0-based indexing is the norm in Python, but can cause confusion for those who are more used to R.\n",
    "</div>"
   ]
  },
  {
   "cell_type": "code",
   "execution_count": null,
   "id": "d6f38a79-e547-44aa-9a93-2c1a641bf6dc",
   "metadata": {},
   "outputs": [],
   "source": [
    "for _ in range(8):\n",
    "    individual_id = tables.individuals.add_row()\n",
    "    maternal_genome_id = tables.nodes.add_row(individual=individual_id)\n",
    "    paternal_genome_id = tables.nodes.add_row(individual=individual_id)\n",
    "    print(\n",
    "        f\"Created a new individual (ID {individual_id}) \"\n",
    "        f\"containing nodes {maternal_genome_id} and {paternal_genome_id}\"\n",
    "    )"
   ]
  },
  {
   "cell_type": "markdown",
   "id": "b25a94f2-13c0-4fb9-a0ee-8e2b1b5e6f1c",
   "metadata": {},
   "source": [
    "It's easy to get confused between the IDs in the *individuals* table (which count diploid individuals) and the IDs in the *nodes* table (which count haploid genomes). Each node can (optionally) be associated with individual, by specifying the ID of that individual in a separate column. The individual ID differs from the ID of the node itself.\n",
    "\n",
    "<div class=\"alert alert-block alert-info\"><b>Note:</b> In the table below, an ID of `-1` is used to denote \"NULL\": the presence of `-1` in the \"population\" column means that none of these nodes have been assigned to a specific <em>tskit</em> <a href=\"https://tskit.dev/tskit/docs/stable/data-model.html#population-table\">population</a>.\n",
    "</div>"
   ]
  },
  {
   "cell_type": "markdown",
   "id": "870c823e-ceb9-46db-ba78-6df46e60ce3f",
   "metadata": {},
   "source": [
    "<dl class=\"exercise\"><dt>Exercise 2</dt>\n",
    "<dd>Use <code>display(table.nodes)</code> to show the nodes table you have just created</dd></dl>"
   ]
  },
  {
   "cell_type": "code",
   "execution_count": null,
   "id": "4b85293e-d7f3-4504-a11a-226d439573eb",
   "metadata": {},
   "outputs": [],
   "source": [
    "# Exercise: print the nodes table\n",
    "tables.nodes"
   ]
  },
  {
   "cell_type": "code",
   "execution_count": null,
   "id": "3ea8e926-315a-48b8-9a4e-c2114b39db0c",
   "metadata": {},
   "outputs": [],
   "source": [
    "workbook.question(\"nodes_table\")"
   ]
  },
  {
   "cell_type": "markdown",
   "id": "6d4c7db3-1fa9-43d7-9cba-4b09b861c2bd",
   "metadata": {},
   "source": [
    "#### Creating a population\n",
    "\n",
    "We'll wrap the code above in a function called `initialize` that places a new population of $N_e$ diploids into a set of tables. We also need two extra features:\n",
    "\n",
    "1.   All nodes need a _time_. Above, nodes took the default time of 0. In the simulation, we must specify a time, starting at a fixed number of generations ago, counting down until the youngest nodes are created at time 0.\n",
    "2.   We'll temporarily store the individual and node IDs in a python dictionary, mapping `individual_ID: (maternal_genome, paternal_genome)`. This will be used in the next generation, when choosing which genomes to inherit."
   ]
  },
  {
   "cell_type": "code",
   "execution_count": null,
   "id": "4b18e8a3-35f9-43d8-9de6-af8b72158766",
   "metadata": {},
   "outputs": [],
   "source": [
    "def initialize(tables, diploid_population_size, start_time):\n",
    "    \"\"\"\n",
    "    Save a population to the tskit_tables and return a Python dictionary\n",
    "    mapping the newly created individual ids to a pair of genomes (node ids)\n",
    "    \"\"\"\n",
    "    temp_pop = {}  # make an empty dictionary\n",
    "    for _ in range(diploid_population_size):\n",
    "        # store in the TSKIT tables\n",
    "        i = tables.individuals.add_row()\n",
    "        maternal_node = tables.nodes.add_row(time=start_time, individual=i)\n",
    "        paternal_node = tables.nodes.add_row(time=start_time, individual=i)\n",
    "\n",
    "        # Add to the dictionary: map the individual ID to the two node IDs\n",
    "        temp_pop[i] = (maternal_node, paternal_node)\n",
    "    return temp_pop"
   ]
  },
  {
   "cell_type": "code",
   "execution_count": null,
   "id": "c182d4e7-ad4c-4f3e-a5e0-d60dec06ae30",
   "metadata": {},
   "outputs": [],
   "source": [
    "# Test it out\n",
    "tables = tskit.TableCollection(sequence_length=1000)  # Get empty tables\n",
    "time = 2\n",
    "current_pop = initialize(tables, diploid_population_size=8, start_time=time)\n",
    "print(f\"Population at time {time}:\\n {current_pop}\")"
   ]
  },
  {
   "cell_type": "markdown",
   "id": "a2cd22f0-0a46-498d-bf2b-50711e0f214d",
   "metadata": {},
   "source": [
    "For this workbook, we've created a function `basic_genealogy_viz`, that plots out the nodes as a line of dots at a particular time, grouped by individual. Try it now: you should see 5 pairs of blue nodes, at the correct time, grouped into hexagons (representing individuals)."
   ]
  },
  {
   "cell_type": "code",
   "execution_count": null,
   "id": "560f1bae-bb80-4d4d-b660-07af713ca1ef",
   "metadata": {},
   "outputs": [],
   "source": [
    "ARG_workshop.basic_genealogy_viz(tables, show_individuals=True)"
   ]
  },
  {
   "cell_type": "markdown",
   "id": "0e5ca04a-78db-4b34-8544-f47856a8dcdc",
   "metadata": {},
   "source": [
    "#### Reproduction\n",
    "\n",
    "To complete the simulation, we need a way to create children. We simply make an entirely new population of the same size, choosing parents at random from the previous population. This is done in the `reproduce` function below, which takes a previous population (such as that returned by `initialize`) and returns a new one.\n",
    "\n",
    "The only new things here are the choice of random parents, and the `add_edges()` function which is given a randomly shuffled pair of genomes to pass on from each parent, and simply picks the first (we're ignoring recombination here).\n",
    "The source of randomness will come from a random number generator (\"rng\") provided by the `numpy` library. We'll use this, for example, to generate a large 2D array of random parent individual IDs to use as the \"mum\" and \"dad\" for each new individual."
   ]
  },
  {
   "cell_type": "code",
   "execution_count": null,
   "id": "ef4c6822-7e16-477b-b974-8eed6ae4e13b",
   "metadata": {},
   "outputs": [],
   "source": [
    "import numpy as np\n",
    "\n",
    "def reproduce(tables, previous_pop, current_time, rng):\n",
    "    temp_pop = {}\n",
    "    prev_individual_ids = list(previous_pop.keys())\n",
    "    for _ in range(len(previous_pop)):\n",
    "        mum, dad = rng.choice(prev_individual_ids, size=2, replace=False)\n",
    "        # Same code as before, to make a new population\n",
    "        i = tables.individuals.add_row()\n",
    "        maternal_node = tables.nodes.add_row(time=current_time, individual=i)\n",
    "        paternal_node = tables.nodes.add_row(time=current_time, individual=i)\n",
    "        temp_pop[i] = (maternal_node, paternal_node)\n",
    "\n",
    "        # Now add inheritance paths to the edges table, ignoring recombination\n",
    "        add_edges(tables, rng.permuted(previous_pop[mum]), maternal_node)  # Maternal genome\n",
    "        add_edges(tables, rng.permuted(previous_pop[dad]), paternal_node)  # Paternal genome\n",
    "    return temp_pop\n",
    "\n",
    "def add_edges(tables, randomly_ordered_parent_nodes, child_node):\n",
    "    # A trivial inheritance scheme: pass on a single genome from the parent (arbitrarily the first)\n",
    "    parent_node = randomly_ordered_parent_nodes[0]\n",
    "    tables.edges.add_row(parent=parent_node, child=child_node, left=0, right=tables.sequence_length)\n",
    "\n",
    "# Try it out, by reproducing from the previously created population\n",
    "time = time - 1\n",
    "current_pop = reproduce(tables, current_pop, current_time=time, rng=np.random.default_rng(7))\n",
    "ARG_workshop.basic_genealogy_viz(tables, show_individuals=True)"
   ]
  },
  {
   "cell_type": "markdown",
   "id": "a3d5439a-be6c-4fa5-a075-e50ce8363142",
   "metadata": {},
   "source": [
    "You can see some of the genomes in the initial generation 2, reproduced to make children in generation 1. The `basic_genealogy_viz` function highlights these parents in orange.\n",
    "\n",
    "You could add more generations simply by rerunning the cell above. But it's more useful to place the `initialize` and `reproduce` functions into a single function that performs the entire simulation:"
   ]
  },
  {
   "cell_type": "code",
   "execution_count": null,
   "id": "4f2b443e-50c5-4841-8bf3-0bd6215992bd",
   "metadata": {},
   "outputs": [],
   "source": [
    "def simulate_WrightFisher(population_size, generations, sequence_length=1000, random_seed=8):\n",
    "  rng = np.random.default_rng(seed=random_seed)\n",
    "  tables = tskit.TableCollection(sequence_length=sequence_length)\n",
    "  tables.time_units = \"generations\"\n",
    "\n",
    "  current_population = initialize(tables, population_size, start_time=generations)\n",
    "  while generations > 0:\n",
    "      generations = generations - 1\n",
    "      current_population = reproduce(tables, current_population, generations, rng)\n",
    "\n",
    "  tables.sort()  # Sort edges into canonical order, required for converting to a tree seq\n",
    "  return tables.tree_sequence()"
   ]
  },
  {
   "cell_type": "markdown",
   "id": "0e0568f5-db38-48d9-9f3d-2608c81b7d9c",
   "metadata": {},
   "source": [
    "And that's it. You have built a forward-time Wright Fisher genealogical simulator!\n",
    "\n",
    "Notice that instead of returning the raw tables, we convert them into a (read-only) tree sequence. This verifies that the tables represent a sensible genealogy, e.g. that parents are always older than their children."
   ]
  },
  {
   "cell_type": "markdown",
   "id": "89b9acc1-88b4-4db9-add0-156ef56c3dd6",
   "metadata": {},
   "source": [
    "## The tree sequence object\n",
    "\n",
    "Let's run our simulator for a few generations to make a tree sequence object. We'll adopt the convention of storing the tree sequence in a variable called `ts` where possible."
   ]
  },
  {
   "cell_type": "code",
   "execution_count": null,
   "id": "05a5f8b6-f17a-4864-bf55-0f080d3809ff",
   "metadata": {},
   "outputs": [],
   "source": [
    "# save the tree sequence in a variable called `ts`\n",
    "ts = simulate_WrightFisher(population_size=8, generations=2)"
   ]
  },
  {
   "cell_type": "markdown",
   "id": "75b9ffea-7140-4505-8b68-7f01018a683d",
   "metadata": {},
   "source": [
    "Below is what the result of this simple 2-generation simulation looks like. The hexagons have been omitted for simplicity. On the right is a plot where we are deliberately not grouping by individual, but reordering the horizontal position of the nodes to make the genealogy."
   ]
  },
  {
   "cell_type": "code",
   "execution_count": null,
   "id": "e918599d-09f2-42c5-a014-70db526d937a",
   "metadata": {},
   "outputs": [],
   "source": [
    "from matplotlib import pyplot as plt\n",
    "fig, (ax_lft, ax_rgt) = plt.subplots(1, 2, figsize=(12, 4))  # set up side-by-side plots\n",
    "\n",
    "ARG_workshop.basic_genealogy_viz(ts, ax_lft, title=\"Nodes grouped by individual\")\n",
    "ARG_workshop.basic_genealogy_viz(ts, ax_rgt, show_individuals=False, title=\"Nodes repositioned\")"
   ]
  },
  {
   "cell_type": "markdown",
   "id": "c130fd87-ba57-4467-a954-2a1fdb10000b",
   "metadata": {},
   "source": [
    "Notice that the blue individuals in older generations have not passed on their genomes. In fact, some of the orange genomes (like 7 and 11) are also \"dead ends\": they don't have lineages that make it to the current day. We can use tree sequence methods to remove these."
   ]
  },
  {
   "cell_type": "markdown",
   "id": "57bd67ff-ae28-48bf-967f-dad52be9f7b0",
   "metadata": {},
   "source": [
    "### Basic tree sequence methods\n",
    "\n",
    "Now that we have a simple tree sequence, we can learn how to manipulate or extract information from it."
   ]
  },
  {
   "cell_type": "markdown",
   "id": "85e3749c-ff99-4f4f-9172-313d75028a00",
   "metadata": {},
   "source": [
    "#### A summary of the tree sequence\n",
    "\n",
    "The Jupyter notebook `display()` function shows a tabular summary of the entire tree sequence in a notebook cell:"
   ]
  },
  {
   "cell_type": "code",
   "execution_count": null,
   "id": "74b8c070-90f8-4928-9634-a1be6f84ed69",
   "metadata": {},
   "outputs": [],
   "source": [
    "display(ts)  # by default, display() is run on the last output of a cell, so you could just call `ts` here"
   ]
  },
  {
   "cell_type": "markdown",
   "id": "921fe876-054a-486a-a036-ddefe149300d",
   "metadata": {},
   "source": [
    "#### Tree sequence objects\n",
    "\n",
    "The _Tskit_ Python interface wraps each table row (i.e. a tree sequence node, edge, individual, or whatever) in a convenient object. You can loop through all the node objects using `ts.nodes()`, or get one of them using `ts.node()`; the same goes for edges, individuals, and so on"
   ]
  },
  {
   "cell_type": "code",
   "execution_count": null,
   "id": "cc2fd0e4-5ff4-4fc7-8f6c-be9caef78f99",
   "metadata": {},
   "outputs": [],
   "source": [
    "print(f\"First four of {ts.num_nodes} nodes:\")\n",
    "for nd in ts.nodes():  # Iterate over nodes using ts.nodes()\n",
    "  print(nd)\n",
    "  if nd.id == 4:\n",
    "    print(\"...\")\n",
    "    break\n",
    "\n",
    "print(f\"The first node is at time={ts.node(0).time}\")"
   ]
  },
  {
   "cell_type": "markdown",
   "id": "890a1afc-ea6b-4b42-867e-6916548a0547",
   "metadata": {},
   "source": [
    "<dl class=\"exercise\"><dt>Exercise 3</dt>\n",
    "<dd>If you want <em>all</em> the node times, you could loop using the <code>nodes()</code> iterator, but the\n",
    "convenience property <code>ts.nodes_time</code> gives you direct memory access to an array of times, which is much faster. Check the code below gives the expected answer, then also print the <code>edges_child</code> value instead:</dd></dl>"
   ]
  },
  {
   "cell_type": "code",
   "execution_count": null,
   "id": "591ed821-434d-4ef7-8150-80f675a7a276",
   "metadata": {},
   "outputs": [],
   "source": [
    "# Exercise: print the the child for all edges as well as the time for all nodes\n",
    "print(ts.nodes_time)"
   ]
  },
  {
   "cell_type": "code",
   "execution_count": null,
   "id": "3cdd7796-85e3-40d9-9835-d921e3422d84",
   "metadata": {},
   "outputs": [],
   "source": [
    "workbook.question(\"array_access\")"
   ]
  },
  {
   "cell_type": "markdown",
   "id": "a6140d31-dc5d-423d-874b-755b2e88587f",
   "metadata": {},
   "source": [
    "### Tree sequence simplification\n",
    "\n",
    "We saw that the forward-simulator created \"dead end\" genomes. These can be removed by the _tskit_ `simplify()` method, which marks a set of nodes as \"samples\" and removes information that is irrelevant to those samples. In general, a node can be thought of as a \"sample\" if we wish to keep its full genomic ancestry."
   ]
  },
  {
   "cell_type": "markdown",
   "id": "2822f334-ea2e-4e20-8aa4-80bd29e8c56b",
   "metadata": {},
   "source": [
    "#### Simplifying edges\n",
    "\n",
    "First we'll focus only on the edges. We'll specify the nodes at time zero as samples, modifying and removing edges that are not ancestral to those sample nodes. We call this **sample resolving**.\n",
    "\n",
    "The code below runs the simulation for a longer time, and then sample-resolves the resulting tree sequence. We tell the `.simplify()` method to do the minimum required, just removing removing redundant lineages, by giving the the `keep_unary=True` and `filter_nodes=False` options.  Following `tskit` convention, sample nodes are drawn as squares in the right hand plot."
   ]
  },
  {
   "cell_type": "code",
   "execution_count": null,
   "id": "e4a42949-2ce2-485c-89fa-a50d93066eb3",
   "metadata": {},
   "outputs": [],
   "source": [
    "fig, (ax_lft, ax_rgt) = plt.subplots(1, 2, figsize=(10, 8))  # set up side-by-side plots\n",
    "\n",
    "base_ts = simulate_WrightFisher(10, 30, random_seed=8)\n",
    "\n",
    "# Remove non-ancestral lineages (\"sample resolve\") using `simplify`\n",
    "current_gen_IDs = np.flatnonzero(base_ts.nodes_time == 0)\n",
    "ts = base_ts.simplify(samples=current_gen_IDs, keep_unary=True, filter_nodes=False)\n",
    "\n",
    "ARG_workshop.basic_genealogy_viz(\n",
    "    base_ts, ax_lft, show_node_ids=False, show_individuals=False, title=\"Base simulation\")\n",
    "ARG_workshop.basic_genealogy_viz(\n",
    "    ts, ax_rgt, show_node_ids=False, show_individuals=False, title=\"Sample resolved\")\n",
    "plt.show()\n",
    "print(f\"The 'sample resolved' tree sequence has {ts.num_nodes} nodes\")\n",
    "print(f\"The following nodes at time 0 are samples: {ts.samples()}\")\n"
   ]
  },
  {
   "cell_type": "markdown",
   "id": "9c02922a-b294-413d-acc3-df73f14d0301",
   "metadata": {},
   "source": [
    "#### Simplifying nodes\n",
    "\n",
    "Sample-resolving reveals a large number of redundant nodes that are not ancestral to the samples (blue circles in the right hand plot). These were kept because we specified `filter_nodes=False` in the `simplify()` command. Normally, as well as sample-resolving, `simplify` removes these unreferenced nodes. This makes the tree sequence much smaller, although the node IDs will change (and `simplify` will reorder the nodes to put the sample nodes first)."
   ]
  },
  {
   "cell_type": "code",
   "execution_count": null,
   "id": "0c7b75bd-86b9-401c-bd02-e0055bb674d0",
   "metadata": {},
   "outputs": [],
   "source": [
    "ts = base_ts.simplify(samples=current_gen_IDs, keep_unary=True)\n",
    "print(f\"Simplify removed {base_ts.num_nodes - ts.num_nodes} of {base_ts.num_nodes} nodes\")\n",
    "print(f\"Sample node IDs are now {ts.samples()}\")"
   ]
  },
  {
   "cell_type": "markdown",
   "id": "2d53cac4-c3d5-4979-9fdb-ac4e45159b4d",
   "metadata": {},
   "source": [
    "Let's look at the resulting genealogy using the [draw_svg()](https://tskit.dev/tutorials/viz.html#svg-format) method (to display this, Colab notebooks require it to be wrapped in an `SVG()` function)"
   ]
  },
  {
   "cell_type": "code",
   "execution_count": null,
   "id": "f6017276-03bf-4718-857e-433d655929b9",
   "metadata": {},
   "outputs": [],
   "source": [
    "from IPython.display import SVG\n",
    "SVG(ts.draw_svg(size=(600, 500), y_axis=True))"
   ]
  },
  {
   "cell_type": "markdown",
   "id": "8891d36f-f02c-47e1-8f38-e22067f175de",
   "metadata": {},
   "source": [
    "#### Full simplification\n",
    "\n",
    "The ancestry above forms a clear tree. However, some of the ancestral nodes have only one child in this tree: genetic information has passed through them unchanged (an example of such a \"pass-through\" node is that labelled 21). At the cost of losing the chain of direct parent-to-child links, it's possible to replace the edge from 0→21→36 with one directly from 0→36. This is what happens when we simplify without `keep_unary=True`. The result is a much more compact but essentially equivalent tree, that only shows nodes that represent branch points: i.e. those associated with coalescence. In future practicals, we'll see that the process of simplifying a recombinant genealogy (i.e. a graph rather than a tree) is rather more nuanced.\n",
    "\n",
    "<div class=\"alert alert-block alert-info\"><b>Note:</b> Replacing the edge from <b>node0</b> (time=0) → <b>node21</b> (time=1) → <b>node36</b> (time=2) will create a new edge whose <code>child</code> is node 0 and whose <code>parent</code> is at time 2. Therefore the \"child\" and \"parent\" of an edge is meant in a mathematical sense, rather than referring to individuals separated by one generation; the node identified as an edge's <code>parent</code> can be many generations older than the node identifed as the <code>child</code>.\n",
    "</div>"
   ]
  },
  {
   "cell_type": "markdown",
   "id": "97db5bc8-61a3-4bd0-8e2f-72ef0a07b068",
   "metadata": {},
   "source": [
    "<dl class=\"exercise\"><dt>Exercise 4</dt>\n",
    "<dd>Fully simplify the <code>base_ts</code> specifying the genomes at time 0 as samples, and plot it out using <code>draw_svg()</code>. You might also want to specify a <code>size</code> for the plot.</dd></dl>"
   ]
  },
  {
   "cell_type": "code",
   "execution_count": null,
   "id": "a6e23c77-3f31-4e21-8d1b-517f004b24f5",
   "metadata": {},
   "outputs": [],
   "source": [
    "# Exercise: fully simplify the original tree sequence (base_ts) using current_gen_IDs as samples\n"
   ]
  },
  {
   "cell_type": "code",
   "execution_count": null,
   "id": "1fe9de7f-3322-4446-b62c-04b18dabed9c",
   "metadata": {},
   "outputs": [],
   "source": [
    "workbook.question(\"simplified_tree_MRCA\")"
   ]
  },
  {
   "cell_type": "markdown",
   "id": "c055d177-36b9-4b32-a04c-d8b970371dd5",
   "metadata": {},
   "source": [
    "#### Subsetting\n",
    "\n",
    "You can also use `simplify()` to reduce the tree sequence to showing the genealogy of a much smaller subset of the nodes. For example, we could simplify down to the last three sample genomes. To keep track of the node ids we can ask for the mapping of old node ids to new ones to be returned using the `map_nodes` parameter, then use the old IDs as labels when plotting.\n",
    "\n",
    "<div class=\"alert alert-block alert-info\"><b>Note:</b> A better way to keep track of which node is which is to add *metadata* to nodes or individuals. We will see how to do this later.</div>"
   ]
  },
  {
   "cell_type": "code",
   "execution_count": null,
   "id": "1b99c810-d823-4ada-b3e4-142f8c49acc1",
   "metadata": {},
   "outputs": [],
   "source": [
    "ids = ts.samples()[-3:]\n",
    "print(f\"Simplifying to the ancestry of sample nodes {ids}\")\n",
    "small_ts, node_map = ts.simplify(ids, map_nodes=True)\n",
    "node_labels = {new_id: u for u, new_id in enumerate(node_map) if new_id != tskit.NULL}\n",
    "SVG(small_ts.draw_svg(y_axis=True, node_labels=node_labels))"
   ]
  },
  {
   "cell_type": "markdown",
   "id": "9ebeb4fa-29f0-449b-8103-41044b312929",
   "metadata": {},
   "source": [
    "## An improved forward-time simulator\n",
    "\n",
    "Now that we have introduced the concept of simplification and sample nodes, we can make a few minor improvements to our forward-time simulator. **The code below is mainly for reference: you don't need to look at it in detail**.\n",
    "\n",
    "The particular, minor changes are:\n",
    "* We wrap all the code in a Python class, and call `.run(num_gens)` to get a tree sequence after a given number of generations\n",
    "* During the simulation *all* simulation nodes are flagged as samples (because sample nodes can be usefully thought of as \"known genomes\", and we do know each genome during simulation), but...\n",
    "* ... `sim.run(..., simplify=True)` simplifies the tables (by default taking nodes at time=0 as samples).\n",
    "* For ease of reference, the nodes are reordered using [table.subset](https://tskit.dev/tskit/docs/stable/python-api.html#tskit.TableCollection.subset) with the youngest put first.\n",
    "* We also save the parent *individual IDs* in the individuals table. As long as we retain individuals when simplifying, this allows us to reconstruct the *pedigree* (see e.g. [here](https://tskit.dev/msprime/docs/stable/pedigrees.html#pedigree-encoding))\n",
    "\n",
    "We'll be using this simulator in later workbooks, so it's also available as `ARG_workshop.WrightFisherSimulator`"
   ]
  },
  {
   "cell_type": "code",
   "execution_count": null,
   "id": "bd39d36c-66ec-4444-8070-3db6ddd24e37",
   "metadata": {},
   "outputs": [],
   "source": [
    "class FwdWrightFisherSimulator:\n",
    "    def __init__(self, population_size, seq_len=1000, random_seed=8):\n",
    "        self.flags = tskit.NODE_IS_SAMPLE\n",
    "        self.rng = np.random.default_rng(seed=random_seed)\n",
    "        self.tables = tskit.TableCollection(sequence_length=seq_len)\n",
    "        self.tables.time_units = \"generations\"\n",
    "        self.current_population = self.initialize(population_size)\n",
    "\n",
    "    def run(self, gens, simplify=False, samples=None, **kwargs):\n",
    "        # NB: assume current_population is at time 0, and count downwards\n",
    "        # so that generations are negative. On output, rebase the times\n",
    "        # so the current generation is at time 0\n",
    "        for neg_gens in -np.arange(gens):\n",
    "            self.current_population = self.reproduce(self.current_population, neg_gens-1)\n",
    "\n",
    "        # reorder the nodes so that youngest are IDs 0..n\n",
    "        self.tables.nodes.time += gens\n",
    "        self.tables.subset(np.arange(self.tables.nodes.num_rows)[::-1])\n",
    "        self.tables.sort()  # Sort edges into canonical order, required for converting to a tree seq\n",
    "\n",
    "        if simplify:\n",
    "            if samples is None:\n",
    "                samples = np.flatnonzero(self.tables.nodes.time == 0)\n",
    "            self.tables.simplify(samples, **kwargs)\n",
    "        return self.tables.tree_sequence()\n",
    "\n",
    "\n",
    "    def initialize(self, diploid_population_size):\n",
    "        \"\"\"\n",
    "        Save a population to the tskit_tables and return a Python dictionary\n",
    "        mapping the newly created individual ids to a pair of genomes (node ids)\n",
    "        \"\"\"\n",
    "        temp_pop = {}  # make an empty dictionary\n",
    "        for _ in range(diploid_population_size):\n",
    "            # store in the TSKIT tables\n",
    "            i = self.tables.individuals.add_row(parents=(tskit.NULL, tskit.NULL))\n",
    "            maternal_node = self.tables.nodes.add_row(self.flags, time=0, individual=i)\n",
    "            paternal_node = self.tables.nodes.add_row(self.flags, time=0, individual=i)\n",
    "            # Add to the dictionary: map the individual ID to the two node IDs\n",
    "            temp_pop[i] = (maternal_node, paternal_node)\n",
    "        return temp_pop\n",
    "\n",
    "    def reproduce(self, previous_pop, current_time):\n",
    "        temp_pop = {}\n",
    "        prev_individual_ids = list(previous_pop.keys())\n",
    "        for _ in range(len(previous_pop)):\n",
    "            mum, dad = self.rng.choice(prev_individual_ids, size=2, replace=False)\n",
    "            i = self.tables.individuals.add_row(parents=(mum, dad))\n",
    "            maternal_node = self.tables.nodes.add_row(time=current_time, individual=i)\n",
    "            paternal_node = self.tables.nodes.add_row(time=current_time, individual=i)\n",
    "            temp_pop[i] = (maternal_node, paternal_node)\n",
    "    \n",
    "            # Now add inheritance paths to the edges table, ignoring recombination\n",
    "            self.add_edges(self.rng.permuted(previous_pop[mum]), maternal_node)\n",
    "            self.add_edges(self.rng.permuted(previous_pop[dad]), paternal_node)\n",
    "        return temp_pop\n",
    "\n",
    "    def add_edges(self, randomly_ordered_parent_nodes, child_node):\n",
    "        parent_node = randomly_ordered_parent_nodes[0]\n",
    "        L = self.tables.sequence_length\n",
    "        self.tables.edges.add_row(parent=parent_node, child=child_node, left=0, right=L)\n"
   ]
  },
  {
   "cell_type": "code",
   "execution_count": null,
   "id": "b15b0b86-dc9b-4c5c-8c7d-5e1d5c48fe70",
   "metadata": {},
   "outputs": [],
   "source": [
    "# Test it out\n",
    "sim = FwdWrightFisherSimulator(4, random_seed=123)\n",
    "ts = sim.run(20, simplify=True)\n",
    "SVG(ts.draw_svg(y_axis=True))"
   ]
  },
  {
   "cell_type": "code",
   "execution_count": null,
   "id": "bbe191a5-62ab-4260-9692-bfd507ee582a",
   "metadata": {},
   "outputs": [],
   "source": [
    "# Check that ARG_workshop.WrightFisherSimulator is identical\n",
    "second_ts = ARG_workshop.FwdWrightFisherSimulator(4, random_seed=123).run(20, simplify=True)\n",
    "\n",
    "# When you make a tree sequence, by default the time of creation is embedded in its\n",
    "# \"provenence\" table, so we often deliberately ignore provenance when testing equality \n",
    "assert ts.equals(second_ts, ignore_provenance=True)"
   ]
  }
 ],
 "metadata": {
  "kernelspec": {
   "display_name": "Python 3 (ipykernel)",
   "language": "python",
   "name": "python3"
  },
  "language_info": {
   "codemirror_mode": {
    "name": "ipython",
    "version": 3
   },
   "file_extension": ".py",
   "mimetype": "text/x-python",
   "name": "python",
   "nbconvert_exporter": "python",
   "pygments_lexer": "ipython3",
   "version": "3.12.2"
  }
 },
 "nbformat": 4,
 "nbformat_minor": 5
}
