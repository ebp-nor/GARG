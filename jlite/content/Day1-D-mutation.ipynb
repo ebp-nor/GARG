{
 "cells": [
  {
   "cell_type": "markdown",
   "id": "5b825ca5-56f8-463a-b272-e6e31de08c6a",
   "metadata": {},
   "source": [
    "## Setup\n",
    "\n",
    "To access material for this workbook please execute the two notebook cells immediately below (e.g. use the shortcut <b>&lt;shift&gt;+&lt;return&gt;</b>). The first cell can be skipped if you are running this notebook locally and have already installed all the necessary packages. The second cell should print out \"Your notebook is ready to go!\""
   ]
  },
  {
   "cell_type": "code",
   "execution_count": null,
   "id": "4ccc9395-655a-42a0-ac17-ab2b73d009be",
   "metadata": {},
   "outputs": [],
   "source": [
    "if 'pyodide_kernel' in str(get_ipython()):  # specify packages to install under JupyterLite\n",
    "    %pip install -q -r jlite-requirements.txt\n",
    "elif 'google.colab' in str(get_ipython()):  # specify package location for loading in Colab\n",
    "    from google.colab import drive\n",
    "    drive.mount('/content/drive')\n",
    "    %run /content/drive/MyDrive/GARG_workshop/Notebooks/add_module_path.py\n",
    "else:  # install packages on your local machine (-q = \"quiet\": don't print out installation steps)\n",
    "    !python -m pip install -q -r https://github.com/ebp-nor/GARG/raw/main/jlite/requirements.txt"
   ]
  },
  {
   "cell_type": "code",
   "execution_count": null,
   "id": "57d2d58c-61d9-4286-946d-c717857f2a75",
   "metadata": {},
   "outputs": [],
   "source": [
    "# Load questions etc for this workbook\n",
    "from IPython.display import SVG\n",
    "import tskit\n",
    "import ARG_workshop\n",
    "workbook = ARG_workshop.Workbook1D()\n",
    "display(workbook.setup)"
   ]
  },
  {
   "cell_type": "markdown",
   "id": "4c65c0e5-86d2-49d8-a8fd-2cce003fd0cf",
   "metadata": {},
   "source": [
    "### Using this workbook\n",
    "\n",
    "This workbook is intended to be used by executing each cell as you go along. Code cells (like those above) can be modified and re-executed to perform different behaviour or additional analysis. You can use this to complete various programming exercises, some of which have associated questions to test your understanding. Exercises are marked like this:\n",
    "<dl class=\"exercise\"><dt>Exercise XXX</dt>\n",
    "<dd>Here is an exercise: normally there will be a code cell below this box for you to work in</dd>\n",
    "</dl>"
   ]
  },
  {
   "cell_type": "markdown",
   "id": "41e3c291-8534-408a-9e33-22fb34cc5470",
   "metadata": {},
   "source": [
    "# Workbook 1-D: Sites, mutations, and variation\n",
    "\n",
    "So far we have been using _tskit_ to store genetic genealogies, but we have not tackled the topic of genetic variation. _Tskit_ provides an efficient way to store genetic variation data, but does so in an unusual manner. Rather than storing a DNA sequence for each of the sample genomes, _tskit_ records genetic differences transmitted through the genealogy. In particular this is done by placing **mutations** on the genealogy.\n",
    "\n",
    "Each mutation occupies a row of the *mutation table*. It is placed in the local tree by recording its associated *node*, and it is located along the genome by indexing into the *site table*: each site in this table has a position and an ancestral state.\n",
    "\n",
    "To illustrate, we'll use [msprime.sim_mutations()](https://tskit.dev/msprime/docs/stable/mutations.html) to add mutations to one of our simulated tree sequences, and display the *site* and *mutation* tables,as well as the local trees. Various sorts of mutation such as indels, microsats, etc can be generated, but for the moment we'll just use single base pair substitutions, under the [Jukes & Cantor model](https://tskit.dev/msprime/docs/stable/api.html#msprime.JC69) in which there is an equal probability of mutating between any of the 4 bases.\n",
    "\n",
    "Note that variation is encoded as mutations stacked on top of the site's `ancestral_state`. Therefore all sites in a tree sequence are inherently \"polarized\" (although the statistics routines can treat sites as either polarized or unpolarized)."
   ]
  },
  {
   "cell_type": "code",
   "execution_count": null,
   "id": "5429a3c4-1cd6-4ffe-b292-6a5556d846a2",
   "metadata": {},
   "outputs": [],
   "source": [
    "import msprime\n",
    "from IPython.display import SVG\n",
    "\n",
    "no_muts_ts = ARG_workshop.FwdWrightFisherRecombSim(5, seq_len=100, recombination_rate=1e-3, random_seed=6).run(30)\n",
    "ts = msprime.sim_mutations(no_muts_ts, rate=1e-3, random_seed=20)\n",
    "display(ts.tables.sites)\n",
    "display(ts.tables.mutations)\n",
    "display(SVG(ts.draw_svg(y_axis=True, size=(1000, 400))))"
   ]
  },
  {
   "cell_type": "markdown",
   "id": "7dde9af8-12cb-484a-83db-4f1541f6030d",
   "metadata": {},
   "source": [
    "The `sim_mutations()` routine simply adds neutral mutations randomly onto the genealogy at a rate proportional to the \"area\" of each edge (i.e. the span of the edge multiplied by the time difference between its parent and child node). This is fine for neutral mutations, that are not expected to affect the genealogical structure. However, if a mutation has some selective advantage, then it will change the probability of a genetic segment being transmitted into the next generation, and affect the genealogy. Therefore, selectively advantageous or dieadvantageous mutations normally need to simulated at the same time as the genealogy, in forward time. The _SLiM_ software package will produce tree sequences simulated in this manner."
   ]
  },
  {
   "cell_type": "markdown",
   "id": "fa1d97ed-9861-4ede-a3b9-30f328445fc8",
   "metadata": {},
   "source": [
    "<dl class=\"exercise\"><dt>Exercise 1</dt>\n",
    "<dd>Instead of the mutation IDs, it can be helpful to label the mutations with the previous state, the position and the derived state. In the cell below, use the <code>ARG_workshop.mutation_labels(ts)</code> function to create nicer mutation labels to pass to the <code>draw_svg()</code> function</dd>\n",
    "</dl>"
   ]
  },
  {
   "cell_type": "code",
   "execution_count": null,
   "id": "3bed6260-4561-4e8b-88ec-c440c806017a",
   "metadata": {},
   "outputs": [],
   "source": [
    "# Use draw_svg to replot the tree sequence with `mutation_labels=ARG_workshop.mutation_labels(ts)`\n"
   ]
  },
  {
   "cell_type": "code",
   "execution_count": null,
   "id": "588a44c3-95a6-45f0-a965-25600f06ead2",
   "metadata": {},
   "outputs": [],
   "source": [
    "# Execute code block with <shift>+Return to display question; press on one of the buttons to answer\n",
    "workbook.question(\"sites_and_mutations\")"
   ]
  },
  {
   "cell_type": "markdown",
   "id": "01a5a6de-1a64-4cb4-9221-6df5b37cd472",
   "metadata": {},
   "source": [
    "### _Tskit_ stores genetic variation efficiently\n",
    "If you are storing genetic data for (say) a million genomes, using _tskit_ takes less space than conventional methods. That's because each variable site is encoded by a single or possibly a few mutations, rather than storing a million separate letters. Of course, you need to store the genealogy as well, but this too can be stored efficiently in _tskit_ (for example, adjacent trees are expected to differ by only a few (often one) SPRs, meaning only few edges change from tree-to-tree, even for genealogies of millions of samples)."
   ]
  },
  {
   "cell_type": "markdown",
   "id": "65c9981f-04a8-481e-b448-16917f25e4fb",
   "metadata": {},
   "source": [
    "### Decoding genetic variation\n",
    "\n",
    "There are two ways to go through the sites programatically:\n",
    "* the `.sites()` iterator returns a _tskit_ [Site](https://tskit.dev/tskit/docs/stable/python-api.html#tskit.Site) object, which includes a list of mutations\n",
    "* the `.variants()` iterator additionally \"decodes\" the mutations, returning the [Site](https://tskit.dev/tskit/docs/stable/python-api.html#tskit.Site), a list of alleles, and an array specifying which samples have those alleles. As this array is of the same length as the number of samples, it can get reasonably large.\n",
    "\n",
    "Below is an example of obtaining the `.alleles` and `.genotypes` attributes of the `.variants()` iterator."
   ]
  },
  {
   "cell_type": "code",
   "execution_count": null,
   "id": "cb2aa55d-ea8b-47d2-ab21-0f2c868d00e9",
   "metadata": {},
   "outputs": [],
   "source": [
    "import numpy as np\n",
    "for v in ts.variants():\n",
    "    pos = f\"{v.site.position:3g}\"  # The \"site\" object is also an attribute of a variant\n",
    "    print(pos, v.alleles, v.genotypes, \"==\", np.array(v.alleles)[v.genotypes], sep=\"\\t\")"
   ]
  },
  {
   "cell_type": "markdown",
   "id": "da087b7b-c6b0-4219-8b03-cd21f8b97576",
   "metadata": {},
   "source": [
    "It is also possible (but much less efficient) to decode the *haplotypes*: that is, the sequence of letters for each of a list of sample genomes:"
   ]
  },
  {
   "cell_type": "code",
   "execution_count": null,
   "id": "db8551ff-b0e2-4f6a-9304-4de64993021e",
   "metadata": {},
   "outputs": [],
   "source": [
    "nodes = [0, 1]\n",
    "for node, hap in zip(nodes, ts.haplotypes(samples=nodes)):\n",
    "    print(f\"Sample {node}\", hap)"
   ]
  },
  {
   "cell_type": "markdown",
   "id": "ed594a33-eea0-407f-991e-5b19d74879eb",
   "metadata": {},
   "source": [
    "<dl class=\"exercise\"><dt>Exercise 2</dt>\n",
    "<dd>Repeat the analysis above put print out the haplotype for sample node 9, and check it's the same as the last column printed above (when iterating using the more efficient <code>.variants()</code> method</dd></dl>"
   ]
  },
  {
   "cell_type": "code",
   "execution_count": null,
   "id": "259d736d-0177-4ccf-ac16-512506d1dc1a",
   "metadata": {},
   "outputs": [],
   "source": [
    "# Exercise 2: check on the haplotype of the last sample node (id=9)"
   ]
  },
  {
   "cell_type": "code",
   "execution_count": null,
   "id": "61495cfd-2014-44d7-8afb-7f53c1f1e1b2",
   "metadata": {},
   "outputs": [],
   "source": [
    "# Execute code block with <shift>+Return to display question; press on one of the buttons to answer\n",
    "workbook.question(\"last_haplotype\")"
   ]
  },
  {
   "cell_type": "markdown",
   "id": "a8dc78d7-d447-4644-97eb-f38a54dfeccc",
   "metadata": {},
   "source": [
    "The `.haplotypes()` method above only returns the *variable sites* along a 100 base pairs genome. If we want to show the whole sequence we can use the `.aligments()` method, as below:\n",
    "\n",
    "<div class=\"alert alert-block alert-info\"><b>Note:</b> Iit's also possible to store a reference sequence in the tree sequence, in which case this can be used instead of the missing_data_charater. However, support for reference sequences is <a href=\"https://tskit.dev/tskit/docs/stable/data-model.html#reference-sequence\">preliminary in tskit</a>.</div>"
   ]
  },
  {
   "cell_type": "code",
   "execution_count": null,
   "id": "bd7fbbaf-cc69-49b8-b9aa-cf5ac50d685f",
   "metadata": {},
   "outputs": [],
   "source": [
    "for node, hap in zip(nodes, ts.alignments(samples=nodes, missing_data_character=\".\")):\n",
    "    print(f\"Sample {node}\", hap)"
   ]
  },
  {
   "cell_type": "markdown",
   "id": "5fa94cc6-1882-4479-ad3a-94088163186e",
   "metadata": {},
   "source": [
    "## Built-in statistics\n",
    "\n",
    "It requires some computational effort to decode mutations and figure out the genotypes of the samples. However, this is often not necesary. Often, it's enough to know the local tree and the placement of the mutations within it. _Tskit_ contains a set of built-in [statistical routines](https://tskit.dev/tskit/docs/stable/stats.html) that implement efficient calculations on genetic variation encoded in the tree sequence. These move along the genome, using the local tree directly and caching information used to calculate the statistics. This information is updated incrementally, when relevant parts of the local tree change, which makes the calculations much more efficient than running calculations on the decoded genotypes (see e.g. [this introducution to tree sequences](https://tskit.dev/tutorials/what_is.html#a-framework-for-efficient-computation))"
   ]
  },
  {
   "cell_type": "markdown",
   "id": "cc897aa2-9bb2-4a38-ab0b-391ef5c5b174",
   "metadata": {},
   "source": [
    "We'll run a larger example, based on the tutorials. This has a [selective sweep](https://tskit.dev/msprime/docs/stable/ancestry.html#sec-ancestry-models-selective-sweeps) halfway along the 10 Mb genome. Despite what we said earlier about neutral mutations, it *is* possible to roughly simulate a basic selective sweep backwards in time, using a limited and slightly crude approximation. We will use the approach here, rather than running a forward-time simulation using SLiM, because it is faster for basic testing."
   ]
  },
  {
   "cell_type": "code",
   "execution_count": null,
   "id": "44b90684-5b29-40d9-af33-4861b60a083d",
   "metadata": {},
   "outputs": [],
   "source": [
    "pop_size=10_000\n",
    "seq_len=10_000_000\n",
    "mu = 1e-8\n",
    "p = 1 / (2 * pop_size)\n",
    "sweep_model = msprime.SweepGenicSelection(\n",
    "    position=seq_len/2, start_frequency=p, end_frequency=1 - p, s=0.1, dt=1e-6)\n",
    "\n",
    "base_ts = msprime.sim_ancestry(\n",
    "    500,\n",
    "    model=[sweep_model, msprime.StandardCoalescent()],\n",
    "    population_size=pop_size,\n",
    "    sequence_length=seq_len,\n",
    "    recombination_rate=2e-8,\n",
    "    random_seed=1,  # only needed for repeatabilty\n",
    "    )\n",
    "sweep_ts = msprime.sim_mutations(base_ts, rate=mu, random_seed=2)\n",
    "sweep_ts"
   ]
  },
  {
   "cell_type": "markdown",
   "id": "d0a584b2-d739-44c8-ab01-1d3f44b90055",
   "metadata": {},
   "source": [
    "<dl class=\"exercise\"><dt>Exercise 3</dt>\n",
    "<dd>Use <code>sweep_ts.diversity()</code> to calculate the average sitewise diversity of this simulated tree sequence. This should be instantaneous, even for 1000 genomes over 25k sites</dd>\n",
    "</dl>"
   ]
  },
  {
   "cell_type": "code",
   "execution_count": null,
   "id": "7e4dc942-a05d-4d23-8830-30252375cbe8",
   "metadata": {},
   "outputs": [],
   "source": [
    "# Exercise 3: use this box to calculate the diversity\n"
   ]
  },
  {
   "cell_type": "code",
   "execution_count": null,
   "id": "95f33bb1-f3c5-4962-afbc-a96788a78d9c",
   "metadata": {},
   "outputs": [],
   "source": [
    "# Execute code block with <shift>+Return to display question; press return or on one of the buttons to answer\n",
    "workbook.question(\"diversity\")"
   ]
  },
  {
   "cell_type": "markdown",
   "id": "a6142c8f-8751-4ad7-8197-be368031cdba",
   "metadata": {},
   "source": [
    "Since there has been a selective sweep, we expect a \"diversity dip\" around the region of the sweep. The stats API can report statistics windowed over the genome: we'll pick 40 evently-spaced windows"
   ]
  },
  {
   "cell_type": "code",
   "execution_count": null,
   "id": "3ba865b7-5e63-4e2b-8116-43ac299201a4",
   "metadata": {},
   "outputs": [],
   "source": [
    "from matplotlib import pyplot as plt\n",
    "import numpy as np\n",
    "\n",
    "genomic_windows = np.linspace(0, sweep_ts.sequence_length, 40)\n",
    "plt.stairs(sweep_ts.diversity(windows=genomic_windows), genomic_windows, baseline=None, label=\"site\")\n",
    "plt.xlabel(\"Genome position\")\n",
    "plt.ylabel(\"Diversity\");"
   ]
  },
  {
   "cell_type": "markdown",
   "id": "7b7cab61-5aae-4e90-beeb-90eeadd654bd",
   "metadata": {},
   "source": [
    "## Site versus branch length statistics\n",
    "\n",
    "The plot above counts diversity using pairwise mutational differences. However, the true (underlying) difference between two sample nodes is simply the branch length distance between them. The mutational difference simply reflects this branch distance, under the assumption that most mutations are at novel sites. In a sense, the mutational distance will tend to the branch-length distance as we get more and more mutational information (i.e. as the mutation rate increases). We can see this by overlaying mutations at different rates onto the underlying genealogy. We can switch to measuring branch lengths by setting `mode=\"branch\"` when calling a statistical method; the default site-based version will need to be divided by the mutation rate to be comparable. \n"
   ]
  },
  {
   "cell_type": "code",
   "execution_count": null,
   "id": "042101c3-4f3e-4e75-9627-7a33fba4a737",
   "metadata": {},
   "outputs": [],
   "source": [
    "branch_diversity = base_ts.diversity(windows=genomic_windows, mode=\"branch\")\n",
    "plt.stairs(branch_diversity, genomic_windows, baseline=None, label=\"branch\", color=\"black\", lw=2)\n",
    "for mut_rate in [1e-10, 1e-9, 1e-8, 1e-7]:\n",
    "    ts = msprime.sim_mutations(base_ts, rate=mut_rate)\n",
    "    site_diversity = ts.diversity(windows=genomic_windows) / mut_rate\n",
    "    plt.stairs(site_diversity, genomic_windows, baseline=None, label=rf\"site: $\\mu={mut_rate}$\")\n",
    "plt.xlabel(\"Genome position\")\n",
    "plt.ylabel(\"Diversity\")\n",
    "plt.legend();"
   ]
  },
  {
   "cell_type": "code",
   "execution_count": null,
   "id": "7d77cd54-bc72-48a1-86c1-96ab3ba59db9",
   "metadata": {},
   "outputs": [],
   "source": [
    "# Execute code block with <shift>+Return to display question; press return or on one of the buttons to answer\n",
    "workbook.question(\"mut_rate\")"
   ]
  },
  {
   "cell_type": "markdown",
   "id": "ef2b6fce-e1ef-4372-95af-f45337ffa3c3",
   "metadata": {},
   "source": [
    "The branch-length statistic is essentially saying that the average depth of pairwise MRCAs in the middle of the genome is low. Selective sweeps cause the depth of the local coalescent trees to shrink. It's harder to visualise the tree in this example, because each has 1000 tips, and there are tens of thousands of trees, but here's an equivalent example from the [docs](https://tskit.dev/tutorials/viz.html#styling-graphical-elements), again with a sweep in the middle of the genome:\n",
    "\n",
    "<img src=\"img/sweep.svg\">"
   ]
  },
  {
   "cell_type": "markdown",
   "id": "abf113a9-d089-4786-a2e5-e7a047d034ff",
   "metadata": {},
   "source": [
    "### One-way and multi-way methods\n",
    "\n",
    "The `diversity()` method returns an average across all the samples in the tree sequence (or a specified subset, if node IDs are provided), making it a **one-way** method. However, some **multi-way** statistical methods divide the samples into different sets, and compare within and between sets.\n",
    "\n",
    "One example of a multi-way method is the classic $F_{st}$ statistic, which is available using `.Fst(sample_sets)`. For instance, we can simulate a classic stepping-stone model, and calculate the $F_{st}$ between populations:"
   ]
  },
  {
   "cell_type": "code",
   "execution_count": null,
   "id": "006d428f-5e83-498c-8a0c-880f9892d5e9",
   "metadata": {},
   "outputs": [],
   "source": [
    "# Make a \"stepping stone\" model of migration between different sized populations\n",
    "import demesdraw\n",
    "\n",
    "pop_sizes = [3e4, 2e4, 3e4, 1e4, 10e4]  # pick some variable sizes for each population \n",
    "model = msprime.Demography.stepping_stone_model(pop_sizes, migration_rate=0.001, boundaries=True)\n",
    "# sample the same number from each pop\n",
    "samples = {'pop_0': 6, 'pop_1': 6, 'pop_2': 6, 'pop_3': 6, 'pop_4': 6}\n",
    "base_ts = msprime.sim_ancestry(samples, sequence_length=1e6, demography=model, recombination_rate=1e-8, random_seed=1)\n",
    "ts = msprime.sim_mutations(base_ts, rate=1e-8)\n",
    "\n",
    "# Plot a demesdraw \"tubes\" view of the model\n",
    "display(demesdraw.tubes(model.to_demes(), log_time=True));"
   ]
  },
  {
   "cell_type": "markdown",
   "id": "9aaa17f3-bd83-4a1e-a32d-bea24fe3270e",
   "metadata": {},
   "source": [
    "It's most efficient to calculate Fst between population pairs by saving all the sample node IDs in each population as a list of lists, and indexing into them, like this:"
   ]
  },
  {
   "cell_type": "code",
   "execution_count": null,
   "id": "abbcddbf-76a2-4ac4-a831-40a940e6bc33",
   "metadata": {},
   "outputs": [],
   "source": [
    "# Find pairwise values\n",
    "indexes = []\n",
    "sample_sets = []\n",
    "for pop1 in range(len(pop_sizes)):\n",
    "    sample_sets.append(ts.samples(population=pop1))\n",
    "    for pop2 in range(pop1, len(pop_sizes)):\n",
    "        indexes.append((pop2, pop1))\n",
    "\n",
    "print(\"Using the following sample sets:\")\n",
    "print(np.array(sample_sets))"
   ]
  },
  {
   "cell_type": "code",
   "execution_count": null,
   "id": "c6cd8e1c-2910-4245-bc98-c44065a626fc",
   "metadata": {},
   "outputs": [],
   "source": [
    "Fst_values = {\n",
    "    \"Site\": ts.Fst(sample_sets, indexes = indexes, mode=\"branch\"),\n",
    "    \"Branch\": ts.Fst(sample_sets, indexes = indexes, mode=\"branch\")\n",
    "}\n",
    "\n",
    "Fst_matrices = {k: np.zeros((len(pop_sizes), len(pop_sizes))) for k in Fst_values.keys()}\n",
    "for name, values in Fst_values.items():\n",
    "    for idx, Fst in zip(indexes, values):\n",
    "        Fst_matrices[name][idx] = Fst\n",
    "\n",
    "fig, axes = plt.subplots(1, 2, figsize=(15, 5))\n",
    "for ax, name in zip(axes, Fst_matrices.keys()):\n",
    "    im = ax.pcolormesh(Fst_matrices[name])\n",
    "    bar = plt.colorbar(im, ax=ax)\n",
    "    ax.set_title(name + \" Fst\")\n",
    "    ax.set_xticks(np.arange(5) + 0.5, list(samples.keys()))\n",
    "    ax.set_yticks(np.arange(5) + 0.5, list(samples.keys()))"
   ]
  },
  {
   "cell_type": "markdown",
   "id": "62f6909d-3f5d-451a-9a49-0e9214950b68",
   "metadata": {},
   "source": [
    "<dl class=\"exercise\"><dt>Exercise 4</dt>\n",
    "<dd>use <code>.Fst([ts.samples(population=0), ts.samples(population=3)])</code> to get the Fst between all samples in populations 0 versus 3 (the highest Fst in the plots above)</dd>\n",
    "</dl>"
   ]
  },
  {
   "cell_type": "code",
   "execution_count": null,
   "id": "907c5f7e-7eca-42f9-ac45-c413a1d17177",
   "metadata": {},
   "outputs": [],
   "source": [
    "# Exercise: print the site and branch Fst between populations 0 and 3\n"
   ]
  },
  {
   "cell_type": "code",
   "execution_count": null,
   "id": "41068493-770b-45c2-930c-0a6a990fc520",
   "metadata": {},
   "outputs": [],
   "source": [
    "# Execute code block with <shift>+Return to display question; press return or on one of the buttons to answer\n",
    "workbook.question(\"Fst\")"
   ]
  },
  {
   "cell_type": "markdown",
   "id": "a4d63424-ff5c-41f7-908f-f4af81f17665",
   "metadata": {},
   "source": [
    "### The allele frequency spectrum\n",
    "\n",
    "Many of these methods are transformations of the (joint) allele frequency spectrum (AFS). Normally the AFS is taken to be the number of singleton sites, doubleton sites, tripleton sites, etc. (where a singleton site is a site in which only one sample node has the derived allele). This too can be simply obtained in tskit. There is also a branch-length equivalent: the total branch length immediately above a single sample, a pair of samples, three samples, etc."
   ]
  },
  {
   "cell_type": "code",
   "execution_count": null,
   "id": "532fc3df-3153-45e2-9186-1ff371447f58",
   "metadata": {},
   "outputs": [],
   "source": [
    "# NB polarised=True gives the \"unfolded\" version, where we know which alleles are ancestral and derived at each site\n",
    "fig, axes = plt.subplots(1, 2, figsize=(10, 3))\n",
    "for ax, site_or_branch in zip(axes, (\"site\", \"branch\")):\n",
    "    ax.plot(\n",
    "        ts.allele_frequency_spectrum(span_normalise=False, mode=site_or_branch, polarised=True),\n",
    "        drawstyle=\"steps\",\n",
    "    )\n",
    "    if site_or_branch==\"site\":\n",
    "        ax.set_xlabel(\"# of samples with derived allele\")\n",
    "        ax.set_xlabel(\"# of sites\");\n",
    "    else:\n",
    "        ax.set_ylabel(\"# total edge area\")        \n",
    "        ax.set_xlabel(\"av # of samples below edge\")\n"
   ]
  },
  {
   "cell_type": "markdown",
   "id": "19441ceb-a33f-4c88-bd85-473e79e9960f",
   "metadata": {},
   "source": [
    "Incidentally, it's also possible to plot windowed versions of the AFS, but it's not always very useful. E.g. it's much harder to make out the signature of selection in the `sweep_ts` example than in a diversity plot."
   ]
  },
  {
   "cell_type": "code",
   "execution_count": null,
   "id": "3925ffe4-d2fe-4628-b10d-aba2601f41f0",
   "metadata": {},
   "outputs": [],
   "source": [
    "windowed_afs = sweep_ts.allele_frequency_spectrum(span_normalise=False, windows=genomic_windows, polarised=True)\n",
    "fig, ax = plt.subplots(1, 1, figsize=(10, 4))\n",
    "im = ax.pcolormesh(genomic_windows, np.arange(0, sweep_ts.num_samples+2), windowed_afs.T)\n",
    "bar = plt.colorbar(im, ax=ax)\n",
    "plt.yscale(\"log\")\n",
    "plt.ylim(1, 1000)"
   ]
  },
  {
   "cell_type": "markdown",
   "id": "cbc6064a-6202-4ae7-b11c-4347467c22ec",
   "metadata": {},
   "source": [
    "## Mutation times\n",
    "Each mutation in a tree sequence can also (optionally) be associated with a time. If we plot the times of mutations, it often gives clues to the depth of coalescence in that region (which as we saw above, is influenced by selection). Note that for speed, we can also use the very efficient array accessors (`ts.sites_position`, `ts.mutations_site`, etc) to get the times to plot:"
   ]
  },
  {
   "cell_type": "code",
   "execution_count": null,
   "id": "2559c1fb-d11f-491d-a3ae-6ca840a189ad",
   "metadata": {},
   "outputs": [],
   "source": [
    "plt.scatter(sweep_ts.sites_position[sweep_ts.mutations_site], sweep_ts.mutations_time, alpha=0.1, s=1)\n",
    "plt.yscale(\"log\")\n",
    "plt.ylabel(\"Mutation time\")\n",
    "plt.xlabel(\"Genome position\")\n",
    "plt.axvline(5e6, color=\"grey\", ls=\":\")\n",
    "plt.text(5e6, 1, \"selected locus\", ha=\"center\");"
   ]
  },
  {
   "cell_type": "markdown",
   "id": "6ca4f5f1-6937-4d82-86e6-793ea566fd13",
   "metadata": {},
   "source": [
    "This can be also be helpful for looking at node times in inferred tree sequences. We can identify equivalent nodes in tree sequences that share the same set of sites by looking at the nodes under each mutation. We can then plot the times of those nodes."
   ]
  },
  {
   "cell_type": "markdown",
   "id": "16cfa2f8-1420-433a-b4a0-a75ffa460987",
   "metadata": {},
   "source": [
    "<dl class=\"exercise\"><dt>Exercise 5</dt>\n",
    "<dd>Repeat the code above, substituting <code>sweep_ts.nodes_time[sweep_ts.mutations_node]</code> as the y variable, instead of <code>sweep_ts.mutations_time</code></dd>\n",
    "</dl>"
   ]
  },
  {
   "cell_type": "code",
   "execution_count": null,
   "id": "93b483d8-48ee-4e01-98ea-50ee1f937d76",
   "metadata": {},
   "outputs": [],
   "source": [
    "# Exercise: reproduce the plot above using the times of nodes under each mutation instead\n"
   ]
  },
  {
   "cell_type": "markdown",
   "id": "796e6bfa-d77c-490a-b11d-2c4f64c4bf39",
   "metadata": {},
   "source": [
    "## Multiple / recurrent mutations\n",
    "\n",
    "In this workbook we have only scratched the surface of the possibilities for adding mutations to a tree sequence genealogy. In particular, we have been assuming that each site is associated with only a single mutation. However, that need not be the case. As the mutation rate per base pair increases, the probabilty of a mutation occurring at the same site goes up. Here's a trivial example with a very high mutation rate:"
   ]
  },
  {
   "cell_type": "code",
   "execution_count": null,
   "id": "1f529b67-3a40-4e66-87c2-b5616ca7a0f3",
   "metadata": {},
   "outputs": [],
   "source": [
    "ts = msprime.sim_ancestry(4, population_size=5e6, sequence_length=20, recombination_rate=1e-8, random_seed=1)\n",
    "ts = msprime.sim_mutations(ts, rate=1e-7, random_seed=2)\n",
    "# highlight last site\n",
    "last_site = ts.num_sites - 1\n",
    "style = (\n",
    "    \".mut .sym, .mut .lab{stroke: pink}\"\n",
    "    f\".s{last_site}.site .sym, .s{last_site}.mut .sym, .s{last_site}.mut .lab\"\n",
    "    \"{stroke:red}\"\n",
    ")\n",
    "display(SVG(ts.draw_svg(size=(300, 600), style=style)))\n",
    "print(ts.tables.sites)\n",
    "print(ts.tables.mutations)"
   ]
  },
  {
   "cell_type": "code",
   "execution_count": null,
   "id": "a80fdedf-1f7c-441e-830e-7b90aa71497d",
   "metadata": {},
   "outputs": [],
   "source": [
    "# Execute code block with <shift>+Return to display question; press return or on one of the buttons to answer\n",
    "workbook.question(\"multiple_muts\")"
   ]
  },
  {
   "cell_type": "markdown",
   "id": "f4e2d750-a7b9-4c27-9496-5a3826bffabd",
   "metadata": {},
   "source": [
    "## Indels and complex mutations\n",
    "\n",
    "Mutations are not simply restricted to single letter changes. The allelic states can be several letters long, so anything that be encoded in a standard VCF file can be encoded in a tree sequence. It's less frequent to see indels as allelic states, because the rate of indel mutations is less well studied than SNVs. Additionally, _tskit_is not designed to deal with nested / overlapping mutations (e.g. a SNV contained within an insertion)."
   ]
  },
  {
   "cell_type": "code",
   "execution_count": null,
   "id": "3024dcaa-acfd-4b02-9d3a-e4a0e45e0535",
   "metadata": {},
   "outputs": [],
   "source": []
  }
 ],
 "metadata": {
  "kernelspec": {
   "display_name": "Python 3 (ipykernel)",
   "language": "python",
   "name": "python3"
  },
  "language_info": {
   "codemirror_mode": {
    "name": "ipython",
    "version": 3
   },
   "file_extension": ".py",
   "mimetype": "text/x-python",
   "name": "python",
   "nbconvert_exporter": "python",
   "pygments_lexer": "ipython3",
   "version": "3.12.2"
  }
 },
 "nbformat": 4,
 "nbformat_minor": 5
}
