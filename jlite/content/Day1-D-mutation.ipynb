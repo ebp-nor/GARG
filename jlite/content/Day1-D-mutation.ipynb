{
 "cells": [
  {
   "cell_type": "markdown",
   "id": "5b825ca5-56f8-463a-b272-e6e31de08c6a",
   "metadata": {},
   "source": [
    "## Setup\n",
    "\n",
    "To access material for this workbook please execute the two notebook cells immediately below (e.g. use the shortcut <b>&lt;shift&gt;+&lt;return&gt;</b>). The first cell can be skipped if you are running this notebook locally and have already installed all the necessary packages. The second cell should print out \"Your notebook is ready to go!\""
   ]
  },
  {
   "cell_type": "code",
   "execution_count": null,
   "id": "4ccc9395-655a-42a0-ac17-ab2b73d009be",
   "metadata": {},
   "outputs": [],
   "source": [
    "if 'pyodide_kernel' in str(get_ipython()):  # specify packages to install under JupyterLite\n",
    "    %pip install -q -r jlite-requirements.txt\n",
    "elif 'google.colab' in str(get_ipython()):  # specify package location for loading in Colab\n",
    "    from google.colab import drive\n",
    "    drive.mount('/content/drive')\n",
    "    %run /content/drive/MyDrive/GARG_workshop/Notebooks/add_module_path.py\n",
    "else:  # install packages on your local machine (-q = \"quiet\": don't print out installation steps)\n",
    "    !python -m pip install -q -r https://github.com/ebp-nor/GARG/raw/main/jlite/requirements.txt"
   ]
  },
  {
   "cell_type": "code",
   "execution_count": null,
   "id": "57d2d58c-61d9-4286-946d-c717857f2a75",
   "metadata": {},
   "outputs": [],
   "source": [
    "# Load questions etc for this workbook\n",
    "from IPython.display import SVG\n",
    "import tskit\n",
    "import ARG_workshop\n",
    "workbook = ARG_workshop.Workbook1D()\n",
    "display(workbook.setup)"
   ]
  },
  {
   "cell_type": "markdown",
   "id": "4c65c0e5-86d2-49d8-a8fd-2cce003fd0cf",
   "metadata": {},
   "source": [
    "### Using this workbook\n",
    "\n",
    "This workbook is intended to be used by executing each cell as you go along. Code cells (like those above) can be modified and re-executed to perform different behaviour or additional analysis. You can use this to complete various programming exercises, some of which have associated questions to test your understanding. Exercises are marked like this:\n",
    "<dl class=\"exercise\"><dt>Exercise XXX</dt>\n",
    "<dd>Here is an exercise: normally there will be a code cell below this box for you to work in</dd>\n",
    "</dl>"
   ]
  },
  {
   "cell_type": "markdown",
   "id": "41e3c291-8534-408a-9e33-22fb34cc5470",
   "metadata": {},
   "source": [
    "# Workbook 1-D: Sites, mutations, and variation\n",
    "\n",
    "So far we have been using _tskit_ to store genetic genealogies, but we have not tackled the topic of genetic variation. _Tskit_ stores genetic variation data in an unusual manner. Rather than storing a DNA sequence for each of the sample genomes, _tskit_ records genetic differences transmitted through the genealogy. In particular this is done by placing **mutations** on the genealogy.\n",
    "\n",
    "Each mutation occupies a row of the *mutation table*. It is placed in the local tree by recording its associated *node*, and it is located along the genome by indexing into the *site table*: each site in this table has a position and an ancestral state.\n",
    "\n",
    "To illustrate, we'll use [msprime.sim_mutations()](https://tskit.dev/msprime/docs/stable/mutations.html) to add mutations to one of our simulated tree sequences, and display the *site* and *mutation* tables,as well as the local trees. Various sorts of mutation such as indels, microsats, etc can be generated, but for the moment we'll just use single base pair substitutions, under the [Jukes & Cantor model](https://tskit.dev/msprime/docs/stable/api.html#msprime.JC69) in which there is an equal probability of mutating between any of the 4 bases."
   ]
  },
  {
   "cell_type": "code",
   "execution_count": null,
   "id": "5429a3c4-1cd6-4ffe-b292-6a5556d846a2",
   "metadata": {},
   "outputs": [],
   "source": [
    "import msprime\n",
    "\n",
    "no_muts_ts = ARG_workshop.FwdWrightFisherRecombSim(5, seq_len=100, recombination_rate=1e-3, random_seed=6).run(30)\n",
    "ts = msprime.sim_mutations(no_muts_ts, rate=1e-3, random_seed=20)\n",
    "display(ts.tables.sites)\n",
    "display(ts.tables.mutations)\n",
    "display(ts.draw_svg(y_axis=True, size=(1000, 400)))"
   ]
  },
  {
   "cell_type": "markdown",
   "id": "7dde9af8-12cb-484a-83db-4f1541f6030d",
   "metadata": {},
   "source": [
    "The `sim_mutations()` routine simply adds neutral mutations randomly onto the genealogy at a rate proportional to the \"area\" of each edge (i.e. the span of the edge multiplied by the time difference between its parent and child node). This is fine for neutral mutations, that are not expected to affect the genealogical structure. However, if a mutation has some selective advantage, then it will change the probability of a genetic segment being transmitted into the next generation, and affect the genealogy. Therefore, selectively advantageous or dieadvantageous mutations normally need to simulated at the same time as the genealogy, in forward time. The _SLiM_ software package will produce tree sequences simulated in this manner."
   ]
  },
  {
   "cell_type": "markdown",
   "id": "fa1d97ed-9861-4ede-a3b9-30f328445fc8",
   "metadata": {},
   "source": [
    "<dl class=\"exercise\"><dt>Exercise 1</dt>\n",
    "<dd>Instead of the mutation IDs, it can be helpful to label the mutations with the previous state, the position and the derived state. In the cell below, use the <code>ARG_workshop.mutation_labels(ts)</code> function to create nicer mutation labels to pass to the <code>draw_svg()</code> function</dd>\n",
    "</dl>"
   ]
  },
  {
   "cell_type": "code",
   "execution_count": null,
   "id": "3bed6260-4561-4e8b-88ec-c440c806017a",
   "metadata": {},
   "outputs": [],
   "source": [
    "# Use draw_svg to replot the tree sequence with `mutation_labels=ARG_workshop.mutation_labels(ts)`\n"
   ]
  },
  {
   "cell_type": "code",
   "execution_count": null,
   "id": "588a44c3-95a6-45f0-a965-25600f06ead2",
   "metadata": {},
   "outputs": [],
   "source": [
    "# Execute code block with <shift>+Return to display question; press on one of the buttons to answer\n",
    "workbook.question(\"sites_and_mutations\")"
   ]
  },
  {
   "cell_type": "markdown",
   "id": "01a5a6de-1a64-4cb4-9221-6df5b37cd472",
   "metadata": {},
   "source": [
    "### _Tskit_ stores genetic variation efficiently\n",
    "If you are storing genetic data for (say) a million genomes, using _tskit_ takes less space than conventional methods. That's because each variable site is encoded by a single or possibly a few mutations, rather than storing a million separate letters. Of course, you need to store the genealogy as well, but this too can be stored efficiently in _tskit_ (for example, adjacent trees are expected to differ by only a few (often one) SPRs, meaning only few edges change from tree-to-tree, even for genealogies of millions of samples)."
   ]
  },
  {
   "cell_type": "markdown",
   "id": "65c9981f-04a8-481e-b448-16917f25e4fb",
   "metadata": {},
   "source": [
    "### Decoding genetic variation\n",
    "\n",
    "There are two ways to go through the sites programatically:\n",
    "* the `.sites()` iterator returns a _tskit_ [Site](https://tskit.dev/tskit/docs/stable/python-api.html#tskit.Site) object, which includes a list of mutations\n",
    "* the `.variants()` iterator additionally \"decodes\" the mutations, returning the [Site](https://tskit.dev/tskit/docs/stable/python-api.html#tskit.Site), a list of alleles, and an array specifying which samples have those alleles.\n",
    "\n",
    "Below is an example of obtaining the `.alleles` and `.genotypes` attributes of the `.variants()` iterator."
   ]
  },
  {
   "cell_type": "code",
   "execution_count": null,
   "id": "cb2aa55d-ea8b-47d2-ab21-0f2c868d00e9",
   "metadata": {},
   "outputs": [],
   "source": [
    "import numpy as np\n",
    "for v in ts.variants():\n",
    "    pos = f\"{v.site.position:3g}\"  # The \"site\" object is also an attribute of a variant\n",
    "    print(pos, v.alleles, v.genotypes, \"==\", np.array(v.alleles)[v.genotypes], sep=\"\\t\")"
   ]
  },
  {
   "cell_type": "markdown",
   "id": "da087b7b-c6b0-4219-8b03-cd21f8b97576",
   "metadata": {},
   "source": [
    "It is also possible (but even less efficient) to decode the *haplotypes*: that is, the sequence of letters for each of a list of sample genomes:"
   ]
  },
  {
   "cell_type": "code",
   "execution_count": null,
   "id": "db8551ff-b0e2-4f6a-9304-4de64993021e",
   "metadata": {},
   "outputs": [],
   "source": [
    "nodes = [0, 1]\n",
    "for node, hap in zip(nodes, ts.haplotypes(samples=nodes)):\n",
    "    print(f\"Sample {node}\", hap)"
   ]
  },
  {
   "cell_type": "markdown",
   "id": "ed594a33-eea0-407f-991e-5b19d74879eb",
   "metadata": {},
   "source": [
    "<dl class=\"exercise\"><dt>Exercise 2</dt>\n",
    "<dd>Repeat the analysis above put print out the haplotype for sample node 9, and check it's the same as the last column printed above (when iterating using the <code>.variants()</code> method</dd></dl>"
   ]
  },
  {
   "cell_type": "code",
   "execution_count": null,
   "id": "259d736d-0177-4ccf-ac16-512506d1dc1a",
   "metadata": {},
   "outputs": [],
   "source": [
    "# Exercise 2: check on the haplotype of the last sample node (id=9)"
   ]
  },
  {
   "cell_type": "code",
   "execution_count": null,
   "id": "61495cfd-2014-44d7-8afb-7f53c1f1e1b2",
   "metadata": {},
   "outputs": [],
   "source": [
    "# Execute code block with <shift>+Return to display question; press on one of the buttons to answer\n",
    "workbook.question(\"last_haplotype\")"
   ]
  },
  {
   "cell_type": "markdown",
   "id": "a8dc78d7-d447-4644-97eb-f38a54dfeccc",
   "metadata": {},
   "source": [
    "The `.haplotypes()` method above only returns the *variable sites* along a 100 base pairs genome. If we want to show the whole sequence we can use the `.aligments()` method, as below:\n",
    "\n",
    "<div class=\"alert alert-block alert-info\"><b>Note:</b> Iit's also possible to store a reference sequence in the tree sequence, in which case this can be used instead of the missing_data_charater. However, support for reference sequences is [preliminary in tskit](https://tskit.dev/tskit/docs/stable/data-model.html#reference-sequence).</div>"
   ]
  },
  {
   "cell_type": "code",
   "execution_count": null,
   "id": "bd7fbbaf-cc69-49b8-b9aa-cf5ac50d685f",
   "metadata": {},
   "outputs": [],
   "source": [
    "for node, hap in zip(nodes, ts.alignments(samples=nodes, missing_data_character=\".\")):\n",
    "    print(f\"Sample {node}\", hap)"
   ]
  },
  {
   "cell_type": "markdown",
   "id": "5fa94cc6-1882-4479-ad3a-94088163186e",
   "metadata": {},
   "source": [
    "## Built-in statistics\n",
    "\n",
    "It requires some computational effort to decode mutations and figure out the genotypes of the samples. However, this is often not necesary. Often, it's enough to know the local tree and the placement of the mutations within it. _Tskit_ contains a set of built-in [statistical routines](https://tskit.dev/tskit/docs/stable/stats.html) that implement efficient calculations on genetic variation encoded in the tree sequence. These move along the genome, using the local tree directly and caching information used to calculate the statistics. This information is updated incrementally, when relevant parts of the local tree change, which makes the calculations much more efficient than running calculations on the decoded genotypes."
   ]
  },
  {
   "cell_type": "markdown",
   "id": "cc897aa2-9bb2-4a38-ab0b-391ef5c5b174",
   "metadata": {},
   "source": [
    "We'll run a larger example, based on the tutorials. This has a [selective sweep](https://tskit.dev/msprime/docs/stable/ancestry.html#sec-ancestry-models-selective-sweeps) halfway along the 10 Mb genome. Despite what we said earlier about neutral mutations, it *is* possible to roughly simulate a basic selective sweep backwards in time, although it is only a limited and slightly crude approximation. Nevertheless, we will use the approach here because it is significantly faster than running a forward-time simulation using SLiM."
   ]
  },
  {
   "cell_type": "code",
   "execution_count": null,
   "id": "44b90684-5b29-40d9-af33-4861b60a083d",
   "metadata": {},
   "outputs": [],
   "source": [
    "pop_size=10_000\n",
    "seq_len=10_000_000\n",
    "mu = 1e-8\n",
    "p = 1 / (2 * pop_size)\n",
    "sweep_model = msprime.SweepGenicSelection(\n",
    "    position=seq_len/2, start_frequency=p, end_frequency=1 - p, s=0.1, dt=1e-6)\n",
    "\n",
    "base_ts = msprime.sim_ancestry(\n",
    "    500,\n",
    "    model=[sweep_model, msprime.StandardCoalescent()],\n",
    "    population_size=pop_size,\n",
    "    sequence_length=seq_len,\n",
    "    recombination_rate=2e-8,\n",
    "    random_seed=1,  # only needed for repeatabilty\n",
    "    )\n",
    "ts = msprime.sim_mutations(base_ts, rate=mu, random_seed=2)\n",
    "ts"
   ]
  },
  {
   "cell_type": "markdown",
   "id": "d0a584b2-d739-44c8-ab01-1d3f44b90055",
   "metadata": {},
   "source": [
    "<dl class=\"exercise\"><dt>Exercise 3</dt>\n",
    "<dd>Use <code>ts.diversity()</code> to calculate the average sitewise diversity of this simulated tree sequence. This should be instantaneous, even for 1000 genomes over 25k sites</dd>\n",
    "</dl>"
   ]
  },
  {
   "cell_type": "code",
   "execution_count": null,
   "id": "7e4dc942-a05d-4d23-8830-30252375cbe8",
   "metadata": {},
   "outputs": [],
   "source": [
    "# Exercise 3: use this box to calculate the diversity\n",
    "ts.diversity()"
   ]
  },
  {
   "cell_type": "code",
   "execution_count": null,
   "id": "95f33bb1-f3c5-4962-afbc-a96788a78d9c",
   "metadata": {},
   "outputs": [],
   "source": [
    "# Execute code block with <shift>+Return to display question; press on one of the buttons to answer\n",
    "workbook.question(\"diversity\")"
   ]
  },
  {
   "cell_type": "markdown",
   "id": "a6142c8f-8751-4ad7-8197-be368031cdba",
   "metadata": {},
   "source": [
    "Since there has been a selective sweep, we expect a \"diversity dip\" around the region of the sweep. The stats API can report statistics windowed over the genome: we'll pick 40 evently-spaced windows"
   ]
  },
  {
   "cell_type": "code",
   "execution_count": null,
   "id": "3ba865b7-5e63-4e2b-8116-43ac299201a4",
   "metadata": {},
   "outputs": [],
   "source": [
    "from matplotlib import pyplot as plt\n",
    "import numpy as np\n",
    "\n",
    "genomic_windows = np.linspace(0, ts.sequence_length, 40)\n",
    "plt.stairs(ts.diversity(windows=genomic_windows), genomic_windows, baseline=None, label=\"site\")\n",
    "plt.xlabel(\"Genome position\")\n",
    "plt.ylabel(\"Diversity\");"
   ]
  },
  {
   "cell_type": "markdown",
   "id": "7b7cab61-5aae-4e90-beeb-90eeadd654bd",
   "metadata": {},
   "source": [
    "## Site versus branch length statistics\n",
    "\n",
    "The plot above counts diversity using pairwise mutational differences. However, the true (underlying) difference between two sample nodes is simply the branch length distance between them. The mutational difference simply reflects this branch distance, under the assumption that most mutations are at novel sites. In a sense, the mutational distance will tend to the branch-length distance as we get more and more mutational information (i.e. as the mutation rate increases). We can see this by overlaying mutations at different rates onto the underlying genealogy. We can switch to measuring branch length by setting `mode=\"branch\"` when calling a statistical method; the default sitewise version will need to be divided by the mutation rate to be comparable. \n"
   ]
  },
  {
   "cell_type": "code",
   "execution_count": null,
   "id": "042101c3-4f3e-4e75-9627-7a33fba4a737",
   "metadata": {},
   "outputs": [],
   "source": [
    "branch_diversity = base_ts.diversity(windows=genomic_windows, mode=\"branch\")\n",
    "plt.stairs(branch_diversity, genomic_windows, baseline=None, label=\"branch\", color=\"black\", lw=2)\n",
    "for mut_rate in [1e-10, 1e-9, 1e-8, 1e-7]:\n",
    "    ts = msprime.sim_mutations(base_ts, rate=mut_rate)\n",
    "    site_diversity = ts.diversity(windows=genomic_windows) / mut_rate\n",
    "    plt.stairs(site_diversity, genomic_windows, baseline=None, label=rf\"site: $\\mu={mut_rate}$\")\n",
    "plt.xlabel(\"Genome position\")\n",
    "plt.ylabel(\"Diversity\")\n",
    "plt.legend();"
   ]
  },
  {
   "cell_type": "code",
   "execution_count": null,
   "id": "7d77cd54-bc72-48a1-86c1-96ab3ba59db9",
   "metadata": {},
   "outputs": [],
   "source": [
    "# Execute code block with <shift>+Return to display question; press on one of the buttons to answer\n",
    "workbook.question(\"diversity\")"
   ]
  },
  {
   "cell_type": "markdown",
   "id": "abf113a9-d089-4786-a2e5-e7a047d034ff",
   "metadata": {},
   "source": [
    "### One-way and multi-way methods\n",
    "\n",
    "The `diversity()` method returns an average across all the samples in the tree sequence (or a specified subset, if node IDs are provided).. However, some statistical methods divide the samples into different sets, and compare within and between sets. One example of this is the classic $F_{st}$ statistic, which is available using `.Fst(sample_sets)`. For instance, we can simulate a classic stepping-stone model, and calculate the $F_{st}$ between populations:"
   ]
  },
  {
   "cell_type": "code",
   "execution_count": null,
   "id": "006d428f-5e83-498c-8a0c-880f9892d5e9",
   "metadata": {},
   "outputs": [],
   "source": [
    "### TODO"
   ]
  },
  {
   "cell_type": "code",
   "execution_count": null,
   "id": "abbcddbf-76a2-4ac4-a831-40a940e6bc33",
   "metadata": {},
   "outputs": [],
   "source": [
    "pop_sizes = [3e4, 2e4, 3e4, 1e4, 10e4]  # pick some variable sizes for each population \n",
    "model = msprime.Demography.stepping_stone_model(pop_sizes, migration_rate=0.001, boundaries=True)\n",
    "ts = msprime.sim_ancestry(\n",
    "    {'pop_0': 20, 'pop_1': 20, 'pop_2': 20, 'pop_3': 20, 'pop_4': 20},\n",
    "    sequence_length=1e6, demography=model, recombination_rate=1e-8)\n",
    "np.lower_tri\n",
    "ts.Fst(\n",
    "    sample_sets=[\n",
    "        ts.samples(population=0),\n",
    "        ts.samples(population=1),\n",
    "        ts.samples(population=2),\n",
    "    ],\n",
    "    indexes = [(0, 1), (0, 2), (1, 2)],\n",
    "    mode=\"branch\",\n",
    ")"
   ]
  },
  {
   "cell_type": "code",
   "execution_count": null,
   "id": "c6cd8e1c-2910-4245-bc98-c44065a626fc",
   "metadata": {},
   "outputs": [],
   "source": [
    "ts.samples(population=0)"
   ]
  },
  {
   "cell_type": "code",
   "execution_count": null,
   "id": "4969fc7d-3c60-46eb-baeb-579abc15e653",
   "metadata": {},
   "outputs": [],
   "source": [
    "### The allele frequency spectrum\n",
    "\n",
    "We can efficiently calculate the allele frequency spectrum (AFS)"
   ]
  },
  {
   "cell_type": "code",
   "execution_count": null,
   "id": "532fc3df-3153-45e2-9186-1ff371447f58",
   "metadata": {},
   "outputs": [],
   "source": []
  },
  {
   "cell_type": "code",
   "execution_count": null,
   "id": "98577919-3aa1-4bde-97d2-c4483eda4d2e",
   "metadata": {},
   "outputs": [],
   "source": []
  },
  {
   "cell_type": "code",
   "execution_count": null,
   "id": "3e8422d8-dd38-458e-991f-9a052e616aad",
   "metadata": {},
   "outputs": [],
   "source": [
    "windowed_afs = ts.allele_frequency_spectrum(windows=genomic_windows, polarised=True)"
   ]
  },
  {
   "cell_type": "markdown",
   "id": "19441ceb-a33f-4c88-bd85-473e79e9960f",
   "metadata": {},
   "source": [
    "By the way, it's also possible to plot windowed versions of the AFS, but they aren't very sensitive to "
   ]
  },
  {
   "cell_type": "code",
   "execution_count": null,
   "id": "3925ffe4-d2fe-4628-b10d-aba2601f41f0",
   "metadata": {},
   "outputs": [],
   "source": [
    "im = plt.pcolormesh(genomic_windows, np.arange(0, ts.num_samples+2), windowed_afs.T)\n",
    "bar = plt.colorbar(im, ax=plt.gca())\n",
    "plt.yscale(\"log\")\n",
    "plt.ylim(1, 1000)"
   ]
  },
  {
   "cell_type": "code",
   "execution_count": null,
   "id": "0760476a-8c89-472b-9621-940bed65e569",
   "metadata": {},
   "outputs": [],
   "source": [
    "## Mutation times\n",
    "Each mutation in a tree sequence can also (optionally) be associated with a time"
   ]
  },
  {
   "cell_type": "code",
   "execution_count": null,
   "id": "2559c1fb-d11f-491d-a3ae-6ca840a189ad",
   "metadata": {},
   "outputs": [],
   "source": [
    "plt.scatter(ts.sites_position[ts.mutations_site], ts.mutations_time, alpha=0.1, s=1)\n",
    "plt.yscale(\"log\")"
   ]
  },
  {
   "cell_type": "code",
   "execution_count": null,
   "id": "48f2d77c-7bb4-4b72-9ff4-bcc0ba1a2274",
   "metadata": {},
   "outputs": [],
   "source": [
    "## Multiple / recurrent mutations\n"
   ]
  },
  {
   "cell_type": "code",
   "execution_count": null,
   "id": "0cca26cc-b3da-4017-a895-0eb9876f242d",
   "metadata": {},
   "outputs": [],
   "source": []
  },
  {
   "cell_type": "code",
   "execution_count": null,
   "id": "c5e4d71d-9a0f-4e95-8698-cfb51399e2e1",
   "metadata": {},
   "outputs": [],
   "source": []
  }
 ],
 "metadata": {
  "kernelspec": {
   "display_name": "Python 3 (ipykernel)",
   "language": "python",
   "name": "python3"
  },
  "language_info": {
   "codemirror_mode": {
    "name": "ipython",
    "version": 3
   },
   "file_extension": ".py",
   "mimetype": "text/x-python",
   "name": "python",
   "nbconvert_exporter": "python",
   "pygments_lexer": "ipython3",
   "version": "3.12.2"
  }
 },
 "nbformat": 4,
 "nbformat_minor": 5
}
