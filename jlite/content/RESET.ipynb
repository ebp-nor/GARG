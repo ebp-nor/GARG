{
 "cells": [
  {
   "cell_type": "markdown",
   "id": "5b825ca5-56f8-463a-b272-e6e31de08c6a",
   "metadata": {},
   "source": [
    "# Resetting\n",
    "\n",
    "In JupyterLite, to remove everything you have done locally and start again from scratch click \"Clear JupyterLite local storage\" below"
   ]
  },
  {
   "cell_type": "code",
   "execution_count": 1,
   "id": "4ccc9395-655a-42a0-ac17-ab2b73d009be",
   "metadata": {},
   "outputs": [
    {
     "data": {
      "text/html": [
       "\n",
       "<button style=\"width: 300px; height: 50px;\" type=\"button\" size=\"100\" id=\"button_for_indexeddb\">Clear JupyterLite local storage</button>\n",
       "<script>\n",
       "window.button_for_indexeddb.onclick = function(e) {\n",
       "    window.indexedDB.open('JupyterLite Storage').onsuccess = function(e) {\n",
       "        // There are also other tables that I'm not clearing:\n",
       "        // \"counters\", \"settings\", \"local-storage-detect-blob-support\"\n",
       "        let tables = [\"checkpoints\", \"files\"];\n",
       "\n",
       "        let db = e.target.result;\n",
       "        let t = db.transaction(tables, \"readwrite\");\n",
       "\n",
       "        function clearTable(tablename) {\n",
       "            let st = t.objectStore(tablename);\n",
       "            st.count().onsuccess = function(e) {\n",
       "                console.log(\"Deleting \" + e.target.result + \" entries from \" + tablename + \"...\");\n",
       "                st.clear().onsuccess = function(e) {\n",
       "                    console.log(tablename + \" is cleared!\");\n",
       "                }\n",
       "            }\n",
       "        }\n",
       "\n",
       "        for (let tablename of tables) {\n",
       "            clearTable(tablename);\n",
       "        }\n",
       "        alert(\"Cleared!\")\n",
       "    }\n",
       "};\n",
       "</script>\n"
      ],
      "text/plain": [
       "<IPython.core.display.HTML object>"
      ]
     },
     "metadata": {},
     "output_type": "display_data"
    }
   ],
   "source": [
    "from IPython.display import display, HTML\n",
    "display(HTML(\"\"\"\n",
    "<button style=\"width: 300px; height: 50px;\" type=\"button\" size=\"100\" id=\"button_for_indexeddb\">Clear JupyterLite local storage</button>\n",
    "<script>\n",
    "window.button_for_indexeddb.onclick = function(e) {\n",
    "    window.indexedDB.open('JupyterLite Storage').onsuccess = function(e) {\n",
    "        // There are also other tables that I'm not clearing:\n",
    "        // \"counters\", \"settings\", \"local-storage-detect-blob-support\"\n",
    "        let tables = [\"checkpoints\", \"files\"];\n",
    "\n",
    "        let db = e.target.result;\n",
    "        let t = db.transaction(tables, \"readwrite\");\n",
    "\n",
    "        function clearTable(tablename) {\n",
    "            let st = t.objectStore(tablename);\n",
    "            st.count().onsuccess = function(e) {\n",
    "                console.log(\"Deleting \" + e.target.result + \" entries from \" + tablename + \"...\");\n",
    "                st.clear().onsuccess = function(e) {\n",
    "                    console.log(tablename + \" is cleared!\");\n",
    "                }\n",
    "            }\n",
    "        }\n",
    "\n",
    "        for (let tablename of tables) {\n",
    "            clearTable(tablename);\n",
    "        }\n",
    "        alert(\"Cleared!\")\n",
    "    }\n",
    "};\n",
    "</script>\n",
    "\"\"\"))"
   ]
  }
 ],
 "metadata": {
  "kernelspec": {
   "display_name": "Python 3 (ipykernel)",
   "language": "python",
   "name": "python3"
  },
  "language_info": {
   "codemirror_mode": {
    "name": "ipython",
    "version": 3
   },
   "file_extension": ".py",
   "mimetype": "text/x-python",
   "name": "python",
   "nbconvert_exporter": "python",
   "pygments_lexer": "ipython3",
   "version": "3.12.2"
  }
 },
 "nbformat": 4,
 "nbformat_minor": 5
}
