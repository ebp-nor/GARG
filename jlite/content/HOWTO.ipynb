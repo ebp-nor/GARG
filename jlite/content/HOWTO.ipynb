{
 "cells": [
  {
   "cell_type": "markdown",
   "id": "d1c01bf0",
   "metadata": {},
   "source": [
    "# HOWTO\n",
    "\n",
    "This document describes the intended use of the [Jupyter](https://jupyter.org/) notebooks (we will also call them <em>workbooks</em>) that we will be using during the exercises. Common to all workbooks is that you will need to initialize them by executing code before proceeding with the actual exercises. Cells are executed by selecting Run->\"Run selected cell\" or by pressing the triangular \"play\" button in the menubar. A shortcut for either of these is to press keys <b>&lt;shift&gt;+&lt;return&gt;</b>."
   ]
  },
  {
   "cell_type": "markdown",
   "id": "8d00da3f-e7be-4514-8694-c7c7d4f31de1",
   "metadata": {},
   "source": [
    "## Setup\n",
    "\n",
    "There are three ways to run the notebooks\n",
    "* Directly in the browser using a JupyterLab distribution called [JupyterLite](https://jupyterlite.readthedocs.io/en/latest/). This is the easiest, as it means you don't have to install anything locally on your computer to complete the exercises. However, some packages such as _SLiM_ and _tsinfer_ cannot be run in this way. An online [python.ipynb](https://jupyterlite.github.io/demo/notebooks/index.html?path=python.ipynb) notebook showcases some of the features of this distribution.\n",
    "* In <a href=\"https://colab.research.google.com/\">Google Colab</a>. For this, you must set up a shortcut to \"[GARG_workshop](https://drive.google.com/drive/folders/15rTZoXbutKF79XiE7J3mDo1zGcsoULXB?usp=share_link)\" in \"My Drive\" on your Google drive account (you will need a google username). Click on the GARG workshop link above, log in to google, right click the GARG_workshop folder and select Organise->Add shortcut, and place the shortcut directly into in your \"My Drive\" folder.\n",
    "* On your local machine, e.g. by downloading or cloning the [Github repository](https://github.com/ebp-nor/GARG) (notebooks are in `jlite/content`). This is the most flexible, but you will have to make sure you have all the necessary dependencies installed. You can install dependencies from the [requirements.txt](https://github.com/ebp-nor/pgip-jlite/blob/main/requirements.txt) with, e.g., pip:\n",
    "```bash\n",
    "pip install -r https://github.com/ebp-nor/GARG/raw/main/jlite/requirements.txt\n",
    "```\n",
    "\n",
    "To set up, run the code below, which will figure out which method you are using, and install or make available the correct packages. If you are running on Colab, you may need to permit access to your google drive files (\"Connect to Google Drive\")."
   ]
  },
  {
   "cell_type": "code",
   "execution_count": null,
   "id": "03228f8e-d10a-416f-91fc-2404283c2117",
   "metadata": {},
   "outputs": [],
   "source": [
    "if 'pyodide_kernel' in str(get_ipython()):  # specify packages to install under JupyterLite\n",
    "    %pip install -q -r jlite-requirements.txt\n",
    "elif 'google.colab' in str(get_ipython()):  # specify package location for loading in Colab\n",
    "    from google.colab import drive\n",
    "    drive.mount('/content/drive')\n",
    "    %run /content/drive/MyDrive/GARG_workshop/Notebooks/add_module_path.py\n",
    "else:  # install packages on your local machine (-q = \"quiet\": don't print out installation steps)\n",
    "    # (NB: you can probably ignore any message about restarting the kernel)\n",
    "    %pip install -q -r https://github.com/ebp-nor/GARG/raw/main/jlite/requirements.txt"
   ]
  },
  {
   "cell_type": "markdown",
   "id": "737c5b60-d92b-4289-9136-f9b352089577",
   "metadata": {},
   "source": [
    "Now the imports should work as expected."
   ]
  },
  {
   "cell_type": "markdown",
   "id": "7a4a41ac",
   "metadata": {},
   "source": [
    "## Setup\n",
    "\n",
    "Common to all workbooks is that you will need to initialize them by executing code before proceeding with the actual exercises. A code block like the following one will be present at the top of a workbook; make sure to execute it with <b>&lt;shift&gt;+&lt;return&gt;</b>. For the cell below, this should print \"Your notebook is ready to go!\"."
   ]
  },
  {
   "cell_type": "code",
   "execution_count": 1,
   "id": "12465521",
   "metadata": {},
   "outputs": [
    {
     "data": {
      "text/html": [
       "<style>dl.exercise {\n",
       "    border: #a7c947 1px solid;\n",
       "    margin-top: 1em;\n",
       "}\n",
       ".exercise dt {\n",
       "    color: #e9f2d1; background-color: #a7c947;\n",
       "    padding: 6px; display: block;\n",
       "}\n",
       ".exercise dt::before {\n",
       "    content: '🧐 ';\n",
       "}\n",
       ".exercise dd {\n",
       "    padding: 6px;\n",
       "}\n",
       "</style><table style=\"width: 100%;\"><tr>\n",
       "        <td style=\"text-align: left;\">Your notebook is ready to go!</td></tr></table>"
      ],
      "text/plain": [
       "<IPython.core.display.HTML object>"
      ]
     },
     "metadata": {},
     "output_type": "display_data"
    }
   ],
   "source": [
    "import ARG_workshop  # If running locally, make sure that \n",
    "workbook = ARG_workshop.HOWTO()\n",
    "display(workbook.setup)"
   ]
  },
  {
   "cell_type": "markdown",
   "id": "973f60f8",
   "metadata": {},
   "source": [
    "## Notebook contents\n",
    "\n",
    "The notebooks consist of cells that are either descriptive text written in markdown format, or code blocks consisting of Python code. Importantly, the code blocks can be usually be executed via the keyboard shortcut <b>&lt;shift&gt;+&lt;return&gt;</b>.\n",
    "The Python code blocks can be edited so you can try out different parameter settings, or even modify code. This will be necessary to complete some of the excercises that are scattered throughout the documents and formatted like this:\n",
    "\n",
    "<dl class=\"exercise\"><dt>Exercise 1</dt>\n",
    "<dd>Read through this document before proceeding with the notebooks</dd>\n",
    "</dl>\n",
    "\n",
    "Some exercises also have associated questions to test your understanding. They consist of code blocks that have to be executed.\n",
    "\n",
    "There are two types of questions: multiple choice and value input. The options to multiple choice questions are displayed as buttons below the question:"
   ]
  },
  {
   "cell_type": "code",
   "execution_count": null,
   "id": "caf8ef7e",
   "metadata": {},
   "outputs": [],
   "source": [
    "# Execute code block with <shift>+Return to display question; press on one of the buttons to answer\n",
    "workbook.question(\"distro\")"
   ]
  },
  {
   "cell_type": "markdown",
   "id": "700d5b49",
   "metadata": {},
   "source": [
    "For value input questions, each question is accompanied by a box. Enter a <b>numeric</b> value in the box and press return to check the answer:"
   ]
  },
  {
   "cell_type": "code",
   "execution_count": null,
   "id": "23ba3afb",
   "metadata": {},
   "outputs": [],
   "source": [
    "# Execute this cell to see the question: enter a value in the box and press return to check the answer\n",
    "workbook.question(\"day\")"
   ]
  },
  {
   "cell_type": "markdown",
   "id": "2913a69c",
   "metadata": {},
   "source": [
    "## Miscellaneous"
   ]
  },
  {
   "cell_type": "markdown",
   "id": "6b422ed7",
   "metadata": {},
   "source": [
    "Special or otherwise important content will sometimes be highlighted in colored boxes. For instance, in the paragraph below you will find information on how to refresh notebooks upon changes made by the teaching staff."
   ]
  },
  {
   "cell_type": "markdown",
   "id": "a68c3f3e",
   "metadata": {},
   "source": [
    "<div class=\"alert alert-block alert-info\"><b>Refreshing content</b>\n",
    "<br/>\n",
    "In case the teachers need to modify and upload new content, you need to know how to refresh your notebook. This is, perhaps somewhat counterintuitively, done by <a href=\"https://jupyterlite.readthedocs.io/en/latest/quickstart/using.html#accessing-existing-files\">deleting the notebook in the file tab</a> in your JupyterLite browser instance.\n",
    "</div>"
   ]
  }
 ],
 "metadata": {
  "kernelspec": {
   "display_name": "Python 3 (ipykernel)",
   "language": "python",
   "name": "python3"
  },
  "language_info": {
   "codemirror_mode": {
    "name": "ipython",
    "version": 3
   },
   "file_extension": ".py",
   "mimetype": "text/x-python",
   "name": "python",
   "nbconvert_exporter": "python",
   "pygments_lexer": "ipython3",
   "version": "3.12.2"
  }
 },
 "nbformat": 4,
 "nbformat_minor": 5
}
