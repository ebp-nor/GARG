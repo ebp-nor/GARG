{
 "cells": [
  {
   "cell_type": "markdown",
   "id": "d1c01bf0",
   "metadata": {},
   "source": [
    "# HOWTO\n",
    "\n",
    "This document describes the intended use of the [Jupyter](https://jupyter.org/) notebooks (we will also call them <em>workbooks</em>) that we will be using during the exercises. The notebooks are powered by a JupyterLab distribution called [JupyterLite](https://jupyterlite.readthedocs.io/en/latest/) that runs <b>directly in the browser</b>. This means you don't have to install anything locally on your computer to complete the exercises. You can of course download the notebooks to run locally, but then you yourself have to make sure you have all the necessary dependencies installed. You can install dependencies from the [requirements.txt](https://github.com/percyfal/pgip-jlite/blob/main/requirements.txt) with, e.g., pip:\n",
    "\n",
    "```bash\n",
    "pip install -r requirements.txt\n",
    "```"
   ]
  },
  {
   "cell_type": "markdown",
   "id": "8d00da3f-e7be-4514-8694-c7c7d4f31de1",
   "metadata": {},
   "source": [
    "## Setup\n",
    "\n",
    "Common to all workbooks is that you will need to initialize them by executing code before proceeding with the actual exercises. In case you are running the workbook in [Google Colab](https://colab.research.google.com/) (see below) you need to manually clone the repo, install the requirements and cd to the proper directory before executing the code block.\n",
    "\n",
    "Code blocks are executed by pressing keys <b>&lt;shift&gt;+&lt;return&gt;</b>."
   ]
  },
  {
   "cell_type": "markdown",
   "id": "2a7c6bb8-9874-43be-90e8-dfb754b3d144",
   "metadata": {},
   "source": [
    "### Google CoLab\n",
    "\n",
    "<div class=\"alert alert-block alert-info\"><b>Important</b>\n",
    "<br/>\n",
    "This section only is relevant if you are running the notebook in a <a href=\"https://colab.research.google.com/\">Google Colab</a> session.\n",
    "</div>\n",
    "\n",
    "Running in Google CoLab requires that you clone the repository and navigate to the content directory. You run the commands below in the browser by pressing keys <b>&lt;shift&gt;+&lt;return&gt;</b>."
   ]
  },
  {
   "cell_type": "markdown",
   "id": "13770d6b-cc35-41d1-a78d-b46f58f68d18",
   "metadata": {},
   "source": [
    "First clone the repository:"
   ]
  },
  {
   "cell_type": "code",
   "execution_count": null,
   "id": "e11e10bf-64f7-4af6-a655-a2d9c3f31f63",
   "metadata": {},
   "outputs": [],
   "source": [
    "!git clone https://github.com/percyfal/GARG"
   ]
  },
  {
   "cell_type": "markdown",
   "id": "686c3622-beab-41ec-8982-5d9af5e86ba2",
   "metadata": {},
   "source": [
    "Then `cd` to the notebook directory base where there is a `requirements.txt` file:"
   ]
  },
  {
   "cell_type": "code",
   "execution_count": null,
   "id": "dca86849-a0e8-46b4-a250-70da7bbbdacc",
   "metadata": {},
   "outputs": [],
   "source": [
    "%cd GARG/jlite"
   ]
  },
  {
   "cell_type": "markdown",
   "id": "61e42ba7-afbf-4903-8a9e-50bfa82dd8a6",
   "metadata": {},
   "source": [
    "Install the requirements and `cd` to the `contents` directory:\n"
   ]
  },
  {
   "cell_type": "code",
   "execution_count": null,
   "id": "d34dc8be-561b-412f-b088-ec0ffe636903",
   "metadata": {},
   "outputs": [],
   "source": [
    "!pip install -r requirements.txt"
   ]
  },
  {
   "cell_type": "code",
   "execution_count": null,
   "id": "018f980e-27eb-4e7a-89dd-2fdc224f55e4",
   "metadata": {},
   "outputs": [],
   "source": [
    "%cd content"
   ]
  },
  {
   "cell_type": "markdown",
   "id": "737c5b60-d92b-4289-9136-f9b352089577",
   "metadata": {},
   "source": [
    "Now the imports should work as expected."
   ]
  },
  {
   "cell_type": "markdown",
   "id": "7a4a41ac",
   "metadata": {},
   "source": [
    "## Setup\n",
    "\n",
    "Common to all workbooks is that you will need to initialize them by executing code before proceeding with the actual exercises. A code block like the following one will be present at the top of a workbook; make sure to execute it with <b>&lt;shift&gt;+&lt;return&gt;</b>."
   ]
  },
  {
   "cell_type": "code",
   "execution_count": null,
   "id": "12465521",
   "metadata": {},
   "outputs": [],
   "source": [
    "# Please execute this cell (shift+<Return>) before starting the workbook\n",
    "# this should print out \"Your notebook is ready to go\"\n",
    "import sys\n",
    "if \"pyodide\" in sys.modules:\n",
    "    import tqdm\n",
    "    import micropip\n",
    "    await micropip.install('jupyterquiz')\n",
    "    await micropip.install('pyyaml')\n",
    "    await micropip.install('numpy')\n",
    "    await micropip.install('scipy')\n",
    "    await micropip.install('drawsvg')\n",
    "import workshop\n",
    "workbook = workshop.setup_howto()\n",
    "display(workbook.setup)"
   ]
  },
  {
   "cell_type": "markdown",
   "id": "973f60f8",
   "metadata": {},
   "source": [
    "## Notebook contents\n",
    "\n",
    "The notebooks consist of cells that are either descriptive text written in markdown format, or code blocks consisting of Python code. Importantly, the code blocks can be usually be executed via the keyboard shortcut <b>&lt;shift&gt;+&lt;return&gt;</b>. The Python code is interpreted and executed by a Python distribution for the browser called [Pyodide](https://pyodide.org/en/stable/). The [python.ipynb](python.ipynb) notebook showcases some of the features of this distribution.\n",
    "\n",
    "The Python code blocks can be edited so you can try out different parameter settings, or even modify code. This will be necessary to complete some of the excercises that are scattered throughout the documents and formatted like this:\n",
    "\n",
    "\n",
    "<dl class=\"exercise\"><dt>Exercise 1</dt>\n",
    "<dd>Read through this document before proceeding with the notebooks</dd>\n",
    "</dl>\n",
    "\n",
    "Some exercises also have associated questions to test your understanding. They consist of code blocks that have to be executed.\n",
    "\n",
    "There are two types of questions: multiple choice and value input. The options to multiple choice questions are displayed as buttons below the question:"
   ]
  },
  {
   "cell_type": "code",
   "execution_count": null,
   "id": "caf8ef7e",
   "metadata": {},
   "outputs": [],
   "source": [
    "# Execute code block with <shift>+Return to display question; press on one of the buttons to answer\n",
    "workbook.question(\"distro\")"
   ]
  },
  {
   "cell_type": "markdown",
   "id": "700d5b49",
   "metadata": {},
   "source": [
    "For value input questions, each question is accompanied by a box. Enter a <b>numeric</b> value in the box and press return to check the answer:"
   ]
  },
  {
   "cell_type": "code",
   "execution_count": null,
   "id": "23ba3afb",
   "metadata": {},
   "outputs": [],
   "source": [
    "# Execute this cell to see the question: enter a value in the box and press return to check the answer\n",
    "workbook.question(\"day\")"
   ]
  },
  {
   "cell_type": "markdown",
   "id": "2913a69c",
   "metadata": {},
   "source": [
    "## Miscellaneous"
   ]
  },
  {
   "cell_type": "markdown",
   "id": "6b422ed7",
   "metadata": {},
   "source": [
    "Special or otherwise important content will sometimes be highlighted in colored boxes. For instance, in the paragraph below you will find information on how to refresh notebooks upon changes made by the teaching staff."
   ]
  },
  {
   "cell_type": "markdown",
   "id": "a68c3f3e",
   "metadata": {},
   "source": [
    "<div class=\"alert alert-block alert-info\"><b>Refreshing content</b>\n",
    "<br/>\n",
    "In case the teachers need to modify and upload new content, you need to know how to refresh your notebook. This is, perhaps somewhat counterintuitively, done by <a href=\"https://jupyterlite.readthedocs.io/en/latest/quickstart/using.html#accessing-existing-files\">deleting the notebook in the file tab</a> in your JupyterLite browser instance.\n",
    "</div>"
   ]
  }
 ],
 "metadata": {
  "kernelspec": {
   "display_name": "Python (garg)",
   "language": "python",
   "name": "garg"
  },
  "language_info": {
   "codemirror_mode": {
    "name": "ipython",
    "version": 3
   },
   "file_extension": ".py",
   "mimetype": "text/x-python",
   "name": "python",
   "nbconvert_exporter": "python",
   "pygments_lexer": "ipython3",
   "version": "3.12.3"
  }
 },
 "nbformat": 4,
 "nbformat_minor": 5
}
