{
 "cells": [
  {
   "cell_type": "markdown",
   "id": "5b825ca5-56f8-463a-b272-e6e31de08c6a",
   "metadata": {},
   "source": [
    "## Setup\n",
    "\n",
    "To access material for this workbook please execute the notebook cell immediately below (e.g. use the shortcut <b>&lt;shift&gt;+&lt;return&gt;</b>). This can be skipped if you are running this notebook locally and have already installed all the necessary packages. "
   ]
  },
  {
   "cell_type": "code",
   "execution_count": null,
   "id": "4ccc9395-655a-42a0-ac17-ab2b73d009be",
   "metadata": {},
   "outputs": [],
   "source": [
    "if 'pyodide_kernel' in str(get_ipython()):  # specify packages to install under JupyterLite\n",
    "    raise ValueError(\"Can't run this notebook in JupyterLite. Try colab\")\n",
    "elif 'google.colab' in str(get_ipython()):  # specify package location for loading in Colab\n",
    "    from google.colab import drive\n",
    "    drive.mount('/content/drive')\n",
    "    %run /content/drive/MyDrive/GARG_workshop/Notebooks/add_module_path.py\n",
    "else:  # install packages on your local machine (-q = \"quiet\": don't print out installation steps)\n",
    "    !python -m pip install -q -r https://github.com/ebp-nor/GARG/raw/main/jlite/requirements.txt"
   ]
  },
  {
   "cell_type": "markdown",
   "id": "41e3c291-8534-408a-9e33-22fb34cc5470",
   "metadata": {},
   "source": [
    "# Workbook 2.F: _sc2ts_ analysis playground\n",
    "\n",
    "This lab session is designed for you to experiment with your own datasets, if you have them. If not, you can either:\n",
    "\n",
    "1. work with another attendee with an intereating dataset\n",
    "2. have a play with the SARG-CoV2 ARG below. Some suggested analyses are described."
   ]
  },
  {
   "cell_type": "markdown",
   "id": "d9a94e5b-dee3-41d3-b303-6d8c865ece45",
   "metadata": {},
   "source": [
    "## Case study: Covid genealogies\n",
    "\n",
    "Covid sequencing datasets consist of large numbers of genomes, known as \"strains\", that are sampled at multiple points through time. This can involve hundreds or thousands of genomes every day over 2 or 3 years. There will be occasional recombination events between different strains produced when one individual is co-infected with different strains. Most of these do not result in many descendant recombinant strains, but occasionally some spread widely. Standard representations of SARS-CoV2 genealogies do not account for recombination, but represent viral history as a single tree. As more and more recombinant strains emerge, a single tree becomes inappropriate.\n",
    "\n",
    "However, inferring a large-scale recombinant viral genealogy is non-trivial. Expected genealogical patterns are very different from the coalescent-with-recombination, so that standard inference tools such as _SINGER_ or _tsinfer_ are unlikely to give reasonable results. However, the concept behind _tsinfer_ can be used to efficently construct large covid genealogies. In particular, we can consider older samples as potential ancestors for younger samples, using the Li & Stephens HMM algorithm to treat samples as putative recombinant mosaics of all older samples. This is the rationale behind the _sc2ts_ algorithm, described in [this preprint](https://www.biorxiv.org/content/10.1101/2023.06.08.544212v1) (an extra step builds all samples collected on a single day into a parsimonious tree where possible). The result is a tree sequence with many samples at different times in the past, and many samples which act as ancestors for other samples, as well as some extra ancestral nodes inserted by the algorithm (e.g. recombination nodes).\n",
    "\n",
    "Running _sc2ts_ on millions of genomes takes considerable computing resources. In this workbook, we will simply analyse a tree sequence produced froma recent run of the _sc2ts_ algorithm on half a million SARS-CoV2 genomes.\n",
    "\n",
    "### Data issues\n",
    "We have found that the main issues when building such an ARG involve data quality. In particular, the following adversely affect inference:\n",
    "1. inacccurate collection dates\n",
    "2. sequencing with high error rates (which could be mistaken for recombinants)\n",
    "3. accidentally mixing strains when sequencing.\n",
    "\n",
    "Since the publication of the preprint, we have rerun the inference method using filtered, higher-quality data from the [Viridian](https://www.biorxiv.org/content/10.1101/2024.04.29.591666v1) project, which includes about a quarter of all sequenced covid genomes. A preliminary unpublished ARG containing genomes sequenced up to March 2021 is available in `data/viridian-full-mm_3-mhc_5-mgs_20-2021-03-21.tsz`. This has not been through a final quality-control (QC) process: as we shall see it contains some data problems, which serve as a useful example of how to detect QC issues.\n",
    "\n",
    "For constructing the ARG, a stringent inclusion criterion was used. In particular, strains that have a high HMM cost (i.e. cannot easily fit into the genealogy, even allowing for recombination) are excluded. Also sites known to have high mutation rates, especially those associated with reversions or recurrent mutations, are excluded.\n",
    "\n",
    "This means that the ARG will only contains a fraction of all collected SARS-CoV2 sequences. In addition, the ARG stops at the end of March 2021, when relatively few recombinants were circulating (e.g. the _omicron_ wave had not taken off). Analysing later data, with an expected large number of recombinants, is a full research project."
   ]
  },
  {
   "cell_type": "code",
   "execution_count": null,
   "id": "c043bbba-99ed-4033-b80f-7c864796a0c6",
   "metadata": {},
   "outputs": [],
   "source": [
    "import tszip\n",
    "ts = tszip.decompress(\"data/viridian-full-mm_3-mhc_5-mgs_20-2021-03-21.tsz\")\n",
    "print(\n",
    "    f\"Loaded {ts.nbytes/1e6:0.1f} megabyte SARS-CoV2 genealogy of {ts.num_samples} strains\",\n",
    "    f\"({ts.num_trees} trees, {ts.num_mutations} mutations over {ts.sequence_length} basepairs).\",\n",
    "    f\"Last collection date is {ts.node(ts.samples()[-1]).metadata['date']}\",\n",
    ")\n",
    "print(f\"\\nFirst few nodes are\\n  * {ts.node(0)}\\n  * {ts.node(1)}\\n  * {ts.node(2)}\")\n",
    "\n",
    "regions={\"Spike\": (21563, 25384), 'ORF8': (27894, 28259)}  # a few locations on the covid genome\n",
    "\n",
    "# Create mappings between  \"strain\" (actually ENA accession #) and node ID\n",
    "strain_to_id = {ts.node(u).metadata['strain']: u for u in ts.samples()}\n",
    "id_to_strain = [node.metadata.get('strain', '') for node in ts.nodes()]"
   ]
  },
  {
   "cell_type": "markdown",
   "id": "c04e251c-bc63-4fba-8ac9-dc33e7520377",
   "metadata": {},
   "source": [
    "### Available metadata\n",
    "\n",
    "As you can see above, the sample nodes (flags=1 or an odd number) have extensive metadata. Using this is often an integral part of analysis, so it's worth checking out what's available, e.g. by printing the metadata for the last node in a nicer format:"
   ]
  },
  {
   "cell_type": "code",
   "execution_count": null,
   "id": "dbcc4f1a-eb88-490f-ae8f-40706ef93157",
   "metadata": {},
   "outputs": [],
   "source": [
    "import json\n",
    "last_sample = ts.node(ts.samples()[-1])\n",
    "print(json.dumps(last_sample.metadata, indent=2))"
   ]
  },
  {
   "cell_type": "markdown",
   "id": "fe0f1a15-90c9-47e6-8c73-b880a511a195",
   "metadata": {},
   "source": [
    "As well as the `date` and `Country`, the `Viridian_scorpio` and `Viridian_pangolin` items look useful, to classify the strains into different groups knowns as Covid \"variants\", e.g. as assigned by the [PANGOLIN](https://en.wikipedia.org/wiki/Phylogenetic_Assignment_of_Named_Global_Outbreak_Lineages) project. In order to avoid confusion with the normal use of the term \"variant\" in genetics, we'll mostly refer to these as \"Variant of Concern\" (VoC) groups, such as _Alpha_, _Omicron_, etc. Let's see how many different groups there are in our ARG:"
   ]
  },
  {
   "cell_type": "code",
   "execution_count": null,
   "id": "3dfcf3cd-72c2-42d1-94aa-76a50bce8b2c",
   "metadata": {},
   "outputs": [],
   "source": [
    "from collections import Counter\n",
    "# NB decoding the metadata for all samples might take a number of seconds\n",
    "samples_country = []\n",
    "samples_viridian_pangolin = []\n",
    "samples_viridian_scorpio = []\n",
    "for u in ts.samples():\n",
    "    md = ts.node(u).metadata\n",
    "    samples_country.append(md.get(\"Country\", \"\"))\n",
    "    samples_viridian_pangolin.append(md[\"Viridian_pangolin\"])\n",
    "    samples_viridian_scorpio.append(md[\"Viridian_scorpio\"])\n",
    "print(f\"{len(set(samples_viridian_pangolin))} Viridian_pangolin categories (e.g. `{last_sample.metadata['Viridian_pangolin']})`\")\n",
    "print(f\"{len(set(samples_viridian_scorpio))} Viridian_scorpio categories (e.g. `{last_sample.metadata['Viridian_scorpio']})`\")"
   ]
  },
  {
   "cell_type": "code",
   "execution_count": null,
   "id": "0a118f1a-5e64-493c-863b-4411230f5ccd",
   "metadata": {},
   "outputs": [],
   "source": [
    "# since there are only a few Viridian_scorpio categories, let's have a look\n",
    "print(\"Viridian_scorpio categories are:\")\n",
    "scorpio_counts = Counter(samples_viridian_scorpio)\n",
    "scorpio_counts"
   ]
  },
  {
   "cell_type": "markdown",
   "id": "cdada0df-9373-4d41-b725-184849f23fed",
   "metadata": {},
   "source": [
    "The `'.'` class seems to be cases where no `Viridian_scorpio` is designated. In many cases we might hope these will have a `Viridian_pangolin` classification: let's check."
   ]
  },
  {
   "cell_type": "code",
   "execution_count": null,
   "id": "407945e7-0840-4692-90d4-e0ca929928dc",
   "metadata": {},
   "outputs": [],
   "source": [
    "i = 0\n",
    "for u, scorpio, pangolin in zip(ts.samples(), samples_viridian_scorpio, samples_viridian_pangolin):\n",
    "    if scorpio == '.':\n",
    "        print(f\"Node {u}: Viridian_scorpio='.', Viridian_pangolin={pangolin}\")\n",
    "        i += 1\n",
    "        if i > 10:\n",
    "            break"
   ]
  },
  {
   "cell_type": "markdown",
   "id": "75e74955-5eeb-428d-b8e6-9da0b1f92b7b",
   "metadata": {},
   "source": [
    "### Number of samples, collection dates\n",
    "\n",
    "We can check on the number of samples collected on different days, which averages in the thousands per day once we get into 2021. There's a big spike just before the new year, which is probably indicative of data problems (as we shall see later)."
   ]
  },
  {
   "cell_type": "code",
   "execution_count": null,
   "id": "ebb99585-d516-43da-9271-2714a871f360",
   "metadata": {},
   "outputs": [],
   "source": [
    "from matplotlib import pyplot as plt\n",
    "import numpy as np\n",
    "import datetime\n",
    "dates = []\n",
    "for u in ts.samples():\n",
    "    dates.append(datetime.datetime.fromisoformat(ts.node(u).metadata['date']))\n",
    "fig, ax = plt.subplots(figsize=(15, 5))\n",
    "ax.hist(dates, bins=(np.max(dates) - np.min(dates)).days)\n",
    "ax.set_ylabel(\"Number of samples collected per day\");"
   ]
  },
  {
   "cell_type": "code",
   "execution_count": null,
   "id": "449f67d2-bfb1-4094-ae01-0256e29b0ac8",
   "metadata": {},
   "outputs": [],
   "source": [
    "# Break this down into different categories, and cut off the histogram so it isn't dominated by the big spike\n",
    "from collections import defaultdict\n",
    "import matplotlib as mpl\n",
    "dates_by_voc = defaultdict(list)\n",
    "for u in ts.samples():\n",
    "    md = ts.node(u).metadata\n",
    "    dates_by_voc[md['Viridian_scorpio']].append(datetime.datetime.fromisoformat(md['date']))\n",
    "dates_by_voc = {k: dates_by_voc[k] for k in sorted(dates_by_voc.keys(), key=lambda x: -scorpio_counts[x])}\n",
    "\n",
    "fig, ax = plt.subplots(figsize=(15, 5))\n",
    "data = list(dates_by_voc.values())\n",
    "labels = list(dates_by_voc.keys())\n",
    "# list of indexes into the matplotlib tab20 colourmap, 0, 2, 4, ... 1, 3, 5, ... 20, 21, 22 ...\n",
    "cm_indexes = np.concatenate((np.arange(0, 20, 2), np.arange(1, 20, 2), np.arange(20, len(data))))\n",
    "scorpio_colors = {k: mpl.colors.rgb2hex(mpl.colormaps['tab20'](i)) for k, i in zip(labels, cm_indexes)}\n",
    "ax.hist(data, bins=(np.max(dates) - np.min(dates)).days, stacked=True, label=labels, color=scorpio_colors.values())\n",
    "legend = ax.legend(ncol=2, loc=\"upper left\")\n",
    "legend_handles, legend_labels = ax.get_legend_handles_labels()\n",
    "ax.set_ylabel(\"Number of samples collected per day\");\n",
    "ax.set_ylim(0, 5000);"
   ]
  },
  {
   "cell_type": "markdown",
   "id": "3dfdf59c-b01b-4ce0-afdd-7fddeaf8fb70",
   "metadata": {},
   "source": [
    "You can see that this ARG mostly only covers the Covid _Alpha_ wave. It is hard to plot out a tree with half a million samples, so we'll simplify it by taking the first sample of each identified pangolin lineage:"
   ]
  },
  {
   "cell_type": "code",
   "execution_count": null,
   "id": "abfdd8d7-d41d-4785-841b-0741e7f2d70f",
   "metadata": {},
   "outputs": [],
   "source": [
    "first_sample_of_pango = []\n",
    "alpha_strains = set()\n",
    "countries = Counter()\n",
    "seen_pango = set()\n",
    "for i, u in enumerate(ts.samples()):\n",
    "    if samples_viridian_pangolin[i] not in seen_pango:\n",
    "        md = ts.node(u).metadata\n",
    "        first_sample_of_pango.append(u)\n",
    "        countries[md['Country']] += 1\n",
    "        if md['Viridian_scorpio'].startswith(\"Alpha\"):\n",
    "            alpha_strains.add(md[\"strain\"])\n",
    "        seen_pango.add(md['Viridian_pangolin'])\n",
    "print(f\"Found first sample of {len(first_sample_of_pango)} lineages ({len(alpha_strains)} identified as Alpha)\")\n",
    "countries"
   ]
  },
  {
   "cell_type": "code",
   "execution_count": null,
   "id": "ae4276c5-f882-4eaa-ba64-5d07fdf75362",
   "metadata": {},
   "outputs": [],
   "source": [
    "from IPython.display import SVG\n",
    "\n",
    "small_ts = ts.simplify(first_sample_of_pango, update_sample_flags=False, keep_unary=True, keep_input_roots=True)\n",
    "# Most samples are from the UK and USA, so use colours to label these to avoid excess labelling\n",
    "node_labels = {}\n",
    "uk_ids = []\n",
    "usa_ids = []\n",
    "alpha_ids = []\n",
    "for nd in small_ts.nodes():\n",
    "    country = nd.metadata.get(\"Country\", \"\")\n",
    "    if nd.metadata.get(\"strain\") == \"Wuhan/Hu-1/2019\":\n",
    "        node_labels[nd.id] = \"Wuhan/Hu-1/2019\"\n",
    "    elif nd.metadata.get(\"strain\") in alpha_strains:\n",
    "        alpha_ids.append(nd.id)\n",
    "        node_labels[nd.id] = country\n",
    "    else:\n",
    "        if country == \"United Kingdom\":\n",
    "            uk_ids.append(nd.id)\n",
    "        elif country == \"USA\":\n",
    "            usa_ids.append(nd.id)\n",
    "        else:\n",
    "            node_labels[nd.id] = country\n",
    "    if nd.metadata.get(\"date\") == \"2020-12-31\":\n",
    "        sampling_spike = nd.time\n",
    "uk_style = \",\".join([f\".n{u}>.sym\" for u in uk_ids]) + \"{fill: green}\"\n",
    "usa_style = \",\".join([f\".n{u}>.sym\" for u in usa_ids]) + \"{fill: blue}\"\n",
    "alpha_style = \",\".join([f\".n{u}>.sym\" for u in alpha_ids]) + f\"{{fill: {scorpio_colors['Alpha (B.1.1.7-like)']}}}\"\n",
    "small_font_style = \".node > .lab {font-size: 10px}\"\n",
    "opaque_symbols_style = \".node>.sym{fill-opacity: 0.4}.node.sample>.sym{fill-opacity: 1}.mut .sym{stroke-opacity:0.4}\"\n",
    "rotate_tip_labels_style = \".leaf > .lab {text-anchor: start; transform: rotate(90deg) translate(6px)}\"\n",
    "\n",
    "# Plot the spike in sampling as a dashed line, as it seems to cause big polytomies\n",
    "tick_positions = np.unique(np.concatenate((np.arange(10, 480, 10),[sampling_spike])))\n",
    "tick_style = \".y-axis .tick .grid {stroke: #DDDDDD}\"  # Default gridline type\n",
    "tick_style += f\".y-axis .ticks .tick:nth-child({np.where(tick_positions==sampling_spike)[0][0]+1}) .grid {{stroke-dasharray: 4}}\"\n",
    "\n",
    "# Since most samples do not trace back to a recombination node, roughtly the same tree will be seen everywhere\n",
    "# We arbitrarily choose to show the tree in the middle of the spike region.\n",
    "tree_loc = np.mean(regions[\"Spike\"])\n",
    "print(\"Tree in middle of spike: blue = UK samples, green = USA samples, orange = Alpha VoC\")\n",
    "SVG(small_ts.at(tree_loc).draw_svg(\n",
    "    size=(2500, 800),\n",
    "    mutation_labels={},\n",
    "    node_labels=node_labels,\n",
    "    y_axis=True,\n",
    "    y_gridlines=True,\n",
    "    y_ticks=tick_positions,\n",
    "    style=uk_style + usa_style + alpha_style + small_font_style + tick_style + rotate_tip_labels_style + opaque_symbols_style\n",
    "))"
   ]
  },
  {
   "cell_type": "code",
   "execution_count": null,
   "id": "7c8513ae-ec76-4b2c-adee-e0c25ee8bcc5",
   "metadata": {},
   "outputs": [],
   "source": [
    "# Carry out the same plot, but colour by the Viridian_scorpio designation, to look for clusters\n",
    "scorpio_nodes = defaultdict(list) \n",
    "for u in small_ts.samples():\n",
    "    scorpio_nodes[small_ts.node(u).metadata['Viridian_scorpio']].append(u)\n",
    "scorpio_styles = \".node > .sym {fill: transparent}\"\n",
    "for name, nodes in scorpio_nodes.items():\n",
    "    scorpio_styles += \",\".join([f\".n{u}>.sym\" for u in nodes]) + f\"{{fill: {scorpio_colors[name]}}}\"\n",
    "fig, ax = plt.subplots(figsize=(20, 2))\n",
    "# Add the legend to the new figure\n",
    "ax.legend(legend_handles, legend_labels, ncols=6)\n",
    "ax.axis('off')\n",
    "plt.show()\n",
    "\n",
    "SVG(small_ts.at(tree_loc).draw_svg(\n",
    "    size=(1700, 800),\n",
    "    omit_sites=True,\n",
    "    node_labels=node_labels,\n",
    "    y_axis=True,\n",
    "    y_gridlines=True,\n",
    "    y_ticks=tick_positions,\n",
    "    style=scorpio_styles + small_font_style + tick_style + rotate_tip_labels_style\n",
    "))"
   ]
  },
  {
   "cell_type": "markdown",
   "id": "fbcb6917-830c-4b65-805d-198e9be0d64a",
   "metadata": {},
   "source": [
    "There are some oddities in this tree. The orange _Alpha_ variants appear to cluster as expected. However, there are two large unresolved clusters of _Omicron_ (purple) and _Delta_ (brown) that all appear in the large spike of samples taken on 2020-12-31, which are mostly UK samples and may be problematic. Historically, the earliest _Delta_ (brown) sample was found on in India on 5 October 2020, but only made it to the UK in Feb 2021, and the earliest _Omicron_ should be in November 2021. As these dates are well after the sampling spike, it appears as if some of the _Omicron_ and _Delta_-labelled variants on 2020-12-31 are likely to be either misdated, or misclassified by Viridian. A simple solution would be to omit all samples on 2020-12-31."
   ]
  },
  {
   "cell_type": "markdown",
   "id": "99a60f80-37f6-4711-a2e9-7287ba6de77d",
   "metadata": {},
   "source": [
    "## Mutations\n",
    "\n",
    "We can also looks to see if some areas of the genome have seen more mutations:"
   ]
  },
  {
   "cell_type": "code",
   "execution_count": null,
   "id": "dd54dcac-4cc6-4df7-8560-7846ae7c80d0",
   "metadata": {},
   "outputs": [],
   "source": [
    "# plot the mutation locations\n",
    "fig, ax = plt.subplots(figsize=(15, 5))\n",
    "# fastest to use the direct memory accessors, e.g. `ts.sites_position`, `ts.mutations_site`, etc.\n",
    "y, _, _ = ax.hist(ts.sites_position[ts.mutations_site], bins=500)\n",
    "for name, reg in regions.items():\n",
    "    for x in reg:\n",
    "        ax.axvline(x=x, c=\"orange\")\n",
    "    ax.text(np.mean(reg), 0.95 * y.max(), name, ha=\"center\", c=\"orange\", rotation=90)\n",
    "ax.set_xlim(0, ts.sequence_length)\n",
    "ax.set_title(\"Mutation locations along the SARS-CoV2 genome\")\n",
    "ax.set_xlabel(\"Genome position\")\n",
    "ax.set_ylabel(\"Density of mutations\");"
   ]
  },
  {
   "cell_type": "code",
   "execution_count": null,
   "id": "2ceaafa5-9836-41f5-b648-c93cbbcffe62",
   "metadata": {},
   "outputs": [],
   "source": [
    "# Or instead, plot mutations weighted by number of descendants\n",
    "fig, ax = plt.subplots(figsize=(15, 5))\n",
    "pos = np.zeros(ts.num_mutations)\n",
    "weights = np.zeros(ts.num_mutations)\n",
    "for tree in ts.trees():\n",
    "    for s in tree.sites():\n",
    "        for m in s.mutations:\n",
    "            pos[m.id] = s.position\n",
    "            weights[m.id] = tree.num_samples(m.node)\n",
    "y, _, _ = ax.hist(pos, weights=weights,  bins=500)\n",
    "for name, reg in regions.items():\n",
    "    for x in reg:\n",
    "        ax.axvline(x=x, c=\"orange\")\n",
    "    ax.text(np.mean(reg), 0.95 * y.max(), name, ha=\"center\", c=\"orange\", rotation=90)\n",
    "ax.set_xlim(0, ts.sequence_length)\n",
    "ax.set_title(\"Mutation locations along the SARS-CoV2 genome\")\n",
    "ax.set_xlabel(\"Genome position\")\n",
    "ax.set_ylabel(\"Density of mutations, weigted by number of descendant samples\");"
   ]
  },
  {
   "cell_type": "markdown",
   "id": "84064513-c664-4939-8718-03bd71766493",
   "metadata": {},
   "source": [
    "### Recombination\n",
    "\n",
    "The main advantage of having a _tskit_ SARS-CoV2 genealogy is that we can analyse suggested viral recombination events. Hopefully these will not be too badly affected by the QC issues associated with the 2020-12-31 sampling spike. First we'll identify recombination nodes by finding those with more than one parent. These have all been inserted by _sc2ts_ into the genealogy, and are not sample nodes."
   ]
  },
  {
   "cell_type": "code",
   "execution_count": null,
   "id": "1386583d-9c53-42da-930b-392b5de59533",
   "metadata": {},
   "outputs": [],
   "source": [
    "# Recombination nodes have > 1 parent. They are usually inserted by sc2ts, rather than being samples themselves\n",
    "import numpy as np\n",
    "unique_parent_child_combo = np.unique([ts.edges_parent, ts.edges_child], axis=1)\n",
    "child_ids = unique_parent_child_combo[1,:]\n",
    "node_id, parent_count = np.unique(child_ids, return_counts=True)\n",
    "recombination_nodes = {u: c for u, c in zip(node_id, parent_count) if c > 1}\n",
    "print(ts.num_trees - 1, \"breakpoints for\", len(recombination_nodes), \"recombination nodes\")\n",
    "print(len([v for v in recombination_nodes.values() if v == 2]), \"RE nodes have exactly 2 parents\")"
   ]
  },
  {
   "cell_type": "code",
   "execution_count": null,
   "id": "42fb553b-b86e-4a86-ae06-609712a6bcf7",
   "metadata": {},
   "outputs": [],
   "source": [
    "# find info for each recombinant: breakpoint position(s), parent IDs, descendant strain IDs, etc\n",
    "\n",
    "recombination_info = {}\n",
    "for u in recombination_nodes:\n",
    "    d = {'parents': set(), 'breaks': set(), 'descendant_samples': set()}\n",
    "    edges = np.where(ts.edges_child == u)[0]\n",
    "    # find a breakpoint and parents for each recombinant.\n",
    "    # Also sort so that the first parent is the leftmost\n",
    "    for e in sorted(edges, key=lambda e: ts.edge(e).left):\n",
    "        edge = ts.edge(e)\n",
    "        d['parents'].add(edge.parent)\n",
    "        if edge.left != 0:\n",
    "            d['breaks'].add(edge.left)\n",
    "        if edge.right != ts.sequence_length:\n",
    "            d['breaks'].add(edge.right)\n",
    "    recombination_info[u] = d\n",
    "\n",
    "# Set number of descendant samples. NB: future versions of tskit will have an efficient\n",
    "# ARG API to do this quickly see https://github.com/tskit-dev/tskit/discussions/2869\n",
    "for tree in ts.trees():\n",
    "    for u in recombination_nodes:\n",
    "        recombination_info[u]['descendant_samples'].update(tree.samples(u))\n",
    "\n",
    "print(\", \".join([f\"Node {u}: breaks {info['breaks']}\" for u, info in recombination_info.items()]))"
   ]
  },
  {
   "cell_type": "markdown",
   "id": "07ef2673-d035-46d1-b5ce-622537c2d0c3",
   "metadata": {},
   "source": [
    "All recombination nodes appear to be associated with only one breakpoint, so we can use a single breakpoint value"
   ]
  },
  {
   "cell_type": "code",
   "execution_count": null,
   "id": "21a0a0f1-c5f2-4759-a9e4-a0e09e71042d",
   "metadata": {},
   "outputs": [],
   "source": [
    "assert all([len(info['breaks']) == 1 for info in recombination_info.values()])\n",
    "breakpoints = [list(info['breaks'])[0] for info in recombination_info.values()]\n",
    "fig, ax = plt.subplots(figsize=(15, 5))\n",
    "y, _, _ = ax.hist(breakpoints, bins=30)\n",
    "ax.set_title(\"recombination breakpoints by SARS-CoV2 genomic region\")\n",
    "ax.set_xlabel(\"Genome position\")\n",
    "ax.set_ylabel(\"Number of breakpoints\")\n",
    "for name, reg in regions.items():\n",
    "    for x in reg:\n",
    "        ax.axvline(x=x, c=\"orange\")\n",
    "    ax.text(np.mean(reg), 0.95 * y.max(), name, ha=\"center\", c=\"orange\", rotation=90)"
   ]
  },
  {
   "cell_type": "markdown",
   "id": "6ac373c9-e883-483b-8d51-7aa7d8ebd30a",
   "metadata": {},
   "source": [
    "An extra complication is that the immediate parents of each node may not be a sample node (so we might not know its VoC class). We can ascend up the list of parents on each side of the breakpoint until we find one with a pangolin designation"
   ]
  },
  {
   "cell_type": "code",
   "execution_count": null,
   "id": "d7786a1e-2304-43b9-ba03-03aa4a4ad583",
   "metadata": {},
   "outputs": [],
   "source": [
    "import tskit\n",
    "samples = set(ts.samples())\n",
    "for u, info in recombination_info.items():\n",
    "    assert len(info['parents']) == 2\n",
    "    assert len(info['breaks']) == 1\n",
    "    info['parents'] = list(info['parents'])\n",
    "    info['breakpoint'] = list(info['breaks'])[0]\n",
    "    tree = ts.at(info['breakpoint'])\n",
    "    right_parent = list(info['parents'])[1]\n",
    "    while ts.node(right_parent).metadata.get('Viridian_pangolin') is None and right_parent != tskit.NULL:\n",
    "        right_parent = tree.parent(right_parent)\n",
    "    tree.prev()\n",
    "    left_parent = info['parents'][0]\n",
    "    while ts.node(left_parent).metadata.get('Viridian_pangolin') is None and left_parent != tskit.NULL:\n",
    "        left_parent = tree.parent(left_parent)\n",
    "    info['sample_parents'] = [left_parent, right_parent]\n",
    "print(\"Found nearest sample nodes to parents\")"
   ]
  },
  {
   "cell_type": "markdown",
   "id": "a42670b5-bdfe-4bc0-b098-df8e98cd90e0",
   "metadata": {},
   "source": [
    "## Identifying known recombinants\n",
    "\n",
    "[Jackson et al. (2021)](https://doi.org/10.1016/j.cell.2021.08.014) identified a set of potential recombinant strains by hand, and classified them into groups that seemed to share the same original recombination event. They found four such groups (A-D) and a few cases where the recombination appeared to be a singleton (i.e. a recombination event leading to only a single strain). Here are the ENA IDs of the strains they identified as recombinants."
   ]
  },
  {
   "cell_type": "code",
   "execution_count": null,
   "id": "2d295dba-c6cc-436f-a9e3-94c962932adb",
   "metadata": {},
   "outputs": [],
   "source": [
    "jackson = {\n",
    "    'A': {\"ERR5308556\", \"ERR5323237\", \"ERR5414941\", \"ERR5404883\"},\n",
    "    'B': {\"ERR5058070\",\"ERR5058141\"}, \n",
    "    'C': {\"ERR5272107\", \"ERR5406307\", \"ERR5232711\"},\n",
    "    'D': {\"ERR5349458\", \"ERR5335088\", \"ERR5340986\"},\n",
    "    'singleton 1': {\"ERR5054123\"},\n",
    "    'singleton 2': {\"ERR5054082\"},\n",
    "    'singleton 3': {\"ERR5304348\"},\n",
    "    'singleton 4': {\"ERR5238288\"},\n",
    "}\n",
    "jackson_nodes = {}\n",
    "for k, v in jackson.items():\n",
    "    jackson_nodes[k] = set()\n",
    "    for strain in v:\n",
    "        if strain in strain_to_id:\n",
    "            jackson_nodes[k].add(strain_to_id[strain])\n",
    "        else:\n",
    "            print(f\"{strain} ({k}) not in the ARG, possibly for QC reasons\")"
   ]
  },
  {
   "cell_type": "markdown",
   "id": "7057021d-bdd9-426a-9ebd-3d05abe14013",
   "metadata": {},
   "source": [
    "### Pangolin recombinants\n",
    "\n",
    "The pangolin project also classifies identified recombinants by a designation starting with the letter \"X\". Since the dateset only goes up to March 2021, we are not expecting many \"X\" designations. In fact, we only see 26 of them, all designated \"XA\":"
   ]
  },
  {
   "cell_type": "code",
   "execution_count": null,
   "id": "0a097683-6f2a-469d-887a-afef3b978e37",
   "metadata": {},
   "outputs": [],
   "source": [
    "X_samples = [s for s, p in enumerate(samples_viridian_pangolin) if p.startswith(\"X\")]\n",
    "X_nodes = ts.samples()[X_samples]\n",
    "pango_x_nodes = defaultdict(set)\n",
    "for u in X_nodes:\n",
    "    pango_x_nodes[ts.node(u).metadata[\"Viridian_pangolin\"]].add(u)\n",
    "for k, v in pango_x_nodes.items():\n",
    "    print(f\"Pangolin designated '{k}': {len(v)} strains\")"
   ]
  },
  {
   "cell_type": "markdown",
   "id": "f7db1991-d4c3-4748-b7f0-285b0394defa",
   "metadata": {},
   "source": [
    "We can print out all the recombinants and their descendants"
   ]
  },
  {
   "cell_type": "code",
   "execution_count": null,
   "id": "1db6978b-bd93-4afe-82eb-788a73b45757",
   "metadata": {},
   "outputs": [],
   "source": [
    "last_sample = ts.node(ts.samples()[-1])  # to calibrate dates\n",
    "for u, info in recombination_info.items():\n",
    "    strains = info['descendant_samples']\n",
    "    parents = info['sample_parents']\n",
    "    jacksons = {j: len(k & strains) for j, k in jackson_nodes.items() if len(k & strains) > 0}\n",
    "    pango_x = {j: len(k & strains) for j, k in pango_x_nodes.items() if len(k & strains) > 0}\n",
    "    parent_names = []\n",
    "    for p in parents:\n",
    "        md = ts.node(p).metadata\n",
    "        if p == tskit.NULL:\n",
    "            name = f\"B(root)[Wuhan]\"\n",
    "        else:\n",
    "            name = md.get(\"Viridian_scorpio\") + f\"[{md['date']}.{md['Country'].replace(\"United Kingdom\", \"UK\")}]\"\n",
    "        if name.startswith(\".\"):\n",
    "            name = md['Viridian_pangolin'] + f\"[{md['date']}.{md['Country'].replace(\"United Kingdom\", \"UK\")}]\"\n",
    "        parent_names.append(name)\n",
    "    re_node_date = datetime.datetime.fromisoformat(last_sample.metadata[\"date\"]) - datetime.timedelta(days=(ts.nodes_time[u] - last_sample.time))\n",
    "    extra = []\n",
    "    if jacksons:\n",
    "        extra.append(f\"JACKSON {jacksons}\")\n",
    "    if pango_x:\n",
    "        extra.append(f\"PANGO {pango_x}\")\n",
    "    print(\n",
    "        f\"RE node {u:<6} - ({re_node_date.date()}) #strains: {len(strains):<4}\",\n",
    "        f\"Parents: {\" + \".join(parent_names)}\",\n",
    "        f\"--- ({', '.join(extra)})\" if len(extra) else \"\",\n",
    "    )"
   ]
  },
  {
   "cell_type": "markdown",
   "id": "6de84c29-644d-4f86-a6fd-3edf0f325d3e",
   "metadata": {},
   "source": [
    "#### Discussion of recombinations\n",
    "\n",
    "It appears as if _sc2ts_ also identifies a number of the Jackson recombinants, and places them as all descendants of a single recombination node. It has found another 24 \"A group\" recombinant strains, on top of the 4 identified by Jackson et al. Most of these are designated pangolin \"XA\", although 2 out of 28 are not.\n",
    "\n",
    "There are also a resonable number of other recombination nodes, none of which include _Delta_ or _Omicron_-labelled strains (which as we saw previously, may be subject to QC issues). One of the recombination nodes (323158, on 2020-12-17) has produced 2183 putative recombinant samples. Although its parents can't be in the sample spike, it would be sensible to check whether the children of this node (which are the \"cause\" of the suggested recombination), are on the problematic date of 2020-12-31:"
   ]
  },
  {
   "cell_type": "code",
   "execution_count": null,
   "id": "8636e0b7-b182-485f-ab6a-96a790b844e7",
   "metadata": {},
   "outputs": [],
   "source": [
    "def child_dates(ts, node):\n",
    "    last_sample = ts.node(ts.samples()[-1])  # to calibrate dates\n",
    "    samples = set(ts.samples())\n",
    "    children = set()\n",
    "    dates = []\n",
    "    for tree in ts.trees():\n",
    "        children.update(tree.children(node))\n",
    "    for i, child in enumerate(children):\n",
    "        if child in samples:\n",
    "            dates.append(ts.node(child).metadata['date'])\n",
    "        else:\n",
    "            date = datetime.datetime.fromisoformat(last_sample.metadata[\"date\"]) - datetime.timedelta(days=(ts.nodes_time[child] - last_sample.time))\n",
    "            dates.append(date.date())\n",
    "    return np.array(dates)\n",
    "    \n",
    "def print_child_dates(ts, node):\n",
    "    dates = child_dates(ts, node)\n",
    "    print(f\"Node {node}:\")\n",
    "    for date in dates:\n",
    "        print(f\" child {i} has date {date}\" + (\" <- ***\" if date == \"2020-12-31\" else \"\"))\n",
    "\n",
    "print_child_dates(ts, 323158)"
   ]
  },
  {
   "cell_type": "markdown",
   "id": "1cbdaa2d-e1f2-427a-b564-22e42003012d",
   "metadata": {},
   "source": [
    "So we should probably treat this recombination node with some caution: it may be artefactual. That's also true of node 132596 (34 descendants), but not node 86494 (57) descendants or the Jackson \"A\" recombination node (id 368327, which occurs after 2020-12-31 anyway, so can't possibly have children at that date)."
   ]
  },
  {
   "cell_type": "code",
   "execution_count": null,
   "id": "4ec9d383-a456-4764-8c6d-a41168f4b754",
   "metadata": {},
   "outputs": [],
   "source": [
    "print_child_dates(ts, 132596)\n",
    "print_child_dates(ts, 86494)\n",
    "print_child_dates(ts, 368327)  # Jackson \"A\" group\n"
   ]
  },
  {
   "cell_type": "markdown",
   "id": "c7bcfc30-c784-4ddb-8ae9-485caa19bfe8",
   "metadata": {},
   "source": [
    "Some of these recombination nodes seem potentially trustworthy. The relatively large number of recombination events is probably due to the ability of _sc2ts_ to capture recombination event between relatively closely related strains (most other methods of identifying recombinant strains involve hand-inspection). Note that the UK carried out a large proportion of the sequencing in this stage of the pandemic, so although many of the parents appear to be in the UK, this may simply reflect sampling bias.\n",
    "\n"
   ]
  },
  {
   "cell_type": "markdown",
   "id": "e35a3813-905c-4353-8bb2-33c3adea1ed9",
   "metadata": {},
   "source": [
    "To show the ability of the sc2ts method to detect recombination even between closely related strains, we can recapitulate Figure 5 of the sc2ts preprint, which shows the distance (in days) between the two recombinant parents. We'll skip any recombinants that have children from the dodgy date."
   ]
  },
  {
   "cell_type": "code",
   "execution_count": null,
   "id": "0832c81a-9781-4608-9354-a788db6f398f",
   "metadata": {},
   "outputs": [],
   "source": [
    "# plot the MRCA between the two parents. Note that this requires a special MRCA routine,\n",
    "# as we are not looking at the MRCA between two individuals in a single tree, but\n",
    "# on either side of a breakpoint\n",
    "\n",
    "import tskit\n",
    "\n",
    "def get_root_path(tree, node):\n",
    "    u = node\n",
    "    path = []\n",
    "    while u != tskit.NULL:\n",
    "        path.append(u)\n",
    "        u = tree.parent_array[u]\n",
    "    return path\n",
    "\n",
    "\n",
    "def get_node_tmrca_about_break(ts, breakpoint, node):\n",
    "    node_time = ts.nodes_time\n",
    "    tree = ts.at(breakpoint)\n",
    "    path1 = get_root_path(tree, node)[1:]\n",
    "    tree.prev()\n",
    "    path2 = get_root_path(tree, node)[1:]\n",
    "    j1 = 0\n",
    "    j2 = 0\n",
    "    while True:\n",
    "        if path1[j1] == path2[j2]:\n",
    "            if path1[j1] == tskit.NULL:\n",
    "                return np.nan\n",
    "            return node_time[path1[j1]]\n",
    "        elif node_time[path1[j1]] < node_time[path2[j2]]:\n",
    "            j1 += 1\n",
    "        elif node_time[path2[j2]] < node_time[path1[j1]]:\n",
    "            j2 += 1\n",
    "        else:\n",
    "            # Time is equal, but the nodes differ\n",
    "            j1 += 1\n",
    "            j2 += 1\n",
    "\n",
    "\n",
    "# find the MRCA of the two parents either side of the breakpoint\n",
    "x = [[], []]  # first is a jackson-identified recombination node\n",
    "y = [[], []]\n",
    "size = [[], []]\n",
    "for u, info in recombination_info.items():\n",
    "    strains = info['descendant_samples']\n",
    "    jacksons = {j: len(k & strains) for j, k in jackson_nodes.items() if len(k & strains) > 0}\n",
    "    tmrca = get_node_tmrca_about_break(ts, info['breakpoint'], u)\n",
    "    idx = 0 if jacksons else 1\n",
    "    if np.any(child_dates(ts, u) == \"2020-12-31\"):\n",
    "        continue\n",
    "    y[idx].append(tmrca)\n",
    "    x[idx].append(tmrca - ts.node(u).time)\n",
    "    size[idx].append(len(strains))\n",
    "plt.scatter(x[0], y[0], s=np.sqrt(size[0]) * 10, c=\"red\", label=\"Jackson-identified\", alpha=0.5)\n",
    "plt.scatter(x[1], y[1], s=np.sqrt(size[1]) * 10, c=\"blue\", label=\"Novel\", alpha=0.5)\n",
    "plt.xlabel(\"Divergence between strains combined (days)\")\n",
    "plt.ylabel(f\"Age of MRCA (days before 2021-03-21)\")\n",
    "lgnd = plt.legend()\n",
    "for handle in lgnd.legend_handles:\n",
    "    handle.set_sizes([30.0])\n",
    "plt.title(\"Recombination node MRCA ages\\n(size of point denotes number of descendant samples)\");"
   ]
  },
  {
   "cell_type": "markdown",
   "id": "9b53b5f3-1bb7-4471-a0e6-bffaa319af1f",
   "metadata": {},
   "source": [
    "The Jackson recombinants are indeed those with a very high divergence between strains. However, _sc2ts_ is also identifying many recombination nodes with a divergence of < 200 days between the two parents.\n",
    "\n"
   ]
  },
  {
   "cell_type": "markdown",
   "id": "159c9a0a-20d2-4531-acd1-04b69b7be288",
   "metadata": {},
   "source": [
    "### Looking at subgraphs\n",
    "\n",
    "We can use the tskit_arg_visualizer to look at a few of the recombination nodes, and their surrounding sample nodes. We'll colour the nodes using the same scheme as before (based on the viridian scorpio classification), but use red nodes to indicate recombinants."
   ]
  },
  {
   "cell_type": "code",
   "execution_count": null,
   "id": "df7824d4-a951-4e4e-bbf5-a54e1a75bdc9",
   "metadata": {},
   "outputs": [],
   "source": [
    "%%javascript\n",
    "var script = document.createElement('script');\n",
    "script.type = 'text/javascript';\n",
    "script.src = 'https://d3js.org/d3.v7.min.js';\n",
    "document.head.appendChild(script);"
   ]
  },
  {
   "cell_type": "code",
   "execution_count": null,
   "id": "21944644-f952-4625-b744-2dcdf0003870",
   "metadata": {},
   "outputs": [],
   "source": [
    "# Initialise the visualiser\n",
    "import tskit_arg_visualizer\n",
    "d3arg = tskit_arg_visualizer.D3ARG.from_ts(ts=ts) # could take e.g. 30 secs\n",
    "fills = []\n",
    "symbols = []\n",
    "for nd in ts.nodes():\n",
    "    if nd.is_sample():\n",
    "        fill = scorpio_colors[nd.metadata[\"Viridian_scorpio\"]]\n",
    "        symbol = \"d3.symbolSquare\"\n",
    "    else:\n",
    "        symbol = \"d3.symbolCircle\"\n",
    "        if nd.id in recombination_nodes:\n",
    "            fill = \"#FF0000\"\n",
    "        else:\n",
    "            fill = \"#FFFFFF\"\n",
    "    fills.append(fill)\n",
    "    symbols.append(symbol)\n",
    "d3arg.set_all_node_styles(fill=fills, stroke_width=2, symbol=symbols)"
   ]
  },
  {
   "cell_type": "markdown",
   "id": "8ff56860-6ba5-4590-a3d7-11f39594168e",
   "metadata": {},
   "source": [
    "Look at the Jackson \"A\" recombinant (the \"XA\" pangolin group). One of the parent lineages needs 12 hops to the nearest sample parent (possibly indicating a lack of sampling in the right area), and we need 4 hops downwards to encompass all the children of the recombination node."
   ]
  },
  {
   "cell_type": "code",
   "execution_count": null,
   "id": "b31d3245-30cb-4673-aec3-93de2f77e80a",
   "metadata": {},
   "outputs": [],
   "source": [
    "# Set some useful labels on the ARG nodes\n",
    "labels = {i: '' for i in range(ts.num_nodes)}\n",
    "for i, node_id in enumerate(ts.samples()):\n",
    "    labels[node_id] = id_to_strain[node_id]\n",
    "    extra = []\n",
    "    if samples_country[i]:\n",
    "        extra.append(f\"{samples_country[i].replace(\"United Kingdom\", \"UK\")}\")\n",
    "    viridian_scorpio = samples_viridian_scorpio[i]\n",
    "    if \"(\" in viridian_scorpio:\n",
    "        extra.append(viridian_scorpio[:viridian_scorpio.find(\"(\")].strip())  # just show first part of scorpio label\n",
    "    viridian_pangolin = samples_viridian_pangolin[i]\n",
    "    if viridian_pangolin.startswith(\"X\"):\n",
    "        extra.append(viridian_pangolin)\n",
    "    if len(extra) > 0:\n",
    "        labels[node_id] += f\" ({\", \".join(extra)})\"\n",
    "d3arg.set_node_labels(labels)\n",
    "\n",
    "#  This has many non-sample nodes above one of the parents (these are nodes\n",
    "older_node_degree = 12\n",
    "younger_node_degree = 4\n",
    "d3arg.draw_node(node=368327, height=500, width=1000, degree=[older_node_degree, 4])"
   ]
  },
  {
   "cell_type": "markdown",
   "id": "85d0b6a3-8793-4a04-8b07-00ca4e02fadb",
   "metadata": {},
   "source": [
    "By dragging the nodes apart, you should be able to see that the non-XA labelled descendants are `ERR5404883` and `ERR5404883`, immediate descendants of the red recombinant node. It could be worth investigating if these really are recombinants that have been mislabelled by the Viridian pangolin classifier, as seems likely.\n",
    "\n",
    "We could also use some form of graph algorithm to assign likely countries to the white nodes on the plot (based on the countries of the samples below them). This could give clues as to the possible country of origination of the recombinants, and is a form of geographical inference."
   ]
  },
  {
   "cell_type": "code",
   "execution_count": null,
   "id": "73295a61-8f02-42f3-8fa6-3cd51049a887",
   "metadata": {},
   "outputs": [],
   "source": [
    "# Look at one of the more interesting not-previously-identified recombinants\n",
    "d3arg.draw_node(node=449789, height=400, degree=[1, 2])"
   ]
  },
  {
   "cell_type": "markdown",
   "id": "c6b6eeb4-c77c-466e-9cb1-a2eb9b95e836",
   "metadata": {},
   "source": [
    "We can check if this is a believable set of recombinants by looking at the sequence data, comparing mutations on SRR20694798 and SRR14401372 with those on the descendants:"
   ]
  },
  {
   "cell_type": "code",
   "execution_count": null,
   "id": "0ac807de-3b8c-4777-8972-1d6105873c64",
   "metadata": {},
   "outputs": [],
   "source": [
    "strains = (\"SRR20694798\", \"SRR14401372\", \"SRR14453556\", \"SRR14376771\", \"SRR14377696\", \"SRR14158202\", \"SRR16747820\")\n",
    "ids = [strain_to_id[strain] for strain in strains]\n",
    "\n",
    "show_bp = True\n",
    "breakpoint = recombination_info[449789]['breakpoint']\n",
    "print(\" pos   parents | recombinants\")\n",
    "for v in ts.variants(samples=ids):\n",
    "    if v.genotypes[0] == v.genotypes[1]:\n",
    "        continue  # do not print nonvariable sites in the children\n",
    "    genos = np.array(v.alleles)[v.genotypes]\n",
    "    if show_bp and v.site.position >= breakpoint:\n",
    "        print(f\"---- breakpoint @ {int(breakpoint)} ----\")\n",
    "        show_bp = False\n",
    "    print(f\"{int(v.site.position):<5}:  {genos[0]}   {genos[1]}  |  {\" \".join(genos[2:])}\")"
   ]
  },
  {
   "cell_type": "markdown",
   "id": "4b46fb90-c99b-4edf-83ee-52bd95f9a61b",
   "metadata": {},
   "source": [
    "This looks plausible, although the section of genome before the breakpoint only has 3 sites that vary between the two parents, so the inferred recombinant could be due to chance similarities rather than true recombination.\n",
    "\n",
    "As a further exercise, you could try repeating this output for the Jackson \"A\" / pango XA grouping."
   ]
  }
 ],
 "metadata": {
  "kernelspec": {
   "display_name": "Python 3 (ipykernel)",
   "language": "python",
   "name": "python3"
  },
  "language_info": {
   "codemirror_mode": {
    "name": "ipython",
    "version": 3
   },
   "file_extension": ".py",
   "mimetype": "text/x-python",
   "name": "python",
   "nbconvert_exporter": "python",
   "pygments_lexer": "ipython3",
   "version": "3.12.2"
  }
 },
 "nbformat": 4,
 "nbformat_minor": 5
}
