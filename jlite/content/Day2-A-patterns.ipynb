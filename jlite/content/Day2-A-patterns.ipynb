{
 "cells": [
  {
   "cell_type": "markdown",
   "id": "5b825ca5-56f8-463a-b272-e6e31de08c6a",
   "metadata": {},
   "source": [
    "## Setup\n",
    "\n",
    "To access material for this workbook please execute the two notebook cells immediately below (e.g. use the shortcut <b>&lt;shift&gt;+&lt;return&gt;</b>). The first cell can be skipped if you are running this notebook locally and have already installed all the necessary packages. The second cell should print out \"Your notebook is ready to go!\""
   ]
  },
  {
   "cell_type": "code",
   "execution_count": null,
   "id": "4ccc9395-655a-42a0-ac17-ab2b73d009be",
   "metadata": {},
   "outputs": [],
   "source": [
    "if 'pyodide_kernel' in str(get_ipython()):  # specify packages to install under JupyterLite\n",
    "    %pip install -q -r jlite-requirements.txt\n",
    "elif 'google.colab' in str(get_ipython()):  # specify package location for loading in Colab\n",
    "    from google.colab import drive\n",
    "    drive.mount('/content/drive')\n",
    "    %run /content/drive/MyDrive/GARG_workshop/Notebooks/add_module_path.py\n",
    "else:  # install packages on your local machine (-q = \"quiet\": don't print out installation steps)\n",
    "    !python -m pip install -q -r https://github.com/ebp-nor/GARG/raw/main/jlite/requirements.txt"
   ]
  },
  {
   "cell_type": "code",
   "execution_count": null,
   "id": "57d2d58c-61d9-4286-946d-c717857f2a75",
   "metadata": {},
   "outputs": [],
   "source": [
    "# Load questions etc for this workbook\n",
    "from IPython.display import SVG\n",
    "import tskit\n",
    "import ARG_workshop\n",
    "workbook = ARG_workshop.Workbook2A()\n",
    "display(workbook.setup)"
   ]
  },
  {
   "cell_type": "markdown",
   "id": "4c65c0e5-86d2-49d8-a8fd-2cce003fd0cf",
   "metadata": {},
   "source": [
    "### Using this workbook\n",
    "\n",
    "This workbook is intended to be used by executing each cell as you go along. Code cells (like those above) can be modified and re-executed to perform different behaviour or additional analysis. You can use this to complete various programming exercises, some of which have associated questions to test your understanding. Exercises are marked like this:\n",
    "<dl class=\"exercise\"><dt>Exercise XXX</dt>\n",
    "<dd>Here is an exercise: normally there will be a code cell below this box for you to work in</dd>\n",
    "</dl>"
   ]
  },
  {
   "cell_type": "markdown",
   "id": "41e3c291-8534-408a-9e33-22fb34cc5470",
   "metadata": {},
   "source": [
    "# Workbook 2-A: Expected ARG patterns\n",
    "\n",
    "We'll recap on the patterns observed in simulated ARGs, so that we know what to expect in inferred ARGs. There are many single-site statistics that can be calculated on population-level genome data, e.g. windowed diversity along the genome. However, we'll focus on patterns that require some knowledge of the underlying ARG.\n",
    "\n",
    "We will use the same simulation as in workbook 1F: a bonobo + 2 chimpanzee population model with recent selective sweeps in two of the populations. Just as a reminder, here's the demography:"
   ]
  },
  {
   "cell_type": "code",
   "execution_count": null,
   "id": "c043bbba-99ed-4033-b80f-7c864796a0c6",
   "metadata": {},
   "outputs": [],
   "source": [
    "import stdpopsim\n",
    "import demesdraw\n",
    "import warnings\n",
    "\n",
    "species = stdpopsim.get_species(\"PanTro\")\n",
    "model = species.get_demographic_model(\"BonoboGhost_4K19\")\n",
    "msprime_demography = model.model\n",
    "\n",
    "# Plot a demesdraw \"tubes\" view of the model\n",
    "with warnings.catch_warnings():\n",
    "    warnings.simplefilter(\"ignore\")  # Ignore a minor bug in the model specification\n",
    "    demesdraw.tubes(msprime_demography.to_demes(), log_time=True)"
   ]
  },
  {
   "cell_type": "markdown",
   "id": "1e3f60ca-3e60-4891-828b-d5d2d4fc54ac",
   "metadata": {},
   "source": [
    "<dl class=\"exercise\"><dt>Exercise 1</dt>\n",
    "<dd>Although the log timescale can be useful when thinking about coalescence times and their expected variation, it can also be helpful to understand the demography on a linear timescale. Plot the same demography below, but with <code>log_time=False</code>.</dd>\n",
    "</dl>"
   ]
  },
  {
   "cell_type": "code",
   "execution_count": null,
   "id": "cb3e6df3-d63d-437b-9711-00023b931472",
   "metadata": {},
   "outputs": [],
   "source": [
    "# Plot the demography in this cell on a linear timescale"
   ]
  },
  {
   "cell_type": "code",
   "execution_count": null,
   "id": "1cd448d2-c48f-48a8-99f8-1e2a423c8db3",
   "metadata": {},
   "outputs": [],
   "source": [
    "ts = tskit.load(\"data/chimp_selection.trees\")\n",
    "print(f\"Loaded data for {ts.num_samples} genomes over {ts.sequence_length/1e6:.1f} Mb\")"
   ]
  },
  {
   "cell_type": "code",
   "execution_count": null,
   "id": "9158b1b7-b5f5-4edb-bf59-ded8bf1a102c",
   "metadata": {},
   "outputs": [],
   "source": [
    "# Execute code block with <shift>+Return to display question; type and press return, or click on the buttons to answer\n",
    "workbook.question(\"chimp_demography\")"
   ]
  },
  {
   "cell_type": "markdown",
   "id": "745d644f-e9c5-43f1-8411-c675af9cc7f3",
   "metadata": {},
   "source": [
    "# Edge plots\n",
    "\n",
    "As on previous days, a simple way to get a feel for the tree sequence is to plot the edges."
   ]
  },
  {
   "cell_type": "markdown",
   "id": "3ad6a8f6-13f2-4314-9061-74504393feb9",
   "metadata": {},
   "source": [
    "<dl class=\"exercise\"><dt>Exercise 2</dt>\n",
    "<dd>Use the <code>ARG_workshop.edge_plot</code> function to plot the spans and parent times of the edges in the simulated tree sequence. Add the <code>plot_hist=True</code> argument to show a weighted histogram on the right of the plot, and <code>alpha=0.1</code> to make the edges semi-transparent. You can make it wider using the <code>width</code> argument</dd>\n",
    "</dl>"
   ]
  },
  {
   "cell_type": "code",
   "execution_count": null,
   "id": "db409c2a-2f95-4ae1-b174-650397ed70b5",
   "metadata": {},
   "outputs": [],
   "source": [
    "# Exercise 1: plot the edges along the genome\n"
   ]
  },
  {
   "cell_type": "code",
   "execution_count": null,
   "id": "96f7210e-eefa-4aed-a925-4e11110288c7",
   "metadata": {},
   "outputs": [],
   "source": [
    "# Execute code block with <shift>+Return to display question; type and press return, or click on the buttons to answer\n",
    "workbook.question(\"edge_plot\")"
   ]
  },
  {
   "cell_type": "markdown",
   "id": "1c19fc69-73d3-4fa8-b2c0-a41063c269dd",
   "metadata": {},
   "source": [
    "To illustrate the dependence on sample size, we can create the same plot with one tenth of the number of samples. This is likely to remove recent coalescence events with a far higher probability than removing older ones. As a result, information about the selective sweeps is almost obliterated: most of the coalescences are in deep time."
   ]
  },
  {
   "cell_type": "code",
   "execution_count": null,
   "id": "7888ecc7-0a1d-41b2-a568-a3ccd8b995e7",
   "metadata": {},
   "outputs": [],
   "source": [
    "import numpy as np\n",
    "ARG_workshop.edge_plot(ts.simplify(ts.samples()[np.arange(0, 120, 10)]), width=15, plot_hist=True)"
   ]
  },
  {
   "cell_type": "markdown",
   "id": "29727bea-d420-40e5-93fa-e2c63208926f",
   "metadata": {},
   "source": [
    "If our dataset is split up into different populations, we can plot those separately, which can be telling. Note, however, that our example is an extreme case, in which the 3 populations have radically different selective histories, with no migration or admixture since the selection events, so the pattern is much clearer than most real examples."
   ]
  },
  {
   "cell_type": "code",
   "execution_count": null,
   "id": "87b07ae3-5322-4eed-9340-5c0a3fbb5753",
   "metadata": {},
   "outputs": [],
   "source": [
    "import matplotlib.pyplot as plt\n",
    "fig, axes = plt.subplots(3, 2, gridspec_kw={\"width_ratios\": [8, 1], \"hspace\": 0.3}, figsize=(15, 10), sharey=True)\n",
    "for ax_row, pop in zip(axes, ts.populations()):\n",
    "    xaxis = (pop.id==ts.population(-1).id)\n",
    "    ARG_workshop.edge_plot(ts.simplify(ts.samples(population=pop.id)), ax=ax_row, xaxis=xaxis, title=pop.metadata[\"name\"], alpha=0.5)"
   ]
  },
  {
   "cell_type": "code",
   "execution_count": null,
   "id": "70b1a66c-2697-4fff-9890-fa504a942c18",
   "metadata": {},
   "outputs": [],
   "source": [
    "# Execute code block with <shift>+Return to display question; type and press return, or click on the buttons to answer\n",
    "workbook.question(\"sweeps\")"
   ]
  },
  {
   "cell_type": "markdown",
   "id": "e955a185-392a-409c-95ae-63d05fff2bfa",
   "metadata": {},
   "source": [
    "## Coalescent rates \n",
    "\n",
    "As we previously saw, another visualization is to plot the instantaneous coalescence rate over time, weighted by the number of pairs that coalesce at each node (i.e. the *pairwise* rate). The code below does this for you, with the ability to specify windows of time and genomic position. However, don't feel like you need to go through the details, as the _tskit_ API for this will be changing in the next few weeks."
   ]
  },
  {
   "cell_type": "code",
   "execution_count": null,
   "id": "5687542b-dc9e-4f8c-9461-8002c188f0c9",
   "metadata": {},
   "outputs": [],
   "source": [
    "def pair_coalescence_rates(input_ts, sample_sets=None, time_breaks=None, window_breaks=None):\n",
    "    # NB: in the next tskit release (0.5.9), there will be an API change such that\n",
    "    # this function will be directly available as `ts.pair_coalescence_rates(time_breaks)`\n",
    "    if sample_sets is not None:\n",
    "        sample_sets = [list(s) for s in sample_sets]  # work around small bug in implementation of coalescence_time_distribution\n",
    "    d = input_ts.coalescence_time_distribution(\n",
    "        sample_sets=sample_sets,\n",
    "        window_breaks=window_breaks,\n",
    "        weight_func=\"pair_coalescence_events\",\n",
    "    )\n",
    "    return d.coalescence_rate_in_intervals(np.array(time_breaks))\n",
    "\n",
    "time_windows = np.logspace(0, np.log10(ts.max_time), 30)\n",
    "rates = pair_coalescence_rates(ts, time_breaks=time_windows)\n",
    "fig, axes = plt.subplots(1, 2, figsize=(15, 4))\n",
    "# This might complain if any rate is 0: that can be ignored\n",
    "for ax, ylabel, y in zip(axes, (\"Instantaneous Coalescence Rate (ICR)\", \"Inverse ICR (IICR)\"), (rates, 1/rates)):\n",
    "    ax.stairs(y.flatten(), time_windows, baseline=None)\n",
    "    ax.set_xscale(\"log\")\n",
    "    ax.set_xlabel(\"Time ago {ts.time_units}\")\n",
    "    ax.set_ylabel(ylabel)"
   ]
  },
  {
   "cell_type": "code",
   "execution_count": null,
   "id": "55ad27b8-0352-445b-8a62-c241be570c5d",
   "metadata": {},
   "outputs": [],
   "source": [
    "# Execute code block with <shift>+Return to display question; type and press return, or click on the buttons to answer\n",
    "workbook.question(\"ICR\")"
   ]
  },
  {
   "cell_type": "markdown",
   "id": "574f51e1-4d5c-46ff-83c6-7a822735b6c6",
   "metadata": {},
   "source": [
    "Discuss with a colleague what might be causing a dip in the IICR at ~200-300 generations ago."
   ]
  },
  {
   "cell_type": "markdown",
   "id": "fe9b8415-675f-4a0c-ab82-d32184d07f51",
   "metadata": {},
   "source": [
    "### \"Local\" coalescence rates\n",
    "\n",
    "Selection will cause coalescence rate to change along the genome (as we saw in the edge plots). It can therefore be helpful to plot the coalescence rates at different points along the genome (sometimes known as the \"local\" ICR). Here's a plotting function to do this for multiple comparisons (again, no need to go into the detail of each line of code)"
   ]
  },
  {
   "cell_type": "code",
   "execution_count": null,
   "id": "0963e5f5-68d1-4711-94a2-28ce7c819f80",
   "metadata": {},
   "outputs": [],
   "source": [
    "def plot_pair_rates(input_ts, genomic_windows, num_log_timebins, sample_sets=None, indexes=None, axes=None):\n",
    "    # indexes is a list of tuple pairs, e.g. [(0, 1), (1, 2)]\n",
    "    time_breaks = np.logspace(0, np.log10(input_ts.max_time), num_log_timebins)\n",
    "    rates = pair_coalescence_rates(input_ts, sample_sets, window_breaks=genomic_windows, time_breaks=time_breaks)\n",
    "    if sample_sets is None:\n",
    "        sample_sets = [input_ts.samples()]\n",
    "    order = [(a, b) for a in range(len(sample_sets)) for b in range(a, len(sample_sets))]\n",
    "    if indexes is None:\n",
    "        indexes = np.arange(len(order))\n",
    "    else:\n",
    "        indexes = [order.index(i) for i in indexes]\n",
    "    if axes is None:\n",
    "        fig, axes = plt.subplots(len(indexes), 1, figsize=(12.5, 3 * len(indexes)))\n",
    "    num_axes = 1\n",
    "    try:\n",
    "        num_axes = len(axes)\n",
    "    except TypeError:\n",
    "        axes = [axes]\n",
    "    if num_axes != len(indexes):\n",
    "        raise ValueError(\"Must have same number of axes as indexes\")\n",
    "    for ax, rate in zip(axes, (rates[i] for i in indexes)):\n",
    "        im = ax.pcolormesh(genomic_windows, time_breaks, rate)\n",
    "        ax.set_yscale(\"log\")\n",
    "        bar = plt.colorbar(im, ax=ax)\n",
    "        bar.ax.set_ylabel('pairwise coalescent density', labelpad=10, rotation=270)\n",
    "        ax.set_ylabel(f\"Time ({input_ts.time_units})\");"
   ]
  },
  {
   "cell_type": "markdown",
   "id": "ae163593-97c2-4bd1-909c-9d90ed61cfa2",
   "metadata": {},
   "source": [
    "We'll pick 30 windows along the genome, and 20 windows in time:"
   ]
  },
  {
   "cell_type": "code",
   "execution_count": null,
   "id": "938649ae-fa81-41af-b9dd-146e06c12787",
   "metadata": {},
   "outputs": [],
   "source": [
    "genomic_windows = np.linspace(0, ts.sequence_length, 30)\n",
    "plot_pair_rates(ts.simplify(), genomic_windows, num_log_timebins=20)\n",
    "plt.xlabel(\"Genome position\")\n",
    "plt.ylabel(f\"Time ({ts.time_units})\");"
   ]
  },
  {
   "cell_type": "markdown",
   "id": "8f2fd005-855c-4119-a74a-fb0252419405",
   "metadata": {},
   "source": [
    "This gives a similar picture to the edge plot, but using pairwise rates, which do not change depending on sample size. The selective sweeps are clearly visible. However, note that binning means that the resolution is poorer than in the edge plots, and bins are subject to differences in the amount of expected variation."
   ]
  },
  {
   "cell_type": "markdown",
   "id": "d0fa6a43-8c28-4e38-a55c-590562df39bf",
   "metadata": {},
   "source": [
    "Again, we can break this down into populations. We can use a `sample_sets` option to provide the samples in each population, and comparing within sample set 0 by looking at the index `(0, 0)`, within sample set 1 by using `(1, 1)`, etc. "
   ]
  },
  {
   "cell_type": "code",
   "execution_count": null,
   "id": "9d33200b-d4f9-497e-a86d-e7d226d99d6e",
   "metadata": {},
   "outputs": [],
   "source": [
    "sample_sets = {pop.metadata[\"name\"]: ts.samples(population=pop.id) for pop in ts.populations()}\n",
    "sample_sets = {k: sample_sets[k] for k in [\"bonobo\", \"central\", \"western\"]}  # make sure bonobo first, central next, western last\n",
    "indexes = [(0, 0), (1, 1), (2, 2)]\n",
    "fig, axes = plt.subplots(3, 1, gridspec_kw={\"hspace\": 0.3}, figsize=(15, 10), sharey=True, sharex=True)\n",
    "plot_pair_rates(ts, genomic_windows, num_log_timebins=20, sample_sets=sample_sets.values(), indexes=indexes, axes=axes)\n",
    "axes[0].set_title(\"bonobo\")\n",
    "axes[1].set_title(\"central\")\n",
    "axes[2].set_title(\"western\")\n",
    "axes[2].set_xlabel(\"Genome position\");"
   ]
  },
  {
   "cell_type": "markdown",
   "id": "a71df6e0-e4c2-430d-a64c-19f72a0f4144",
   "metadata": {},
   "source": [
    "The sweeps are obvious, but perhaps surprisingly, the clear bunching of coalescence in the edge plots for bonobos at ~$10.5^4$ generations ago is not very obvious in the coalescence rate plots. There's also some noise in the Central plot at recent times, 10 generations ago, although the line at ~40000 generations ago corresponding to a small population size in the Central group is quite visible."
   ]
  },
  {
   "cell_type": "markdown",
   "id": "cc085d0d-abe3-405b-87a9-268846ea7a09",
   "metadata": {},
   "source": [
    "### Cross coalescence rates\n",
    "\n",
    "If we want to look at migration *between* populations, we can look at the **cross coalescence rate** (i.e. only record a pairwise coalescence if one of the pair is from population A and the other is from population B. Since we have 3 populations, there are only 3 possible pairs to look at:\n",
    "\n",
    "* bonono - central\n",
    "* bonobo - western\n",
    "* central - western\n",
    "\n",
    "The indexes are then `(0, 1)`, `(0, 2)`, and `(1, 2)`:"
   ]
  },
  {
   "cell_type": "code",
   "execution_count": null,
   "id": "989d69e1-b6b8-4d4f-8939-13e9e9c02572",
   "metadata": {},
   "outputs": [],
   "source": [
    "fig, axes = plt.subplots(3, 1, gridspec_kw={\"hspace\": 0.3}, figsize=(15, 10), sharey=True, sharex=True)\n",
    "indexes = [(0, 1), (0, 2), (1, 2)]\n",
    "plot_pair_rates(ts, genomic_windows, num_log_timebins=25, sample_sets=sample_sets.values(), indexes=indexes, axes=axes)\n",
    "axes[0].set_title(\"bonobo - central\")\n",
    "axes[1].set_title(\"bonobo - western\")\n",
    "axes[2].set_title(\"central - western\")\n",
    "axes[2].set_xlabel(\"Genome position\");"
   ]
  },
  {
   "cell_type": "markdown",
   "id": "a1c98c25-c878-4a28-8032-084b05f55b20",
   "metadata": {},
   "source": [
    "You can clearly see the introgressed regions between bonobo and central populations. However, bonobo and western are not connected. There's not much of a trace of the recent mass migration at ~ 4000 generations between central and western chimpanzee populations, however. Why might this be so?"
   ]
  },
  {
   "cell_type": "markdown",
   "id": "ad2ddbe3-4539-4bcf-9ae3-b110392444b2",
   "metadata": {},
   "source": [
    "## Topological analysis\n",
    "\n",
    "Tskit provides some functionality for working with the *topologies* of tree sequences (in which branch lengths are ignored). You have already met the GNN statistic. The other option detailed below, the topology counter, is a promising approach that has not yet seen widespead use, but we hope will do in the future, especially combined with approaches such as [twisst](https://github.com/simonhmartin/twisst). We include it here in case it seems applicable to your model system.\n",
    "\n",
    "### GNN\n",
    "\n",
    "The [genealogical_nearest_neighbours](https://tskit.dev/tskit/docs/stable/python-api.html#tskit.TreeSequence.genealogical_nearest_neighbours) method was introduced at the end of workbook 1E with the out-of-Africa simulated dataset. Below we outline a different topological method, which is also covered in the official _tskit [counting topologies tutorial](https://tskit.dev/tutorials/counting_topologies.html). If you need a refresher, you can look there. Here's the same analysis repeated on the simulated chimp data. In this case it's pretty boring: all the genomes within a population are each others closest relatives."
   ]
  },
  {
   "cell_type": "code",
   "execution_count": null,
   "id": "2d6e8abc-dd7d-4935-90c2-99dccbd9147b",
   "metadata": {},
   "outputs": [],
   "source": [
    "import pandas as pd\n",
    "import seaborn as sns\n",
    "\n",
    "gnn = ts.genealogical_nearest_neighbours(ts.samples(), sample_sets=list(sample_sets.values()))\n",
    "df = pd.DataFrame(gnn, columns=sample_sets.keys())\n",
    "df[\"focal_population\"] = [ts.population(ts.node(u).population).metadata[\"name\"] for u in ts.samples()]\n",
    "mean_gnn = df.groupby(\"focal_population\").mean()\n",
    "sns.clustermap(mean_gnn, col_cluster=False, z_score=0, cmap=\"mako\", cbar_pos=(1.0, 0.05, 0.05, 0.7));"
   ]
  },
  {
   "cell_type": "markdown",
   "id": "09337f56-15c1-492b-9dd3-e52597fa1c50",
   "metadata": {},
   "source": [
    "### Counting topologies\n",
    "\n",
    "If we have a tree of N tips, _tskit_ gives an easy way to list all the possible topologies (i.e. ignoring branch lengths), using the [`all_trees()` function](https://tskit.dev/tskit/docs/stable/python-api.html#tskit.all_trees). _Tskit_ can label each of these tree topologies with a **rank** (see [here](https://tskit.dev/tskit/docs/stable/topological-analysis.html#interpreting-tree-ranks) for a detailed explanation)"
   ]
  },
  {
   "cell_type": "code",
   "execution_count": null,
   "id": "6a069f32-414e-44aa-bb5b-968750f0dee7",
   "metadata": {},
   "outputs": [],
   "source": [
    "labels = {i: name for i, name in enumerate(sample_sets.keys())}  # label node 0 \"bonono\", node 1 \"central, etc.\n",
    "for tree in tskit.all_trees(3):\n",
    "    display(SVG(tree.draw_svg(node_labels=labels)))\n",
    "    print(tree.rank())"
   ]
  },
  {
   "cell_type": "markdown",
   "id": "f96b81b6-d574-4cbd-b9d5-b7211f61fca1",
   "metadata": {},
   "source": [
    "We can also convert from a ranked topology back to a tree using [`tskit.Tree.unrank()`](https://tskit.dev/tskit/docs/stable/python-api.html#tskit.Tree.unrank). E.g. here's the last tree topology:"
   ]
  },
  {
   "cell_type": "code",
   "execution_count": null,
   "id": "9709cd65-b09b-4fbc-87ad-1cc8e64b2487",
   "metadata": {},
   "outputs": [],
   "source": [
    "tskit.Tree.unrank(num_leaves=3, rank=(1, 2)).draw_svg(node_labels=labels)"
   ]
  },
  {
   "cell_type": "markdown",
   "id": "825c0df5-30e2-4a4d-857d-4e39e999b39f",
   "metadata": {},
   "source": [
    "<dl class=\"exercise\"><dt>Exercise 3</dt>\n",
    "<dd>Use <code>unrank(...)</code> to plot the tree topology that groups tips 1 (central) and 2 (western) together</dd>\n",
    "</dl>"
   ]
  },
  {
   "cell_type": "code",
   "execution_count": null,
   "id": "97f9e858-339f-47cc-a590-ac0cdeca3945",
   "metadata": {},
   "outputs": [],
   "source": [
    "# Plot a tree that groups central and western together\n"
   ]
  },
  {
   "cell_type": "markdown",
   "id": "795681a4-fa86-40d4-84ab-8a648b2130f3",
   "metadata": {},
   "source": [
    "If we take one genome from each of the 3 chimp populations, the coalescent tree at any one location in the genome must take one of the 4 possible topologies. For example, we can take the first sample genome from each population:"
   ]
  },
  {
   "cell_type": "code",
   "execution_count": null,
   "id": "0832c81a-9781-4608-9354-a788db6f398f",
   "metadata": {},
   "outputs": [],
   "source": [
    "three_chimps = [samp[0] for samp in sample_sets.values()]\n",
    "tiny_tree_sequence = ts.simplify(three_chimps)\n",
    "print(f\"There are {tiny_tree_sequence.num_trees} trees in the tiny 3-tip tree sequence. Here is the first:\")\n",
    "first_tree = tiny_tree_sequence.first()\n",
    "display(SVG(first_tree.draw_svg(\n",
    "    y_axis=True,\n",
    "    x_axis=True,\n",
    "    size=(300, 500),\n",
    "    node_labels={i: lab + \"_0\" for i, lab in labels.items()}\n",
    ")))\n",
    "print(f\"It can be classified as {first_tree.rank()}\")"
   ]
  },
  {
   "cell_type": "markdown",
   "id": "95a4e4d4-676a-40f5-9ec2-bccdd3c9b870",
   "metadata": {},
   "source": [
    "However, this is just one of a large number of possible choices of bonobo + common + western genome. What if we could count *all possible* choices (rather than just the first sample from each population)? It turns out that there is an efficient way to do this using tree-based algorithms. We call these the \"embedded topologies\":"
   ]
  },
  {
   "cell_type": "code",
   "execution_count": null,
   "id": "21dc3993-e6ae-445d-b3bc-e88f0df34110",
   "metadata": {},
   "outputs": [],
   "source": [
    "topology_counter = ts.first().count_topologies(\n",
    "    sample_sets = sample_sets.values()\n",
    ")\n",
    "# Careful, do not list out the topology_counter, as it will run for infinity\n",
    "# Here's the issue if anyone want to fix it! https://github.com/tskit-dev/tskit/issues/1462\n",
    "\n",
    "topology_counter[0, 1, 2].most_common()"
   ]
  },
  {
   "cell_type": "markdown",
   "id": "1cdb6991-5ee8-4c58-8d9a-e5fd815d8ceb",
   "metadata": {},
   "source": [
    "In this case, all 64000 combinations of one-tip-from-each-population give the same topology, of rank `(1, 0)`, which is the same as the one above. There is also an efficient way to do this over all the trees in the genome. Below we count all the topologies over the entire genome, and also count them weighted by the span of genome that they cover:"
   ]
  },
  {
   "cell_type": "code",
   "execution_count": null,
   "id": "98dda879-389c-4e2f-8108-8fc1ba748dd6",
   "metadata": {},
   "outputs": [],
   "source": [
    "from tqdm.auto import tqdm\n",
    "topology_totals = {tree.rank(): {\"counts\": 0, \"spans\": 0} for tree in tskit.all_trees(3)}\n",
    "\n",
    "for topology_counter, tree in tqdm(zip(ts.count_topologies(sample_sets.values()), ts.trees()), total=ts.num_trees):\n",
    "    embedded_topologies = topology_counter[0, 1, 2]\n",
    "    weight = tree.span / embedded_topologies.total()\n",
    "    for rank, count in embedded_topologies.items():\n",
    "        topology_totals[rank][\"counts\"] += count\n",
    "        topology_totals[rank][\"spans\"] += count * weight"
   ]
  },
  {
   "cell_type": "code",
   "execution_count": null,
   "id": "525d9fa2-ef25-4c32-86f4-75f91d342684",
   "metadata": {},
   "outputs": [],
   "source": [
    "for rank, data in topology_totals.items():\n",
    "    display(SVG(tskit.Tree.unrank(num_leaves=3, rank=rank).draw_svg(node_labels=labels)))\n",
    "    print(data)"
   ]
  },
  {
   "cell_type": "markdown",
   "id": "73ea4a15-15fc-4578-8b90-f19b66bbee62",
   "metadata": {},
   "source": [
    "So there are only two embedded topologies that are seen in the data. We never see genealogies that link bonobo with western (which could have occurred due to incomplete lineage sorting, or ILS)\n"
   ]
  },
  {
   "cell_type": "code",
   "execution_count": null,
   "id": "b4e0384d-880d-4d1a-be73-326a7c6db024",
   "metadata": {},
   "outputs": [],
   "source": [
    "# Execute code block with <shift>+Return to display question; type and press return, or click on the buttons to answer\n",
    "workbook.question(\"topology_count\")"
   ]
  },
  {
   "cell_type": "code",
   "execution_count": null,
   "id": "85777d9c-8bfb-4f0e-a5ad-1c566369f1f9",
   "metadata": {},
   "outputs": [],
   "source": [
    "# Cell for calculations to answer the question above\n"
   ]
  }
 ],
 "metadata": {
  "kernelspec": {
   "display_name": "Python 3 (ipykernel)",
   "language": "python",
   "name": "python3"
  },
  "language_info": {
   "codemirror_mode": {
    "name": "ipython",
    "version": 3
   },
   "file_extension": ".py",
   "mimetype": "text/x-python",
   "name": "python",
   "nbconvert_exporter": "python",
   "pygments_lexer": "ipython3",
   "version": "3.12.2"
  }
 },
 "nbformat": 4,
 "nbformat_minor": 5
}
