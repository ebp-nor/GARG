{
 "cells": [
  {
   "cell_type": "markdown",
   "id": "5b825ca5-56f8-463a-b272-e6e31de08c6a",
   "metadata": {},
   "source": [
    "## Setup\n",
    "\n",
    "To access material for this workbook please execute the two notebook cells immediately below (e.g. use the shortcut <b>&lt;shift&gt;+&lt;return&gt;</b>). The first cell can be skipped if you are running this notebook locally and have already installed all the necessary packages. The second cell should print out \"Your notebook is ready to go!\""
   ]
  },
  {
   "cell_type": "code",
   "execution_count": null,
   "id": "4ccc9395-655a-42a0-ac17-ab2b73d009be",
   "metadata": {},
   "outputs": [],
   "source": [
    "if 'pyodide_kernel' in str(get_ipython()):  # specify packages to install under JupyterLite\n",
    "    %pip install -q -r jlite-requirements.txt\n",
    "elif 'google.colab' in str(get_ipython()):  # specify package location for loading in Colab\n",
    "    from google.colab import drive\n",
    "    drive.mount('/content/drive')\n",
    "    %run /content/drive/MyDrive/GARG_workshop/Notebooks/add_module_path.py\n",
    "else:  # install packages on your local machine (-q = \"quiet\": don't print out installation steps)\n",
    "    !python -m pip install -q -r https://github.com/ebp-nor/GARG/raw/main/jlite/requirements.txt"
   ]
  },
  {
   "cell_type": "code",
   "execution_count": null,
   "id": "57d2d58c-61d9-4286-946d-c717857f2a75",
   "metadata": {},
   "outputs": [],
   "source": [
    "# Load questions etc for this workbook\n",
    "from IPython.display import SVG\n",
    "import tskit\n",
    "import ARG_workshop\n",
    "workbook = ARG_workshop.Workbook1A()\n",
    "display(workbook.setup)"
   ]
  },
  {
   "cell_type": "markdown",
   "id": "4c65c0e5-86d2-49d8-a8fd-2cce003fd0cf",
   "metadata": {},
   "source": [
    "### Using this workbook\n",
    "\n",
    "This workbook is intended to be used by executing each cell as you go along. Code cells (like those above) can be modified and re-executed to perform different behaviour or additional analysis. You can use this to complete various programming exercises, some of which have associated questions to test your understanding. Exercises are marked like this:\n",
    "<dl class=\"exercise\"><dt>Exercise XXX</dt>\n",
    "<dd>Here is an exercise: normally there will be a code cell below this box for you to work in</dd>\n",
    "</dl>"
   ]
  },
  {
   "cell_type": "markdown",
   "id": "41e3c291-8534-408a-9e33-22fb34cc5470",
   "metadata": {},
   "source": [
    "# Workbook 2-A: Expected ARG patterns\n",
    "\n",
    "We'll recap on the patterns observed in simulated ARGs, so that we know what to expect in inferred ARGs. There are many single-site statistics that can be calculated on population-level genome data, e.g. windowed diversity along the genome. However, we'll focus on patterns that require some knowledge of the underlying ARG."
   ]
  },
  {
   "cell_type": "markdown",
   "id": "d9a94e5b-dee3-41d3-b303-6d8c865ece45",
   "metadata": {},
   "source": [
    "## Case study 1: discrete demography with selection\n",
    "\n"
   ]
  },
  {
   "cell_type": "code",
   "execution_count": null,
   "id": "c043bbba-99ed-4033-b80f-7c864796a0c6",
   "metadata": {},
   "outputs": [],
   "source": [
    "import stdpopsim\n",
    "import demesdraw\n",
    "import warnings\n",
    "\n",
    "species = stdpopsim.get_species(\"PanTro\")\n",
    "model = species.get_demographic_model(\"BonoboGhost_4K19\")\n",
    "\n",
    "# Plot a demesdraw \"tubes\" view of the model\n",
    "with warnings.catch_warnings():\n",
    "    warnings.simplefilter(\"ignore\")\n",
    "    demesdraw.tubes(model.model.to_demes(), log_time=True)"
   ]
  },
  {
   "cell_type": "markdown",
   "id": "1e3f60ca-3e60-4891-828b-d5d2d4fc54ac",
   "metadata": {},
   "source": [
    "The code below (which is rather long) runs two selective sweeps, one in the bonobo and one in the western populations, at different times, more recently than the population splits, and takes 10 samples from each of the extant populations. _You don't need to understand how it works_: we have left it in in case you are interested (as it involves recapitation)."
   ]
  },
  {
   "cell_type": "code",
   "execution_count": null,
   "id": "1cd448d2-c48f-48a8-99f8-1e2a423c8db3",
   "metadata": {},
   "outputs": [],
   "source": [
    "import numpy as np\n",
    "import msprime\n",
    "import stdpopsim\n",
    "import tskit\n",
    "\n",
    "contig = species.get_contig(\"chr3\", mutation_rate=model.mutation_rate)\n",
    "sample_sizes = {\"western\": 10, \"central\": 10, \"bonobo\": 10}\n",
    "\n",
    "L = 20e6  # Simulate 20 Mb\n",
    "G = 4000  # A time ago in generations: we assume populations from time 0..G are isolated and of constant size\n",
    "\n",
    "sweep_params = {\n",
    "    \"bonobo\": {\"position\": L//3, \"s\": 0.05},\n",
    "    \"western\": {\"position\": (2 * L)//3, \"s\": 0.1},\n",
    "}\n",
    "\n",
    "# Make independent populations, some with selective sweeps\n",
    "independent_pop_ts = []\n",
    "for name, pop in model.model.items():\n",
    "    if name in sample_sizes:\n",
    "        Ne = pop.initial_size\n",
    "        demog = msprime.Demography()\n",
    "        demog.add_population(name=name, initial_size=Ne)\n",
    "        if name in sweep_params:\n",
    "            p = 1 / (2 * Ne)\n",
    "            freqs = {\"start_frequency\": p, \"end_frequency\": 1 - p, \"dt\": 1 / (40 * Ne)}\n",
    "            sweep_model = msprime.SweepGenicSelection(**freqs, **sweep_params[name])\n",
    "            models = (sweep_model, msprime.StandardCoalescent())\n",
    "        else:\n",
    "            models = msprime.StandardCoalescent()\n",
    "        independent_pop_ts.append(msprime.sim_ancestry(\n",
    "            sample_sizes[name],\n",
    "            model=models,\n",
    "            demography=demog,\n",
    "            recombination_rate=contig.recombination_map.slice(right=L, trim=True),\n",
    "            sequence_length=L,\n",
    "            end_time=G,\n",
    "            random_seed=1\n",
    "        ))\n",
    "combined_ts = independent_pop_ts[0]\n",
    "for ts in independent_pop_ts[1:]:\n",
    "    combined_ts = combined_ts.union(ts, node_mapping=np.full(ts.num_nodes, tskit.NULL))\n",
    "\n",
    "# Now recapitate: initial_state uses the population names in the combined_ts to figure out which are which\n",
    "ts = msprime.sim_mutations(\n",
    "    msprime.sim_ancestry(initial_state=combined_ts, demography=model.model, random_seed=123).simplify(),\n",
    "    rate=model.mutation_rate,\n",
    "    random_seed=123,\n",
    ")\n",
    "print(f\"Simulated a complex demography: {final_ts.num_sites} sites for {final_ts.num_samples} genomes\")"
   ]
  },
  {
   "cell_type": "markdown",
   "id": "745d644f-e9c5-43f1-8411-c675af9cc7f3",
   "metadata": {},
   "source": [
    "# Edge plots\n"
   ]
  },
  {
   "cell_type": "markdown",
   "id": "3ad6a8f6-13f2-4314-9061-74504393feb9",
   "metadata": {},
   "source": [
    "<dl class=\"exercise\"><dt>Exercise 1</dt>\n",
    "<dd>Use the <code>ARG_workshop.edge_plot</code> function to plot the spans and parent times of the edges in the simulated tree sequence. Add the <code>plot_hist=True</code> argument to show a weighted histogram on the right of the plot. You can make it wider using the <code>width</code> argument\n",
    "</dl>"
   ]
  },
  {
   "cell_type": "code",
   "execution_count": null,
   "id": "db409c2a-2f95-4ae1-b174-650397ed70b5",
   "metadata": {},
   "outputs": [],
   "source": [
    "# Exercise 1: plot the edges along the genome\n"
   ]
  },
  {
   "cell_type": "code",
   "execution_count": null,
   "id": "96f7210e-eefa-4aed-a925-4e11110288c7",
   "metadata": {},
   "outputs": [],
   "source": [
    "# Execute code block with <shift>+Return to display question; type and press return, or click on the buttons to answer\n",
    "workbook.question(\"edge_plot\")"
   ]
  },
  {
   "cell_type": "markdown",
   "id": "1c19fc69-73d3-4fa8-b2c0-a41063c269dd",
   "metadata": {},
   "source": [
    "To illustrate the dependence on sample size, we can create the same plot with a fraction of the number of samples. This is likely to remove recent coalescence events with a far higher probability than removing older ones. As a result, information about the recent selective sweep in bonobos is mostly lost."
   ]
  },
  {
   "cell_type": "code",
   "execution_count": null,
   "id": "7888ecc7-0a1d-41b2-a568-a3ccd8b995e7",
   "metadata": {},
   "outputs": [],
   "source": [
    "ARG_workshop.edge_plot(ts.simplify(ts.samples()[np.array([0, 1, 3, 20, 21, 22, 30, 31, 32])]), width=15, plot_hist=True)"
   ]
  },
  {
   "cell_type": "markdown",
   "id": "29727bea-d420-40e5-93fa-e2c63208926f",
   "metadata": {},
   "source": [
    "If our dataset is split up into different populations, we can plot those separately, which can be telling. Note, however, that our example is an extreme case, in which the 3 populations have radically different selective histories, with no migration or admixture since the selection events, so the pattern is much clearer than most real examples."
   ]
  },
  {
   "cell_type": "code",
   "execution_count": null,
   "id": "87b07ae3-5322-4eed-9340-5c0a3fbb5753",
   "metadata": {},
   "outputs": [],
   "source": [
    "from matplotlib import pyplot as plt\n",
    "fig, axes = plt.subplots(3, 2, gridspec_kw={\"width_ratios\": [8, 1], \"hspace\": 0.3}, figsize=(15, 10), sharey=True)\n",
    "for ax_row, pop in zip(axes, ts.populations()):\n",
    "    xaxis = (pop.id==ts.population(-1).id)\n",
    "    ARG_workshop.edge_plot(ts.simplify(ts.samples(population=pop.id)), ax=ax_row, xaxis=xaxis, title=pop.metadata[\"name\"], alpha=0.5)"
   ]
  },
  {
   "cell_type": "markdown",
   "id": "84993f15-d787-46b2-960f-9b0ad7e2e2b0",
   "metadata": {},
   "source": [
    "# Coalescent rates heatmap\n",
    "\n",
    "As we previously saw, another visualization is to bin the instantaneous coalescence rate into time and genome windows, weighted by the pairwise each event is associated with a random pair of genomes. However, binning means that the resolution is poorer, and bins are subject to differences in the amount of expected variation."
   ]
  },
  {
   "cell_type": "code",
   "execution_count": null,
   "id": "5687542b-dc9e-4f8c-9461-8002c188f0c9",
   "metadata": {},
   "outputs": [],
   "source": [
    "def pair_coalescence_rates(ts, time_breaks=None, window_breaks=None):\n",
    "    # NB: in the next tskit release (0.5.9), there will be an API change such that\n",
    "    # this function will be directly available as `ts.pair_coalescence_rates(time_breaks)`\n",
    "    d = ts.coalescence_time_distribution(window_breaks=window_breaks, weight_func=\"pair_coalescence_events\")\n",
    "    return d.coalescence_rate_in_intervals(np.array(time_breaks))\n",
    "\n",
    "def plot_pair_rates(ts, genomic_windows, num_log_timebins, ax=None):\n",
    "    time_breaks = np.logspace(0, np.log10(ts.max_time), num_log_timebins)\n",
    "    rates = pair_coalescence_rates(ts, window_breaks=genomic_windows, time_breaks=time_breaks)\n",
    "    if ax is None:\n",
    "        fig, ax = plt.subplots(1, figsize=(12.5, 3))\n",
    "    im = ax.pcolormesh(genomic_windows, time_breaks, rates[0])\n",
    "    ax.set_yscale(\"log\")\n",
    "    bar = plt.colorbar(im, ax=ax)\n",
    "    bar.ax.set_ylabel('pairwise coalescent density', labelpad=10, rotation=270)\n",
    "\n",
    "genomic_windows = np.linspace(0, final_ts.sequence_length, 30)\n",
    "plot_pair_rates(ts.simplify(), genomic_windows, num_log_timebins=20)\n",
    "plt.xlabel(\"Genome position\")\n",
    "plt.ylabel(f\"Time ({ts.time_units})\");"
   ]
  },
  {
   "cell_type": "code",
   "execution_count": null,
   "id": "55ad27b8-0352-445b-8a62-c241be570c5d",
   "metadata": {},
   "outputs": [],
   "source": [
    "# Execute code block with <shift>+Return to display question; type and press return, or click on the buttons to answer\n",
    "workbook.question(\"heatmap\")"
   ]
  },
  {
   "cell_type": "markdown",
   "id": "d0fa6a43-8c28-4e38-a55c-590562df39bf",
   "metadata": {},
   "source": [
    "Again, we can break this down into populations"
   ]
  },
  {
   "cell_type": "code",
   "execution_count": null,
   "id": "9d33200b-d4f9-497e-a86d-e7d226d99d6e",
   "metadata": {},
   "outputs": [],
   "source": [
    "fig, axes = plt.subplots(3, 1, gridspec_kw={\"hspace\": 0.3}, figsize=(15, 10), sharey=True)\n",
    "for ax, pop in zip(axes, ts.populations()):\n",
    "    plot_pair_rates(ts.simplify(ts.samples(population=pop.id)), genomic_windows, num_log_timebins=20, ax=ax)\n",
    "    ax.set_title=pop.metadata[\"name\"]\n",
    "    ax.set_ylabel(f\"Time ({ts.time_units})\");\n",
    "    if pop.id==ts.population(-1).id:\n",
    "        ax.set_xlabel(\"Genome position\")\n",
    "    else:\n",
    "        ax.set_xticks([])"
   ]
  },
  {
   "cell_type": "markdown",
   "id": "cc085d0d-abe3-405b-87a9-268846ea7a09",
   "metadata": {},
   "source": [
    "### Cross coalescence rates\n",
    "\n",
    "If we have "
   ]
  },
  {
   "cell_type": "markdown",
   "id": "ad2ddbe3-4539-4bcf-9ae3-b110392444b2",
   "metadata": {},
   "source": [
    "### Topological analysis\n",
    "\n",
    "#### GNN\n",
    "\n",
    "The genealogical_nearest_neighbours statistic was introduced\n",
    "\n",
    "ts.genealogical_nearest_neighbours"
   ]
  },
  {
   "cell_type": "markdown",
   "id": "ef5e2ae3-7b08-4180-933f-ec74a39a0489",
   "metadata": {},
   "source": []
  },
  {
   "cell_type": "code",
   "execution_count": null,
   "id": "6a069f32-414e-44aa-bb5b-968750f0dee7",
   "metadata": {},
   "outputs": [],
   "source": [
    "\n"
   ]
  },
  {
   "cell_type": "code",
   "execution_count": null,
   "id": "261b3d14-f61b-402c-b49f-bcd970faa35f",
   "metadata": {},
   "outputs": [],
   "source": [
    "# With just the topology, you can look at the GNN, or count the types of topology:\n",
    "ts.genealogical_nearest_neighbours"
   ]
  },
  {
   "cell_type": "code",
   "execution_count": null,
   "id": "0832c81a-9781-4608-9354-a788db6f398f",
   "metadata": {},
   "outputs": [],
   "source": []
  },
  {
   "cell_type": "code",
   "execution_count": null,
   "id": "1e4f7d97-0fb0-436f-9bea-a57b5e09f944",
   "metadata": {},
   "outputs": [],
   "source": []
  }
 ],
 "metadata": {
  "kernelspec": {
   "display_name": "Python 3 (ipykernel)",
   "language": "python",
   "name": "python3"
  },
  "language_info": {
   "codemirror_mode": {
    "name": "ipython",
    "version": 3
   },
   "file_extension": ".py",
   "mimetype": "text/x-python",
   "name": "python",
   "nbconvert_exporter": "python",
   "pygments_lexer": "ipython3",
   "version": "3.12.2"
  }
 },
 "nbformat": 4,
 "nbformat_minor": 5
}
