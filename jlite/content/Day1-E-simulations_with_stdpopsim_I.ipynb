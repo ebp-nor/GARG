{
 "cells": [
  {
   "cell_type": "markdown",
   "metadata": {
    "id": "VpWXVCgis7xa"
   },
   "source": [
    "# Setup\n",
    "\n",
    "To access material for this workbook please execute the two notebook cells immediately below (e.g. use the shortcut <shift>+<return>). The first cell can be skipped if you are running this notebook locally and have already installed all the necessary packages. The second cell should print out \"Your notebook is ready to go!\""
   ]
  },
  {
   "cell_type": "code",
   "execution_count": null,
   "metadata": {
    "colab": {
     "base_uri": "https://localhost:8080/"
    },
    "id": "AH-GmXdOrQRu",
    "outputId": "6ca79e1c-1e0d-480a-94f1-c4e9f774964f"
   },
   "outputs": [],
   "source": [
    "JUPYTERLITE = False\n",
    "if 'pyodide_kernel' in str(get_ipython()):  # specify packages to install under JupyterLite\n",
    "    JUPYTERLITE = True\n",
    "    %pip install -q -r jlite-requirements.txt\n",
    "elif 'google.colab' in str(get_ipython()):  # specify package location for loading in Colab\n",
    "    from google.colab import drive\n",
    "    drive.mount('/content/drive')\n",
    "    %run /content/drive/MyDrive/GARG_workshop/Notebooks/add_module_path.py\n",
    "else:  # install packages on your local machine (-q = \"quiet\": don't print out installation steps)\n",
    "    # (NB: you can probably ignore any message about restarting the kernel)\n",
    "    !pip install -q -r https://github.com/ebp-nor/GARG/raw/main/jlite/requirements.txt"
   ]
  },
  {
   "cell_type": "code",
   "execution_count": null,
   "metadata": {
    "colab": {
     "base_uri": "https://localhost:8080/",
     "height": 413
    },
    "id": "XyB9cvNVtHVp",
    "outputId": "b025a742-6e29-4e7a-d59a-6365c06be6b4"
   },
   "outputs": [],
   "source": [
    "# Load questions etc for this workbook\n",
    "import ARG_workshop\n",
    "workbook = ARG_workshop.Workbook1E()\n",
    "display(workbook.setup)\n",
    "import warnings\n",
    "import os\n",
    "import tskit"
   ]
  },
  {
   "cell_type": "markdown",
   "metadata": {},
   "source": [
    "### Using this workbook\n",
    "\n",
    "This workbook is intended to be used by executing each cell as you go along. Code cells (like those above) can be modified and re-executed to perform different behaviour or additional analysis. You can use this to complete various programming exercises, some of which have associated questions to test your understanding. Exercises are marked like this:\n",
    "<dl class=\"exercise\"><dt>Exercise XXX</dt>\n",
    "<dd>Here is an exercise: normally there will be a code cell below this box for you to work in</dd>\n",
    "</dl>"
   ]
  },
  {
   "cell_type": "markdown",
   "metadata": {
    "id": "5lSFUyb8gzk0"
   },
   "source": [
    "# Workbook 1-E: Simulations with stdpopsim\n",
    "\n",
    "[stdpopsim](https://popsim-consortium.github.io/stdpopsim-docs/stable/introduction.html) is the standard library for population genetic simulation models. It is designed to run reproducible simulations of genetic datasets from published demographic histories. Under the hood, stdpopsim relies on `msprime` and `SLiM 4` to generate sample datasets in the tree sequence format. It provides a [Catalog](https://popsim-consortium.github.io/stdpopsim-docs/stable/catalog.html) of species that provide details for one or more published demographic models that can be simulated.\n",
    "\n",
    "In this workbook, we will use stdpopsim to simulate datasets based on demographic models in a number of organisms."
   ]
  },
  {
   "cell_type": "markdown",
   "metadata": {
    "id": "Mov68faDgy95"
   },
   "source": [
    "# Our first simulation\n",
    "\n",
    "Let's start by making a simulation of the Homo Sapiens Out of Africa (OOA) model, as described in the [stdpopsim tutorial]((https://popsim-consortium.github.io/stdpopsim-docs/stable/tutorial.html#). Simulations follow the same pattern in that we will perform the following steps:\n",
    "\n",
    "1. pick a species and demographic model\n",
    "2. set up a contig and recombination map\n",
    "3. choose a sampling scheme and simulate\n"
   ]
  },
  {
   "cell_type": "markdown",
   "metadata": {
    "id": "1MxGITpClBH3"
   },
   "source": [
    "## Pick a species and demographic model\n",
    "\n",
    "First import `stdpopsim` and use `stdpopsim.get_species` to select *Homo sapiens*, which has the internal id `HomSap`:"
   ]
  },
  {
   "cell_type": "code",
   "execution_count": null,
   "metadata": {
    "id": "nz23_525kjUV"
   },
   "outputs": [],
   "source": [
    "import stdpopsim\n",
    "with warnings.catch_warnings():\n",
    "    warnings.simplefilter(\"ignore\")\n",
    "    species = stdpopsim.get_species(\"HomSap\")"
   ]
  },
  {
   "cell_type": "markdown",
   "metadata": {
    "id": "pNSqI1oqnGPf"
   },
   "source": [
    "We can look at what demographic models are available via the `species.demographic_models` function (the `species` variable is an object of the type `stdpopsim.species.Species`):"
   ]
  },
  {
   "cell_type": "code",
   "execution_count": null,
   "metadata": {
    "colab": {
     "base_uri": "https://localhost:8080/"
    },
    "id": "vwnAVHRslUi7",
    "outputId": "85fe00b9-f48d-4a53-e1de-21b7122ab6be"
   },
   "outputs": [],
   "source": [
    "for x in species.demographic_models:\n",
    "  print(x.id)"
   ]
  },
  {
   "cell_type": "markdown",
   "metadata": {
    "id": "ykZtvAFzo3TG"
   },
   "source": [
    "You can look in the catalog for details on each model. Here, we choose the `OutOfAfrica_3G09` model from [Gutenkunst et al (2009)](https://doi.org/10.1371/journal.pgen.1000695)."
   ]
  },
  {
   "cell_type": "code",
   "execution_count": null,
   "metadata": {
    "colab": {
     "base_uri": "https://localhost:8080/"
    },
    "id": "MbVDwlMpnTRr",
    "outputId": "3d0db427-683c-41fb-e923-67c134a5ee6a"
   },
   "outputs": [],
   "source": [
    "model = species.get_demographic_model(\"OutOfAfrica_3G09\")\n",
    "print(model.num_populations)\n",
    "print(model.num_sampling_populations)\n",
    "print([pop.name for pop in model.populations])"
   ]
  },
  {
   "cell_type": "markdown",
   "metadata": {
    "id": "sWNQt5xApUMn"
   },
   "source": [
    "There are three populations, `YRI`, `CEU`, and `CHB` from which we can sample individuals. What does the demographic model look like, what do the population codes mean, and how are they related? We could look at the model description\n"
   ]
  },
  {
   "cell_type": "code",
   "execution_count": null,
   "metadata": {
    "colab": {
     "base_uri": "https://localhost:8080/"
    },
    "id": "O_3xbnC1DJP4",
    "outputId": "0b8dbad1-75ea-4464-8162-52b1c6b2b0d3"
   },
   "outputs": [],
   "source": [
    "print(model.long_description)"
   ]
  },
  {
   "cell_type": "markdown",
   "metadata": {
    "id": "9M_56OG3DXV3"
   },
   "source": [
    "to get an idea, or at the model summary for more details:"
   ]
  },
  {
   "cell_type": "code",
   "execution_count": null,
   "metadata": {
    "colab": {
     "base_uri": "https://localhost:8080/",
     "height": 660
    },
    "id": "JIP-6ReVEs3O",
    "outputId": "9ab6e3dd-5f47-4922-88a4-11e0d1b2d41f"
   },
   "outputs": [],
   "source": [
    "msprime_demography = model.model\n",
    "msprime_demography"
   ]
  },
  {
   "cell_type": "markdown",
   "metadata": {
    "id": "h2QDSPsKF5t_"
   },
   "source": [
    "The `msprime_demography` variable is a [msprime.Demopgraphy](https://tskit.dev/msprime/docs/latest/api.html#msprime.Demography) object, and the summary prints three tables for populations, migration, and events. The population table describes the populations and corresponding parameters, such as initial size and growth rate. The migration table lists the migration rates expressed as probability of migration per generation per lineage. Finally, the events table describes demographic events backwards in time, such that time 8800 above is the oldest event taking place 8800 generations ago.\n",
    "\n",
    "In addition, we can use the [demesdraw](https://github.com/grahamgower/demesdraw) library to make a plot of the model. The function `model.model.to_demes()` converts a stdpopsim demographic model to a [Demes](https://popsim-consortium.github.io/demes-spec-docs/main/introduction.html#sec-intro) Graph object that can easily be plotted:"
   ]
  },
  {
   "cell_type": "code",
   "execution_count": null,
   "metadata": {
    "colab": {
     "base_uri": "https://localhost:8080/",
     "height": 507
    },
    "id": "4q2VYAlFCsaD",
    "outputId": "36c0ab98-ec28-476f-c859-cbababf3d80d"
   },
   "outputs": [],
   "source": [
    "import demesdraw\n",
    "demesgraph = msprime_demography.to_demes()\n",
    "demesdraw.tubes(demesgraph);"
   ]
  },
  {
   "cell_type": "markdown",
   "metadata": {
    "id": "vaLIiQHAA7EM"
   },
   "source": [
    "The width of the \"tubes\" indicate population sizes, and the y-axis shows time going backwards. Hence, the model describes an ancestral population that expands some 9000 generations ago, and at around 6000 generations ago there is a population split with the Out Of Africa event. Some 1000 generations ago, there is yet another split that gives rise to the `CEU` and `CHB` populations, which both undergo exponential growth. During the time from 6000 generations ago to present, there are (small) migration events, indicated by arrows between populations.\n",
    "\n",
    "As an alternative we also show how to plot the population size histories as line graphs:"
   ]
  },
  {
   "cell_type": "code",
   "execution_count": null,
   "metadata": {
    "colab": {
     "base_uri": "https://localhost:8080/",
     "height": 507
    },
    "id": "cQtvNbBCBD1y",
    "outputId": "487c20d2-41c5-4779-8dfc-99fe531b6007"
   },
   "outputs": [],
   "source": [
    "demesdraw.size_history(demesgraph);"
   ]
  },
  {
   "cell_type": "markdown",
   "metadata": {
    "id": "4HANCkPspu7r"
   },
   "source": [
    "## Set up a contig and recombination map\n",
    "\n",
    "With the species and model at hand, we now need to set up the sequence to simulate. This is done with the `species.get_contig` function, which takes a chromosome name as argument. In addition, we can specify recombination map (flat by default) and mutation rate. The stdpopsim catalog defines a mutation rate that is not always equal to the rate used in the model. We therefore set the mutation rate to the model mutation rate below."
   ]
  },
  {
   "cell_type": "code",
   "execution_count": null,
   "metadata": {
    "id": "YvqvLLYApN6k"
   },
   "outputs": [],
   "source": [
    "contig = species.get_contig(\"chr22\", mutation_rate=model.mutation_rate)"
   ]
  },
  {
   "cell_type": "markdown",
   "metadata": {
    "id": "sCOEYOoYG_ub"
   },
   "source": [
    "We can also choose to simulate a part of a chromosome by adding the `left` and `right` options that specify chromosome coordinates."
   ]
  },
  {
   "cell_type": "markdown",
   "metadata": {
    "id": "F_mT-m84p4oS"
   },
   "source": [
    "## Choose a sampling scheme and simulate"
   ]
  },
  {
   "cell_type": "markdown",
   "metadata": {
    "id": "khq71qZjHiXD"
   },
   "source": [
    "Finally, we select the number of samples from each population that we want to simulate (we can choose to exclude populations by setting their number of samples to 0). We retrieve a simulation engine (`msprime` or `slim`) with `stdpopsim.get_engine` and we are ready to simulate! The simulation may take some 20 seconds to complete."
   ]
  },
  {
   "cell_type": "code",
   "execution_count": null,
   "metadata": {
    "colab": {
     "base_uri": "https://localhost:8080/"
    },
    "id": "0pfq2sTfpx5N",
    "outputId": "2028e798-d6f7-4788-f55f-e06405f635b3"
   },
   "outputs": [],
   "source": [
    "%%time\n",
    "samples = {\"YRI\": 5, \"CHB\": 5, \"CEU\": 5}\n",
    "engine = stdpopsim.get_engine(\"msprime\")\n",
    "ts = engine.simulate(model, contig, samples, seed=123)\n",
    "treesfile = \"data/ooa.trees\"\n",
    "if not os.path.exists(treesfile):\n",
    "    print(f\"dumping tree sequences to {treesfile}\")\n",
    "    ts.dump(treesfile)    "
   ]
  },
  {
   "cell_type": "code",
   "execution_count": null,
   "metadata": {
    "colab": {
     "base_uri": "https://localhost:8080/"
    },
    "id": "0pfq2sTfpx5N",
    "outputId": "2028e798-d6f7-4788-f55f-e06405f635b3"
   },
   "outputs": [],
   "source": [
    "# Reload file for reproducibility\n",
    "ts = tskit.load(treesfile)"
   ]
  },
  {
   "cell_type": "markdown",
   "metadata": {
    "id": "HWUowNtnIabU"
   },
   "source": [
    "That's it! The `simulate` function returns a tree sequence that we then can process with `tskit`. As you can see, `msprime` simulations are fast and can easily handle full-length chromosomes. We can quickly look at the number of segregating sites for the simulation:\n",
    "\n",
    "\n"
   ]
  },
  {
   "cell_type": "code",
   "execution_count": null,
   "metadata": {
    "colab": {
     "base_uri": "https://localhost:8080/"
    },
    "id": "aeHKN0yq6xzK",
    "outputId": "bc3d9794-ec29-4bff-9335-dd40e433105a"
   },
   "outputs": [],
   "source": [
    "print(ts.num_sites)"
   ]
  },
  {
   "cell_type": "markdown",
   "metadata": {
    "id": "Eao6r__n7Ir_"
   },
   "source": [
    "\n",
    "However, when we perform forward simulations with `SLiM` we often need to reduce the sequence size, and set the [slim_scaling_factor](https://popsim-consortium.github.io/stdpopsim-docs/stable/tutorial.html?highlight=slim_scaling_factor#slim-scaling-factor) parameter. Briefly, this parameter reduces the population sizes and rescales time such that the simulations run in a reasonable amount of time."
   ]
  },
  {
   "cell_type": "code",
   "execution_count": null,
   "metadata": {
    "colab": {
     "base_uri": "https://localhost:8080/"
    },
    "id": "HU7aGV2FqAPv",
    "outputId": "a1c3eb84-15a8-4750-c616-9b30073754ab"
   },
   "outputs": [],
   "source": [
    "%%time\n",
    "if JUPYTERLITE:\n",
    "    print(\"SLiM executable not available in JupyterLite! You either need to run this notebook in Google Colab or in a local install.\")\n",
    "else:\n",
    "    with warnings.catch_warnings():\n",
    "        warnings.simplefilter(\"ignore\")        \n",
    "        engine = stdpopsim.get_engine(\"slim\")\n",
    "        contig = species.get_contig(\"chr22\", mutation_rate=model.mutation_rate, left=0.0, right=contig.length * 0.1)\n",
    "        ts_slim = engine.simulate(model, contig, samples, seed=123, slim_scaling_factor=10)\n",
    "    print(ts_slim.num_sites)"
   ]
  },
  {
   "cell_type": "markdown",
   "metadata": {
    "id": "Ufaz2qAVENi4"
   },
   "source": [
    "One advantage of using `SLiM` is that we can model more complicated scenarios of selection than msprime."
   ]
  },
  {
   "cell_type": "markdown",
   "metadata": {
    "id": "a5vmaANHttFE"
   },
   "source": [
    "## Investigate simulation results\n"
   ]
  },
  {
   "cell_type": "markdown",
   "metadata": {
    "id": "5gUonA_pJ50c"
   },
   "source": [
    "Now that we have our tree sequence and simulation results for the populations, let's have a look at some of the results."
   ]
  },
  {
   "cell_type": "markdown",
   "metadata": {
    "id": "110cwT4m9OIj"
   },
   "source": [
    "First import libraries for numerical calculation and plotting and setup a data structure to hold information about populations and their plotting parameters."
   ]
  },
  {
   "cell_type": "code",
   "execution_count": null,
   "metadata": {
    "id": "zDGxhZASNJGg"
   },
   "outputs": [],
   "source": [
    "import numpy as np  # Numerical library\n",
    "import matplotlib.pyplot as plt  # Plotting library\n",
    "import matplotlib.colors as mcolors  # Color library\n",
    "mpl_colors = mcolors.TABLEAU_COLORS  # Matplotlib default colors\n",
    "popmd = {p.id:p.metadata for p in ts.populations()}\n",
    "popmd[3] = {'description': 'All samples', 'id': 'ALL', 'name': 'ALL', 'sampling_time': 0}\n",
    "# Use same colors for populations as in demesdraw graph\n",
    "demesdraw_colors = [\"tab:blue\", \"tab:orange\", \"tab:green\", \"tab:red\"]\n",
    "for pop, color in zip(popmd, demesdraw_colors):\n",
    "    popmd[pop][\"color\"] = color\n",
    "    popmd[pop][\"mpl_color\"] = mpl_colors[color]"
   ]
  },
  {
   "cell_type": "markdown",
   "metadata": {
    "id": "L73eaQPnMV0h"
   },
   "source": [
    "### Summary statistics\n",
    "\n",
    "The tree sequence object provides access to functions for quickly calculating [summary statistics](https://tskit.dev/tskit/docs/stable/stats.html#statistics), such as diversity, divergence and so on. By default, the functions work on all samples, but can target subsets of samples via the specification of [sample sets](https://tskit.dev/tskit/docs/stable/stats.html#sec-stats-sample-sets). This feature makes it easy to calculate statistics for populations, as shown below:"
   ]
  },
  {
   "cell_type": "code",
   "execution_count": null,
   "metadata": {
    "colab": {
     "base_uri": "https://localhost:8080/"
    },
    "id": "uRNEQ-4XNTHm",
    "outputId": "df41b574-0ee2-4413-ca33-8859ff3ffb11"
   },
   "outputs": [],
   "source": [
    "sample_sets = [ts.samples(population=0), ts.samples(population=1), ts.samples(population=2), ts.samples()]\n",
    "pi = ts.diversity(sample_sets=sample_sets)\n",
    "print(pi)"
   ]
  },
  {
   "cell_type": "markdown",
   "metadata": {
    "id": "96XAZeOT-ow9"
   },
   "source": [
    "Here, we calculate the [one-way statistic](https://tskit.dev/tskit/docs/stable/stats.html#one-way-methods) diversity for all samples and for all populations, where we pass the `population` parameter to subset samples by population index. We utilize an efficient way of specifying sample sets by passing a list of indexes to the `sample_sets` parameter.\n",
    "\n",
    "The result above is a single statistic summarizing the global diversity, but often we want to calculate and plot [windowed statistics](https://tskit.dev/tskit/docs/stable/stats.html#windows). The summary statistic functions take an argument `windows` which defines the breakpoints of windows and can be generated with the [np.linspace](https://numpy.org/doc/stable/reference/generated/numpy.linspace.html) function:"
   ]
  },
  {
   "cell_type": "code",
   "execution_count": null,
   "metadata": {
    "colab": {
     "base_uri": "https://localhost:8080/",
     "height": 469
    },
    "id": "5je0voKh_e8p",
    "outputId": "8c8ffda8-b2e9-421e-d5a1-3fbba9d6711a"
   },
   "outputs": [],
   "source": [
    "num_windows = 50\n",
    "window_size = ts.sequence_length / num_windows\n",
    "windows = np.linspace(0, ts.sequence_length, num_windows + 1)\n",
    "pi_win = ts.diversity(\n",
    "    sample_sets=sample_sets,\n",
    "    windows=windows\n",
    ")\n",
    "for i in range(len(sample_sets)):\n",
    "    plt.stairs(pi_win[:,i], windows, color=popmd[i][\"mpl_color\"], label=popmd[i][\"name\"])\n",
    "plt.xlabel(\"Genome position (bp)\")\n",
    "plt.ylabel(\"Diversity (pi)\")\n",
    "plt.legend(bbox_to_anchor=(1, 1), loc=\"upper left\")\n",
    "plt.show()"
   ]
  },
  {
   "cell_type": "markdown",
   "metadata": {},
   "source": [
    "Note how the diversity of the `YRI` population is higher than that of `CEU` and `CHB`. "
   ]
  },
  {
   "cell_type": "markdown",
   "metadata": {
    "id": "NTAdx0JlFaBK"
   },
   "source": [
    "In addition to one-way statistics, we can calculate [multiway statistics](https://tskit.dev/tskit/docs/stable/stats.html#multi-way-methods) that compare sample sets with one another. An example of this is `divergence`:"
   ]
  },
  {
   "cell_type": "code",
   "execution_count": null,
   "metadata": {
    "colab": {
     "base_uri": "https://localhost:8080/"
    },
    "id": "HynGt1mFF6ii",
    "outputId": "8cf8dbfd-3b86-4106-e8b6-230202ea4c03"
   },
   "outputs": [],
   "source": [
    "indexes = ((0, 1), (0, 2), (1, 2))\n",
    "div = ts.divergence(sample_sets=sample_sets, indexes=indexes)\n",
    "print(div)"
   ]
  },
  {
   "cell_type": "markdown",
   "metadata": {
    "id": "fAu7NpHhGK3Y"
   },
   "source": [
    "A multiway statistical function takes a parameter `sample_sets` that defines sample sets, and a parameter `indexes` that here consists of a list of tuples of index pairs that specify which sample sets are being compared. For instance, `(0, 1)` indicates a comparison of samplesets at indices 0 and 1 of the `sample_sets` parameter. We can also calculate this statistic in windows and plot:"
   ]
  },
  {
   "cell_type": "code",
   "execution_count": null,
   "metadata": {
    "colab": {
     "base_uri": "https://localhost:8080/",
     "height": 469
    },
    "id": "RWP40LvVGZEy",
    "outputId": "119aa659-7f9d-41e1-e8e8-21272866f994"
   },
   "outputs": [],
   "source": [
    "div_win = ts.divergence(\n",
    "    sample_sets=sample_sets,\n",
    "    indexes=indexes,\n",
    "    windows=windows\n",
    ")\n",
    "for i in range(len(indexes)):\n",
    "    plt.stairs(div_win[:, i], windows)\n",
    "plt.xlabel(\"Genome position (bp)\")\n",
    "plt.ylabel(\"Divergence (dXY)\")\n",
    "plt.legend([\"YRI/CEU\", \"YRI/CHB\", \"CEU/CHB\"])\n",
    "plt.show()"
   ]
  },
  {
   "cell_type": "markdown",
   "metadata": {
    "id": "rFFYinpNNUzQ"
   },
   "source": [
    "As expected, the divergence between the African and out of Africa populations is higher than the divergence between the out of Africa populations (`CEU/CHB`).\n",
    "\n",
    "We finish by calculating the allele frequency spectrum (AFS), both for the entire sample set, and for each population individually. Here, the calculations are done separately, as otherwise the [allele_frequence_spectrum](https://tskit.dev/tskit/docs/stable/python-api.html#tskit.TreeSequence.allele_frequency_spectrum) function would calculate the **joint** AFS for all sample sets."
   ]
  },
  {
   "cell_type": "code",
   "execution_count": null,
   "metadata": {
    "id": "DiueLdu5PshD"
   },
   "outputs": [],
   "source": [
    "kw = {\"span_normalise\": False}\n",
    "afs = [\n",
    "    ts.allele_frequency_spectrum(**kw),\n",
    "    ts.allele_frequency_spectrum(sample_sets=[ts.samples(population=0)], **kw),\n",
    "    ts.allele_frequency_spectrum(sample_sets=[ts.samples(population=1)], **kw),\n",
    "    ts.allele_frequency_spectrum(sample_sets=[ts.samples(population=2)], **kw)\n",
    "]"
   ]
  },
  {
   "cell_type": "code",
   "execution_count": null,
   "metadata": {
    "colab": {
     "base_uri": "https://localhost:8080/",
     "height": 950
    },
    "id": "UQUOIr2_NT_o",
    "outputId": "8767ed42-b880-44dd-9499-581829865c53"
   },
   "outputs": [],
   "source": [
    "fig, axis = plt.subplots(2, 2, figsize=(15, 8), sharey=True)\n",
    "fig.suptitle(\"Allele frequency spectrum\")\n",
    "ax0 = plt.subplot(221)\n",
    "ax0.bar(range(1, ts.num_samples + 1), afs[0][1:])\n",
    "ax0.set_title(\"All samples\")\n",
    "for i, index in enumerate([222, 223, 224]):\n",
    "    ax = plt.subplot(index)\n",
    "    ax.bar(range(1, len(ts.samples(i)) + 1), afs[i + 1][1:])\n",
    "    ax.set_title(ts.population(i).metadata[\"name\"])\n",
    "fig.text(0.5, 0.04, 'Minor allele frequency', ha='center')\n",
    "fig.text(0.04, 0.5, 'Count', va='center', rotation='vertical')\n",
    "plt.show()"
   ]
  },
  {
   "cell_type": "markdown",
   "metadata": {
    "id": "eImFXD33Izsf"
   },
   "source": [
    "The plots share y-axes and tally the counts of allele frequency classes, showing clearly how there is more variation in the African sample."
   ]
  },
  {
   "cell_type": "markdown",
   "metadata": {
    "id": "oO7QJDyN6v2d"
   },
   "source": [
    "### Branch-length statistics\n",
    "\n",
    "Up until now we have calculated so-called site statistics that are based on mutations. Since the number of mutations that fall on a particular branch is proportional to the branch length, one could ask whether [we really need any mutations at all?](https://tskit.dev/tutorials/no_mutations.html?highlight=genealogical+nearest#do-you-really-need-mutations) to calculate statistics. The `tskit` statitics actually come in different [modes](https://tskit.dev/tskit/docs/stable/stats.html#mode). Here, we will briefly mention the `branch` mode, which measures the time since two genomes common ancestor."
   ]
  },
  {
   "cell_type": "markdown",
   "metadata": {
    "id": "c2b1PGGuJQVE"
   },
   "source": [
    "You change the mode of a statistical function by passing the `mode` parameter. Let's apply it to `ts.diversity`, which will the calculated the average branch length between all samples in a given sample set:"
   ]
  },
  {
   "cell_type": "code",
   "execution_count": null,
   "metadata": {
    "colab": {
     "base_uri": "https://localhost:8080/"
    },
    "id": "dqPm0maYIw0y",
    "outputId": "de58546b-aac1-462f-b286-a3fe9418f3c9"
   },
   "outputs": [],
   "source": [
    "ts.diversity(mode=\"branch\", sample_sets=sample_sets)"
   ]
  },
  {
   "cell_type": "markdown",
   "metadata": {
    "id": "HaNFsQ_8Jd2B"
   },
   "source": [
    "Since the mutational process is random it adds stochastic noise to measures based on genetic variation. In contrast,  [genealogy-based measures are less noisy](https://tskit.dev/tutorials/no_mutations.html#genealogy-based-measures-are-less-noisy) since this random noise component is missing. If the goal is to *compare* statistical measures of variation, genealogy-based methods should give you more statistical power."
   ]
  },
  {
   "cell_type": "markdown",
   "metadata": {},
   "source": [
    "### Population structure\n",
    "\n",
    "A common way to summarize population structure is to perform Principal Component Analysis (PCA) on the genetic data. Here we briefly show how this can be done on the genotype matrix that we retrieve from the tree sequence. Note that this is a summary treatment and that you would need to perform more [filtering, LD pruning and QC](https://alimanfoo.github.io/2015/09/28/fast-pca.html) on real data.\n",
    "\n",
    "We start by extracting the genotype matrix and we filter out singletons which are uninformative for PCA."
   ]
  },
  {
   "cell_type": "code",
   "execution_count": null,
   "metadata": {
    "colab": {
     "base_uri": "https://localhost:8080/"
    },
    "id": "I3Hgl1NNkXS3",
    "outputId": "26eb2a9b-e53a-4029-be01-ba4ff1a4ff08"
   },
   "outputs": [],
   "source": [
    "genotype_matrix = ts.genotype_matrix()\n",
    "singletons = genotype_matrix.sum(axis=1) == 1\n",
    "genotype_matrix = genotype_matrix[~singletons]\n",
    "sample_indexes = np.random.choice(genotype_matrix.shape[0], 1000, replace=False)\n",
    "genotype_matrix = genotype_matrix[sample_indexes, :]\n",
    "genotype_matrix.shape"
   ]
  },
  {
   "cell_type": "markdown",
   "metadata": {
    "id": "e8kmNnLBlNAj"
   },
   "source": [
    "Next, we load the [scikit-allel](https://scikit-allel.readthedocs.io/en/stable/) library and use it to perform PCA:"
   ]
  },
  {
   "cell_type": "code",
   "execution_count": null,
   "metadata": {
    "colab": {
     "base_uri": "https://localhost:8080/",
     "height": 492
    },
    "id": "jMgFerJ8OCkq",
    "outputId": "7958d941-7814-4ad0-8311-00a0025179f7"
   },
   "outputs": [],
   "source": [
    "if JUPYTERLITE:\n",
    "    print(\"Python package scikit-allel is not available in JupyterLite! You either need to run this notebook in Google Colab or in a local install.\")\n",
    "else:\n",
    "    import allel\n",
    "\n",
    "    coords, pcamodel = allel.pca(genotype_matrix, n_components=2)\n",
    "    plt.figure()\n",
    "    for i in range(3):\n",
    "        indices = ts.samples(i)\n",
    "        plt.scatter(coords[indices, 0], coords[indices, 1],\n",
    "                    color=popmd[i][\"mpl_color\"], label=popmd[i][\"name\"])\n",
    "    plt.xlabel('PC1')\n",
    "    plt.ylabel('PC2')\n",
    "    plt.title('PCA Plot')\n",
    "    plt.legend()\n",
    "    plt.show()"
   ]
  },
  {
   "cell_type": "markdown",
   "metadata": {
    "id": "6vn-MZ06FRl3"
   },
   "source": [
    "### Plotting trees\n",
    "\n",
    "To plot trees, we import the `SVG` library for plotting"
   ]
  },
  {
   "cell_type": "code",
   "execution_count": null,
   "metadata": {
    "id": "T1Euxh4JKOl8"
   },
   "outputs": [],
   "source": [
    "from IPython.display import SVG"
   ]
  },
  {
   "cell_type": "markdown",
   "metadata": {
    "id": "7YiMTTRuKR5T"
   },
   "source": [
    "and plot the first tree"
   ]
  },
  {
   "cell_type": "code",
   "execution_count": null,
   "metadata": {
    "colab": {
     "base_uri": "https://localhost:8080/",
     "height": 541
    },
    "id": "n-6QkPu7KUd6",
    "outputId": "a703e4f4-5a0e-4f29-f3c9-4d0f63b58571"
   },
   "outputs": [],
   "source": [
    "SVG(ts.first().draw_svg(size=(1000, 500), y_axis=True))"
   ]
  },
  {
   "cell_type": "markdown",
   "metadata": {
    "id": "ULIZhWXdKesx"
   },
   "source": [
    "We can see that many chromosomes rapidly find a common ancestor (coalesce), but that some of the branches show a deeper history, presumably related to the African samples. Let's add some styling to the plot to highlight the different populations more clearly (see the [tskit visualization docs](https://tskit.dev/tutorials/viz.html#styling) for more infomation on styling):"
   ]
  },
  {
   "cell_type": "code",
   "execution_count": null,
   "metadata": {
    "colab": {
     "base_uri": "https://localhost:8080/"
    },
    "id": "dzgdxe0U6g5P",
    "outputId": "09b5b7fe-f4be-4b43-86d0-dd3264e13f72"
   },
   "outputs": [],
   "source": [
    "styles = []\n",
    "# Create a style for each population, programmatically (or just type the string by hand)\n",
    "for i in list(popmd)[0:3]:\n",
    "    # target the symbols only (class \"sym\")\n",
    "    s = f\".node.p{i} > .sym \" + \"{\" + f\"fill: {popmd[i]['mpl_color']}\" + \"}\"\n",
    "    styles.append(s)\n",
    "    print(f'\"{s}\" applies to nodes from population {popmd[i][\"name\"]} (id {i})')\n",
    "css_string = \" \".join(styles)\n",
    "print(f'CSS string applied:\\n    \"{css_string}\"')"
   ]
  },
  {
   "cell_type": "markdown",
   "metadata": {
    "id": "xCMRlD4nLFww"
   },
   "source": [
    "The SVG output from tskit plots contain classes that can be customized with CSS, as shown above. Briefly, `p0` means a node belongs to population id 0, and we specify that the node symbol `sym` be filled with color `#1f77b4` (`tab:blue` in matplotlib). We specify the style and remove the y axis and node labels for clarity:"
   ]
  },
  {
   "cell_type": "code",
   "execution_count": null,
   "metadata": {
    "colab": {
     "base_uri": "https://localhost:8080/",
     "height": 541
    },
    "id": "18-vys4Qt2xw",
    "outputId": "56309d07-4712-4c6b-94a3-add224b0b964"
   },
   "outputs": [],
   "source": [
    "SVG(ts.first().draw_svg(size=(1000, 500), y_axis=False, style=css_string, node_labels={}, x_axis=True))"
   ]
  },
  {
   "cell_type": "markdown",
   "metadata": {
    "id": "FOnKYr7NAgHA"
   },
   "source": [
    "As expected, there is some clustering with regards to the populations, in particular `CEU` (blue) and `CHB` (green)."
   ]
  },
  {
   "cell_type": "markdown",
   "metadata": {
    "id": "DxmUtrFOLpn7"
   },
   "source": [
    "The plot above showed one tree (one non-recombining genomic segment). We can include more trees by adjusting the `x_lim` parameter:"
   ]
  },
  {
   "cell_type": "code",
   "execution_count": null,
   "metadata": {
    "colab": {
     "base_uri": "https://localhost:8080/",
     "height": 541
    },
    "id": "qoWknpCRAfw9",
    "outputId": "a5f97e86-819e-4a8a-ecad-c42a10669733"
   },
   "outputs": [],
   "source": [
    "SVG(ts.draw_svg(size=(1500, 500), y_axis=False, style=css_string, node_labels={}, x_axis=True, x_lim=[0, 1200]))"
   ]
  },
  {
   "cell_type": "markdown",
   "metadata": {
    "id": "rdMXjtOEMYUE"
   },
   "source": [
    "### Genealogical nearest neighbours (GNNs)\n",
    "\n"
   ]
  },
  {
   "cell_type": "markdown",
   "metadata": {
    "id": "0h2bXmJT67sJ"
   },
   "source": [
    "In the section on summary statistics and population structure we made use of the mutations and branch lengths for the analyses. In this section, we give an example of a topology-based analysis. The [topology](https://tskit.dev/tutorials/counting_topologies.html#counting-topologies) of a tree describes the branching pattern of the tree, disregarding the lengths of the branches.\n",
    "The analysis makes use of something called Genealogical Nearest Neighbours (GNN) (see [Kelleher et al, 2019, Fig 4](https://www.nature.com/articles/s41588-019-0483-y) for an example application)."
   ]
  },
  {
   "cell_type": "markdown",
   "metadata": {
    "id": "5roCm4_o8VAP"
   },
   "source": [
    "Briefly, the genealogical nearest neighbours for a focal node are defined as the sibling nodes descending from the parent of the focal node. By assigning samples to some pre-defined grouping (e.g., population), we can calculate the GNN proportions of a node."
   ]
  },
  {
   "cell_type": "markdown",
   "metadata": {
    "id": "kVSsLeGqGbkM"
   },
   "source": [
    "Let's look at a tree for a concrete example. In the plot below, we focus our attention to three samples `3`, `8`, and `19`."
   ]
  },
  {
   "cell_type": "code",
   "execution_count": null,
   "metadata": {
    "colab": {
     "base_uri": "https://localhost:8080/",
     "height": 341
    },
    "id": "1C9ZRWXIOm8X",
    "outputId": "8da23f1b-48a8-46bf-cb36-1041bcd4c129"
   },
   "outputs": [],
   "source": [
    "SVG(ts.simplify([3, 8, 19], filter_nodes=False).draw_svg(size=(500, 300), y_axis=False, style=css_string, x_axis=False, x_lim=[0, 100]))"
   ]
  },
  {
   "cell_type": "markdown",
   "metadata": {
    "id": "cLBZm1jwG4EL"
   },
   "source": [
    "Let the sample node `19` (orange, `CEU`) be the focal node. It has one GNN, sample node `8` (blue, `YRI`). To see this, ascend to the parent of node `19`, which is node `16041`, and look at all the descendants (excluding the focal node `19`!) of this node, which in this case consists of only one node. If we group samples by population, this means sample `19` has 100% `YRI` neighbours, 0% `CEU` and 0% `CHB`. Similarly, sample `8` has GNN proportions 100% `CEU`, 0% `YRI` and 0% `CHB`.\n",
    "\n",
    "If we do this for all samples, and all trees, we can summarize the GNN proportions by population to get an overview of population structure, based solely on a topological measure."
   ]
  },
  {
   "cell_type": "code",
   "execution_count": null,
   "metadata": {},
   "outputs": [],
   "source": [
    "workbook.question(\"gnn\")"
   ]
  },
  {
   "cell_type": "code",
   "execution_count": null,
   "metadata": {},
   "outputs": [],
   "source": [
    "workbook.question(\"gnn_summary\")"
   ]
  },
  {
   "cell_type": "markdown",
   "metadata": {},
   "source": [
    "In the example above we only showed part of a tree covering the first 100 base pairs. However, as we continue along the genome, the trees will change, and along with the change, so will the GNN proportions. "
   ]
  },
  {
   "cell_type": "markdown",
   "metadata": {
    "id": "oXAaR65tMamG"
   },
   "source": [
    "The tskit function [genealogical_nearest_neighbours](https://tskit.dev/tskit/docs/stable/python-api.html#tskit.TreeSequence.genealogical_nearest_neighbours) takes a list of focal nodes and a list of sample sets and calculates the GNN proportions over **all** trees in a tree sequence (here covering the entire DNA sequence):"
   ]
  },
  {
   "cell_type": "code",
   "execution_count": null,
   "metadata": {
    "colab": {
     "base_uri": "https://localhost:8080/"
    },
    "id": "SS9XdqoFmk-M",
    "outputId": "062df55c-dc3f-4e17-f498-11ddea821c66"
   },
   "outputs": [],
   "source": [
    "ts.genealogical_nearest_neighbours([3, 8, 19], sample_sets=sample_sets[0:3])"
   ]
  },
  {
   "cell_type": "markdown",
   "metadata": {
    "id": "FKq1IGurSfen"
   },
   "source": [
    "Averaging over the entire sequence gives a different picture, in particular for sample `19`. Whereas it had 100% `YRI` neighbours in the first tree, over the entire sequence, 69% of the neighbours are `CEU`, 22% `CHB`, and only 9% `YRI`, as would be expected given the demographic history."
   ]
  },
  {
   "cell_type": "code",
   "execution_count": null,
   "metadata": {
    "id": "K2TP0sdcTaxi"
   },
   "outputs": [],
   "source": [
    "gnn = ts.genealogical_nearest_neighbours(ts.samples(), sample_sets=sample_sets[0:3])"
   ]
  },
  {
   "cell_type": "code",
   "execution_count": null,
   "metadata": {
    "colab": {
     "base_uri": "https://localhost:8080/",
     "height": 195
    },
    "id": "MPUPn9_NTjA-",
    "outputId": "51c773ea-0d49-4f37-f4ae-64d764cb7733"
   },
   "outputs": [],
   "source": [
    "import pandas as pd\n",
    "df = pd.DataFrame(gnn, columns=[popmd[i][\"name\"] for i in popmd][0:3])\n",
    "df[\"focal_population\"] = np.repeat(df.columns.values, len(ts.samples(0)))\n",
    "gnn = df.groupby(\"focal_population\").mean()\n",
    "gnn"
   ]
  },
  {
   "cell_type": "markdown",
   "metadata": {
    "id": "syc3adt5MaCB"
   },
   "source": [
    "The interpretation of the matrix is as follows: the rows correspond to the focal population, the columns to the GNN proportions of the focal population (i.e., what is the average proportion of genealogical nearest neighbours of the focal population). To reiterate, note that the GNN matrix is asymmetrical! The YRI population on average has more CEU and CHB neigbours than CEU or CHB have YRI neighbours!"
   ]
  },
  {
   "cell_type": "markdown",
   "metadata": {
    "id": "8jkOgCBbMt5X"
   },
   "source": [
    "Instead of representing the GNN matrix with proportions, we can calculate Z-scores to emphasize over-/underrepresentation, as was done by Kelleher et al. We end this workbook by plotting the GNN matrix as a heatmap of Z-scores, hierarchically clustered by focal population."
   ]
  },
  {
   "cell_type": "code",
   "execution_count": null,
   "metadata": {},
   "outputs": [],
   "source": [
    "import seaborn as sns"
   ]
  },
  {
   "cell_type": "code",
   "execution_count": null,
   "metadata": {},
   "outputs": [],
   "source": [
    "sns.clustermap(gnn, col_cluster=False, z_score=0, cmap=\"mako\", cbar_pos=(1.0, 0.05, 0.05, 0.7));"
   ]
  }
 ],
 "metadata": {
  "colab": {
   "provenance": [],
   "toc_visible": true
  },
  "kernelspec": {
   "display_name": "Python (garg)",
   "language": "python",
   "name": "garg"
  },
  "language_info": {
   "codemirror_mode": {
    "name": "ipython",
    "version": 3
   },
   "file_extension": ".py",
   "mimetype": "text/x-python",
   "name": "python",
   "nbconvert_exporter": "python",
   "pygments_lexer": "ipython3",
   "version": "3.12.3"
  }
 },
 "nbformat": 4,
 "nbformat_minor": 4
}
